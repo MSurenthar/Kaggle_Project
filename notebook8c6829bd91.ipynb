{
 "cells": [
  {
   "cell_type": "code",
   "execution_count": 1,
   "id": "ed69d283",
   "metadata": {
    "_cell_guid": "b1076dfc-b9ad-4769-8c92-a6c4dae69d19",
    "_uuid": "8f2839f25d086af736a60e9eeb907d3b93b6e0e5",
    "execution": {
     "iopub.execute_input": "2022-04-19T18:34:45.379662Z",
     "iopub.status.busy": "2022-04-19T18:34:45.378801Z",
     "iopub.status.idle": "2022-04-19T18:34:45.399368Z",
     "shell.execute_reply": "2022-04-19T18:34:45.398652Z"
    },
    "papermill": {
     "duration": 0.089493,
     "end_time": "2022-04-19T18:34:45.402285",
     "exception": false,
     "start_time": "2022-04-19T18:34:45.312792",
     "status": "completed"
    },
    "tags": []
   },
   "outputs": [
    {
     "name": "stdout",
     "output_type": "stream",
     "text": [
      "/kaggle/input/stanford-open-policing-project/police_project.csv\n"
     ]
    }
   ],
   "source": [
    "# This Python 3 environment comes with many helpful analytics libraries installed\n",
    "# It is defined by the kaggle/python Docker image: https://github.com/kaggle/docker-python\n",
    "# For example, here's several helpful packages to load\n",
    "\n",
    "import numpy as np # linear algebra\n",
    "import pandas as pd # data processing, CSV file I/O (e.g. pd.read_csv)\n",
    "\n",
    "# Input data files are available in the read-only \"../input/\" directory\n",
    "# For example, running this (by clicking run or pressing Shift+Enter) will list all files under the input directory\n",
    "\n",
    "import os\n",
    "for dirname, _, filenames in os.walk('/kaggle/input'):\n",
    "    for filename in filenames:\n",
    "        print(os.path.join(dirname, filename))\n",
    "\n",
    "# You can write up to 20GB to the current directory (/kaggle/working/) that gets preserved as output when you create a version using \"Save & Run All\" \n",
    "# You can also write temporary files to /kaggle/temp/, but they won't be saved outside of the current session"
   ]
  },
  {
   "cell_type": "code",
   "execution_count": 2,
   "id": "2a52d3c4",
   "metadata": {
    "execution": {
     "iopub.execute_input": "2022-04-19T18:34:45.534108Z",
     "iopub.status.busy": "2022-04-19T18:34:45.533469Z",
     "iopub.status.idle": "2022-04-19T18:34:45.859926Z",
     "shell.execute_reply": "2022-04-19T18:34:45.858989Z"
    },
    "papermill": {
     "duration": 0.393528,
     "end_time": "2022-04-19T18:34:45.862850",
     "exception": false,
     "start_time": "2022-04-19T18:34:45.469322",
     "status": "completed"
    },
    "tags": []
   },
   "outputs": [],
   "source": [
    "df=pd.read_csv('../input/stanford-open-policing-project/police_project.csv')"
   ]
  },
  {
   "cell_type": "code",
   "execution_count": 3,
   "id": "c8378a86",
   "metadata": {
    "execution": {
     "iopub.execute_input": "2022-04-19T18:34:45.995653Z",
     "iopub.status.busy": "2022-04-19T18:34:45.995295Z",
     "iopub.status.idle": "2022-04-19T18:34:46.027207Z",
     "shell.execute_reply": "2022-04-19T18:34:46.026528Z"
    },
    "papermill": {
     "duration": 0.101095,
     "end_time": "2022-04-19T18:34:46.030104",
     "exception": false,
     "start_time": "2022-04-19T18:34:45.929009",
     "status": "completed"
    },
    "tags": []
   },
   "outputs": [
    {
     "data": {
      "text/html": [
       "<div>\n",
       "<style scoped>\n",
       "    .dataframe tbody tr th:only-of-type {\n",
       "        vertical-align: middle;\n",
       "    }\n",
       "\n",
       "    .dataframe tbody tr th {\n",
       "        vertical-align: top;\n",
       "    }\n",
       "\n",
       "    .dataframe thead th {\n",
       "        text-align: right;\n",
       "    }\n",
       "</style>\n",
       "<table border=\"1\" class=\"dataframe\">\n",
       "  <thead>\n",
       "    <tr style=\"text-align: right;\">\n",
       "      <th></th>\n",
       "      <th>stop_date</th>\n",
       "      <th>stop_time</th>\n",
       "      <th>county_name</th>\n",
       "      <th>driver_gender</th>\n",
       "      <th>driver_age_raw</th>\n",
       "      <th>driver_age</th>\n",
       "      <th>driver_race</th>\n",
       "      <th>violation_raw</th>\n",
       "      <th>violation</th>\n",
       "      <th>search_conducted</th>\n",
       "      <th>search_type</th>\n",
       "      <th>stop_outcome</th>\n",
       "      <th>is_arrested</th>\n",
       "      <th>stop_duration</th>\n",
       "      <th>drugs_related_stop</th>\n",
       "    </tr>\n",
       "  </thead>\n",
       "  <tbody>\n",
       "    <tr>\n",
       "      <th>0</th>\n",
       "      <td>2005-01-02</td>\n",
       "      <td>01:55</td>\n",
       "      <td>NaN</td>\n",
       "      <td>M</td>\n",
       "      <td>1985.0</td>\n",
       "      <td>20.0</td>\n",
       "      <td>White</td>\n",
       "      <td>Speeding</td>\n",
       "      <td>Speeding</td>\n",
       "      <td>False</td>\n",
       "      <td>NaN</td>\n",
       "      <td>Citation</td>\n",
       "      <td>False</td>\n",
       "      <td>0-15 Min</td>\n",
       "      <td>False</td>\n",
       "    </tr>\n",
       "    <tr>\n",
       "      <th>1</th>\n",
       "      <td>2005-01-18</td>\n",
       "      <td>08:15</td>\n",
       "      <td>NaN</td>\n",
       "      <td>M</td>\n",
       "      <td>1965.0</td>\n",
       "      <td>40.0</td>\n",
       "      <td>White</td>\n",
       "      <td>Speeding</td>\n",
       "      <td>Speeding</td>\n",
       "      <td>False</td>\n",
       "      <td>NaN</td>\n",
       "      <td>Citation</td>\n",
       "      <td>False</td>\n",
       "      <td>0-15 Min</td>\n",
       "      <td>False</td>\n",
       "    </tr>\n",
       "    <tr>\n",
       "      <th>2</th>\n",
       "      <td>2005-01-23</td>\n",
       "      <td>23:15</td>\n",
       "      <td>NaN</td>\n",
       "      <td>M</td>\n",
       "      <td>1972.0</td>\n",
       "      <td>33.0</td>\n",
       "      <td>White</td>\n",
       "      <td>Speeding</td>\n",
       "      <td>Speeding</td>\n",
       "      <td>False</td>\n",
       "      <td>NaN</td>\n",
       "      <td>Citation</td>\n",
       "      <td>False</td>\n",
       "      <td>0-15 Min</td>\n",
       "      <td>False</td>\n",
       "    </tr>\n",
       "    <tr>\n",
       "      <th>3</th>\n",
       "      <td>2005-02-20</td>\n",
       "      <td>17:15</td>\n",
       "      <td>NaN</td>\n",
       "      <td>M</td>\n",
       "      <td>1986.0</td>\n",
       "      <td>19.0</td>\n",
       "      <td>White</td>\n",
       "      <td>Call for Service</td>\n",
       "      <td>Other</td>\n",
       "      <td>False</td>\n",
       "      <td>NaN</td>\n",
       "      <td>Arrest Driver</td>\n",
       "      <td>True</td>\n",
       "      <td>16-30 Min</td>\n",
       "      <td>False</td>\n",
       "    </tr>\n",
       "    <tr>\n",
       "      <th>4</th>\n",
       "      <td>2005-03-14</td>\n",
       "      <td>10:00</td>\n",
       "      <td>NaN</td>\n",
       "      <td>F</td>\n",
       "      <td>1984.0</td>\n",
       "      <td>21.0</td>\n",
       "      <td>White</td>\n",
       "      <td>Speeding</td>\n",
       "      <td>Speeding</td>\n",
       "      <td>False</td>\n",
       "      <td>NaN</td>\n",
       "      <td>Citation</td>\n",
       "      <td>False</td>\n",
       "      <td>0-15 Min</td>\n",
       "      <td>False</td>\n",
       "    </tr>\n",
       "  </tbody>\n",
       "</table>\n",
       "</div>"
      ],
      "text/plain": [
       "    stop_date stop_time  county_name driver_gender  driver_age_raw  \\\n",
       "0  2005-01-02     01:55          NaN             M          1985.0   \n",
       "1  2005-01-18     08:15          NaN             M          1965.0   \n",
       "2  2005-01-23     23:15          NaN             M          1972.0   \n",
       "3  2005-02-20     17:15          NaN             M          1986.0   \n",
       "4  2005-03-14     10:00          NaN             F          1984.0   \n",
       "\n",
       "   driver_age driver_race     violation_raw violation  search_conducted  \\\n",
       "0        20.0       White          Speeding  Speeding             False   \n",
       "1        40.0       White          Speeding  Speeding             False   \n",
       "2        33.0       White          Speeding  Speeding             False   \n",
       "3        19.0       White  Call for Service     Other             False   \n",
       "4        21.0       White          Speeding  Speeding             False   \n",
       "\n",
       "  search_type   stop_outcome is_arrested stop_duration  drugs_related_stop  \n",
       "0         NaN       Citation       False      0-15 Min               False  \n",
       "1         NaN       Citation       False      0-15 Min               False  \n",
       "2         NaN       Citation       False      0-15 Min               False  \n",
       "3         NaN  Arrest Driver        True     16-30 Min               False  \n",
       "4         NaN       Citation       False      0-15 Min               False  "
      ]
     },
     "execution_count": 3,
     "metadata": {},
     "output_type": "execute_result"
    }
   ],
   "source": [
    "df.head()"
   ]
  },
  {
   "cell_type": "code",
   "execution_count": 4,
   "id": "d4e217e9",
   "metadata": {
    "execution": {
     "iopub.execute_input": "2022-04-19T18:34:46.158816Z",
     "iopub.status.busy": "2022-04-19T18:34:46.158142Z",
     "iopub.status.idle": "2022-04-19T18:34:46.285471Z",
     "shell.execute_reply": "2022-04-19T18:34:46.284085Z"
    },
    "papermill": {
     "duration": 0.194689,
     "end_time": "2022-04-19T18:34:46.288318",
     "exception": false,
     "start_time": "2022-04-19T18:34:46.093629",
     "status": "completed"
    },
    "tags": []
   },
   "outputs": [
    {
     "name": "stdout",
     "output_type": "stream",
     "text": [
      "<class 'pandas.core.frame.DataFrame'>\n",
      "RangeIndex: 91741 entries, 0 to 91740\n",
      "Data columns (total 15 columns):\n",
      " #   Column              Non-Null Count  Dtype  \n",
      "---  ------              --------------  -----  \n",
      " 0   stop_date           91741 non-null  object \n",
      " 1   stop_time           91741 non-null  object \n",
      " 2   county_name         0 non-null      float64\n",
      " 3   driver_gender       86406 non-null  object \n",
      " 4   driver_age_raw      86414 non-null  float64\n",
      " 5   driver_age          86120 non-null  float64\n",
      " 6   driver_race         86408 non-null  object \n",
      " 7   violation_raw       86408 non-null  object \n",
      " 8   violation           86408 non-null  object \n",
      " 9   search_conducted    91741 non-null  bool   \n",
      " 10  search_type         3196 non-null   object \n",
      " 11  stop_outcome        86408 non-null  object \n",
      " 12  is_arrested         86408 non-null  object \n",
      " 13  stop_duration       86408 non-null  object \n",
      " 14  drugs_related_stop  91741 non-null  bool   \n",
      "dtypes: bool(2), float64(3), object(10)\n",
      "memory usage: 9.3+ MB\n"
     ]
    }
   ],
   "source": [
    "df.info()"
   ]
  },
  {
   "cell_type": "code",
   "execution_count": 5,
   "id": "b33d61a0",
   "metadata": {
    "execution": {
     "iopub.execute_input": "2022-04-19T18:34:46.419175Z",
     "iopub.status.busy": "2022-04-19T18:34:46.418844Z",
     "iopub.status.idle": "2022-04-19T18:34:46.436505Z",
     "shell.execute_reply": "2022-04-19T18:34:46.435695Z"
    },
    "papermill": {
     "duration": 0.085207,
     "end_time": "2022-04-19T18:34:46.438751",
     "exception": false,
     "start_time": "2022-04-19T18:34:46.353544",
     "status": "completed"
    },
    "tags": []
   },
   "outputs": [],
   "source": [
    "df1=df.copy()"
   ]
  },
  {
   "cell_type": "code",
   "execution_count": 6,
   "id": "e3770f49",
   "metadata": {
    "execution": {
     "iopub.execute_input": "2022-04-19T18:34:46.568212Z",
     "iopub.status.busy": "2022-04-19T18:34:46.567688Z",
     "iopub.status.idle": "2022-04-19T18:34:46.587041Z",
     "shell.execute_reply": "2022-04-19T18:34:46.586004Z"
    },
    "papermill": {
     "duration": 0.08639,
     "end_time": "2022-04-19T18:34:46.589480",
     "exception": false,
     "start_time": "2022-04-19T18:34:46.503090",
     "status": "completed"
    },
    "tags": []
   },
   "outputs": [],
   "source": [
    "df1.drop('county_name',axis=1,inplace=True)"
   ]
  },
  {
   "cell_type": "code",
   "execution_count": 7,
   "id": "20613478",
   "metadata": {
    "execution": {
     "iopub.execute_input": "2022-04-19T18:34:46.718249Z",
     "iopub.status.busy": "2022-04-19T18:34:46.717957Z",
     "iopub.status.idle": "2022-04-19T18:34:46.823814Z",
     "shell.execute_reply": "2022-04-19T18:34:46.822752Z"
    },
    "papermill": {
     "duration": 0.172795,
     "end_time": "2022-04-19T18:34:46.826280",
     "exception": false,
     "start_time": "2022-04-19T18:34:46.653485",
     "status": "completed"
    },
    "tags": []
   },
   "outputs": [
    {
     "name": "stdout",
     "output_type": "stream",
     "text": [
      "<class 'pandas.core.frame.DataFrame'>\n",
      "RangeIndex: 91741 entries, 0 to 91740\n",
      "Data columns (total 14 columns):\n",
      " #   Column              Non-Null Count  Dtype  \n",
      "---  ------              --------------  -----  \n",
      " 0   stop_date           91741 non-null  object \n",
      " 1   stop_time           91741 non-null  object \n",
      " 2   driver_gender       86406 non-null  object \n",
      " 3   driver_age_raw      86414 non-null  float64\n",
      " 4   driver_age          86120 non-null  float64\n",
      " 5   driver_race         86408 non-null  object \n",
      " 6   violation_raw       86408 non-null  object \n",
      " 7   violation           86408 non-null  object \n",
      " 8   search_conducted    91741 non-null  bool   \n",
      " 9   search_type         3196 non-null   object \n",
      " 10  stop_outcome        86408 non-null  object \n",
      " 11  is_arrested         86408 non-null  object \n",
      " 12  stop_duration       86408 non-null  object \n",
      " 13  drugs_related_stop  91741 non-null  bool   \n",
      "dtypes: bool(2), float64(2), object(10)\n",
      "memory usage: 8.6+ MB\n"
     ]
    }
   ],
   "source": [
    "df1.info()"
   ]
  },
  {
   "cell_type": "code",
   "execution_count": 8,
   "id": "bc94e294",
   "metadata": {
    "execution": {
     "iopub.execute_input": "2022-04-19T18:34:46.955258Z",
     "iopub.status.busy": "2022-04-19T18:34:46.954815Z",
     "iopub.status.idle": "2022-04-19T18:34:46.964574Z",
     "shell.execute_reply": "2022-04-19T18:34:46.963770Z"
    },
    "papermill": {
     "duration": 0.076345,
     "end_time": "2022-04-19T18:34:46.966808",
     "exception": false,
     "start_time": "2022-04-19T18:34:46.890463",
     "status": "completed"
    },
    "tags": []
   },
   "outputs": [],
   "source": [
    "df1.drop(df1.iloc[[],[0,1,3,4,5,6,8,9,10,11,12,13]],axis=1,inplace=True)"
   ]
  },
  {
   "cell_type": "code",
   "execution_count": 9,
   "id": "7d841642",
   "metadata": {
    "execution": {
     "iopub.execute_input": "2022-04-19T18:34:47.098131Z",
     "iopub.status.busy": "2022-04-19T18:34:47.097569Z",
     "iopub.status.idle": "2022-04-19T18:34:47.106147Z",
     "shell.execute_reply": "2022-04-19T18:34:47.105500Z"
    },
    "papermill": {
     "duration": 0.07539,
     "end_time": "2022-04-19T18:34:47.108176",
     "exception": false,
     "start_time": "2022-04-19T18:34:47.032786",
     "status": "completed"
    },
    "tags": []
   },
   "outputs": [
    {
     "data": {
      "text/html": [
       "<div>\n",
       "<style scoped>\n",
       "    .dataframe tbody tr th:only-of-type {\n",
       "        vertical-align: middle;\n",
       "    }\n",
       "\n",
       "    .dataframe tbody tr th {\n",
       "        vertical-align: top;\n",
       "    }\n",
       "\n",
       "    .dataframe thead th {\n",
       "        text-align: right;\n",
       "    }\n",
       "</style>\n",
       "<table border=\"1\" class=\"dataframe\">\n",
       "  <thead>\n",
       "    <tr style=\"text-align: right;\">\n",
       "      <th></th>\n",
       "      <th>driver_gender</th>\n",
       "      <th>violation</th>\n",
       "    </tr>\n",
       "  </thead>\n",
       "  <tbody>\n",
       "    <tr>\n",
       "      <th>0</th>\n",
       "      <td>M</td>\n",
       "      <td>Speeding</td>\n",
       "    </tr>\n",
       "    <tr>\n",
       "      <th>1</th>\n",
       "      <td>M</td>\n",
       "      <td>Speeding</td>\n",
       "    </tr>\n",
       "    <tr>\n",
       "      <th>2</th>\n",
       "      <td>M</td>\n",
       "      <td>Speeding</td>\n",
       "    </tr>\n",
       "    <tr>\n",
       "      <th>3</th>\n",
       "      <td>M</td>\n",
       "      <td>Other</td>\n",
       "    </tr>\n",
       "    <tr>\n",
       "      <th>4</th>\n",
       "      <td>F</td>\n",
       "      <td>Speeding</td>\n",
       "    </tr>\n",
       "  </tbody>\n",
       "</table>\n",
       "</div>"
      ],
      "text/plain": [
       "  driver_gender violation\n",
       "0             M  Speeding\n",
       "1             M  Speeding\n",
       "2             M  Speeding\n",
       "3             M     Other\n",
       "4             F  Speeding"
      ]
     },
     "execution_count": 9,
     "metadata": {},
     "output_type": "execute_result"
    }
   ],
   "source": [
    "df1.head()"
   ]
  },
  {
   "cell_type": "code",
   "execution_count": 10,
   "id": "dc6c679e",
   "metadata": {
    "execution": {
     "iopub.execute_input": "2022-04-19T18:34:47.239404Z",
     "iopub.status.busy": "2022-04-19T18:34:47.238862Z",
     "iopub.status.idle": "2022-04-19T18:34:47.255117Z",
     "shell.execute_reply": "2022-04-19T18:34:47.254328Z"
    },
    "papermill": {
     "duration": 0.083765,
     "end_time": "2022-04-19T18:34:47.257368",
     "exception": false,
     "start_time": "2022-04-19T18:34:47.173603",
     "status": "completed"
    },
    "tags": []
   },
   "outputs": [],
   "source": [
    "df2=df.copy()"
   ]
  },
  {
   "cell_type": "code",
   "execution_count": 11,
   "id": "3ee00993",
   "metadata": {
    "execution": {
     "iopub.execute_input": "2022-04-19T18:34:47.389507Z",
     "iopub.status.busy": "2022-04-19T18:34:47.389193Z",
     "iopub.status.idle": "2022-04-19T18:34:47.493248Z",
     "shell.execute_reply": "2022-04-19T18:34:47.492463Z"
    },
    "papermill": {
     "duration": 0.172998,
     "end_time": "2022-04-19T18:34:47.495644",
     "exception": false,
     "start_time": "2022-04-19T18:34:47.322646",
     "status": "completed"
    },
    "tags": []
   },
   "outputs": [
    {
     "name": "stdout",
     "output_type": "stream",
     "text": [
      "<class 'pandas.core.frame.DataFrame'>\n",
      "RangeIndex: 91741 entries, 0 to 91740\n",
      "Data columns (total 15 columns):\n",
      " #   Column              Non-Null Count  Dtype  \n",
      "---  ------              --------------  -----  \n",
      " 0   stop_date           91741 non-null  object \n",
      " 1   stop_time           91741 non-null  object \n",
      " 2   county_name         0 non-null      float64\n",
      " 3   driver_gender       86406 non-null  object \n",
      " 4   driver_age_raw      86414 non-null  float64\n",
      " 5   driver_age          86120 non-null  float64\n",
      " 6   driver_race         86408 non-null  object \n",
      " 7   violation_raw       86408 non-null  object \n",
      " 8   violation           86408 non-null  object \n",
      " 9   search_conducted    91741 non-null  bool   \n",
      " 10  search_type         3196 non-null   object \n",
      " 11  stop_outcome        86408 non-null  object \n",
      " 12  is_arrested         86408 non-null  object \n",
      " 13  stop_duration       86408 non-null  object \n",
      " 14  drugs_related_stop  91741 non-null  bool   \n",
      "dtypes: bool(2), float64(3), object(10)\n",
      "memory usage: 9.3+ MB\n"
     ]
    }
   ],
   "source": [
    "df2.info()"
   ]
  },
  {
   "cell_type": "code",
   "execution_count": 12,
   "id": "b4101c89",
   "metadata": {
    "execution": {
     "iopub.execute_input": "2022-04-19T18:34:47.626268Z",
     "iopub.status.busy": "2022-04-19T18:34:47.625973Z",
     "iopub.status.idle": "2022-04-19T18:34:47.635275Z",
     "shell.execute_reply": "2022-04-19T18:34:47.634207Z"
    },
    "papermill": {
     "duration": 0.077117,
     "end_time": "2022-04-19T18:34:47.637606",
     "exception": false,
     "start_time": "2022-04-19T18:34:47.560489",
     "status": "completed"
    },
    "tags": []
   },
   "outputs": [],
   "source": [
    "df2.drop(df2.iloc[[],[0,1,2,4,5,6,7,8,10,11,12,13,14]],axis=1,inplace=True)"
   ]
  },
  {
   "cell_type": "code",
   "execution_count": 13,
   "id": "b01de8a8",
   "metadata": {
    "execution": {
     "iopub.execute_input": "2022-04-19T18:34:47.768552Z",
     "iopub.status.busy": "2022-04-19T18:34:47.768008Z",
     "iopub.status.idle": "2022-04-19T18:34:47.786472Z",
     "shell.execute_reply": "2022-04-19T18:34:47.785568Z"
    },
    "papermill": {
     "duration": 0.085743,
     "end_time": "2022-04-19T18:34:47.788504",
     "exception": false,
     "start_time": "2022-04-19T18:34:47.702761",
     "status": "completed"
    },
    "tags": []
   },
   "outputs": [
    {
     "data": {
      "text/plain": [
       "M    62895\n",
       "F    23511\n",
       "Name: driver_gender, dtype: int64"
      ]
     },
     "execution_count": 13,
     "metadata": {},
     "output_type": "execute_result"
    }
   ],
   "source": [
    "df1.driver_gender.value_counts()"
   ]
  },
  {
   "cell_type": "code",
   "execution_count": 14,
   "id": "dcedb0ed",
   "metadata": {
    "execution": {
     "iopub.execute_input": "2022-04-19T18:34:47.919716Z",
     "iopub.status.busy": "2022-04-19T18:34:47.919411Z",
     "iopub.status.idle": "2022-04-19T18:34:47.938265Z",
     "shell.execute_reply": "2022-04-19T18:34:47.937455Z"
    },
    "papermill": {
     "duration": 0.086875,
     "end_time": "2022-04-19T18:34:47.940602",
     "exception": false,
     "start_time": "2022-04-19T18:34:47.853727",
     "status": "completed"
    },
    "tags": []
   },
   "outputs": [
    {
     "data": {
      "text/plain": [
       "M    0.727901\n",
       "F    0.272099\n",
       "Name: driver_gender, dtype: float64"
      ]
     },
     "execution_count": 14,
     "metadata": {},
     "output_type": "execute_result"
    }
   ],
   "source": [
    "df1.driver_gender.value_counts(normalize=True)"
   ]
  },
  {
   "cell_type": "code",
   "execution_count": 15,
   "id": "d2b31e23",
   "metadata": {
    "execution": {
     "iopub.execute_input": "2022-04-19T18:34:48.074204Z",
     "iopub.status.busy": "2022-04-19T18:34:48.073924Z",
     "iopub.status.idle": "2022-04-19T18:34:48.093117Z",
     "shell.execute_reply": "2022-04-19T18:34:48.092278Z"
    },
    "papermill": {
     "duration": 0.088511,
     "end_time": "2022-04-19T18:34:48.095371",
     "exception": false,
     "start_time": "2022-04-19T18:34:48.006860",
     "status": "completed"
    },
    "tags": []
   },
   "outputs": [
    {
     "data": {
      "text/plain": [
       "Speeding               48463\n",
       "Moving violation       16224\n",
       "Equipment              11020\n",
       "Other                   4317\n",
       "Registration/plates     3432\n",
       "Seat belt               2952\n",
       "Name: violation, dtype: int64"
      ]
     },
     "execution_count": 15,
     "metadata": {},
     "output_type": "execute_result"
    }
   ],
   "source": [
    "df1.violation.value_counts()"
   ]
  },
  {
   "cell_type": "code",
   "execution_count": 16,
   "id": "82e384c2",
   "metadata": {
    "execution": {
     "iopub.execute_input": "2022-04-19T18:34:48.228659Z",
     "iopub.status.busy": "2022-04-19T18:34:48.227712Z",
     "iopub.status.idle": "2022-04-19T18:34:48.248246Z",
     "shell.execute_reply": "2022-04-19T18:34:48.247490Z"
    },
    "papermill": {
     "duration": 0.089988,
     "end_time": "2022-04-19T18:34:48.250300",
     "exception": false,
     "start_time": "2022-04-19T18:34:48.160312",
     "status": "completed"
    },
    "tags": []
   },
   "outputs": [
    {
     "data": {
      "text/plain": [
       "Speeding               0.560862\n",
       "Moving violation       0.187760\n",
       "Equipment              0.127534\n",
       "Other                  0.049961\n",
       "Registration/plates    0.039719\n",
       "Seat belt              0.034164\n",
       "Name: violation, dtype: float64"
      ]
     },
     "execution_count": 16,
     "metadata": {},
     "output_type": "execute_result"
    }
   ],
   "source": [
    "df1.violation.value_counts(normalize=True)"
   ]
  },
  {
   "cell_type": "code",
   "execution_count": 17,
   "id": "eb66f8ae",
   "metadata": {
    "execution": {
     "iopub.execute_input": "2022-04-19T18:34:48.385580Z",
     "iopub.status.busy": "2022-04-19T18:34:48.384867Z",
     "iopub.status.idle": "2022-04-19T18:34:48.416289Z",
     "shell.execute_reply": "2022-04-19T18:34:48.415365Z"
    },
    "papermill": {
     "duration": 0.101293,
     "end_time": "2022-04-19T18:34:48.418470",
     "exception": false,
     "start_time": "2022-04-19T18:34:48.317177",
     "status": "completed"
    },
    "tags": []
   },
   "outputs": [
    {
     "data": {
      "text/plain": [
       "M    32979\n",
       "F    15482\n",
       "Name: driver_gender, dtype: int64"
      ]
     },
     "execution_count": 17,
     "metadata": {},
     "output_type": "execute_result"
    }
   ],
   "source": [
    "df1[df1.violation=='Speeding'].driver_gender.value_counts()"
   ]
  },
  {
   "cell_type": "code",
   "execution_count": 18,
   "id": "9c0e6400",
   "metadata": {
    "execution": {
     "iopub.execute_input": "2022-04-19T18:34:48.555253Z",
     "iopub.status.busy": "2022-04-19T18:34:48.554991Z",
     "iopub.status.idle": "2022-04-19T18:34:48.584340Z",
     "shell.execute_reply": "2022-04-19T18:34:48.583712Z"
    },
    "papermill": {
     "duration": 0.101423,
     "end_time": "2022-04-19T18:34:48.586444",
     "exception": false,
     "start_time": "2022-04-19T18:34:48.485021",
     "status": "completed"
    },
    "tags": []
   },
   "outputs": [
    {
     "data": {
      "text/plain": [
       "M    0.680527\n",
       "F    0.319473\n",
       "Name: driver_gender, dtype: float64"
      ]
     },
     "execution_count": 18,
     "metadata": {},
     "output_type": "execute_result"
    }
   ],
   "source": [
    "df1[df1.violation=='Speeding'].driver_gender.value_counts(normalize=True)"
   ]
  },
  {
   "cell_type": "code",
   "execution_count": 19,
   "id": "9bfade8a",
   "metadata": {
    "execution": {
     "iopub.execute_input": "2022-04-19T18:34:48.726586Z",
     "iopub.status.busy": "2022-04-19T18:34:48.726028Z",
     "iopub.status.idle": "2022-04-19T18:34:48.756211Z",
     "shell.execute_reply": "2022-04-19T18:34:48.755531Z"
    },
    "papermill": {
     "duration": 0.100981,
     "end_time": "2022-04-19T18:34:48.758108",
     "exception": false,
     "start_time": "2022-04-19T18:34:48.657127",
     "status": "completed"
    },
    "tags": []
   },
   "outputs": [
    {
     "data": {
      "text/plain": [
       "Speeding               32979\n",
       "Moving violation       13020\n",
       "Equipment               8533\n",
       "Other                   3627\n",
       "Registration/plates     2419\n",
       "Seat belt               2317\n",
       "Name: violation, dtype: int64"
      ]
     },
     "execution_count": 19,
     "metadata": {},
     "output_type": "execute_result"
    }
   ],
   "source": [
    "df1[df1.driver_gender=='M'].violation.value_counts()"
   ]
  },
  {
   "cell_type": "code",
   "execution_count": 20,
   "id": "62f8e714",
   "metadata": {
    "execution": {
     "iopub.execute_input": "2022-04-19T18:34:48.894309Z",
     "iopub.status.busy": "2022-04-19T18:34:48.893784Z",
     "iopub.status.idle": "2022-04-19T18:34:48.924576Z",
     "shell.execute_reply": "2022-04-19T18:34:48.923985Z"
    },
    "papermill": {
     "duration": 0.101844,
     "end_time": "2022-04-19T18:34:48.926683",
     "exception": false,
     "start_time": "2022-04-19T18:34:48.824839",
     "status": "completed"
    },
    "tags": []
   },
   "outputs": [
    {
     "data": {
      "text/plain": [
       "Speeding               0.524350\n",
       "Moving violation       0.207012\n",
       "Equipment              0.135671\n",
       "Other                  0.057668\n",
       "Registration/plates    0.038461\n",
       "Seat belt              0.036839\n",
       "Name: violation, dtype: float64"
      ]
     },
     "execution_count": 20,
     "metadata": {},
     "output_type": "execute_result"
    }
   ],
   "source": [
    "df1[df1.driver_gender=='M'].violation.value_counts(normalize=True)"
   ]
  },
  {
   "cell_type": "code",
   "execution_count": 21,
   "id": "2b92b8f9",
   "metadata": {
    "execution": {
     "iopub.execute_input": "2022-04-19T18:34:49.071663Z",
     "iopub.status.busy": "2022-04-19T18:34:49.071163Z",
     "iopub.status.idle": "2022-04-19T18:34:49.097113Z",
     "shell.execute_reply": "2022-04-19T18:34:49.096194Z"
    },
    "papermill": {
     "duration": 0.102384,
     "end_time": "2022-04-19T18:34:49.099408",
     "exception": false,
     "start_time": "2022-04-19T18:34:48.997024",
     "status": "completed"
    },
    "tags": []
   },
   "outputs": [
    {
     "data": {
      "text/plain": [
       "Speeding               15482\n",
       "Moving violation        3204\n",
       "Equipment               2487\n",
       "Registration/plates     1013\n",
       "Other                    690\n",
       "Seat belt                635\n",
       "Name: violation, dtype: int64"
      ]
     },
     "execution_count": 21,
     "metadata": {},
     "output_type": "execute_result"
    }
   ],
   "source": [
    "df1[df1.driver_gender=='F'].violation.value_counts()"
   ]
  },
  {
   "cell_type": "code",
   "execution_count": 22,
   "id": "a7382a13",
   "metadata": {
    "execution": {
     "iopub.execute_input": "2022-04-19T18:34:49.240189Z",
     "iopub.status.busy": "2022-04-19T18:34:49.239900Z",
     "iopub.status.idle": "2022-04-19T18:34:49.266189Z",
     "shell.execute_reply": "2022-04-19T18:34:49.265525Z"
    },
    "papermill": {
     "duration": 0.099059,
     "end_time": "2022-04-19T18:34:49.268112",
     "exception": false,
     "start_time": "2022-04-19T18:34:49.169053",
     "status": "completed"
    },
    "tags": []
   },
   "outputs": [
    {
     "data": {
      "text/plain": [
       "Speeding               0.658500\n",
       "Moving violation       0.136277\n",
       "Equipment              0.105780\n",
       "Registration/plates    0.043086\n",
       "Other                  0.029348\n",
       "Seat belt              0.027009\n",
       "Name: violation, dtype: float64"
      ]
     },
     "execution_count": 22,
     "metadata": {},
     "output_type": "execute_result"
    }
   ],
   "source": [
    "df1[df1.driver_gender=='F'].violation.value_counts(normalize=True)"
   ]
  },
  {
   "cell_type": "code",
   "execution_count": 23,
   "id": "592a20e9",
   "metadata": {
    "execution": {
     "iopub.execute_input": "2022-04-19T18:34:49.407828Z",
     "iopub.status.busy": "2022-04-19T18:34:49.407520Z",
     "iopub.status.idle": "2022-04-19T18:34:49.429410Z",
     "shell.execute_reply": "2022-04-19T18:34:49.428346Z"
    },
    "papermill": {
     "duration": 0.094968,
     "end_time": "2022-04-19T18:34:49.431856",
     "exception": false,
     "start_time": "2022-04-19T18:34:49.336888",
     "status": "completed"
    },
    "tags": []
   },
   "outputs": [
    {
     "name": "stdout",
     "output_type": "stream",
     "text": [
      "<class 'pandas.core.frame.DataFrame'>\n",
      "RangeIndex: 91741 entries, 0 to 91740\n",
      "Data columns (total 2 columns):\n",
      " #   Column            Non-Null Count  Dtype \n",
      "---  ------            --------------  ----- \n",
      " 0   driver_gender     86406 non-null  object\n",
      " 1   search_conducted  91741 non-null  bool  \n",
      "dtypes: bool(1), object(1)\n",
      "memory usage: 806.4+ KB\n"
     ]
    }
   ],
   "source": [
    "df2.info()"
   ]
  },
  {
   "cell_type": "code",
   "execution_count": 24,
   "id": "e052d0a8",
   "metadata": {
    "execution": {
     "iopub.execute_input": "2022-04-19T18:34:49.574332Z",
     "iopub.status.busy": "2022-04-19T18:34:49.574047Z",
     "iopub.status.idle": "2022-04-19T18:34:49.583295Z",
     "shell.execute_reply": "2022-04-19T18:34:49.582505Z"
    },
    "papermill": {
     "duration": 0.083372,
     "end_time": "2022-04-19T18:34:49.585307",
     "exception": false,
     "start_time": "2022-04-19T18:34:49.501935",
     "status": "completed"
    },
    "tags": []
   },
   "outputs": [
    {
     "data": {
      "text/plain": [
       "M    2725\n",
       "F     471\n",
       "Name: driver_gender, dtype: int64"
      ]
     },
     "execution_count": 24,
     "metadata": {},
     "output_type": "execute_result"
    }
   ],
   "source": [
    "df2[df2.search_conducted==True].driver_gender.value_counts()"
   ]
  },
  {
   "cell_type": "code",
   "execution_count": 25,
   "id": "97144fbc",
   "metadata": {
    "execution": {
     "iopub.execute_input": "2022-04-19T18:34:49.726540Z",
     "iopub.status.busy": "2022-04-19T18:34:49.726267Z",
     "iopub.status.idle": "2022-04-19T18:34:49.744693Z",
     "shell.execute_reply": "2022-04-19T18:34:49.743484Z"
    },
    "papermill": {
     "duration": 0.091039,
     "end_time": "2022-04-19T18:34:49.746835",
     "exception": false,
     "start_time": "2022-04-19T18:34:49.655796",
     "status": "completed"
    },
    "tags": []
   },
   "outputs": [
    {
     "data": {
      "text/plain": [
       "M    62895\n",
       "F    23511\n",
       "Name: driver_gender, dtype: int64"
      ]
     },
     "execution_count": 25,
     "metadata": {},
     "output_type": "execute_result"
    }
   ],
   "source": [
    "df2.driver_gender.value_counts()"
   ]
  },
  {
   "cell_type": "code",
   "execution_count": 26,
   "id": "2e049f28",
   "metadata": {
    "execution": {
     "iopub.execute_input": "2022-04-19T18:34:49.890459Z",
     "iopub.status.busy": "2022-04-19T18:34:49.889895Z",
     "iopub.status.idle": "2022-04-19T18:34:49.898728Z",
     "shell.execute_reply": "2022-04-19T18:34:49.897798Z"
    },
    "papermill": {
     "duration": 0.084006,
     "end_time": "2022-04-19T18:34:49.900827",
     "exception": false,
     "start_time": "2022-04-19T18:34:49.816821",
     "status": "completed"
    },
    "tags": []
   },
   "outputs": [
    {
     "data": {
      "text/plain": [
       "False    88545\n",
       "True      3196\n",
       "Name: search_conducted, dtype: int64"
      ]
     },
     "execution_count": 26,
     "metadata": {},
     "output_type": "execute_result"
    }
   ],
   "source": [
    "df2.search_conducted.value_counts()"
   ]
  },
  {
   "cell_type": "code",
   "execution_count": 27,
   "id": "35649c9c",
   "metadata": {
    "execution": {
     "iopub.execute_input": "2022-04-19T18:34:50.045909Z",
     "iopub.status.busy": "2022-04-19T18:34:50.045330Z",
     "iopub.status.idle": "2022-04-19T18:34:50.053407Z",
     "shell.execute_reply": "2022-04-19T18:34:50.052769Z"
    },
    "papermill": {
     "duration": 0.083011,
     "end_time": "2022-04-19T18:34:50.055568",
     "exception": false,
     "start_time": "2022-04-19T18:34:49.972557",
     "status": "completed"
    },
    "tags": []
   },
   "outputs": [],
   "source": [
    "df2_1=df.copy()"
   ]
  },
  {
   "cell_type": "code",
   "execution_count": 28,
   "id": "802c170c",
   "metadata": {
    "execution": {
     "iopub.execute_input": "2022-04-19T18:34:50.197115Z",
     "iopub.status.busy": "2022-04-19T18:34:50.196546Z",
     "iopub.status.idle": "2022-04-19T18:34:50.303497Z",
     "shell.execute_reply": "2022-04-19T18:34:50.302599Z"
    },
    "papermill": {
     "duration": 0.180116,
     "end_time": "2022-04-19T18:34:50.305701",
     "exception": false,
     "start_time": "2022-04-19T18:34:50.125585",
     "status": "completed"
    },
    "tags": []
   },
   "outputs": [
    {
     "name": "stdout",
     "output_type": "stream",
     "text": [
      "<class 'pandas.core.frame.DataFrame'>\n",
      "RangeIndex: 91741 entries, 0 to 91740\n",
      "Data columns (total 15 columns):\n",
      " #   Column              Non-Null Count  Dtype  \n",
      "---  ------              --------------  -----  \n",
      " 0   stop_date           91741 non-null  object \n",
      " 1   stop_time           91741 non-null  object \n",
      " 2   county_name         0 non-null      float64\n",
      " 3   driver_gender       86406 non-null  object \n",
      " 4   driver_age_raw      86414 non-null  float64\n",
      " 5   driver_age          86120 non-null  float64\n",
      " 6   driver_race         86408 non-null  object \n",
      " 7   violation_raw       86408 non-null  object \n",
      " 8   violation           86408 non-null  object \n",
      " 9   search_conducted    91741 non-null  bool   \n",
      " 10  search_type         3196 non-null   object \n",
      " 11  stop_outcome        86408 non-null  object \n",
      " 12  is_arrested         86408 non-null  object \n",
      " 13  stop_duration       86408 non-null  object \n",
      " 14  drugs_related_stop  91741 non-null  bool   \n",
      "dtypes: bool(2), float64(3), object(10)\n",
      "memory usage: 9.3+ MB\n"
     ]
    }
   ],
   "source": [
    "df2_1.info()"
   ]
  },
  {
   "cell_type": "code",
   "execution_count": 29,
   "id": "ced08914",
   "metadata": {
    "execution": {
     "iopub.execute_input": "2022-04-19T18:34:50.451299Z",
     "iopub.status.busy": "2022-04-19T18:34:50.450767Z",
     "iopub.status.idle": "2022-04-19T18:34:50.460157Z",
     "shell.execute_reply": "2022-04-19T18:34:50.459564Z"
    },
    "papermill": {
     "duration": 0.083592,
     "end_time": "2022-04-19T18:34:50.462268",
     "exception": false,
     "start_time": "2022-04-19T18:34:50.378676",
     "status": "completed"
    },
    "tags": []
   },
   "outputs": [],
   "source": [
    "df2_1.drop(df2_1.iloc[[],[0,1,2,4,5,6,7,10,11,12,13,14]],axis=1,inplace=True)"
   ]
  },
  {
   "cell_type": "code",
   "execution_count": 30,
   "id": "ea1dc126",
   "metadata": {
    "execution": {
     "iopub.execute_input": "2022-04-19T18:34:50.604288Z",
     "iopub.status.busy": "2022-04-19T18:34:50.603999Z",
     "iopub.status.idle": "2022-04-19T18:34:50.614298Z",
     "shell.execute_reply": "2022-04-19T18:34:50.613297Z"
    },
    "papermill": {
     "duration": 0.083635,
     "end_time": "2022-04-19T18:34:50.616382",
     "exception": false,
     "start_time": "2022-04-19T18:34:50.532747",
     "status": "completed"
    },
    "tags": []
   },
   "outputs": [
    {
     "data": {
      "text/html": [
       "<div>\n",
       "<style scoped>\n",
       "    .dataframe tbody tr th:only-of-type {\n",
       "        vertical-align: middle;\n",
       "    }\n",
       "\n",
       "    .dataframe tbody tr th {\n",
       "        vertical-align: top;\n",
       "    }\n",
       "\n",
       "    .dataframe thead th {\n",
       "        text-align: right;\n",
       "    }\n",
       "</style>\n",
       "<table border=\"1\" class=\"dataframe\">\n",
       "  <thead>\n",
       "    <tr style=\"text-align: right;\">\n",
       "      <th></th>\n",
       "      <th>driver_gender</th>\n",
       "      <th>violation</th>\n",
       "      <th>search_conducted</th>\n",
       "    </tr>\n",
       "  </thead>\n",
       "  <tbody>\n",
       "    <tr>\n",
       "      <th>0</th>\n",
       "      <td>M</td>\n",
       "      <td>Speeding</td>\n",
       "      <td>False</td>\n",
       "    </tr>\n",
       "    <tr>\n",
       "      <th>1</th>\n",
       "      <td>M</td>\n",
       "      <td>Speeding</td>\n",
       "      <td>False</td>\n",
       "    </tr>\n",
       "    <tr>\n",
       "      <th>2</th>\n",
       "      <td>M</td>\n",
       "      <td>Speeding</td>\n",
       "      <td>False</td>\n",
       "    </tr>\n",
       "    <tr>\n",
       "      <th>3</th>\n",
       "      <td>M</td>\n",
       "      <td>Other</td>\n",
       "      <td>False</td>\n",
       "    </tr>\n",
       "    <tr>\n",
       "      <th>4</th>\n",
       "      <td>F</td>\n",
       "      <td>Speeding</td>\n",
       "      <td>False</td>\n",
       "    </tr>\n",
       "  </tbody>\n",
       "</table>\n",
       "</div>"
      ],
      "text/plain": [
       "  driver_gender violation  search_conducted\n",
       "0             M  Speeding             False\n",
       "1             M  Speeding             False\n",
       "2             M  Speeding             False\n",
       "3             M     Other             False\n",
       "4             F  Speeding             False"
      ]
     },
     "execution_count": 30,
     "metadata": {},
     "output_type": "execute_result"
    }
   ],
   "source": [
    "df2_1.head()"
   ]
  },
  {
   "cell_type": "code",
   "execution_count": 31,
   "id": "b20cfd94",
   "metadata": {
    "execution": {
     "iopub.execute_input": "2022-04-19T18:34:50.760981Z",
     "iopub.status.busy": "2022-04-19T18:34:50.760675Z",
     "iopub.status.idle": "2022-04-19T18:34:50.805703Z",
     "shell.execute_reply": "2022-04-19T18:34:50.804714Z"
    },
    "papermill": {
     "duration": 0.120567,
     "end_time": "2022-04-19T18:34:50.807967",
     "exception": false,
     "start_time": "2022-04-19T18:34:50.687400",
     "status": "completed"
    },
    "tags": []
   },
   "outputs": [
    {
     "data": {
      "text/plain": [
       "search_conducted  violation            driver_gender\n",
       "False             Equipment            M                 7935\n",
       "                                       F                 2381\n",
       "                  Moving violation     M                12241\n",
       "                                       F                 3088\n",
       "                  Other                M                 3456\n",
       "                                       F                  651\n",
       "                  Registration/plates  M                 2152\n",
       "                                       F                  946\n",
       "                  Seat belt            M                 2229\n",
       "                                       F                  627\n",
       "                  Speeding             M                32157\n",
       "                                       F                15347\n",
       "True              Equipment            M                  598\n",
       "                                       F                  106\n",
       "                  Moving violation     M                  779\n",
       "                                       F                  116\n",
       "                  Other                M                  171\n",
       "                                       F                   39\n",
       "                  Registration/plates  M                  267\n",
       "                                       F                   67\n",
       "                  Seat belt            M                   88\n",
       "                                       F                    8\n",
       "                  Speeding             M                  822\n",
       "                                       F                  135\n",
       "Name: driver_gender, dtype: int64"
      ]
     },
     "execution_count": 31,
     "metadata": {},
     "output_type": "execute_result"
    }
   ],
   "source": [
    "df2_1.groupby(['search_conducted','violation']).driver_gender.value_counts()"
   ]
  },
  {
   "cell_type": "code",
   "execution_count": 32,
   "id": "4246ffdc",
   "metadata": {
    "execution": {
     "iopub.execute_input": "2022-04-19T18:34:50.956379Z",
     "iopub.status.busy": "2022-04-19T18:34:50.955866Z",
     "iopub.status.idle": "2022-04-19T18:34:50.964413Z",
     "shell.execute_reply": "2022-04-19T18:34:50.963841Z"
    },
    "papermill": {
     "duration": 0.082981,
     "end_time": "2022-04-19T18:34:50.966616",
     "exception": false,
     "start_time": "2022-04-19T18:34:50.883635",
     "status": "completed"
    },
    "tags": []
   },
   "outputs": [
    {
     "data": {
      "text/plain": [
       "Speeding               957\n",
       "Moving violation       895\n",
       "Equipment              704\n",
       "Registration/plates    334\n",
       "Other                  210\n",
       "Seat belt               96\n",
       "Name: violation, dtype: int64"
      ]
     },
     "execution_count": 32,
     "metadata": {},
     "output_type": "execute_result"
    }
   ],
   "source": [
    "df2_1[df2_1.search_conducted==True].violation.value_counts()"
   ]
  },
  {
   "cell_type": "code",
   "execution_count": 33,
   "id": "6369f0c1",
   "metadata": {
    "execution": {
     "iopub.execute_input": "2022-04-19T18:34:51.115897Z",
     "iopub.status.busy": "2022-04-19T18:34:51.115393Z",
     "iopub.status.idle": "2022-04-19T18:34:51.124183Z",
     "shell.execute_reply": "2022-04-19T18:34:51.123595Z"
    },
    "papermill": {
     "duration": 0.083576,
     "end_time": "2022-04-19T18:34:51.126216",
     "exception": false,
     "start_time": "2022-04-19T18:34:51.042640",
     "status": "completed"
    },
    "tags": []
   },
   "outputs": [
    {
     "data": {
      "text/plain": [
       "Speeding               0.299437\n",
       "Moving violation       0.280038\n",
       "Equipment              0.220275\n",
       "Registration/plates    0.104506\n",
       "Other                  0.065707\n",
       "Seat belt              0.030038\n",
       "Name: violation, dtype: float64"
      ]
     },
     "execution_count": 33,
     "metadata": {},
     "output_type": "execute_result"
    }
   ],
   "source": [
    "df2_1[df2_1.search_conducted==True].violation.value_counts(normalize=True)"
   ]
  },
  {
   "cell_type": "code",
   "execution_count": 34,
   "id": "b4d76730",
   "metadata": {
    "execution": {
     "iopub.execute_input": "2022-04-19T18:34:51.274123Z",
     "iopub.status.busy": "2022-04-19T18:34:51.273570Z",
     "iopub.status.idle": "2022-04-19T18:34:51.281275Z",
     "shell.execute_reply": "2022-04-19T18:34:51.280550Z"
    },
    "papermill": {
     "duration": 0.08355,
     "end_time": "2022-04-19T18:34:51.283562",
     "exception": false,
     "start_time": "2022-04-19T18:34:51.200012",
     "status": "completed"
    },
    "tags": []
   },
   "outputs": [],
   "source": [
    "df4=df.copy()"
   ]
  },
  {
   "cell_type": "code",
   "execution_count": 35,
   "id": "837d7efd",
   "metadata": {
    "execution": {
     "iopub.execute_input": "2022-04-19T18:34:51.433235Z",
     "iopub.status.busy": "2022-04-19T18:34:51.432836Z",
     "iopub.status.idle": "2022-04-19T18:34:51.538901Z",
     "shell.execute_reply": "2022-04-19T18:34:51.538052Z"
    },
    "papermill": {
     "duration": 0.184165,
     "end_time": "2022-04-19T18:34:51.541832",
     "exception": false,
     "start_time": "2022-04-19T18:34:51.357667",
     "status": "completed"
    },
    "tags": []
   },
   "outputs": [
    {
     "name": "stdout",
     "output_type": "stream",
     "text": [
      "<class 'pandas.core.frame.DataFrame'>\n",
      "RangeIndex: 91741 entries, 0 to 91740\n",
      "Data columns (total 15 columns):\n",
      " #   Column              Non-Null Count  Dtype  \n",
      "---  ------              --------------  -----  \n",
      " 0   stop_date           91741 non-null  object \n",
      " 1   stop_time           91741 non-null  object \n",
      " 2   county_name         0 non-null      float64\n",
      " 3   driver_gender       86406 non-null  object \n",
      " 4   driver_age_raw      86414 non-null  float64\n",
      " 5   driver_age          86120 non-null  float64\n",
      " 6   driver_race         86408 non-null  object \n",
      " 7   violation_raw       86408 non-null  object \n",
      " 8   violation           86408 non-null  object \n",
      " 9   search_conducted    91741 non-null  bool   \n",
      " 10  search_type         3196 non-null   object \n",
      " 11  stop_outcome        86408 non-null  object \n",
      " 12  is_arrested         86408 non-null  object \n",
      " 13  stop_duration       86408 non-null  object \n",
      " 14  drugs_related_stop  91741 non-null  bool   \n",
      "dtypes: bool(2), float64(3), object(10)\n",
      "memory usage: 9.3+ MB\n"
     ]
    }
   ],
   "source": [
    "df4.info()"
   ]
  },
  {
   "cell_type": "code",
   "execution_count": 36,
   "id": "1bdffb9e",
   "metadata": {
    "execution": {
     "iopub.execute_input": "2022-04-19T18:34:51.691200Z",
     "iopub.status.busy": "2022-04-19T18:34:51.690908Z",
     "iopub.status.idle": "2022-04-19T18:34:51.700670Z",
     "shell.execute_reply": "2022-04-19T18:34:51.699966Z"
    },
    "papermill": {
     "duration": 0.087315,
     "end_time": "2022-04-19T18:34:51.702517",
     "exception": false,
     "start_time": "2022-04-19T18:34:51.615202",
     "status": "completed"
    },
    "tags": []
   },
   "outputs": [],
   "source": [
    "df4.drop(df4.iloc[[],[0,1,2,4,5,6,7,10,11,12,13,14]],axis=1,inplace=True)"
   ]
  },
  {
   "cell_type": "code",
   "execution_count": 37,
   "id": "8d306486",
   "metadata": {
    "execution": {
     "iopub.execute_input": "2022-04-19T18:34:51.850959Z",
     "iopub.status.busy": "2022-04-19T18:34:51.850651Z",
     "iopub.status.idle": "2022-04-19T18:34:51.861062Z",
     "shell.execute_reply": "2022-04-19T18:34:51.860299Z"
    },
    "papermill": {
     "duration": 0.08674,
     "end_time": "2022-04-19T18:34:51.862922",
     "exception": false,
     "start_time": "2022-04-19T18:34:51.776182",
     "status": "completed"
    },
    "tags": []
   },
   "outputs": [
    {
     "data": {
      "text/html": [
       "<div>\n",
       "<style scoped>\n",
       "    .dataframe tbody tr th:only-of-type {\n",
       "        vertical-align: middle;\n",
       "    }\n",
       "\n",
       "    .dataframe tbody tr th {\n",
       "        vertical-align: top;\n",
       "    }\n",
       "\n",
       "    .dataframe thead th {\n",
       "        text-align: right;\n",
       "    }\n",
       "</style>\n",
       "<table border=\"1\" class=\"dataframe\">\n",
       "  <thead>\n",
       "    <tr style=\"text-align: right;\">\n",
       "      <th></th>\n",
       "      <th>driver_gender</th>\n",
       "      <th>violation</th>\n",
       "      <th>search_conducted</th>\n",
       "    </tr>\n",
       "  </thead>\n",
       "  <tbody>\n",
       "    <tr>\n",
       "      <th>0</th>\n",
       "      <td>M</td>\n",
       "      <td>Speeding</td>\n",
       "      <td>False</td>\n",
       "    </tr>\n",
       "    <tr>\n",
       "      <th>1</th>\n",
       "      <td>M</td>\n",
       "      <td>Speeding</td>\n",
       "      <td>False</td>\n",
       "    </tr>\n",
       "    <tr>\n",
       "      <th>2</th>\n",
       "      <td>M</td>\n",
       "      <td>Speeding</td>\n",
       "      <td>False</td>\n",
       "    </tr>\n",
       "    <tr>\n",
       "      <th>3</th>\n",
       "      <td>M</td>\n",
       "      <td>Other</td>\n",
       "      <td>False</td>\n",
       "    </tr>\n",
       "    <tr>\n",
       "      <th>4</th>\n",
       "      <td>F</td>\n",
       "      <td>Speeding</td>\n",
       "      <td>False</td>\n",
       "    </tr>\n",
       "  </tbody>\n",
       "</table>\n",
       "</div>"
      ],
      "text/plain": [
       "  driver_gender violation  search_conducted\n",
       "0             M  Speeding             False\n",
       "1             M  Speeding             False\n",
       "2             M  Speeding             False\n",
       "3             M     Other             False\n",
       "4             F  Speeding             False"
      ]
     },
     "execution_count": 37,
     "metadata": {},
     "output_type": "execute_result"
    }
   ],
   "source": [
    "df4.head()"
   ]
  },
  {
   "cell_type": "code",
   "execution_count": 38,
   "id": "4e2ca216",
   "metadata": {
    "execution": {
     "iopub.execute_input": "2022-04-19T18:34:52.011287Z",
     "iopub.status.busy": "2022-04-19T18:34:52.010860Z",
     "iopub.status.idle": "2022-04-19T18:34:52.050278Z",
     "shell.execute_reply": "2022-04-19T18:34:52.049487Z"
    },
    "papermill": {
     "duration": 0.117338,
     "end_time": "2022-04-19T18:34:52.052403",
     "exception": false,
     "start_time": "2022-04-19T18:34:51.935065",
     "status": "completed"
    },
    "tags": []
   },
   "outputs": [
    {
     "data": {
      "text/plain": [
       "search_conducted  violation            driver_gender\n",
       "False             Equipment            M                 7935\n",
       "                                       F                 2381\n",
       "                  Moving violation     M                12241\n",
       "                                       F                 3088\n",
       "                  Other                M                 3456\n",
       "                                       F                  651\n",
       "                  Registration/plates  M                 2152\n",
       "                                       F                  946\n",
       "                  Seat belt            M                 2229\n",
       "                                       F                  627\n",
       "                  Speeding             M                32157\n",
       "                                       F                15347\n",
       "True              Equipment            M                  598\n",
       "                                       F                  106\n",
       "                  Moving violation     M                  779\n",
       "                                       F                  116\n",
       "                  Other                M                  171\n",
       "                                       F                   39\n",
       "                  Registration/plates  M                  267\n",
       "                                       F                   67\n",
       "                  Seat belt            M                   88\n",
       "                                       F                    8\n",
       "                  Speeding             M                  822\n",
       "                                       F                  135\n",
       "Name: driver_gender, dtype: int64"
      ]
     },
     "execution_count": 38,
     "metadata": {},
     "output_type": "execute_result"
    }
   ],
   "source": [
    "df4.groupby(['search_conducted','violation']).driver_gender.value_counts()"
   ]
  },
  {
   "cell_type": "code",
   "execution_count": 39,
   "id": "2f76cb58",
   "metadata": {
    "execution": {
     "iopub.execute_input": "2022-04-19T18:34:52.200290Z",
     "iopub.status.busy": "2022-04-19T18:34:52.200011Z",
     "iopub.status.idle": "2022-04-19T18:34:52.207082Z",
     "shell.execute_reply": "2022-04-19T18:34:52.206318Z"
    },
    "papermill": {
     "duration": 0.083963,
     "end_time": "2022-04-19T18:34:52.209258",
     "exception": false,
     "start_time": "2022-04-19T18:34:52.125295",
     "status": "completed"
    },
    "tags": []
   },
   "outputs": [],
   "source": [
    "df3=df.copy()"
   ]
  },
  {
   "cell_type": "code",
   "execution_count": 40,
   "id": "86826ef5",
   "metadata": {
    "execution": {
     "iopub.execute_input": "2022-04-19T18:34:52.359025Z",
     "iopub.status.busy": "2022-04-19T18:34:52.358755Z",
     "iopub.status.idle": "2022-04-19T18:34:52.463358Z",
     "shell.execute_reply": "2022-04-19T18:34:52.462180Z"
    },
    "papermill": {
     "duration": 0.182626,
     "end_time": "2022-04-19T18:34:52.466528",
     "exception": false,
     "start_time": "2022-04-19T18:34:52.283902",
     "status": "completed"
    },
    "tags": []
   },
   "outputs": [
    {
     "name": "stdout",
     "output_type": "stream",
     "text": [
      "<class 'pandas.core.frame.DataFrame'>\n",
      "RangeIndex: 91741 entries, 0 to 91740\n",
      "Data columns (total 15 columns):\n",
      " #   Column              Non-Null Count  Dtype  \n",
      "---  ------              --------------  -----  \n",
      " 0   stop_date           91741 non-null  object \n",
      " 1   stop_time           91741 non-null  object \n",
      " 2   county_name         0 non-null      float64\n",
      " 3   driver_gender       86406 non-null  object \n",
      " 4   driver_age_raw      86414 non-null  float64\n",
      " 5   driver_age          86120 non-null  float64\n",
      " 6   driver_race         86408 non-null  object \n",
      " 7   violation_raw       86408 non-null  object \n",
      " 8   violation           86408 non-null  object \n",
      " 9   search_conducted    91741 non-null  bool   \n",
      " 10  search_type         3196 non-null   object \n",
      " 11  stop_outcome        86408 non-null  object \n",
      " 12  is_arrested         86408 non-null  object \n",
      " 13  stop_duration       86408 non-null  object \n",
      " 14  drugs_related_stop  91741 non-null  bool   \n",
      "dtypes: bool(2), float64(3), object(10)\n",
      "memory usage: 9.3+ MB\n"
     ]
    }
   ],
   "source": [
    "df3.info()"
   ]
  },
  {
   "cell_type": "code",
   "execution_count": 41,
   "id": "f278e117",
   "metadata": {
    "execution": {
     "iopub.execute_input": "2022-04-19T18:34:52.615511Z",
     "iopub.status.busy": "2022-04-19T18:34:52.614970Z",
     "iopub.status.idle": "2022-04-19T18:34:52.624434Z",
     "shell.execute_reply": "2022-04-19T18:34:52.623656Z"
    },
    "papermill": {
     "duration": 0.085916,
     "end_time": "2022-04-19T18:34:52.626613",
     "exception": false,
     "start_time": "2022-04-19T18:34:52.540697",
     "status": "completed"
    },
    "tags": []
   },
   "outputs": [],
   "source": [
    "df3.drop(df3.iloc[[],[0,1,2,3,4,5,6,7,8,11,12,13,14]],axis=1,inplace=True)"
   ]
  },
  {
   "cell_type": "code",
   "execution_count": 42,
   "id": "2b5e597b",
   "metadata": {
    "execution": {
     "iopub.execute_input": "2022-04-19T18:34:52.778453Z",
     "iopub.status.busy": "2022-04-19T18:34:52.777890Z",
     "iopub.status.idle": "2022-04-19T18:34:52.787692Z",
     "shell.execute_reply": "2022-04-19T18:34:52.786748Z"
    },
    "papermill": {
     "duration": 0.088341,
     "end_time": "2022-04-19T18:34:52.789831",
     "exception": false,
     "start_time": "2022-04-19T18:34:52.701490",
     "status": "completed"
    },
    "tags": []
   },
   "outputs": [
    {
     "data": {
      "text/html": [
       "<div>\n",
       "<style scoped>\n",
       "    .dataframe tbody tr th:only-of-type {\n",
       "        vertical-align: middle;\n",
       "    }\n",
       "\n",
       "    .dataframe tbody tr th {\n",
       "        vertical-align: top;\n",
       "    }\n",
       "\n",
       "    .dataframe thead th {\n",
       "        text-align: right;\n",
       "    }\n",
       "</style>\n",
       "<table border=\"1\" class=\"dataframe\">\n",
       "  <thead>\n",
       "    <tr style=\"text-align: right;\">\n",
       "      <th></th>\n",
       "      <th>search_conducted</th>\n",
       "      <th>search_type</th>\n",
       "    </tr>\n",
       "  </thead>\n",
       "  <tbody>\n",
       "    <tr>\n",
       "      <th>0</th>\n",
       "      <td>False</td>\n",
       "      <td>NaN</td>\n",
       "    </tr>\n",
       "    <tr>\n",
       "      <th>1</th>\n",
       "      <td>False</td>\n",
       "      <td>NaN</td>\n",
       "    </tr>\n",
       "    <tr>\n",
       "      <th>2</th>\n",
       "      <td>False</td>\n",
       "      <td>NaN</td>\n",
       "    </tr>\n",
       "    <tr>\n",
       "      <th>3</th>\n",
       "      <td>False</td>\n",
       "      <td>NaN</td>\n",
       "    </tr>\n",
       "    <tr>\n",
       "      <th>4</th>\n",
       "      <td>False</td>\n",
       "      <td>NaN</td>\n",
       "    </tr>\n",
       "  </tbody>\n",
       "</table>\n",
       "</div>"
      ],
      "text/plain": [
       "   search_conducted search_type\n",
       "0             False         NaN\n",
       "1             False         NaN\n",
       "2             False         NaN\n",
       "3             False         NaN\n",
       "4             False         NaN"
      ]
     },
     "execution_count": 42,
     "metadata": {},
     "output_type": "execute_result"
    }
   ],
   "source": [
    "df3.head()"
   ]
  },
  {
   "cell_type": "code",
   "execution_count": 43,
   "id": "bacf0c6a",
   "metadata": {
    "execution": {
     "iopub.execute_input": "2022-04-19T18:34:52.940279Z",
     "iopub.status.busy": "2022-04-19T18:34:52.939742Z",
     "iopub.status.idle": "2022-04-19T18:34:52.951206Z",
     "shell.execute_reply": "2022-04-19T18:34:52.950373Z"
    },
    "papermill": {
     "duration": 0.089852,
     "end_time": "2022-04-19T18:34:52.953194",
     "exception": false,
     "start_time": "2022-04-19T18:34:52.863342",
     "status": "completed"
    },
    "tags": []
   },
   "outputs": [
    {
     "data": {
      "text/plain": [
       "Incident to Arrest                                          1219\n",
       "Probable Cause                                               891\n",
       "Inventory                                                    220\n",
       "Reasonable Suspicion                                         197\n",
       "Protective Frisk                                             161\n",
       "Incident to Arrest,Inventory                                 129\n",
       "Incident to Arrest,Probable Cause                            106\n",
       "Probable Cause,Reasonable Suspicion                           75\n",
       "Incident to Arrest,Inventory,Probable Cause                   34\n",
       "Incident to Arrest,Protective Frisk                           33\n",
       "Probable Cause,Protective Frisk                               33\n",
       "Inventory,Probable Cause                                      22\n",
       "Incident to Arrest,Reasonable Suspicion                       13\n",
       "Inventory,Protective Frisk                                    11\n",
       "Incident to Arrest,Inventory,Protective Frisk                 11\n",
       "Protective Frisk,Reasonable Suspicion                         11\n",
       "Incident to Arrest,Probable Cause,Protective Frisk            10\n",
       "Incident to Arrest,Probable Cause,Reasonable Suspicion         6\n",
       "Incident to Arrest,Inventory,Reasonable Suspicion              4\n",
       "Inventory,Reasonable Suspicion                                 4\n",
       "Inventory,Probable Cause,Protective Frisk                      2\n",
       "Inventory,Probable Cause,Reasonable Suspicion                  2\n",
       "Incident to Arrest,Protective Frisk,Reasonable Suspicion       1\n",
       "Probable Cause,Protective Frisk,Reasonable Suspicion           1\n",
       "Name: search_type, dtype: int64"
      ]
     },
     "execution_count": 43,
     "metadata": {},
     "output_type": "execute_result"
    }
   ],
   "source": [
    "df3.search_type.value_counts()"
   ]
  },
  {
   "cell_type": "code",
   "execution_count": 44,
   "id": "8eb09cff",
   "metadata": {
    "execution": {
     "iopub.execute_input": "2022-04-19T18:34:53.106922Z",
     "iopub.status.busy": "2022-04-19T18:34:53.106453Z",
     "iopub.status.idle": "2022-04-19T18:34:53.119192Z",
     "shell.execute_reply": "2022-04-19T18:34:53.118407Z"
    },
    "papermill": {
     "duration": 0.091966,
     "end_time": "2022-04-19T18:34:53.121664",
     "exception": false,
     "start_time": "2022-04-19T18:34:53.029698",
     "status": "completed"
    },
    "tags": []
   },
   "outputs": [
    {
     "data": {
      "text/plain": [
       "True    161\n",
       "Name: search_conducted, dtype: int64"
      ]
     },
     "execution_count": 44,
     "metadata": {},
     "output_type": "execute_result"
    }
   ],
   "source": [
    "df3[df3.search_type =='Protective Frisk'].search_conducted.value_counts()"
   ]
  },
  {
   "cell_type": "code",
   "execution_count": 45,
   "id": "123c0bca",
   "metadata": {
    "execution": {
     "iopub.execute_input": "2022-04-19T18:34:53.272455Z",
     "iopub.status.busy": "2022-04-19T18:34:53.271687Z",
     "iopub.status.idle": "2022-04-19T18:34:53.283235Z",
     "shell.execute_reply": "2022-04-19T18:34:53.282152Z"
    },
    "papermill": {
     "duration": 0.089415,
     "end_time": "2022-04-19T18:34:53.285421",
     "exception": false,
     "start_time": "2022-04-19T18:34:53.196006",
     "status": "completed"
    },
    "tags": []
   },
   "outputs": [
    {
     "data": {
      "text/html": [
       "<div>\n",
       "<style scoped>\n",
       "    .dataframe tbody tr th:only-of-type {\n",
       "        vertical-align: middle;\n",
       "    }\n",
       "\n",
       "    .dataframe tbody tr th {\n",
       "        vertical-align: top;\n",
       "    }\n",
       "\n",
       "    .dataframe thead th {\n",
       "        text-align: right;\n",
       "    }\n",
       "</style>\n",
       "<table border=\"1\" class=\"dataframe\">\n",
       "  <thead>\n",
       "    <tr style=\"text-align: right;\">\n",
       "      <th></th>\n",
       "      <th>search_conducted</th>\n",
       "      <th>search_type</th>\n",
       "    </tr>\n",
       "  </thead>\n",
       "  <tbody>\n",
       "    <tr>\n",
       "      <th>0</th>\n",
       "      <td>False</td>\n",
       "      <td>NaN</td>\n",
       "    </tr>\n",
       "    <tr>\n",
       "      <th>1</th>\n",
       "      <td>False</td>\n",
       "      <td>NaN</td>\n",
       "    </tr>\n",
       "    <tr>\n",
       "      <th>2</th>\n",
       "      <td>False</td>\n",
       "      <td>NaN</td>\n",
       "    </tr>\n",
       "    <tr>\n",
       "      <th>3</th>\n",
       "      <td>False</td>\n",
       "      <td>NaN</td>\n",
       "    </tr>\n",
       "    <tr>\n",
       "      <th>4</th>\n",
       "      <td>False</td>\n",
       "      <td>NaN</td>\n",
       "    </tr>\n",
       "    <tr>\n",
       "      <th>...</th>\n",
       "      <td>...</td>\n",
       "      <td>...</td>\n",
       "    </tr>\n",
       "    <tr>\n",
       "      <th>91736</th>\n",
       "      <td>False</td>\n",
       "      <td>NaN</td>\n",
       "    </tr>\n",
       "    <tr>\n",
       "      <th>91737</th>\n",
       "      <td>False</td>\n",
       "      <td>NaN</td>\n",
       "    </tr>\n",
       "    <tr>\n",
       "      <th>91738</th>\n",
       "      <td>False</td>\n",
       "      <td>NaN</td>\n",
       "    </tr>\n",
       "    <tr>\n",
       "      <th>91739</th>\n",
       "      <td>False</td>\n",
       "      <td>NaN</td>\n",
       "    </tr>\n",
       "    <tr>\n",
       "      <th>91740</th>\n",
       "      <td>False</td>\n",
       "      <td>NaN</td>\n",
       "    </tr>\n",
       "  </tbody>\n",
       "</table>\n",
       "<p>91741 rows × 2 columns</p>\n",
       "</div>"
      ],
      "text/plain": [
       "       search_conducted search_type\n",
       "0                 False         NaN\n",
       "1                 False         NaN\n",
       "2                 False         NaN\n",
       "3                 False         NaN\n",
       "4                 False         NaN\n",
       "...                 ...         ...\n",
       "91736             False         NaN\n",
       "91737             False         NaN\n",
       "91738             False         NaN\n",
       "91739             False         NaN\n",
       "91740             False         NaN\n",
       "\n",
       "[91741 rows x 2 columns]"
      ]
     },
     "execution_count": 45,
     "metadata": {},
     "output_type": "execute_result"
    }
   ],
   "source": [
    "df3"
   ]
  },
  {
   "cell_type": "code",
   "execution_count": 46,
   "id": "6a9bff68",
   "metadata": {
    "execution": {
     "iopub.execute_input": "2022-04-19T18:34:53.438981Z",
     "iopub.status.busy": "2022-04-19T18:34:53.438474Z",
     "iopub.status.idle": "2022-04-19T18:34:53.445143Z",
     "shell.execute_reply": "2022-04-19T18:34:53.444509Z"
    },
    "papermill": {
     "duration": 0.085688,
     "end_time": "2022-04-19T18:34:53.446918",
     "exception": false,
     "start_time": "2022-04-19T18:34:53.361230",
     "status": "completed"
    },
    "tags": []
   },
   "outputs": [
    {
     "data": {
      "text/plain": [
       "0        NaN\n",
       "1        NaN\n",
       "2        NaN\n",
       "3        NaN\n",
       "4        NaN\n",
       "        ... \n",
       "91736    NaN\n",
       "91737    NaN\n",
       "91738    NaN\n",
       "91739    NaN\n",
       "91740    NaN\n",
       "Name: search_type, Length: 91741, dtype: object"
      ]
     },
     "execution_count": 46,
     "metadata": {},
     "output_type": "execute_result"
    }
   ],
   "source": [
    "df.search_type"
   ]
  },
  {
   "cell_type": "code",
   "execution_count": 47,
   "id": "a1b7cb2a",
   "metadata": {
    "execution": {
     "iopub.execute_input": "2022-04-19T18:34:53.600911Z",
     "iopub.status.busy": "2022-04-19T18:34:53.600385Z",
     "iopub.status.idle": "2022-04-19T18:34:53.607383Z",
     "shell.execute_reply": "2022-04-19T18:34:53.606755Z"
    },
    "papermill": {
     "duration": 0.08645,
     "end_time": "2022-04-19T18:34:53.609245",
     "exception": false,
     "start_time": "2022-04-19T18:34:53.522795",
     "status": "completed"
    },
    "tags": []
   },
   "outputs": [],
   "source": [
    "df5=df.copy()"
   ]
  },
  {
   "cell_type": "code",
   "execution_count": 48,
   "id": "c672d0b8",
   "metadata": {
    "execution": {
     "iopub.execute_input": "2022-04-19T18:34:53.762704Z",
     "iopub.status.busy": "2022-04-19T18:34:53.762199Z",
     "iopub.status.idle": "2022-04-19T18:34:53.871766Z",
     "shell.execute_reply": "2022-04-19T18:34:53.870961Z"
    },
    "papermill": {
     "duration": 0.189103,
     "end_time": "2022-04-19T18:34:53.874346",
     "exception": false,
     "start_time": "2022-04-19T18:34:53.685243",
     "status": "completed"
    },
    "tags": []
   },
   "outputs": [],
   "source": [
    "df5.dropna(inplace=True)"
   ]
  },
  {
   "cell_type": "code",
   "execution_count": 49,
   "id": "4a7c1c09",
   "metadata": {
    "execution": {
     "iopub.execute_input": "2022-04-19T18:34:54.033578Z",
     "iopub.status.busy": "2022-04-19T18:34:54.033085Z",
     "iopub.status.idle": "2022-04-19T18:34:54.043258Z",
     "shell.execute_reply": "2022-04-19T18:34:54.042526Z"
    },
    "papermill": {
     "duration": 0.090868,
     "end_time": "2022-04-19T18:34:54.045246",
     "exception": false,
     "start_time": "2022-04-19T18:34:53.954378",
     "status": "completed"
    },
    "tags": []
   },
   "outputs": [
    {
     "data": {
      "text/html": [
       "<div>\n",
       "<style scoped>\n",
       "    .dataframe tbody tr th:only-of-type {\n",
       "        vertical-align: middle;\n",
       "    }\n",
       "\n",
       "    .dataframe tbody tr th {\n",
       "        vertical-align: top;\n",
       "    }\n",
       "\n",
       "    .dataframe thead th {\n",
       "        text-align: right;\n",
       "    }\n",
       "</style>\n",
       "<table border=\"1\" class=\"dataframe\">\n",
       "  <thead>\n",
       "    <tr style=\"text-align: right;\">\n",
       "      <th></th>\n",
       "      <th>stop_date</th>\n",
       "      <th>stop_time</th>\n",
       "      <th>county_name</th>\n",
       "      <th>driver_gender</th>\n",
       "      <th>driver_age_raw</th>\n",
       "      <th>driver_age</th>\n",
       "      <th>driver_race</th>\n",
       "      <th>violation_raw</th>\n",
       "      <th>violation</th>\n",
       "      <th>search_conducted</th>\n",
       "      <th>search_type</th>\n",
       "      <th>stop_outcome</th>\n",
       "      <th>is_arrested</th>\n",
       "      <th>stop_duration</th>\n",
       "      <th>drugs_related_stop</th>\n",
       "    </tr>\n",
       "  </thead>\n",
       "  <tbody>\n",
       "  </tbody>\n",
       "</table>\n",
       "</div>"
      ],
      "text/plain": [
       "Empty DataFrame\n",
       "Columns: [stop_date, stop_time, county_name, driver_gender, driver_age_raw, driver_age, driver_race, violation_raw, violation, search_conducted, search_type, stop_outcome, is_arrested, stop_duration, drugs_related_stop]\n",
       "Index: []"
      ]
     },
     "execution_count": 49,
     "metadata": {},
     "output_type": "execute_result"
    }
   ],
   "source": [
    "df5"
   ]
  },
  {
   "cell_type": "code",
   "execution_count": 50,
   "id": "d02ba7e4",
   "metadata": {
    "execution": {
     "iopub.execute_input": "2022-04-19T18:34:54.202702Z",
     "iopub.status.busy": "2022-04-19T18:34:54.202376Z",
     "iopub.status.idle": "2022-04-19T18:34:54.307926Z",
     "shell.execute_reply": "2022-04-19T18:34:54.307033Z"
    },
    "papermill": {
     "duration": 0.187046,
     "end_time": "2022-04-19T18:34:54.310743",
     "exception": false,
     "start_time": "2022-04-19T18:34:54.123697",
     "status": "completed"
    },
    "tags": []
   },
   "outputs": [
    {
     "name": "stdout",
     "output_type": "stream",
     "text": [
      "<class 'pandas.core.frame.DataFrame'>\n",
      "RangeIndex: 91741 entries, 0 to 91740\n",
      "Data columns (total 15 columns):\n",
      " #   Column              Non-Null Count  Dtype  \n",
      "---  ------              --------------  -----  \n",
      " 0   stop_date           91741 non-null  object \n",
      " 1   stop_time           91741 non-null  object \n",
      " 2   county_name         0 non-null      float64\n",
      " 3   driver_gender       86406 non-null  object \n",
      " 4   driver_age_raw      86414 non-null  float64\n",
      " 5   driver_age          86120 non-null  float64\n",
      " 6   driver_race         86408 non-null  object \n",
      " 7   violation_raw       86408 non-null  object \n",
      " 8   violation           86408 non-null  object \n",
      " 9   search_conducted    91741 non-null  bool   \n",
      " 10  search_type         3196 non-null   object \n",
      " 11  stop_outcome        86408 non-null  object \n",
      " 12  is_arrested         86408 non-null  object \n",
      " 13  stop_duration       86408 non-null  object \n",
      " 14  drugs_related_stop  91741 non-null  bool   \n",
      "dtypes: bool(2), float64(3), object(10)\n",
      "memory usage: 9.3+ MB\n"
     ]
    }
   ],
   "source": [
    "df.info()"
   ]
  },
  {
   "cell_type": "code",
   "execution_count": 51,
   "id": "3b002b78",
   "metadata": {
    "execution": {
     "iopub.execute_input": "2022-04-19T18:34:54.467674Z",
     "iopub.status.busy": "2022-04-19T18:34:54.466937Z",
     "iopub.status.idle": "2022-04-19T18:34:54.476564Z",
     "shell.execute_reply": "2022-04-19T18:34:54.475935Z"
    },
    "papermill": {
     "duration": 0.090369,
     "end_time": "2022-04-19T18:34:54.478646",
     "exception": false,
     "start_time": "2022-04-19T18:34:54.388277",
     "status": "completed"
    },
    "tags": []
   },
   "outputs": [],
   "source": [
    "df6=df.search_type.dropna()"
   ]
  },
  {
   "cell_type": "code",
   "execution_count": 52,
   "id": "d951156e",
   "metadata": {
    "execution": {
     "iopub.execute_input": "2022-04-19T18:34:54.635378Z",
     "iopub.status.busy": "2022-04-19T18:34:54.634548Z",
     "iopub.status.idle": "2022-04-19T18:34:54.642795Z",
     "shell.execute_reply": "2022-04-19T18:34:54.641986Z"
    },
    "papermill": {
     "duration": 0.088699,
     "end_time": "2022-04-19T18:34:54.644873",
     "exception": false,
     "start_time": "2022-04-19T18:34:54.556174",
     "status": "completed"
    },
    "tags": []
   },
   "outputs": [
    {
     "data": {
      "text/plain": [
       "24       Incident to Arrest,Protective Frisk\n",
       "40                            Probable Cause\n",
       "41                            Probable Cause\n",
       "80                        Incident to Arrest\n",
       "106                           Probable Cause\n",
       "                        ...                 \n",
       "91494                     Incident to Arrest\n",
       "91548                     Incident to Arrest\n",
       "91672                     Incident to Arrest\n",
       "91700    Probable Cause,Reasonable Suspicion\n",
       "91708                     Incident to Arrest\n",
       "Name: search_type, Length: 3196, dtype: object"
      ]
     },
     "execution_count": 52,
     "metadata": {},
     "output_type": "execute_result"
    }
   ],
   "source": [
    "df6"
   ]
  },
  {
   "cell_type": "code",
   "execution_count": 53,
   "id": "21f360ca",
   "metadata": {
    "execution": {
     "iopub.execute_input": "2022-04-19T18:34:54.801656Z",
     "iopub.status.busy": "2022-04-19T18:34:54.801371Z",
     "iopub.status.idle": "2022-04-19T18:34:54.805642Z",
     "shell.execute_reply": "2022-04-19T18:34:54.804609Z"
    },
    "papermill": {
     "duration": 0.085258,
     "end_time": "2022-04-19T18:34:54.807609",
     "exception": false,
     "start_time": "2022-04-19T18:34:54.722351",
     "status": "completed"
    },
    "tags": []
   },
   "outputs": [],
   "source": [
    "x = df6.tolist()"
   ]
  },
  {
   "cell_type": "code",
   "execution_count": 54,
   "id": "dd9699e1",
   "metadata": {
    "execution": {
     "iopub.execute_input": "2022-04-19T18:34:54.965871Z",
     "iopub.status.busy": "2022-04-19T18:34:54.965564Z",
     "iopub.status.idle": "2022-04-19T18:34:54.971327Z",
     "shell.execute_reply": "2022-04-19T18:34:54.970648Z"
    },
    "papermill": {
     "duration": 0.08683,
     "end_time": "2022-04-19T18:34:54.973212",
     "exception": false,
     "start_time": "2022-04-19T18:34:54.886382",
     "status": "completed"
    },
    "tags": []
   },
   "outputs": [],
   "source": [
    "a=[]\n",
    "c = 0\n",
    "for i in x:\n",
    "    b = i.split(',')\n",
    "    if \"Protective Frisk\" in b:\n",
    "        a.append(b)\n",
    "        c = c+1"
   ]
  },
  {
   "cell_type": "code",
   "execution_count": 55,
   "id": "c6feab9f",
   "metadata": {
    "execution": {
     "iopub.execute_input": "2022-04-19T18:34:55.133892Z",
     "iopub.status.busy": "2022-04-19T18:34:55.133153Z",
     "iopub.status.idle": "2022-04-19T18:34:55.138771Z",
     "shell.execute_reply": "2022-04-19T18:34:55.138111Z"
    },
    "papermill": {
     "duration": 0.087525,
     "end_time": "2022-04-19T18:34:55.140599",
     "exception": false,
     "start_time": "2022-04-19T18:34:55.053074",
     "status": "completed"
    },
    "tags": []
   },
   "outputs": [
    {
     "data": {
      "text/plain": [
       "274"
      ]
     },
     "execution_count": 55,
     "metadata": {},
     "output_type": "execute_result"
    }
   ],
   "source": [
    "c"
   ]
  },
  {
   "cell_type": "code",
   "execution_count": 56,
   "id": "98444c24",
   "metadata": {
    "execution": {
     "iopub.execute_input": "2022-04-19T18:34:55.298544Z",
     "iopub.status.busy": "2022-04-19T18:34:55.298029Z",
     "iopub.status.idle": "2022-04-19T18:34:55.303720Z",
     "shell.execute_reply": "2022-04-19T18:34:55.303193Z"
    },
    "papermill": {
     "duration": 0.08633,
     "end_time": "2022-04-19T18:34:55.305534",
     "exception": false,
     "start_time": "2022-04-19T18:34:55.219204",
     "status": "completed"
    },
    "tags": []
   },
   "outputs": [
    {
     "data": {
      "text/plain": [
       "Series([], Name: search_type, dtype: object)"
      ]
     },
     "execution_count": 56,
     "metadata": {},
     "output_type": "execute_result"
    }
   ],
   "source": [
    "df5.search_type"
   ]
  },
  {
   "cell_type": "code",
   "execution_count": 57,
   "id": "7c1f3010",
   "metadata": {
    "execution": {
     "iopub.execute_input": "2022-04-19T18:34:55.467498Z",
     "iopub.status.busy": "2022-04-19T18:34:55.467153Z",
     "iopub.status.idle": "2022-04-19T18:34:55.471550Z",
     "shell.execute_reply": "2022-04-19T18:34:55.470639Z"
    },
    "papermill": {
     "duration": 0.09001,
     "end_time": "2022-04-19T18:34:55.473643",
     "exception": false,
     "start_time": "2022-04-19T18:34:55.383633",
     "status": "completed"
    },
    "tags": []
   },
   "outputs": [],
   "source": [
    "df7=df5.search_type.tolist()"
   ]
  },
  {
   "cell_type": "code",
   "execution_count": 58,
   "id": "c42600f0",
   "metadata": {
    "execution": {
     "iopub.execute_input": "2022-04-19T18:34:55.633182Z",
     "iopub.status.busy": "2022-04-19T18:34:55.632332Z",
     "iopub.status.idle": "2022-04-19T18:34:55.637472Z",
     "shell.execute_reply": "2022-04-19T18:34:55.636659Z"
    },
    "papermill": {
     "duration": 0.086665,
     "end_time": "2022-04-19T18:34:55.639638",
     "exception": false,
     "start_time": "2022-04-19T18:34:55.552973",
     "status": "completed"
    },
    "tags": []
   },
   "outputs": [],
   "source": [
    "z = []\n",
    "\n",
    "for i in df7:\n",
    "    i = str(i)\n",
    "    b = i.split(',')\n",
    "    for j in b:\n",
    "        if j not in z:\n",
    "            z.append(j)"
   ]
  },
  {
   "cell_type": "code",
   "execution_count": 59,
   "id": "128f5215",
   "metadata": {
    "execution": {
     "iopub.execute_input": "2022-04-19T18:34:55.796900Z",
     "iopub.status.busy": "2022-04-19T18:34:55.796605Z",
     "iopub.status.idle": "2022-04-19T18:34:55.801319Z",
     "shell.execute_reply": "2022-04-19T18:34:55.800730Z"
    },
    "papermill": {
     "duration": 0.085857,
     "end_time": "2022-04-19T18:34:55.803333",
     "exception": false,
     "start_time": "2022-04-19T18:34:55.717476",
     "status": "completed"
    },
    "tags": []
   },
   "outputs": [
    {
     "data": {
      "text/plain": [
       "[]"
      ]
     },
     "execution_count": 59,
     "metadata": {},
     "output_type": "execute_result"
    }
   ],
   "source": [
    "z"
   ]
  },
  {
   "cell_type": "code",
   "execution_count": 60,
   "id": "ae299502",
   "metadata": {
    "execution": {
     "iopub.execute_input": "2022-04-19T18:34:55.963326Z",
     "iopub.status.busy": "2022-04-19T18:34:55.962714Z",
     "iopub.status.idle": "2022-04-19T18:34:55.968943Z",
     "shell.execute_reply": "2022-04-19T18:34:55.967924Z"
    },
    "papermill": {
     "duration": 0.088733,
     "end_time": "2022-04-19T18:34:55.971240",
     "exception": false,
     "start_time": "2022-04-19T18:34:55.882507",
     "status": "completed"
    },
    "tags": []
   },
   "outputs": [],
   "source": [
    "c = {'Incident to Arrest':[],\n",
    " 'Protective Frisk':[],\n",
    " 'Probable Cause':[],\n",
    " 'Reasonable Suspicion':[],\n",
    " 'Inventory':[]}\n",
    "for i in c:\n",
    "    for j in df7:\n",
    "        j=str(j)\n",
    "        j = j.split(',')\n",
    "        if i in j:\n",
    "            c[i].append(1)\n",
    "        else:\n",
    "            c[i].append(0)\n",
    "#print(c)"
   ]
  },
  {
   "cell_type": "code",
   "execution_count": 61,
   "id": "284383d0",
   "metadata": {
    "execution": {
     "iopub.execute_input": "2022-04-19T18:34:56.132664Z",
     "iopub.status.busy": "2022-04-19T18:34:56.132187Z",
     "iopub.status.idle": "2022-04-19T18:34:56.140417Z",
     "shell.execute_reply": "2022-04-19T18:34:56.139853Z"
    },
    "papermill": {
     "duration": 0.091417,
     "end_time": "2022-04-19T18:34:56.142290",
     "exception": false,
     "start_time": "2022-04-19T18:34:56.050873",
     "status": "completed"
    },
    "tags": []
   },
   "outputs": [
    {
     "data": {
      "text/html": [
       "<div>\n",
       "<style scoped>\n",
       "    .dataframe tbody tr th:only-of-type {\n",
       "        vertical-align: middle;\n",
       "    }\n",
       "\n",
       "    .dataframe tbody tr th {\n",
       "        vertical-align: top;\n",
       "    }\n",
       "\n",
       "    .dataframe thead th {\n",
       "        text-align: right;\n",
       "    }\n",
       "</style>\n",
       "<table border=\"1\" class=\"dataframe\">\n",
       "  <thead>\n",
       "    <tr style=\"text-align: right;\">\n",
       "      <th></th>\n",
       "      <th>Incident to Arrest</th>\n",
       "      <th>Protective Frisk</th>\n",
       "      <th>Probable Cause</th>\n",
       "      <th>Reasonable Suspicion</th>\n",
       "      <th>Inventory</th>\n",
       "    </tr>\n",
       "  </thead>\n",
       "  <tbody>\n",
       "  </tbody>\n",
       "</table>\n",
       "</div>"
      ],
      "text/plain": [
       "Empty DataFrame\n",
       "Columns: [Incident to Arrest, Protective Frisk, Probable Cause, Reasonable Suspicion, Inventory]\n",
       "Index: []"
      ]
     },
     "execution_count": 61,
     "metadata": {},
     "output_type": "execute_result"
    }
   ],
   "source": [
    "df8 = pd.DataFrame(c)\n",
    "df8"
   ]
  },
  {
   "cell_type": "code",
   "execution_count": 62,
   "id": "ed44e01e",
   "metadata": {
    "execution": {
     "iopub.execute_input": "2022-04-19T18:34:56.300883Z",
     "iopub.status.busy": "2022-04-19T18:34:56.300455Z",
     "iopub.status.idle": "2022-04-19T18:34:56.308309Z",
     "shell.execute_reply": "2022-04-19T18:34:56.307683Z"
    },
    "papermill": {
     "duration": 0.089146,
     "end_time": "2022-04-19T18:34:56.310131",
     "exception": false,
     "start_time": "2022-04-19T18:34:56.220985",
     "status": "completed"
    },
    "tags": []
   },
   "outputs": [
    {
     "data": {
      "text/plain": [
       "Incident to Arrest      0.0\n",
       "Protective Frisk        0.0\n",
       "Probable Cause          0.0\n",
       "Reasonable Suspicion    0.0\n",
       "Inventory               0.0\n",
       "dtype: float64"
      ]
     },
     "execution_count": 62,
     "metadata": {},
     "output_type": "execute_result"
    }
   ],
   "source": [
    "df8.sum()"
   ]
  },
  {
   "cell_type": "code",
   "execution_count": 63,
   "id": "fad0a082",
   "metadata": {
    "execution": {
     "iopub.execute_input": "2022-04-19T18:34:56.472969Z",
     "iopub.status.busy": "2022-04-19T18:34:56.472075Z",
     "iopub.status.idle": "2022-04-19T18:34:56.482102Z",
     "shell.execute_reply": "2022-04-19T18:34:56.481101Z"
    },
    "papermill": {
     "duration": 0.093099,
     "end_time": "2022-04-19T18:34:56.484355",
     "exception": false,
     "start_time": "2022-04-19T18:34:56.391256",
     "status": "completed"
    },
    "tags": []
   },
   "outputs": [
    {
     "name": "stdout",
     "output_type": "stream",
     "text": [
      "<class 'pandas.core.frame.DataFrame'>\n",
      "RangeIndex: 0 entries\n",
      "Data columns (total 5 columns):\n",
      " #   Column                Non-Null Count  Dtype  \n",
      "---  ------                --------------  -----  \n",
      " 0   Incident to Arrest    0 non-null      float64\n",
      " 1   Protective Frisk      0 non-null      float64\n",
      " 2   Probable Cause        0 non-null      float64\n",
      " 3   Reasonable Suspicion  0 non-null      float64\n",
      " 4   Inventory             0 non-null      float64\n",
      "dtypes: float64(5)\n",
      "memory usage: 124.0 bytes\n"
     ]
    }
   ],
   "source": [
    "df8.info()"
   ]
  }
 ],
 "metadata": {
  "kernelspec": {
   "display_name": "Python 3",
   "language": "python",
   "name": "python3"
  },
  "language_info": {
   "codemirror_mode": {
    "name": "ipython",
    "version": 3
   },
   "file_extension": ".py",
   "mimetype": "text/x-python",
   "name": "python",
   "nbconvert_exporter": "python",
   "pygments_lexer": "ipython3",
   "version": "3.7.12"
  },
  "papermill": {
   "default_parameters": {},
   "duration": 23.004075,
   "end_time": "2022-04-19T18:34:57.185497",
   "environment_variables": {},
   "exception": null,
   "input_path": "__notebook__.ipynb",
   "output_path": "__notebook__.ipynb",
   "parameters": {},
   "start_time": "2022-04-19T18:34:34.181422",
   "version": "2.3.4"
  }
 },
 "nbformat": 4,
 "nbformat_minor": 5
}
