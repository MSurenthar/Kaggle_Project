{
 "cells": [
  {
   "cell_type": "code",
   "execution_count": 1,
   "id": "1793bc17",
   "metadata": {
    "_cell_guid": "b1076dfc-b9ad-4769-8c92-a6c4dae69d19",
    "_uuid": "8f2839f25d086af736a60e9eeb907d3b93b6e0e5",
    "execution": {
     "iopub.execute_input": "2022-04-20T23:53:43.240431Z",
     "iopub.status.busy": "2022-04-20T23:53:43.239969Z",
     "iopub.status.idle": "2022-04-20T23:53:43.260249Z",
     "shell.execute_reply": "2022-04-20T23:53:43.259152Z"
    },
    "papermill": {
     "duration": 0.109937,
     "end_time": "2022-04-20T23:53:43.263062",
     "exception": false,
     "start_time": "2022-04-20T23:53:43.153125",
     "status": "completed"
    },
    "tags": []
   },
   "outputs": [
    {
     "name": "stdout",
     "output_type": "stream",
     "text": [
      "/kaggle/input/stanford-open-policing-project/police_project.csv\n"
     ]
    }
   ],
   "source": [
    "# This Python 3 environment comes with many helpful analytics libraries installed\n",
    "# It is defined by the kaggle/python Docker image: https://github.com/kaggle/docker-python\n",
    "# For example, here's several helpful packages to load\n",
    "\n",
    "import numpy as np # linear algebra\n",
    "import pandas as pd # data processing, CSV file I/O (e.g. pd.read_csv)\n",
    "\n",
    "# Input data files are available in the read-only \"../input/\" directory\n",
    "# For example, running this (by clicking run or pressing Shift+Enter) will list all files under the input directory\n",
    "\n",
    "import os\n",
    "for dirname, _, filenames in os.walk('/kaggle/input'):\n",
    "    for filename in filenames:\n",
    "        print(os.path.join(dirname, filename))\n",
    "\n",
    "# You can write up to 20GB to the current directory (/kaggle/working/) that gets preserved as output when you create a version using \"Save & Run All\" \n",
    "# You can also write temporary files to /kaggle/temp/, but they won't be saved outside of the current session"
   ]
  },
  {
   "cell_type": "code",
   "execution_count": 2,
   "id": "f50eda14",
   "metadata": {
    "execution": {
     "iopub.execute_input": "2022-04-20T23:53:43.426914Z",
     "iopub.status.busy": "2022-04-20T23:53:43.426406Z",
     "iopub.status.idle": "2022-04-20T23:53:43.762154Z",
     "shell.execute_reply": "2022-04-20T23:53:43.760952Z"
    },
    "papermill": {
     "duration": 0.420416,
     "end_time": "2022-04-20T23:53:43.764969",
     "exception": false,
     "start_time": "2022-04-20T23:53:43.344553",
     "status": "completed"
    },
    "tags": []
   },
   "outputs": [],
   "source": [
    "df=pd.read_csv('../input/stanford-open-policing-project/police_project.csv')"
   ]
  },
  {
   "cell_type": "code",
   "execution_count": 3,
   "id": "548e7578",
   "metadata": {
    "execution": {
     "iopub.execute_input": "2022-04-20T23:53:43.929308Z",
     "iopub.status.busy": "2022-04-20T23:53:43.928089Z",
     "iopub.status.idle": "2022-04-20T23:53:43.959962Z",
     "shell.execute_reply": "2022-04-20T23:53:43.959129Z"
    },
    "papermill": {
     "duration": 0.1186,
     "end_time": "2022-04-20T23:53:43.964894",
     "exception": false,
     "start_time": "2022-04-20T23:53:43.846294",
     "status": "completed"
    },
    "tags": []
   },
   "outputs": [
    {
     "data": {
      "text/html": [
       "<div>\n",
       "<style scoped>\n",
       "    .dataframe tbody tr th:only-of-type {\n",
       "        vertical-align: middle;\n",
       "    }\n",
       "\n",
       "    .dataframe tbody tr th {\n",
       "        vertical-align: top;\n",
       "    }\n",
       "\n",
       "    .dataframe thead th {\n",
       "        text-align: right;\n",
       "    }\n",
       "</style>\n",
       "<table border=\"1\" class=\"dataframe\">\n",
       "  <thead>\n",
       "    <tr style=\"text-align: right;\">\n",
       "      <th></th>\n",
       "      <th>stop_date</th>\n",
       "      <th>stop_time</th>\n",
       "      <th>county_name</th>\n",
       "      <th>driver_gender</th>\n",
       "      <th>driver_age_raw</th>\n",
       "      <th>driver_age</th>\n",
       "      <th>driver_race</th>\n",
       "      <th>violation_raw</th>\n",
       "      <th>violation</th>\n",
       "      <th>search_conducted</th>\n",
       "      <th>search_type</th>\n",
       "      <th>stop_outcome</th>\n",
       "      <th>is_arrested</th>\n",
       "      <th>stop_duration</th>\n",
       "      <th>drugs_related_stop</th>\n",
       "    </tr>\n",
       "  </thead>\n",
       "  <tbody>\n",
       "    <tr>\n",
       "      <th>0</th>\n",
       "      <td>2005-01-02</td>\n",
       "      <td>01:55</td>\n",
       "      <td>NaN</td>\n",
       "      <td>M</td>\n",
       "      <td>1985.0</td>\n",
       "      <td>20.0</td>\n",
       "      <td>White</td>\n",
       "      <td>Speeding</td>\n",
       "      <td>Speeding</td>\n",
       "      <td>False</td>\n",
       "      <td>NaN</td>\n",
       "      <td>Citation</td>\n",
       "      <td>False</td>\n",
       "      <td>0-15 Min</td>\n",
       "      <td>False</td>\n",
       "    </tr>\n",
       "    <tr>\n",
       "      <th>1</th>\n",
       "      <td>2005-01-18</td>\n",
       "      <td>08:15</td>\n",
       "      <td>NaN</td>\n",
       "      <td>M</td>\n",
       "      <td>1965.0</td>\n",
       "      <td>40.0</td>\n",
       "      <td>White</td>\n",
       "      <td>Speeding</td>\n",
       "      <td>Speeding</td>\n",
       "      <td>False</td>\n",
       "      <td>NaN</td>\n",
       "      <td>Citation</td>\n",
       "      <td>False</td>\n",
       "      <td>0-15 Min</td>\n",
       "      <td>False</td>\n",
       "    </tr>\n",
       "    <tr>\n",
       "      <th>2</th>\n",
       "      <td>2005-01-23</td>\n",
       "      <td>23:15</td>\n",
       "      <td>NaN</td>\n",
       "      <td>M</td>\n",
       "      <td>1972.0</td>\n",
       "      <td>33.0</td>\n",
       "      <td>White</td>\n",
       "      <td>Speeding</td>\n",
       "      <td>Speeding</td>\n",
       "      <td>False</td>\n",
       "      <td>NaN</td>\n",
       "      <td>Citation</td>\n",
       "      <td>False</td>\n",
       "      <td>0-15 Min</td>\n",
       "      <td>False</td>\n",
       "    </tr>\n",
       "    <tr>\n",
       "      <th>3</th>\n",
       "      <td>2005-02-20</td>\n",
       "      <td>17:15</td>\n",
       "      <td>NaN</td>\n",
       "      <td>M</td>\n",
       "      <td>1986.0</td>\n",
       "      <td>19.0</td>\n",
       "      <td>White</td>\n",
       "      <td>Call for Service</td>\n",
       "      <td>Other</td>\n",
       "      <td>False</td>\n",
       "      <td>NaN</td>\n",
       "      <td>Arrest Driver</td>\n",
       "      <td>True</td>\n",
       "      <td>16-30 Min</td>\n",
       "      <td>False</td>\n",
       "    </tr>\n",
       "    <tr>\n",
       "      <th>4</th>\n",
       "      <td>2005-03-14</td>\n",
       "      <td>10:00</td>\n",
       "      <td>NaN</td>\n",
       "      <td>F</td>\n",
       "      <td>1984.0</td>\n",
       "      <td>21.0</td>\n",
       "      <td>White</td>\n",
       "      <td>Speeding</td>\n",
       "      <td>Speeding</td>\n",
       "      <td>False</td>\n",
       "      <td>NaN</td>\n",
       "      <td>Citation</td>\n",
       "      <td>False</td>\n",
       "      <td>0-15 Min</td>\n",
       "      <td>False</td>\n",
       "    </tr>\n",
       "  </tbody>\n",
       "</table>\n",
       "</div>"
      ],
      "text/plain": [
       "    stop_date stop_time  county_name driver_gender  driver_age_raw  \\\n",
       "0  2005-01-02     01:55          NaN             M          1985.0   \n",
       "1  2005-01-18     08:15          NaN             M          1965.0   \n",
       "2  2005-01-23     23:15          NaN             M          1972.0   \n",
       "3  2005-02-20     17:15          NaN             M          1986.0   \n",
       "4  2005-03-14     10:00          NaN             F          1984.0   \n",
       "\n",
       "   driver_age driver_race     violation_raw violation  search_conducted  \\\n",
       "0        20.0       White          Speeding  Speeding             False   \n",
       "1        40.0       White          Speeding  Speeding             False   \n",
       "2        33.0       White          Speeding  Speeding             False   \n",
       "3        19.0       White  Call for Service     Other             False   \n",
       "4        21.0       White          Speeding  Speeding             False   \n",
       "\n",
       "  search_type   stop_outcome is_arrested stop_duration  drugs_related_stop  \n",
       "0         NaN       Citation       False      0-15 Min               False  \n",
       "1         NaN       Citation       False      0-15 Min               False  \n",
       "2         NaN       Citation       False      0-15 Min               False  \n",
       "3         NaN  Arrest Driver        True     16-30 Min               False  \n",
       "4         NaN       Citation       False      0-15 Min               False  "
      ]
     },
     "execution_count": 3,
     "metadata": {},
     "output_type": "execute_result"
    }
   ],
   "source": [
    "df.head()"
   ]
  },
  {
   "cell_type": "code",
   "execution_count": 4,
   "id": "a8aa679a",
   "metadata": {
    "execution": {
     "iopub.execute_input": "2022-04-20T23:53:44.134934Z",
     "iopub.status.busy": "2022-04-20T23:53:44.134103Z",
     "iopub.status.idle": "2022-04-20T23:53:44.255220Z",
     "shell.execute_reply": "2022-04-20T23:53:44.253443Z"
    },
    "papermill": {
     "duration": 0.208779,
     "end_time": "2022-04-20T23:53:44.258067",
     "exception": false,
     "start_time": "2022-04-20T23:53:44.049288",
     "status": "completed"
    },
    "tags": []
   },
   "outputs": [
    {
     "name": "stdout",
     "output_type": "stream",
     "text": [
      "<class 'pandas.core.frame.DataFrame'>\n",
      "RangeIndex: 91741 entries, 0 to 91740\n",
      "Data columns (total 15 columns):\n",
      " #   Column              Non-Null Count  Dtype  \n",
      "---  ------              --------------  -----  \n",
      " 0   stop_date           91741 non-null  object \n",
      " 1   stop_time           91741 non-null  object \n",
      " 2   county_name         0 non-null      float64\n",
      " 3   driver_gender       86406 non-null  object \n",
      " 4   driver_age_raw      86414 non-null  float64\n",
      " 5   driver_age          86120 non-null  float64\n",
      " 6   driver_race         86408 non-null  object \n",
      " 7   violation_raw       86408 non-null  object \n",
      " 8   violation           86408 non-null  object \n",
      " 9   search_conducted    91741 non-null  bool   \n",
      " 10  search_type         3196 non-null   object \n",
      " 11  stop_outcome        86408 non-null  object \n",
      " 12  is_arrested         86408 non-null  object \n",
      " 13  stop_duration       86408 non-null  object \n",
      " 14  drugs_related_stop  91741 non-null  bool   \n",
      "dtypes: bool(2), float64(3), object(10)\n",
      "memory usage: 9.3+ MB\n"
     ]
    }
   ],
   "source": [
    "df.info()"
   ]
  },
  {
   "cell_type": "code",
   "execution_count": 5,
   "id": "63cc556f",
   "metadata": {
    "execution": {
     "iopub.execute_input": "2022-04-20T23:53:44.424735Z",
     "iopub.status.busy": "2022-04-20T23:53:44.424069Z",
     "iopub.status.idle": "2022-04-20T23:53:44.443911Z",
     "shell.execute_reply": "2022-04-20T23:53:44.442914Z"
    },
    "papermill": {
     "duration": 0.105447,
     "end_time": "2022-04-20T23:53:44.446671",
     "exception": false,
     "start_time": "2022-04-20T23:53:44.341224",
     "status": "completed"
    },
    "tags": []
   },
   "outputs": [],
   "source": [
    "df1=df.copy()"
   ]
  },
  {
   "cell_type": "code",
   "execution_count": 6,
   "id": "ff2903f4",
   "metadata": {
    "execution": {
     "iopub.execute_input": "2022-04-20T23:53:44.620979Z",
     "iopub.status.busy": "2022-04-20T23:53:44.620635Z",
     "iopub.status.idle": "2022-04-20T23:53:44.641887Z",
     "shell.execute_reply": "2022-04-20T23:53:44.641118Z"
    },
    "papermill": {
     "duration": 0.114986,
     "end_time": "2022-04-20T23:53:44.645500",
     "exception": false,
     "start_time": "2022-04-20T23:53:44.530514",
     "status": "completed"
    },
    "tags": []
   },
   "outputs": [],
   "source": [
    "df1.drop('county_name',axis=1,inplace=True)"
   ]
  },
  {
   "cell_type": "code",
   "execution_count": 7,
   "id": "710133f5",
   "metadata": {
    "execution": {
     "iopub.execute_input": "2022-04-20T23:53:44.821019Z",
     "iopub.status.busy": "2022-04-20T23:53:44.820656Z",
     "iopub.status.idle": "2022-04-20T23:53:44.927280Z",
     "shell.execute_reply": "2022-04-20T23:53:44.926335Z"
    },
    "papermill": {
     "duration": 0.196457,
     "end_time": "2022-04-20T23:53:44.930229",
     "exception": false,
     "start_time": "2022-04-20T23:53:44.733772",
     "status": "completed"
    },
    "tags": []
   },
   "outputs": [
    {
     "name": "stdout",
     "output_type": "stream",
     "text": [
      "<class 'pandas.core.frame.DataFrame'>\n",
      "RangeIndex: 91741 entries, 0 to 91740\n",
      "Data columns (total 14 columns):\n",
      " #   Column              Non-Null Count  Dtype  \n",
      "---  ------              --------------  -----  \n",
      " 0   stop_date           91741 non-null  object \n",
      " 1   stop_time           91741 non-null  object \n",
      " 2   driver_gender       86406 non-null  object \n",
      " 3   driver_age_raw      86414 non-null  float64\n",
      " 4   driver_age          86120 non-null  float64\n",
      " 5   driver_race         86408 non-null  object \n",
      " 6   violation_raw       86408 non-null  object \n",
      " 7   violation           86408 non-null  object \n",
      " 8   search_conducted    91741 non-null  bool   \n",
      " 9   search_type         3196 non-null   object \n",
      " 10  stop_outcome        86408 non-null  object \n",
      " 11  is_arrested         86408 non-null  object \n",
      " 12  stop_duration       86408 non-null  object \n",
      " 13  drugs_related_stop  91741 non-null  bool   \n",
      "dtypes: bool(2), float64(2), object(10)\n",
      "memory usage: 8.6+ MB\n"
     ]
    }
   ],
   "source": [
    "df1.info()"
   ]
  },
  {
   "cell_type": "code",
   "execution_count": 8,
   "id": "b597b147",
   "metadata": {
    "execution": {
     "iopub.execute_input": "2022-04-20T23:53:45.098773Z",
     "iopub.status.busy": "2022-04-20T23:53:45.098051Z",
     "iopub.status.idle": "2022-04-20T23:53:45.110289Z",
     "shell.execute_reply": "2022-04-20T23:53:45.109527Z"
    },
    "papermill": {
     "duration": 0.10075,
     "end_time": "2022-04-20T23:53:45.112878",
     "exception": false,
     "start_time": "2022-04-20T23:53:45.012128",
     "status": "completed"
    },
    "tags": []
   },
   "outputs": [],
   "source": [
    "df1.drop(df1.iloc[[],[0,1,3,4,5,6,8,9,10,11,12,13]],axis=1,inplace=True)"
   ]
  },
  {
   "cell_type": "code",
   "execution_count": 9,
   "id": "84ba9129",
   "metadata": {
    "execution": {
     "iopub.execute_input": "2022-04-20T23:53:45.281519Z",
     "iopub.status.busy": "2022-04-20T23:53:45.280884Z",
     "iopub.status.idle": "2022-04-20T23:53:45.291526Z",
     "shell.execute_reply": "2022-04-20T23:53:45.290617Z"
    },
    "papermill": {
     "duration": 0.099043,
     "end_time": "2022-04-20T23:53:45.293935",
     "exception": false,
     "start_time": "2022-04-20T23:53:45.194892",
     "status": "completed"
    },
    "tags": []
   },
   "outputs": [
    {
     "data": {
      "text/html": [
       "<div>\n",
       "<style scoped>\n",
       "    .dataframe tbody tr th:only-of-type {\n",
       "        vertical-align: middle;\n",
       "    }\n",
       "\n",
       "    .dataframe tbody tr th {\n",
       "        vertical-align: top;\n",
       "    }\n",
       "\n",
       "    .dataframe thead th {\n",
       "        text-align: right;\n",
       "    }\n",
       "</style>\n",
       "<table border=\"1\" class=\"dataframe\">\n",
       "  <thead>\n",
       "    <tr style=\"text-align: right;\">\n",
       "      <th></th>\n",
       "      <th>driver_gender</th>\n",
       "      <th>violation</th>\n",
       "    </tr>\n",
       "  </thead>\n",
       "  <tbody>\n",
       "    <tr>\n",
       "      <th>0</th>\n",
       "      <td>M</td>\n",
       "      <td>Speeding</td>\n",
       "    </tr>\n",
       "    <tr>\n",
       "      <th>1</th>\n",
       "      <td>M</td>\n",
       "      <td>Speeding</td>\n",
       "    </tr>\n",
       "    <tr>\n",
       "      <th>2</th>\n",
       "      <td>M</td>\n",
       "      <td>Speeding</td>\n",
       "    </tr>\n",
       "    <tr>\n",
       "      <th>3</th>\n",
       "      <td>M</td>\n",
       "      <td>Other</td>\n",
       "    </tr>\n",
       "    <tr>\n",
       "      <th>4</th>\n",
       "      <td>F</td>\n",
       "      <td>Speeding</td>\n",
       "    </tr>\n",
       "  </tbody>\n",
       "</table>\n",
       "</div>"
      ],
      "text/plain": [
       "  driver_gender violation\n",
       "0             M  Speeding\n",
       "1             M  Speeding\n",
       "2             M  Speeding\n",
       "3             M     Other\n",
       "4             F  Speeding"
      ]
     },
     "execution_count": 9,
     "metadata": {},
     "output_type": "execute_result"
    }
   ],
   "source": [
    "df1.head()"
   ]
  },
  {
   "cell_type": "code",
   "execution_count": 10,
   "id": "e28aa1a4",
   "metadata": {
    "execution": {
     "iopub.execute_input": "2022-04-20T23:53:45.462462Z",
     "iopub.status.busy": "2022-04-20T23:53:45.461785Z",
     "iopub.status.idle": "2022-04-20T23:53:45.481139Z",
     "shell.execute_reply": "2022-04-20T23:53:45.480078Z"
    },
    "papermill": {
     "duration": 0.10628,
     "end_time": "2022-04-20T23:53:45.483750",
     "exception": false,
     "start_time": "2022-04-20T23:53:45.377470",
     "status": "completed"
    },
    "tags": []
   },
   "outputs": [],
   "source": [
    "df2=df.copy()"
   ]
  },
  {
   "cell_type": "code",
   "execution_count": 11,
   "id": "f9dca17b",
   "metadata": {
    "execution": {
     "iopub.execute_input": "2022-04-20T23:53:45.656052Z",
     "iopub.status.busy": "2022-04-20T23:53:45.655244Z",
     "iopub.status.idle": "2022-04-20T23:53:45.764908Z",
     "shell.execute_reply": "2022-04-20T23:53:45.763459Z"
    },
    "papermill": {
     "duration": 0.197752,
     "end_time": "2022-04-20T23:53:45.767950",
     "exception": false,
     "start_time": "2022-04-20T23:53:45.570198",
     "status": "completed"
    },
    "tags": []
   },
   "outputs": [
    {
     "name": "stdout",
     "output_type": "stream",
     "text": [
      "<class 'pandas.core.frame.DataFrame'>\n",
      "RangeIndex: 91741 entries, 0 to 91740\n",
      "Data columns (total 15 columns):\n",
      " #   Column              Non-Null Count  Dtype  \n",
      "---  ------              --------------  -----  \n",
      " 0   stop_date           91741 non-null  object \n",
      " 1   stop_time           91741 non-null  object \n",
      " 2   county_name         0 non-null      float64\n",
      " 3   driver_gender       86406 non-null  object \n",
      " 4   driver_age_raw      86414 non-null  float64\n",
      " 5   driver_age          86120 non-null  float64\n",
      " 6   driver_race         86408 non-null  object \n",
      " 7   violation_raw       86408 non-null  object \n",
      " 8   violation           86408 non-null  object \n",
      " 9   search_conducted    91741 non-null  bool   \n",
      " 10  search_type         3196 non-null   object \n",
      " 11  stop_outcome        86408 non-null  object \n",
      " 12  is_arrested         86408 non-null  object \n",
      " 13  stop_duration       86408 non-null  object \n",
      " 14  drugs_related_stop  91741 non-null  bool   \n",
      "dtypes: bool(2), float64(3), object(10)\n",
      "memory usage: 9.3+ MB\n"
     ]
    }
   ],
   "source": [
    "df2.info()"
   ]
  },
  {
   "cell_type": "code",
   "execution_count": 12,
   "id": "e77636dd",
   "metadata": {
    "execution": {
     "iopub.execute_input": "2022-04-20T23:53:45.940157Z",
     "iopub.status.busy": "2022-04-20T23:53:45.939597Z",
     "iopub.status.idle": "2022-04-20T23:53:45.949872Z",
     "shell.execute_reply": "2022-04-20T23:53:45.948920Z"
    },
    "papermill": {
     "duration": 0.099098,
     "end_time": "2022-04-20T23:53:45.952360",
     "exception": false,
     "start_time": "2022-04-20T23:53:45.853262",
     "status": "completed"
    },
    "tags": []
   },
   "outputs": [],
   "source": [
    "df2.drop(df2.iloc[[],[0,1,2,4,5,6,7,8,10,11,12,13,14]],axis=1,inplace=True)"
   ]
  },
  {
   "cell_type": "code",
   "execution_count": 13,
   "id": "f11dd086",
   "metadata": {
    "execution": {
     "iopub.execute_input": "2022-04-20T23:53:46.125498Z",
     "iopub.status.busy": "2022-04-20T23:53:46.124907Z",
     "iopub.status.idle": "2022-04-20T23:53:46.143335Z",
     "shell.execute_reply": "2022-04-20T23:53:46.142563Z"
    },
    "papermill": {
     "duration": 0.106927,
     "end_time": "2022-04-20T23:53:46.145452",
     "exception": false,
     "start_time": "2022-04-20T23:53:46.038525",
     "status": "completed"
    },
    "tags": []
   },
   "outputs": [
    {
     "data": {
      "text/plain": [
       "M    62895\n",
       "F    23511\n",
       "Name: driver_gender, dtype: int64"
      ]
     },
     "execution_count": 13,
     "metadata": {},
     "output_type": "execute_result"
    }
   ],
   "source": [
    "df1.driver_gender.value_counts()"
   ]
  },
  {
   "cell_type": "code",
   "execution_count": 14,
   "id": "a5beed91",
   "metadata": {
    "execution": {
     "iopub.execute_input": "2022-04-20T23:53:46.318654Z",
     "iopub.status.busy": "2022-04-20T23:53:46.318008Z",
     "iopub.status.idle": "2022-04-20T23:53:46.336686Z",
     "shell.execute_reply": "2022-04-20T23:53:46.335956Z"
    },
    "papermill": {
     "duration": 0.105905,
     "end_time": "2022-04-20T23:53:46.338881",
     "exception": false,
     "start_time": "2022-04-20T23:53:46.232976",
     "status": "completed"
    },
    "tags": []
   },
   "outputs": [
    {
     "data": {
      "text/plain": [
       "M    0.727901\n",
       "F    0.272099\n",
       "Name: driver_gender, dtype: float64"
      ]
     },
     "execution_count": 14,
     "metadata": {},
     "output_type": "execute_result"
    }
   ],
   "source": [
    "df1.driver_gender.value_counts(normalize=True)"
   ]
  },
  {
   "cell_type": "code",
   "execution_count": 15,
   "id": "9f987417",
   "metadata": {
    "execution": {
     "iopub.execute_input": "2022-04-20T23:53:46.510021Z",
     "iopub.status.busy": "2022-04-20T23:53:46.509362Z",
     "iopub.status.idle": "2022-04-20T23:53:46.529028Z",
     "shell.execute_reply": "2022-04-20T23:53:46.528275Z"
    },
    "papermill": {
     "duration": 0.10762,
     "end_time": "2022-04-20T23:53:46.531300",
     "exception": false,
     "start_time": "2022-04-20T23:53:46.423680",
     "status": "completed"
    },
    "tags": []
   },
   "outputs": [
    {
     "data": {
      "text/plain": [
       "Speeding               48463\n",
       "Moving violation       16224\n",
       "Equipment              11020\n",
       "Other                   4317\n",
       "Registration/plates     3432\n",
       "Seat belt               2952\n",
       "Name: violation, dtype: int64"
      ]
     },
     "execution_count": 15,
     "metadata": {},
     "output_type": "execute_result"
    }
   ],
   "source": [
    "df1.violation.value_counts()"
   ]
  },
  {
   "cell_type": "code",
   "execution_count": 16,
   "id": "24320bae",
   "metadata": {
    "execution": {
     "iopub.execute_input": "2022-04-20T23:53:46.701604Z",
     "iopub.status.busy": "2022-04-20T23:53:46.700968Z",
     "iopub.status.idle": "2022-04-20T23:53:46.720998Z",
     "shell.execute_reply": "2022-04-20T23:53:46.720307Z"
    },
    "papermill": {
     "duration": 0.107566,
     "end_time": "2022-04-20T23:53:46.723167",
     "exception": false,
     "start_time": "2022-04-20T23:53:46.615601",
     "status": "completed"
    },
    "tags": []
   },
   "outputs": [
    {
     "data": {
      "text/plain": [
       "Speeding               0.560862\n",
       "Moving violation       0.187760\n",
       "Equipment              0.127534\n",
       "Other                  0.049961\n",
       "Registration/plates    0.039719\n",
       "Seat belt              0.034164\n",
       "Name: violation, dtype: float64"
      ]
     },
     "execution_count": 16,
     "metadata": {},
     "output_type": "execute_result"
    }
   ],
   "source": [
    "df1.violation.value_counts(normalize=True)"
   ]
  },
  {
   "cell_type": "code",
   "execution_count": 17,
   "id": "51ee6b12",
   "metadata": {
    "execution": {
     "iopub.execute_input": "2022-04-20T23:53:46.896114Z",
     "iopub.status.busy": "2022-04-20T23:53:46.895499Z",
     "iopub.status.idle": "2022-04-20T23:53:46.926636Z",
     "shell.execute_reply": "2022-04-20T23:53:46.925883Z"
    },
    "papermill": {
     "duration": 0.119295,
     "end_time": "2022-04-20T23:53:46.929311",
     "exception": false,
     "start_time": "2022-04-20T23:53:46.810016",
     "status": "completed"
    },
    "tags": []
   },
   "outputs": [
    {
     "data": {
      "text/plain": [
       "M    32979\n",
       "F    15482\n",
       "Name: driver_gender, dtype: int64"
      ]
     },
     "execution_count": 17,
     "metadata": {},
     "output_type": "execute_result"
    }
   ],
   "source": [
    "df1[df1.violation=='Speeding'].driver_gender.value_counts()"
   ]
  },
  {
   "cell_type": "code",
   "execution_count": 18,
   "id": "968107b2",
   "metadata": {
    "execution": {
     "iopub.execute_input": "2022-04-20T23:53:47.103146Z",
     "iopub.status.busy": "2022-04-20T23:53:47.102774Z",
     "iopub.status.idle": "2022-04-20T23:53:47.135385Z",
     "shell.execute_reply": "2022-04-20T23:53:47.134600Z"
    },
    "papermill": {
     "duration": 0.122976,
     "end_time": "2022-04-20T23:53:47.137635",
     "exception": false,
     "start_time": "2022-04-20T23:53:47.014659",
     "status": "completed"
    },
    "tags": []
   },
   "outputs": [
    {
     "data": {
      "text/plain": [
       "M    0.680527\n",
       "F    0.319473\n",
       "Name: driver_gender, dtype: float64"
      ]
     },
     "execution_count": 18,
     "metadata": {},
     "output_type": "execute_result"
    }
   ],
   "source": [
    "df1[df1.violation=='Speeding'].driver_gender.value_counts(normalize=True)"
   ]
  },
  {
   "cell_type": "code",
   "execution_count": 19,
   "id": "5ad17d96",
   "metadata": {
    "execution": {
     "iopub.execute_input": "2022-04-20T23:53:47.310901Z",
     "iopub.status.busy": "2022-04-20T23:53:47.310234Z",
     "iopub.status.idle": "2022-04-20T23:53:47.342474Z",
     "shell.execute_reply": "2022-04-20T23:53:47.341632Z"
    },
    "papermill": {
     "duration": 0.121327,
     "end_time": "2022-04-20T23:53:47.344572",
     "exception": false,
     "start_time": "2022-04-20T23:53:47.223245",
     "status": "completed"
    },
    "tags": []
   },
   "outputs": [
    {
     "data": {
      "text/plain": [
       "Speeding               32979\n",
       "Moving violation       13020\n",
       "Equipment               8533\n",
       "Other                   3627\n",
       "Registration/plates     2419\n",
       "Seat belt               2317\n",
       "Name: violation, dtype: int64"
      ]
     },
     "execution_count": 19,
     "metadata": {},
     "output_type": "execute_result"
    }
   ],
   "source": [
    "df1[df1.driver_gender=='M'].violation.value_counts()"
   ]
  },
  {
   "cell_type": "code",
   "execution_count": 20,
   "id": "0ea717ba",
   "metadata": {
    "execution": {
     "iopub.execute_input": "2022-04-20T23:53:47.520316Z",
     "iopub.status.busy": "2022-04-20T23:53:47.519647Z",
     "iopub.status.idle": "2022-04-20T23:53:47.554408Z",
     "shell.execute_reply": "2022-04-20T23:53:47.553284Z"
    },
    "papermill": {
     "duration": 0.125155,
     "end_time": "2022-04-20T23:53:47.556880",
     "exception": false,
     "start_time": "2022-04-20T23:53:47.431725",
     "status": "completed"
    },
    "tags": []
   },
   "outputs": [
    {
     "data": {
      "text/plain": [
       "Speeding               0.524350\n",
       "Moving violation       0.207012\n",
       "Equipment              0.135671\n",
       "Other                  0.057668\n",
       "Registration/plates    0.038461\n",
       "Seat belt              0.036839\n",
       "Name: violation, dtype: float64"
      ]
     },
     "execution_count": 20,
     "metadata": {},
     "output_type": "execute_result"
    }
   ],
   "source": [
    "df1[df1.driver_gender=='M'].violation.value_counts(normalize=True)"
   ]
  },
  {
   "cell_type": "code",
   "execution_count": 21,
   "id": "4f8150c3",
   "metadata": {
    "execution": {
     "iopub.execute_input": "2022-04-20T23:53:47.733580Z",
     "iopub.status.busy": "2022-04-20T23:53:47.733212Z",
     "iopub.status.idle": "2022-04-20T23:53:47.761986Z",
     "shell.execute_reply": "2022-04-20T23:53:47.761147Z"
    },
    "papermill": {
     "duration": 0.120753,
     "end_time": "2022-04-20T23:53:47.764541",
     "exception": false,
     "start_time": "2022-04-20T23:53:47.643788",
     "status": "completed"
    },
    "tags": []
   },
   "outputs": [
    {
     "data": {
      "text/plain": [
       "Speeding               15482\n",
       "Moving violation        3204\n",
       "Equipment               2487\n",
       "Registration/plates     1013\n",
       "Other                    690\n",
       "Seat belt                635\n",
       "Name: violation, dtype: int64"
      ]
     },
     "execution_count": 21,
     "metadata": {},
     "output_type": "execute_result"
    }
   ],
   "source": [
    "df1[df1.driver_gender=='F'].violation.value_counts()"
   ]
  },
  {
   "cell_type": "code",
   "execution_count": 22,
   "id": "c8a3af60",
   "metadata": {
    "execution": {
     "iopub.execute_input": "2022-04-20T23:53:47.941389Z",
     "iopub.status.busy": "2022-04-20T23:53:47.940738Z",
     "iopub.status.idle": "2022-04-20T23:53:47.968846Z",
     "shell.execute_reply": "2022-04-20T23:53:47.968018Z"
    },
    "papermill": {
     "duration": 0.118855,
     "end_time": "2022-04-20T23:53:47.971213",
     "exception": false,
     "start_time": "2022-04-20T23:53:47.852358",
     "status": "completed"
    },
    "tags": []
   },
   "outputs": [
    {
     "data": {
      "text/plain": [
       "Speeding               0.658500\n",
       "Moving violation       0.136277\n",
       "Equipment              0.105780\n",
       "Registration/plates    0.043086\n",
       "Other                  0.029348\n",
       "Seat belt              0.027009\n",
       "Name: violation, dtype: float64"
      ]
     },
     "execution_count": 22,
     "metadata": {},
     "output_type": "execute_result"
    }
   ],
   "source": [
    "df1[df1.driver_gender=='F'].violation.value_counts(normalize=True)"
   ]
  },
  {
   "cell_type": "code",
   "execution_count": 23,
   "id": "aefe5b01",
   "metadata": {
    "execution": {
     "iopub.execute_input": "2022-04-20T23:53:48.152866Z",
     "iopub.status.busy": "2022-04-20T23:53:48.152234Z",
     "iopub.status.idle": "2022-04-20T23:53:48.173868Z",
     "shell.execute_reply": "2022-04-20T23:53:48.173052Z"
    },
    "papermill": {
     "duration": 0.116992,
     "end_time": "2022-04-20T23:53:48.176753",
     "exception": false,
     "start_time": "2022-04-20T23:53:48.059761",
     "status": "completed"
    },
    "tags": []
   },
   "outputs": [
    {
     "name": "stdout",
     "output_type": "stream",
     "text": [
      "<class 'pandas.core.frame.DataFrame'>\n",
      "RangeIndex: 91741 entries, 0 to 91740\n",
      "Data columns (total 2 columns):\n",
      " #   Column            Non-Null Count  Dtype \n",
      "---  ------            --------------  ----- \n",
      " 0   driver_gender     86406 non-null  object\n",
      " 1   search_conducted  91741 non-null  bool  \n",
      "dtypes: bool(1), object(1)\n",
      "memory usage: 806.4+ KB\n"
     ]
    }
   ],
   "source": [
    "df2.info()"
   ]
  },
  {
   "cell_type": "code",
   "execution_count": 24,
   "id": "1cded930",
   "metadata": {
    "execution": {
     "iopub.execute_input": "2022-04-20T23:53:48.359258Z",
     "iopub.status.busy": "2022-04-20T23:53:48.358653Z",
     "iopub.status.idle": "2022-04-20T23:53:48.368658Z",
     "shell.execute_reply": "2022-04-20T23:53:48.367821Z"
    },
    "papermill": {
     "duration": 0.104273,
     "end_time": "2022-04-20T23:53:48.370983",
     "exception": false,
     "start_time": "2022-04-20T23:53:48.266710",
     "status": "completed"
    },
    "tags": []
   },
   "outputs": [
    {
     "data": {
      "text/plain": [
       "M    2725\n",
       "F     471\n",
       "Name: driver_gender, dtype: int64"
      ]
     },
     "execution_count": 24,
     "metadata": {},
     "output_type": "execute_result"
    }
   ],
   "source": [
    "df2[df2.search_conducted==True].driver_gender.value_counts()"
   ]
  },
  {
   "cell_type": "code",
   "execution_count": 25,
   "id": "a0a78ebd",
   "metadata": {
    "execution": {
     "iopub.execute_input": "2022-04-20T23:53:48.551568Z",
     "iopub.status.busy": "2022-04-20T23:53:48.550996Z",
     "iopub.status.idle": "2022-04-20T23:53:48.569016Z",
     "shell.execute_reply": "2022-04-20T23:53:48.568294Z"
    },
    "papermill": {
     "duration": 0.110799,
     "end_time": "2022-04-20T23:53:48.571232",
     "exception": false,
     "start_time": "2022-04-20T23:53:48.460433",
     "status": "completed"
    },
    "tags": []
   },
   "outputs": [
    {
     "data": {
      "text/plain": [
       "M    62895\n",
       "F    23511\n",
       "Name: driver_gender, dtype: int64"
      ]
     },
     "execution_count": 25,
     "metadata": {},
     "output_type": "execute_result"
    }
   ],
   "source": [
    "df2.driver_gender.value_counts()"
   ]
  },
  {
   "cell_type": "code",
   "execution_count": 26,
   "id": "090e2bf1",
   "metadata": {
    "execution": {
     "iopub.execute_input": "2022-04-20T23:53:48.754993Z",
     "iopub.status.busy": "2022-04-20T23:53:48.754368Z",
     "iopub.status.idle": "2022-04-20T23:53:48.762770Z",
     "shell.execute_reply": "2022-04-20T23:53:48.762109Z"
    },
    "papermill": {
     "duration": 0.101909,
     "end_time": "2022-04-20T23:53:48.764898",
     "exception": false,
     "start_time": "2022-04-20T23:53:48.662989",
     "status": "completed"
    },
    "tags": []
   },
   "outputs": [
    {
     "data": {
      "text/plain": [
       "False    88545\n",
       "True      3196\n",
       "Name: search_conducted, dtype: int64"
      ]
     },
     "execution_count": 26,
     "metadata": {},
     "output_type": "execute_result"
    }
   ],
   "source": [
    "df2.search_conducted.value_counts()"
   ]
  },
  {
   "cell_type": "code",
   "execution_count": 27,
   "id": "1988e5bb",
   "metadata": {
    "execution": {
     "iopub.execute_input": "2022-04-20T23:53:48.949677Z",
     "iopub.status.busy": "2022-04-20T23:53:48.948672Z",
     "iopub.status.idle": "2022-04-20T23:53:48.960169Z",
     "shell.execute_reply": "2022-04-20T23:53:48.958932Z"
    },
    "papermill": {
     "duration": 0.106362,
     "end_time": "2022-04-20T23:53:48.962914",
     "exception": false,
     "start_time": "2022-04-20T23:53:48.856552",
     "status": "completed"
    },
    "tags": []
   },
   "outputs": [],
   "source": [
    "df2_1=df.copy()"
   ]
  },
  {
   "cell_type": "code",
   "execution_count": 28,
   "id": "a1a47a3e",
   "metadata": {
    "execution": {
     "iopub.execute_input": "2022-04-20T23:53:49.152882Z",
     "iopub.status.busy": "2022-04-20T23:53:49.152527Z",
     "iopub.status.idle": "2022-04-20T23:53:49.258972Z",
     "shell.execute_reply": "2022-04-20T23:53:49.257850Z"
    },
    "papermill": {
     "duration": 0.203446,
     "end_time": "2022-04-20T23:53:49.261598",
     "exception": false,
     "start_time": "2022-04-20T23:53:49.058152",
     "status": "completed"
    },
    "tags": []
   },
   "outputs": [
    {
     "name": "stdout",
     "output_type": "stream",
     "text": [
      "<class 'pandas.core.frame.DataFrame'>\n",
      "RangeIndex: 91741 entries, 0 to 91740\n",
      "Data columns (total 15 columns):\n",
      " #   Column              Non-Null Count  Dtype  \n",
      "---  ------              --------------  -----  \n",
      " 0   stop_date           91741 non-null  object \n",
      " 1   stop_time           91741 non-null  object \n",
      " 2   county_name         0 non-null      float64\n",
      " 3   driver_gender       86406 non-null  object \n",
      " 4   driver_age_raw      86414 non-null  float64\n",
      " 5   driver_age          86120 non-null  float64\n",
      " 6   driver_race         86408 non-null  object \n",
      " 7   violation_raw       86408 non-null  object \n",
      " 8   violation           86408 non-null  object \n",
      " 9   search_conducted    91741 non-null  bool   \n",
      " 10  search_type         3196 non-null   object \n",
      " 11  stop_outcome        86408 non-null  object \n",
      " 12  is_arrested         86408 non-null  object \n",
      " 13  stop_duration       86408 non-null  object \n",
      " 14  drugs_related_stop  91741 non-null  bool   \n",
      "dtypes: bool(2), float64(3), object(10)\n",
      "memory usage: 9.3+ MB\n"
     ]
    }
   ],
   "source": [
    "df2_1.info()"
   ]
  },
  {
   "cell_type": "code",
   "execution_count": 29,
   "id": "6331280a",
   "metadata": {
    "execution": {
     "iopub.execute_input": "2022-04-20T23:53:49.444692Z",
     "iopub.status.busy": "2022-04-20T23:53:49.444336Z",
     "iopub.status.idle": "2022-04-20T23:53:49.455667Z",
     "shell.execute_reply": "2022-04-20T23:53:49.454639Z"
    },
    "papermill": {
     "duration": 0.105588,
     "end_time": "2022-04-20T23:53:49.457754",
     "exception": false,
     "start_time": "2022-04-20T23:53:49.352166",
     "status": "completed"
    },
    "tags": []
   },
   "outputs": [],
   "source": [
    "df2_1.drop(df2_1.iloc[[],[0,1,2,4,5,6,7,10,11,12,13,14]],axis=1,inplace=True)"
   ]
  },
  {
   "cell_type": "code",
   "execution_count": 30,
   "id": "a7a4fc4f",
   "metadata": {
    "execution": {
     "iopub.execute_input": "2022-04-20T23:53:49.643669Z",
     "iopub.status.busy": "2022-04-20T23:53:49.642962Z",
     "iopub.status.idle": "2022-04-20T23:53:49.654103Z",
     "shell.execute_reply": "2022-04-20T23:53:49.653031Z"
    },
    "papermill": {
     "duration": 0.107684,
     "end_time": "2022-04-20T23:53:49.656328",
     "exception": false,
     "start_time": "2022-04-20T23:53:49.548644",
     "status": "completed"
    },
    "tags": []
   },
   "outputs": [
    {
     "data": {
      "text/html": [
       "<div>\n",
       "<style scoped>\n",
       "    .dataframe tbody tr th:only-of-type {\n",
       "        vertical-align: middle;\n",
       "    }\n",
       "\n",
       "    .dataframe tbody tr th {\n",
       "        vertical-align: top;\n",
       "    }\n",
       "\n",
       "    .dataframe thead th {\n",
       "        text-align: right;\n",
       "    }\n",
       "</style>\n",
       "<table border=\"1\" class=\"dataframe\">\n",
       "  <thead>\n",
       "    <tr style=\"text-align: right;\">\n",
       "      <th></th>\n",
       "      <th>driver_gender</th>\n",
       "      <th>violation</th>\n",
       "      <th>search_conducted</th>\n",
       "    </tr>\n",
       "  </thead>\n",
       "  <tbody>\n",
       "    <tr>\n",
       "      <th>0</th>\n",
       "      <td>M</td>\n",
       "      <td>Speeding</td>\n",
       "      <td>False</td>\n",
       "    </tr>\n",
       "    <tr>\n",
       "      <th>1</th>\n",
       "      <td>M</td>\n",
       "      <td>Speeding</td>\n",
       "      <td>False</td>\n",
       "    </tr>\n",
       "    <tr>\n",
       "      <th>2</th>\n",
       "      <td>M</td>\n",
       "      <td>Speeding</td>\n",
       "      <td>False</td>\n",
       "    </tr>\n",
       "    <tr>\n",
       "      <th>3</th>\n",
       "      <td>M</td>\n",
       "      <td>Other</td>\n",
       "      <td>False</td>\n",
       "    </tr>\n",
       "    <tr>\n",
       "      <th>4</th>\n",
       "      <td>F</td>\n",
       "      <td>Speeding</td>\n",
       "      <td>False</td>\n",
       "    </tr>\n",
       "  </tbody>\n",
       "</table>\n",
       "</div>"
      ],
      "text/plain": [
       "  driver_gender violation  search_conducted\n",
       "0             M  Speeding             False\n",
       "1             M  Speeding             False\n",
       "2             M  Speeding             False\n",
       "3             M     Other             False\n",
       "4             F  Speeding             False"
      ]
     },
     "execution_count": 30,
     "metadata": {},
     "output_type": "execute_result"
    }
   ],
   "source": [
    "df2_1.head()"
   ]
  },
  {
   "cell_type": "code",
   "execution_count": 31,
   "id": "25666d72",
   "metadata": {
    "execution": {
     "iopub.execute_input": "2022-04-20T23:53:49.843924Z",
     "iopub.status.busy": "2022-04-20T23:53:49.843243Z",
     "iopub.status.idle": "2022-04-20T23:53:49.890545Z",
     "shell.execute_reply": "2022-04-20T23:53:49.889594Z"
    },
    "papermill": {
     "duration": 0.145805,
     "end_time": "2022-04-20T23:53:49.893318",
     "exception": false,
     "start_time": "2022-04-20T23:53:49.747513",
     "status": "completed"
    },
    "tags": []
   },
   "outputs": [
    {
     "data": {
      "text/plain": [
       "search_conducted  violation            driver_gender\n",
       "False             Equipment            M                 7935\n",
       "                                       F                 2381\n",
       "                  Moving violation     M                12241\n",
       "                                       F                 3088\n",
       "                  Other                M                 3456\n",
       "                                       F                  651\n",
       "                  Registration/plates  M                 2152\n",
       "                                       F                  946\n",
       "                  Seat belt            M                 2229\n",
       "                                       F                  627\n",
       "                  Speeding             M                32157\n",
       "                                       F                15347\n",
       "True              Equipment            M                  598\n",
       "                                       F                  106\n",
       "                  Moving violation     M                  779\n",
       "                                       F                  116\n",
       "                  Other                M                  171\n",
       "                                       F                   39\n",
       "                  Registration/plates  M                  267\n",
       "                                       F                   67\n",
       "                  Seat belt            M                   88\n",
       "                                       F                    8\n",
       "                  Speeding             M                  822\n",
       "                                       F                  135\n",
       "Name: driver_gender, dtype: int64"
      ]
     },
     "execution_count": 31,
     "metadata": {},
     "output_type": "execute_result"
    }
   ],
   "source": [
    "df2_1.groupby(['search_conducted','violation']).driver_gender.value_counts()"
   ]
  },
  {
   "cell_type": "code",
   "execution_count": 32,
   "id": "30e1d53d",
   "metadata": {
    "execution": {
     "iopub.execute_input": "2022-04-20T23:53:50.096499Z",
     "iopub.status.busy": "2022-04-20T23:53:50.095917Z",
     "iopub.status.idle": "2022-04-20T23:53:50.108342Z",
     "shell.execute_reply": "2022-04-20T23:53:50.107414Z"
    },
    "papermill": {
     "duration": 0.122431,
     "end_time": "2022-04-20T23:53:50.110789",
     "exception": false,
     "start_time": "2022-04-20T23:53:49.988358",
     "status": "completed"
    },
    "tags": []
   },
   "outputs": [
    {
     "data": {
      "text/plain": [
       "Speeding               957\n",
       "Moving violation       895\n",
       "Equipment              704\n",
       "Registration/plates    334\n",
       "Other                  210\n",
       "Seat belt               96\n",
       "Name: violation, dtype: int64"
      ]
     },
     "execution_count": 32,
     "metadata": {},
     "output_type": "execute_result"
    }
   ],
   "source": [
    "df2_1[df2_1.search_conducted==True].violation.value_counts()"
   ]
  },
  {
   "cell_type": "code",
   "execution_count": 33,
   "id": "2407eae1",
   "metadata": {
    "execution": {
     "iopub.execute_input": "2022-04-20T23:53:50.316470Z",
     "iopub.status.busy": "2022-04-20T23:53:50.315687Z",
     "iopub.status.idle": "2022-04-20T23:53:50.328276Z",
     "shell.execute_reply": "2022-04-20T23:53:50.327287Z"
    },
    "papermill": {
     "duration": 0.120762,
     "end_time": "2022-04-20T23:53:50.330822",
     "exception": false,
     "start_time": "2022-04-20T23:53:50.210060",
     "status": "completed"
    },
    "tags": []
   },
   "outputs": [
    {
     "data": {
      "text/plain": [
       "Speeding               0.299437\n",
       "Moving violation       0.280038\n",
       "Equipment              0.220275\n",
       "Registration/plates    0.104506\n",
       "Other                  0.065707\n",
       "Seat belt              0.030038\n",
       "Name: violation, dtype: float64"
      ]
     },
     "execution_count": 33,
     "metadata": {},
     "output_type": "execute_result"
    }
   ],
   "source": [
    "df2_1[df2_1.search_conducted==True].violation.value_counts(normalize=True)"
   ]
  },
  {
   "cell_type": "code",
   "execution_count": 34,
   "id": "6ea8cc16",
   "metadata": {
    "execution": {
     "iopub.execute_input": "2022-04-20T23:53:50.534196Z",
     "iopub.status.busy": "2022-04-20T23:53:50.533736Z",
     "iopub.status.idle": "2022-04-20T23:53:50.544391Z",
     "shell.execute_reply": "2022-04-20T23:53:50.543668Z"
    },
    "papermill": {
     "duration": 0.109067,
     "end_time": "2022-04-20T23:53:50.546889",
     "exception": false,
     "start_time": "2022-04-20T23:53:50.437822",
     "status": "completed"
    },
    "tags": []
   },
   "outputs": [],
   "source": [
    "df4=df.copy()"
   ]
  },
  {
   "cell_type": "code",
   "execution_count": 35,
   "id": "857d5b85",
   "metadata": {
    "execution": {
     "iopub.execute_input": "2022-04-20T23:53:50.738202Z",
     "iopub.status.busy": "2022-04-20T23:53:50.737539Z",
     "iopub.status.idle": "2022-04-20T23:53:50.845991Z",
     "shell.execute_reply": "2022-04-20T23:53:50.845025Z"
    },
    "papermill": {
     "duration": 0.206247,
     "end_time": "2022-04-20T23:53:50.849547",
     "exception": false,
     "start_time": "2022-04-20T23:53:50.643300",
     "status": "completed"
    },
    "tags": []
   },
   "outputs": [
    {
     "name": "stdout",
     "output_type": "stream",
     "text": [
      "<class 'pandas.core.frame.DataFrame'>\n",
      "RangeIndex: 91741 entries, 0 to 91740\n",
      "Data columns (total 15 columns):\n",
      " #   Column              Non-Null Count  Dtype  \n",
      "---  ------              --------------  -----  \n",
      " 0   stop_date           91741 non-null  object \n",
      " 1   stop_time           91741 non-null  object \n",
      " 2   county_name         0 non-null      float64\n",
      " 3   driver_gender       86406 non-null  object \n",
      " 4   driver_age_raw      86414 non-null  float64\n",
      " 5   driver_age          86120 non-null  float64\n",
      " 6   driver_race         86408 non-null  object \n",
      " 7   violation_raw       86408 non-null  object \n",
      " 8   violation           86408 non-null  object \n",
      " 9   search_conducted    91741 non-null  bool   \n",
      " 10  search_type         3196 non-null   object \n",
      " 11  stop_outcome        86408 non-null  object \n",
      " 12  is_arrested         86408 non-null  object \n",
      " 13  stop_duration       86408 non-null  object \n",
      " 14  drugs_related_stop  91741 non-null  bool   \n",
      "dtypes: bool(2), float64(3), object(10)\n",
      "memory usage: 9.3+ MB\n"
     ]
    }
   ],
   "source": [
    "df4.info()"
   ]
  },
  {
   "cell_type": "code",
   "execution_count": 36,
   "id": "3bdfa37d",
   "metadata": {
    "execution": {
     "iopub.execute_input": "2022-04-20T23:53:51.044363Z",
     "iopub.status.busy": "2022-04-20T23:53:51.043643Z",
     "iopub.status.idle": "2022-04-20T23:53:51.054852Z",
     "shell.execute_reply": "2022-04-20T23:53:51.053961Z"
    },
    "papermill": {
     "duration": 0.107757,
     "end_time": "2022-04-20T23:53:51.057462",
     "exception": false,
     "start_time": "2022-04-20T23:53:50.949705",
     "status": "completed"
    },
    "tags": []
   },
   "outputs": [],
   "source": [
    "df4.drop(df4.iloc[[],[0,1,2,4,5,6,7,10,11,12,13,14]],axis=1,inplace=True)"
   ]
  },
  {
   "cell_type": "code",
   "execution_count": 37,
   "id": "6f65a7a6",
   "metadata": {
    "execution": {
     "iopub.execute_input": "2022-04-20T23:53:51.241220Z",
     "iopub.status.busy": "2022-04-20T23:53:51.240534Z",
     "iopub.status.idle": "2022-04-20T23:53:51.252044Z",
     "shell.execute_reply": "2022-04-20T23:53:51.251130Z"
    },
    "papermill": {
     "duration": 0.106052,
     "end_time": "2022-04-20T23:53:51.254317",
     "exception": false,
     "start_time": "2022-04-20T23:53:51.148265",
     "status": "completed"
    },
    "tags": []
   },
   "outputs": [
    {
     "data": {
      "text/html": [
       "<div>\n",
       "<style scoped>\n",
       "    .dataframe tbody tr th:only-of-type {\n",
       "        vertical-align: middle;\n",
       "    }\n",
       "\n",
       "    .dataframe tbody tr th {\n",
       "        vertical-align: top;\n",
       "    }\n",
       "\n",
       "    .dataframe thead th {\n",
       "        text-align: right;\n",
       "    }\n",
       "</style>\n",
       "<table border=\"1\" class=\"dataframe\">\n",
       "  <thead>\n",
       "    <tr style=\"text-align: right;\">\n",
       "      <th></th>\n",
       "      <th>driver_gender</th>\n",
       "      <th>violation</th>\n",
       "      <th>search_conducted</th>\n",
       "    </tr>\n",
       "  </thead>\n",
       "  <tbody>\n",
       "    <tr>\n",
       "      <th>0</th>\n",
       "      <td>M</td>\n",
       "      <td>Speeding</td>\n",
       "      <td>False</td>\n",
       "    </tr>\n",
       "    <tr>\n",
       "      <th>1</th>\n",
       "      <td>M</td>\n",
       "      <td>Speeding</td>\n",
       "      <td>False</td>\n",
       "    </tr>\n",
       "    <tr>\n",
       "      <th>2</th>\n",
       "      <td>M</td>\n",
       "      <td>Speeding</td>\n",
       "      <td>False</td>\n",
       "    </tr>\n",
       "    <tr>\n",
       "      <th>3</th>\n",
       "      <td>M</td>\n",
       "      <td>Other</td>\n",
       "      <td>False</td>\n",
       "    </tr>\n",
       "    <tr>\n",
       "      <th>4</th>\n",
       "      <td>F</td>\n",
       "      <td>Speeding</td>\n",
       "      <td>False</td>\n",
       "    </tr>\n",
       "  </tbody>\n",
       "</table>\n",
       "</div>"
      ],
      "text/plain": [
       "  driver_gender violation  search_conducted\n",
       "0             M  Speeding             False\n",
       "1             M  Speeding             False\n",
       "2             M  Speeding             False\n",
       "3             M     Other             False\n",
       "4             F  Speeding             False"
      ]
     },
     "execution_count": 37,
     "metadata": {},
     "output_type": "execute_result"
    }
   ],
   "source": [
    "df4.head()"
   ]
  },
  {
   "cell_type": "code",
   "execution_count": 38,
   "id": "242e47bd",
   "metadata": {
    "execution": {
     "iopub.execute_input": "2022-04-20T23:53:51.440206Z",
     "iopub.status.busy": "2022-04-20T23:53:51.439613Z",
     "iopub.status.idle": "2022-04-20T23:53:51.483356Z",
     "shell.execute_reply": "2022-04-20T23:53:51.482382Z"
    },
    "papermill": {
     "duration": 0.139328,
     "end_time": "2022-04-20T23:53:51.485961",
     "exception": false,
     "start_time": "2022-04-20T23:53:51.346633",
     "status": "completed"
    },
    "tags": []
   },
   "outputs": [
    {
     "data": {
      "text/plain": [
       "search_conducted  violation            driver_gender\n",
       "False             Equipment            M                 7935\n",
       "                                       F                 2381\n",
       "                  Moving violation     M                12241\n",
       "                                       F                 3088\n",
       "                  Other                M                 3456\n",
       "                                       F                  651\n",
       "                  Registration/plates  M                 2152\n",
       "                                       F                  946\n",
       "                  Seat belt            M                 2229\n",
       "                                       F                  627\n",
       "                  Speeding             M                32157\n",
       "                                       F                15347\n",
       "True              Equipment            M                  598\n",
       "                                       F                  106\n",
       "                  Moving violation     M                  779\n",
       "                                       F                  116\n",
       "                  Other                M                  171\n",
       "                                       F                   39\n",
       "                  Registration/plates  M                  267\n",
       "                                       F                   67\n",
       "                  Seat belt            M                   88\n",
       "                                       F                    8\n",
       "                  Speeding             M                  822\n",
       "                                       F                  135\n",
       "Name: driver_gender, dtype: int64"
      ]
     },
     "execution_count": 38,
     "metadata": {},
     "output_type": "execute_result"
    }
   ],
   "source": [
    "df4.groupby(['search_conducted','violation']).driver_gender.value_counts()"
   ]
  },
  {
   "cell_type": "code",
   "execution_count": 39,
   "id": "e5b53e52",
   "metadata": {
    "execution": {
     "iopub.execute_input": "2022-04-20T23:53:51.694527Z",
     "iopub.status.busy": "2022-04-20T23:53:51.693610Z",
     "iopub.status.idle": "2022-04-20T23:53:51.707067Z",
     "shell.execute_reply": "2022-04-20T23:53:51.705320Z"
    },
    "papermill": {
     "duration": 0.130493,
     "end_time": "2022-04-20T23:53:51.710169",
     "exception": false,
     "start_time": "2022-04-20T23:53:51.579676",
     "status": "completed"
    },
    "tags": []
   },
   "outputs": [],
   "source": [
    "df3=df.copy()"
   ]
  },
  {
   "cell_type": "code",
   "execution_count": 40,
   "id": "6291958d",
   "metadata": {
    "execution": {
     "iopub.execute_input": "2022-04-20T23:53:51.898918Z",
     "iopub.status.busy": "2022-04-20T23:53:51.898421Z",
     "iopub.status.idle": "2022-04-20T23:53:52.005479Z",
     "shell.execute_reply": "2022-04-20T23:53:52.004380Z"
    },
    "papermill": {
     "duration": 0.205294,
     "end_time": "2022-04-20T23:53:52.007955",
     "exception": false,
     "start_time": "2022-04-20T23:53:51.802661",
     "status": "completed"
    },
    "tags": []
   },
   "outputs": [
    {
     "name": "stdout",
     "output_type": "stream",
     "text": [
      "<class 'pandas.core.frame.DataFrame'>\n",
      "RangeIndex: 91741 entries, 0 to 91740\n",
      "Data columns (total 15 columns):\n",
      " #   Column              Non-Null Count  Dtype  \n",
      "---  ------              --------------  -----  \n",
      " 0   stop_date           91741 non-null  object \n",
      " 1   stop_time           91741 non-null  object \n",
      " 2   county_name         0 non-null      float64\n",
      " 3   driver_gender       86406 non-null  object \n",
      " 4   driver_age_raw      86414 non-null  float64\n",
      " 5   driver_age          86120 non-null  float64\n",
      " 6   driver_race         86408 non-null  object \n",
      " 7   violation_raw       86408 non-null  object \n",
      " 8   violation           86408 non-null  object \n",
      " 9   search_conducted    91741 non-null  bool   \n",
      " 10  search_type         3196 non-null   object \n",
      " 11  stop_outcome        86408 non-null  object \n",
      " 12  is_arrested         86408 non-null  object \n",
      " 13  stop_duration       86408 non-null  object \n",
      " 14  drugs_related_stop  91741 non-null  bool   \n",
      "dtypes: bool(2), float64(3), object(10)\n",
      "memory usage: 9.3+ MB\n"
     ]
    }
   ],
   "source": [
    "df3.info()"
   ]
  },
  {
   "cell_type": "code",
   "execution_count": 41,
   "id": "45d19d58",
   "metadata": {
    "execution": {
     "iopub.execute_input": "2022-04-20T23:53:52.198757Z",
     "iopub.status.busy": "2022-04-20T23:53:52.197662Z",
     "iopub.status.idle": "2022-04-20T23:53:52.208235Z",
     "shell.execute_reply": "2022-04-20T23:53:52.207364Z"
    },
    "papermill": {
     "duration": 0.109281,
     "end_time": "2022-04-20T23:53:52.210679",
     "exception": false,
     "start_time": "2022-04-20T23:53:52.101398",
     "status": "completed"
    },
    "tags": []
   },
   "outputs": [],
   "source": [
    "df3.drop(df3.iloc[[],[0,1,2,3,4,5,6,7,8,11,12,13,14]],axis=1,inplace=True)"
   ]
  },
  {
   "cell_type": "code",
   "execution_count": 42,
   "id": "da490f9b",
   "metadata": {
    "execution": {
     "iopub.execute_input": "2022-04-20T23:53:52.399169Z",
     "iopub.status.busy": "2022-04-20T23:53:52.398514Z",
     "iopub.status.idle": "2022-04-20T23:53:52.408570Z",
     "shell.execute_reply": "2022-04-20T23:53:52.407752Z"
    },
    "papermill": {
     "duration": 0.107416,
     "end_time": "2022-04-20T23:53:52.410952",
     "exception": false,
     "start_time": "2022-04-20T23:53:52.303536",
     "status": "completed"
    },
    "tags": []
   },
   "outputs": [
    {
     "data": {
      "text/html": [
       "<div>\n",
       "<style scoped>\n",
       "    .dataframe tbody tr th:only-of-type {\n",
       "        vertical-align: middle;\n",
       "    }\n",
       "\n",
       "    .dataframe tbody tr th {\n",
       "        vertical-align: top;\n",
       "    }\n",
       "\n",
       "    .dataframe thead th {\n",
       "        text-align: right;\n",
       "    }\n",
       "</style>\n",
       "<table border=\"1\" class=\"dataframe\">\n",
       "  <thead>\n",
       "    <tr style=\"text-align: right;\">\n",
       "      <th></th>\n",
       "      <th>search_conducted</th>\n",
       "      <th>search_type</th>\n",
       "    </tr>\n",
       "  </thead>\n",
       "  <tbody>\n",
       "    <tr>\n",
       "      <th>0</th>\n",
       "      <td>False</td>\n",
       "      <td>NaN</td>\n",
       "    </tr>\n",
       "    <tr>\n",
       "      <th>1</th>\n",
       "      <td>False</td>\n",
       "      <td>NaN</td>\n",
       "    </tr>\n",
       "    <tr>\n",
       "      <th>2</th>\n",
       "      <td>False</td>\n",
       "      <td>NaN</td>\n",
       "    </tr>\n",
       "    <tr>\n",
       "      <th>3</th>\n",
       "      <td>False</td>\n",
       "      <td>NaN</td>\n",
       "    </tr>\n",
       "    <tr>\n",
       "      <th>4</th>\n",
       "      <td>False</td>\n",
       "      <td>NaN</td>\n",
       "    </tr>\n",
       "  </tbody>\n",
       "</table>\n",
       "</div>"
      ],
      "text/plain": [
       "   search_conducted search_type\n",
       "0             False         NaN\n",
       "1             False         NaN\n",
       "2             False         NaN\n",
       "3             False         NaN\n",
       "4             False         NaN"
      ]
     },
     "execution_count": 42,
     "metadata": {},
     "output_type": "execute_result"
    }
   ],
   "source": [
    "df3.head()"
   ]
  },
  {
   "cell_type": "code",
   "execution_count": 43,
   "id": "4dd8ff97",
   "metadata": {
    "execution": {
     "iopub.execute_input": "2022-04-20T23:53:52.599993Z",
     "iopub.status.busy": "2022-04-20T23:53:52.599390Z",
     "iopub.status.idle": "2022-04-20T23:53:52.611454Z",
     "shell.execute_reply": "2022-04-20T23:53:52.610510Z"
    },
    "papermill": {
     "duration": 0.109412,
     "end_time": "2022-04-20T23:53:52.613742",
     "exception": false,
     "start_time": "2022-04-20T23:53:52.504330",
     "status": "completed"
    },
    "tags": []
   },
   "outputs": [
    {
     "data": {
      "text/plain": [
       "Incident to Arrest                                          1219\n",
       "Probable Cause                                               891\n",
       "Inventory                                                    220\n",
       "Reasonable Suspicion                                         197\n",
       "Protective Frisk                                             161\n",
       "Incident to Arrest,Inventory                                 129\n",
       "Incident to Arrest,Probable Cause                            106\n",
       "Probable Cause,Reasonable Suspicion                           75\n",
       "Incident to Arrest,Inventory,Probable Cause                   34\n",
       "Incident to Arrest,Protective Frisk                           33\n",
       "Probable Cause,Protective Frisk                               33\n",
       "Inventory,Probable Cause                                      22\n",
       "Incident to Arrest,Reasonable Suspicion                       13\n",
       "Inventory,Protective Frisk                                    11\n",
       "Incident to Arrest,Inventory,Protective Frisk                 11\n",
       "Protective Frisk,Reasonable Suspicion                         11\n",
       "Incident to Arrest,Probable Cause,Protective Frisk            10\n",
       "Incident to Arrest,Probable Cause,Reasonable Suspicion         6\n",
       "Incident to Arrest,Inventory,Reasonable Suspicion              4\n",
       "Inventory,Reasonable Suspicion                                 4\n",
       "Inventory,Probable Cause,Protective Frisk                      2\n",
       "Inventory,Probable Cause,Reasonable Suspicion                  2\n",
       "Incident to Arrest,Protective Frisk,Reasonable Suspicion       1\n",
       "Probable Cause,Protective Frisk,Reasonable Suspicion           1\n",
       "Name: search_type, dtype: int64"
      ]
     },
     "execution_count": 43,
     "metadata": {},
     "output_type": "execute_result"
    }
   ],
   "source": [
    "df3.search_type.value_counts()"
   ]
  },
  {
   "cell_type": "code",
   "execution_count": 44,
   "id": "37f912e2",
   "metadata": {
    "execution": {
     "iopub.execute_input": "2022-04-20T23:53:52.804798Z",
     "iopub.status.busy": "2022-04-20T23:53:52.804133Z",
     "iopub.status.idle": "2022-04-20T23:53:52.818295Z",
     "shell.execute_reply": "2022-04-20T23:53:52.817333Z"
    },
    "papermill": {
     "duration": 0.113022,
     "end_time": "2022-04-20T23:53:52.820695",
     "exception": false,
     "start_time": "2022-04-20T23:53:52.707673",
     "status": "completed"
    },
    "tags": []
   },
   "outputs": [
    {
     "data": {
      "text/plain": [
       "True    161\n",
       "Name: search_conducted, dtype: int64"
      ]
     },
     "execution_count": 44,
     "metadata": {},
     "output_type": "execute_result"
    }
   ],
   "source": [
    "df3[df3.search_type =='Protective Frisk'].search_conducted.value_counts()"
   ]
  },
  {
   "cell_type": "code",
   "execution_count": 45,
   "id": "4eebd9e3",
   "metadata": {
    "execution": {
     "iopub.execute_input": "2022-04-20T23:53:53.011041Z",
     "iopub.status.busy": "2022-04-20T23:53:53.010477Z",
     "iopub.status.idle": "2022-04-20T23:53:53.023492Z",
     "shell.execute_reply": "2022-04-20T23:53:53.022867Z"
    },
    "papermill": {
     "duration": 0.111593,
     "end_time": "2022-04-20T23:53:53.025779",
     "exception": false,
     "start_time": "2022-04-20T23:53:52.914186",
     "status": "completed"
    },
    "tags": []
   },
   "outputs": [
    {
     "data": {
      "text/html": [
       "<div>\n",
       "<style scoped>\n",
       "    .dataframe tbody tr th:only-of-type {\n",
       "        vertical-align: middle;\n",
       "    }\n",
       "\n",
       "    .dataframe tbody tr th {\n",
       "        vertical-align: top;\n",
       "    }\n",
       "\n",
       "    .dataframe thead th {\n",
       "        text-align: right;\n",
       "    }\n",
       "</style>\n",
       "<table border=\"1\" class=\"dataframe\">\n",
       "  <thead>\n",
       "    <tr style=\"text-align: right;\">\n",
       "      <th></th>\n",
       "      <th>search_conducted</th>\n",
       "      <th>search_type</th>\n",
       "    </tr>\n",
       "  </thead>\n",
       "  <tbody>\n",
       "    <tr>\n",
       "      <th>0</th>\n",
       "      <td>False</td>\n",
       "      <td>NaN</td>\n",
       "    </tr>\n",
       "    <tr>\n",
       "      <th>1</th>\n",
       "      <td>False</td>\n",
       "      <td>NaN</td>\n",
       "    </tr>\n",
       "    <tr>\n",
       "      <th>2</th>\n",
       "      <td>False</td>\n",
       "      <td>NaN</td>\n",
       "    </tr>\n",
       "    <tr>\n",
       "      <th>3</th>\n",
       "      <td>False</td>\n",
       "      <td>NaN</td>\n",
       "    </tr>\n",
       "    <tr>\n",
       "      <th>4</th>\n",
       "      <td>False</td>\n",
       "      <td>NaN</td>\n",
       "    </tr>\n",
       "    <tr>\n",
       "      <th>...</th>\n",
       "      <td>...</td>\n",
       "      <td>...</td>\n",
       "    </tr>\n",
       "    <tr>\n",
       "      <th>91736</th>\n",
       "      <td>False</td>\n",
       "      <td>NaN</td>\n",
       "    </tr>\n",
       "    <tr>\n",
       "      <th>91737</th>\n",
       "      <td>False</td>\n",
       "      <td>NaN</td>\n",
       "    </tr>\n",
       "    <tr>\n",
       "      <th>91738</th>\n",
       "      <td>False</td>\n",
       "      <td>NaN</td>\n",
       "    </tr>\n",
       "    <tr>\n",
       "      <th>91739</th>\n",
       "      <td>False</td>\n",
       "      <td>NaN</td>\n",
       "    </tr>\n",
       "    <tr>\n",
       "      <th>91740</th>\n",
       "      <td>False</td>\n",
       "      <td>NaN</td>\n",
       "    </tr>\n",
       "  </tbody>\n",
       "</table>\n",
       "<p>91741 rows × 2 columns</p>\n",
       "</div>"
      ],
      "text/plain": [
       "       search_conducted search_type\n",
       "0                 False         NaN\n",
       "1                 False         NaN\n",
       "2                 False         NaN\n",
       "3                 False         NaN\n",
       "4                 False         NaN\n",
       "...                 ...         ...\n",
       "91736             False         NaN\n",
       "91737             False         NaN\n",
       "91738             False         NaN\n",
       "91739             False         NaN\n",
       "91740             False         NaN\n",
       "\n",
       "[91741 rows x 2 columns]"
      ]
     },
     "execution_count": 45,
     "metadata": {},
     "output_type": "execute_result"
    }
   ],
   "source": [
    "df3"
   ]
  },
  {
   "cell_type": "code",
   "execution_count": 46,
   "id": "e1cd3450",
   "metadata": {
    "execution": {
     "iopub.execute_input": "2022-04-20T23:53:53.218410Z",
     "iopub.status.busy": "2022-04-20T23:53:53.217587Z",
     "iopub.status.idle": "2022-04-20T23:53:53.227418Z",
     "shell.execute_reply": "2022-04-20T23:53:53.226463Z"
    },
    "papermill": {
     "duration": 0.108841,
     "end_time": "2022-04-20T23:53:53.230323",
     "exception": false,
     "start_time": "2022-04-20T23:53:53.121482",
     "status": "completed"
    },
    "tags": []
   },
   "outputs": [],
   "source": [
    "df5=df.copy()"
   ]
  },
  {
   "cell_type": "code",
   "execution_count": 47,
   "id": "037fc945",
   "metadata": {
    "execution": {
     "iopub.execute_input": "2022-04-20T23:53:53.423734Z",
     "iopub.status.busy": "2022-04-20T23:53:53.422679Z",
     "iopub.status.idle": "2022-04-20T23:53:53.530022Z",
     "shell.execute_reply": "2022-04-20T23:53:53.528973Z"
    },
    "papermill": {
     "duration": 0.208533,
     "end_time": "2022-04-20T23:53:53.534194",
     "exception": false,
     "start_time": "2022-04-20T23:53:53.325661",
     "status": "completed"
    },
    "tags": []
   },
   "outputs": [
    {
     "name": "stdout",
     "output_type": "stream",
     "text": [
      "<class 'pandas.core.frame.DataFrame'>\n",
      "RangeIndex: 91741 entries, 0 to 91740\n",
      "Data columns (total 15 columns):\n",
      " #   Column              Non-Null Count  Dtype  \n",
      "---  ------              --------------  -----  \n",
      " 0   stop_date           91741 non-null  object \n",
      " 1   stop_time           91741 non-null  object \n",
      " 2   county_name         0 non-null      float64\n",
      " 3   driver_gender       86406 non-null  object \n",
      " 4   driver_age_raw      86414 non-null  float64\n",
      " 5   driver_age          86120 non-null  float64\n",
      " 6   driver_race         86408 non-null  object \n",
      " 7   violation_raw       86408 non-null  object \n",
      " 8   violation           86408 non-null  object \n",
      " 9   search_conducted    91741 non-null  bool   \n",
      " 10  search_type         3196 non-null   object \n",
      " 11  stop_outcome        86408 non-null  object \n",
      " 12  is_arrested         86408 non-null  object \n",
      " 13  stop_duration       86408 non-null  object \n",
      " 14  drugs_related_stop  91741 non-null  bool   \n",
      "dtypes: bool(2), float64(3), object(10)\n",
      "memory usage: 9.3+ MB\n"
     ]
    }
   ],
   "source": [
    "df5.info()"
   ]
  },
  {
   "cell_type": "code",
   "execution_count": 48,
   "id": "fc6fb1f5",
   "metadata": {
    "execution": {
     "iopub.execute_input": "2022-04-20T23:53:53.727935Z",
     "iopub.status.busy": "2022-04-20T23:53:53.727321Z",
     "iopub.status.idle": "2022-04-20T23:53:53.737138Z",
     "shell.execute_reply": "2022-04-20T23:53:53.736294Z"
    },
    "papermill": {
     "duration": 0.108611,
     "end_time": "2022-04-20T23:53:53.739702",
     "exception": false,
     "start_time": "2022-04-20T23:53:53.631091",
     "status": "completed"
    },
    "tags": []
   },
   "outputs": [],
   "source": [
    "df6=df.search_type.dropna()"
   ]
  },
  {
   "cell_type": "code",
   "execution_count": 49,
   "id": "f382834e",
   "metadata": {
    "execution": {
     "iopub.execute_input": "2022-04-20T23:53:53.935981Z",
     "iopub.status.busy": "2022-04-20T23:53:53.935239Z",
     "iopub.status.idle": "2022-04-20T23:53:53.943444Z",
     "shell.execute_reply": "2022-04-20T23:53:53.942363Z"
    },
    "papermill": {
     "duration": 0.109921,
     "end_time": "2022-04-20T23:53:53.945949",
     "exception": false,
     "start_time": "2022-04-20T23:53:53.836028",
     "status": "completed"
    },
    "tags": []
   },
   "outputs": [
    {
     "data": {
      "text/plain": [
       "24       Incident to Arrest,Protective Frisk\n",
       "40                            Probable Cause\n",
       "41                            Probable Cause\n",
       "80                        Incident to Arrest\n",
       "106                           Probable Cause\n",
       "                        ...                 \n",
       "91494                     Incident to Arrest\n",
       "91548                     Incident to Arrest\n",
       "91672                     Incident to Arrest\n",
       "91700    Probable Cause,Reasonable Suspicion\n",
       "91708                     Incident to Arrest\n",
       "Name: search_type, Length: 3196, dtype: object"
      ]
     },
     "execution_count": 49,
     "metadata": {},
     "output_type": "execute_result"
    }
   ],
   "source": [
    "df6"
   ]
  },
  {
   "cell_type": "code",
   "execution_count": 50,
   "id": "6cc03ff1",
   "metadata": {
    "execution": {
     "iopub.execute_input": "2022-04-20T23:53:54.147540Z",
     "iopub.status.busy": "2022-04-20T23:53:54.147166Z",
     "iopub.status.idle": "2022-04-20T23:53:54.151885Z",
     "shell.execute_reply": "2022-04-20T23:53:54.150726Z"
    },
    "papermill": {
     "duration": 0.108249,
     "end_time": "2022-04-20T23:53:54.154429",
     "exception": false,
     "start_time": "2022-04-20T23:53:54.046180",
     "status": "completed"
    },
    "tags": []
   },
   "outputs": [],
   "source": [
    "x = df6.tolist()"
   ]
  },
  {
   "cell_type": "code",
   "execution_count": 51,
   "id": "ab8464c1",
   "metadata": {
    "execution": {
     "iopub.execute_input": "2022-04-20T23:53:54.350328Z",
     "iopub.status.busy": "2022-04-20T23:53:54.349960Z",
     "iopub.status.idle": "2022-04-20T23:53:54.356865Z",
     "shell.execute_reply": "2022-04-20T23:53:54.355702Z"
    },
    "papermill": {
     "duration": 0.108356,
     "end_time": "2022-04-20T23:53:54.359242",
     "exception": false,
     "start_time": "2022-04-20T23:53:54.250886",
     "status": "completed"
    },
    "tags": []
   },
   "outputs": [],
   "source": [
    "a=[]\n",
    "c = 0\n",
    "for i in x:\n",
    "    b = i.split(',')\n",
    "    if \"Protective Frisk\" in b:\n",
    "        a.append(b)\n",
    "        c = c+1"
   ]
  },
  {
   "cell_type": "code",
   "execution_count": 52,
   "id": "4147d28d",
   "metadata": {
    "execution": {
     "iopub.execute_input": "2022-04-20T23:53:54.555516Z",
     "iopub.status.busy": "2022-04-20T23:53:54.554613Z",
     "iopub.status.idle": "2022-04-20T23:53:54.562987Z",
     "shell.execute_reply": "2022-04-20T23:53:54.562262Z"
    },
    "papermill": {
     "duration": 0.108952,
     "end_time": "2022-04-20T23:53:54.565322",
     "exception": false,
     "start_time": "2022-04-20T23:53:54.456370",
     "status": "completed"
    },
    "tags": []
   },
   "outputs": [
    {
     "data": {
      "text/plain": [
       "274"
      ]
     },
     "execution_count": 52,
     "metadata": {},
     "output_type": "execute_result"
    }
   ],
   "source": [
    "c"
   ]
  },
  {
   "cell_type": "code",
   "execution_count": 53,
   "id": "2dcfd45a",
   "metadata": {
    "execution": {
     "iopub.execute_input": "2022-04-20T23:53:54.761229Z",
     "iopub.status.busy": "2022-04-20T23:53:54.760556Z",
     "iopub.status.idle": "2022-04-20T23:53:54.768850Z",
     "shell.execute_reply": "2022-04-20T23:53:54.768122Z"
    },
    "papermill": {
     "duration": 0.108128,
     "end_time": "2022-04-20T23:53:54.771198",
     "exception": false,
     "start_time": "2022-04-20T23:53:54.663070",
     "status": "completed"
    },
    "tags": []
   },
   "outputs": [
    {
     "data": {
      "text/plain": [
       "0        NaN\n",
       "1        NaN\n",
       "2        NaN\n",
       "3        NaN\n",
       "4        NaN\n",
       "        ... \n",
       "91736    NaN\n",
       "91737    NaN\n",
       "91738    NaN\n",
       "91739    NaN\n",
       "91740    NaN\n",
       "Name: search_type, Length: 91741, dtype: object"
      ]
     },
     "execution_count": 53,
     "metadata": {},
     "output_type": "execute_result"
    }
   ],
   "source": [
    "df5.search_type"
   ]
  },
  {
   "cell_type": "code",
   "execution_count": 54,
   "id": "061e9ec0",
   "metadata": {
    "execution": {
     "iopub.execute_input": "2022-04-20T23:53:54.966797Z",
     "iopub.status.busy": "2022-04-20T23:53:54.966433Z",
     "iopub.status.idle": "2022-04-20T23:53:54.972288Z",
     "shell.execute_reply": "2022-04-20T23:53:54.971206Z"
    },
    "papermill": {
     "duration": 0.107136,
     "end_time": "2022-04-20T23:53:54.974681",
     "exception": false,
     "start_time": "2022-04-20T23:53:54.867545",
     "status": "completed"
    },
    "tags": []
   },
   "outputs": [],
   "source": [
    "df7=df5.search_type.tolist()"
   ]
  },
  {
   "cell_type": "code",
   "execution_count": 55,
   "id": "b4765909",
   "metadata": {
    "execution": {
     "iopub.execute_input": "2022-04-20T23:53:55.173807Z",
     "iopub.status.busy": "2022-04-20T23:53:55.173443Z",
     "iopub.status.idle": "2022-04-20T23:53:55.254565Z",
     "shell.execute_reply": "2022-04-20T23:53:55.253463Z"
    },
    "papermill": {
     "duration": 0.184134,
     "end_time": "2022-04-20T23:53:55.257198",
     "exception": false,
     "start_time": "2022-04-20T23:53:55.073064",
     "status": "completed"
    },
    "tags": []
   },
   "outputs": [],
   "source": [
    "z = []\n",
    "\n",
    "for i in df7:\n",
    "    i = str(i)\n",
    "    b = i.split(',')\n",
    "    for j in b:\n",
    "        if j not in z:\n",
    "            z.append(j)"
   ]
  },
  {
   "cell_type": "code",
   "execution_count": 56,
   "id": "ff619852",
   "metadata": {
    "execution": {
     "iopub.execute_input": "2022-04-20T23:53:55.452384Z",
     "iopub.status.busy": "2022-04-20T23:53:55.451639Z",
     "iopub.status.idle": "2022-04-20T23:53:55.457479Z",
     "shell.execute_reply": "2022-04-20T23:53:55.456810Z"
    },
    "papermill": {
     "duration": 0.106928,
     "end_time": "2022-04-20T23:53:55.459952",
     "exception": false,
     "start_time": "2022-04-20T23:53:55.353024",
     "status": "completed"
    },
    "tags": []
   },
   "outputs": [
    {
     "data": {
      "text/plain": [
       "['nan',\n",
       " 'Incident to Arrest',\n",
       " 'Protective Frisk',\n",
       " 'Probable Cause',\n",
       " 'Reasonable Suspicion',\n",
       " 'Inventory']"
      ]
     },
     "execution_count": 56,
     "metadata": {},
     "output_type": "execute_result"
    }
   ],
   "source": [
    "z"
   ]
  },
  {
   "cell_type": "code",
   "execution_count": 57,
   "id": "4d7babd4",
   "metadata": {
    "execution": {
     "iopub.execute_input": "2022-04-20T23:53:55.655427Z",
     "iopub.status.busy": "2022-04-20T23:53:55.654709Z",
     "iopub.status.idle": "2022-04-20T23:53:56.028214Z",
     "shell.execute_reply": "2022-04-20T23:53:56.026913Z"
    },
    "papermill": {
     "duration": 0.474914,
     "end_time": "2022-04-20T23:53:56.030991",
     "exception": false,
     "start_time": "2022-04-20T23:53:55.556077",
     "status": "completed"
    },
    "tags": []
   },
   "outputs": [],
   "source": [
    "c = {'Incident to Arrest':[],\n",
    " 'Protective Frisk':[],\n",
    " 'Probable Cause':[],\n",
    " 'Reasonable Suspicion':[],\n",
    " 'Inventory':[]}\n",
    "for i in c:\n",
    "    for j in df7:\n",
    "        j=str(j)\n",
    "        j = j.split(',')\n",
    "        if i in j:\n",
    "            c[i].append(1)\n",
    "        else:\n",
    "            c[i].append(0)\n",
    "#print(c)"
   ]
  },
  {
   "cell_type": "code",
   "execution_count": 58,
   "id": "88a7ec2b",
   "metadata": {
    "execution": {
     "iopub.execute_input": "2022-04-20T23:53:56.233761Z",
     "iopub.status.busy": "2022-04-20T23:53:56.233004Z",
     "iopub.status.idle": "2022-04-20T23:53:56.430773Z",
     "shell.execute_reply": "2022-04-20T23:53:56.429340Z"
    },
    "papermill": {
     "duration": 0.302404,
     "end_time": "2022-04-20T23:53:56.433490",
     "exception": false,
     "start_time": "2022-04-20T23:53:56.131086",
     "status": "completed"
    },
    "tags": []
   },
   "outputs": [],
   "source": [
    "df8 = pd.DataFrame(c)\n",
    "df8.rename(columns={\"Incident to Arrest\": \"Incident_to_Arrest\", \"Protective Frisk\": \"Protective_Frisk\", \"Probable Cause\": \"Probable_Cause\", \"Reasonable Suspicion\": \"Reasonable_Suspicion\"},inplace=True)"
   ]
  },
  {
   "cell_type": "code",
   "execution_count": 59,
   "id": "1d3a01e0",
   "metadata": {
    "execution": {
     "iopub.execute_input": "2022-04-20T23:53:56.636705Z",
     "iopub.status.busy": "2022-04-20T23:53:56.635827Z",
     "iopub.status.idle": "2022-04-20T23:53:56.644892Z",
     "shell.execute_reply": "2022-04-20T23:53:56.644147Z"
    },
    "papermill": {
     "duration": 0.112752,
     "end_time": "2022-04-20T23:53:56.646901",
     "exception": false,
     "start_time": "2022-04-20T23:53:56.534149",
     "status": "completed"
    },
    "tags": []
   },
   "outputs": [
    {
     "data": {
      "text/plain": [
       "Incident_to_Arrest      1566\n",
       "Protective_Frisk         274\n",
       "Probable_Cause          1182\n",
       "Reasonable_Suspicion     314\n",
       "Inventory                439\n",
       "dtype: int64"
      ]
     },
     "execution_count": 59,
     "metadata": {},
     "output_type": "execute_result"
    }
   ],
   "source": [
    "df8.sum()"
   ]
  },
  {
   "cell_type": "code",
   "execution_count": 60,
   "id": "679c871c",
   "metadata": {
    "execution": {
     "iopub.execute_input": "2022-04-20T23:53:56.846651Z",
     "iopub.status.busy": "2022-04-20T23:53:56.845722Z",
     "iopub.status.idle": "2022-04-20T23:53:57.290771Z",
     "shell.execute_reply": "2022-04-20T23:53:57.289999Z"
    },
    "papermill": {
     "duration": 0.546915,
     "end_time": "2022-04-20T23:53:57.293234",
     "exception": false,
     "start_time": "2022-04-20T23:53:56.746319",
     "status": "completed"
    },
    "tags": []
   },
   "outputs": [
    {
     "data": {
      "text/plain": [
       "<AxesSubplot:>"
      ]
     },
     "execution_count": 60,
     "metadata": {},
     "output_type": "execute_result"
    },
    {
     "data": {
      "image/png": "[encoded data removed]",
      "text/plain": [
       "<Figure size 432x288 with 1 Axes>"
      ]
     },
     "metadata": {
      "needs_background": "light"
     },
     "output_type": "display_data"
    }
   ],
   "source": [
    "df8.sum().plot(kind = \"bar\")"
   ]
  },
  {
   "cell_type": "code",
   "execution_count": 61,
   "id": "7ac8c30f",
   "metadata": {
    "execution": {
     "iopub.execute_input": "2022-04-20T23:53:57.499038Z",
     "iopub.status.busy": "2022-04-20T23:53:57.498382Z",
     "iopub.status.idle": "2022-04-20T23:53:57.512495Z",
     "shell.execute_reply": "2022-04-20T23:53:57.511743Z"
    },
    "papermill": {
     "duration": 0.116818,
     "end_time": "2022-04-20T23:53:57.515210",
     "exception": false,
     "start_time": "2022-04-20T23:53:57.398392",
     "status": "completed"
    },
    "tags": []
   },
   "outputs": [
    {
     "name": "stdout",
     "output_type": "stream",
     "text": [
      "<class 'pandas.core.frame.DataFrame'>\n",
      "RangeIndex: 91741 entries, 0 to 91740\n",
      "Data columns (total 5 columns):\n",
      " #   Column                Non-Null Count  Dtype\n",
      "---  ------                --------------  -----\n",
      " 0   Incident_to_Arrest    91741 non-null  int64\n",
      " 1   Protective_Frisk      91741 non-null  int64\n",
      " 2   Probable_Cause        91741 non-null  int64\n",
      " 3   Reasonable_Suspicion  91741 non-null  int64\n",
      " 4   Inventory             91741 non-null  int64\n",
      "dtypes: int64(5)\n",
      "memory usage: 3.5 MB\n"
     ]
    }
   ],
   "source": [
    "df8.info()"
   ]
  },
  {
   "cell_type": "code",
   "execution_count": 62,
   "id": "2489794b",
   "metadata": {
    "execution": {
     "iopub.execute_input": "2022-04-20T23:53:57.719635Z",
     "iopub.status.busy": "2022-04-20T23:53:57.718997Z",
     "iopub.status.idle": "2022-04-20T23:53:57.755473Z",
     "shell.execute_reply": "2022-04-20T23:53:57.754612Z"
    },
    "papermill": {
     "duration": 0.140741,
     "end_time": "2022-04-20T23:53:57.758055",
     "exception": false,
     "start_time": "2022-04-20T23:53:57.617314",
     "status": "completed"
    },
    "tags": []
   },
   "outputs": [],
   "source": [
    "df_created = pd.concat([df5,df8],axis=1)"
   ]
  },
  {
   "cell_type": "code",
   "execution_count": 63,
   "id": "3aedca14",
   "metadata": {
    "execution": {
     "iopub.execute_input": "2022-04-20T23:53:57.964632Z",
     "iopub.status.busy": "2022-04-20T23:53:57.963978Z",
     "iopub.status.idle": "2022-04-20T23:53:58.032297Z",
     "shell.execute_reply": "2022-04-20T23:53:58.031266Z"
    },
    "papermill": {
     "duration": 0.175989,
     "end_time": "2022-04-20T23:53:58.035160",
     "exception": false,
     "start_time": "2022-04-20T23:53:57.859171",
     "status": "completed"
    },
    "tags": []
   },
   "outputs": [],
   "source": [
    "df_cr_=df_created.copy()"
   ]
  },
  {
   "cell_type": "code",
   "execution_count": 64,
   "id": "d7ecb1ba",
   "metadata": {
    "execution": {
     "iopub.execute_input": "2022-04-20T23:53:58.236699Z",
     "iopub.status.busy": "2022-04-20T23:53:58.236310Z",
     "iopub.status.idle": "2022-04-20T23:53:58.342989Z",
     "shell.execute_reply": "2022-04-20T23:53:58.342053Z"
    },
    "papermill": {
     "duration": 0.209523,
     "end_time": "2022-04-20T23:53:58.345411",
     "exception": false,
     "start_time": "2022-04-20T23:53:58.135888",
     "status": "completed"
    },
    "tags": []
   },
   "outputs": [
    {
     "name": "stdout",
     "output_type": "stream",
     "text": [
      "<class 'pandas.core.frame.DataFrame'>\n",
      "RangeIndex: 91741 entries, 0 to 91740\n",
      "Data columns (total 20 columns):\n",
      " #   Column                Non-Null Count  Dtype  \n",
      "---  ------                --------------  -----  \n",
      " 0   stop_date             91741 non-null  object \n",
      " 1   stop_time             91741 non-null  object \n",
      " 2   county_name           0 non-null      float64\n",
      " 3   driver_gender         86406 non-null  object \n",
      " 4   driver_age_raw        86414 non-null  float64\n",
      " 5   driver_age            86120 non-null  float64\n",
      " 6   driver_race           86408 non-null  object \n",
      " 7   violation_raw         86408 non-null  object \n",
      " 8   violation             86408 non-null  object \n",
      " 9   search_conducted      91741 non-null  bool   \n",
      " 10  search_type           3196 non-null   object \n",
      " 11  stop_outcome          86408 non-null  object \n",
      " 12  is_arrested           86408 non-null  object \n",
      " 13  stop_duration         86408 non-null  object \n",
      " 14  drugs_related_stop    91741 non-null  bool   \n",
      " 15  Incident_to_Arrest    91741 non-null  int64  \n",
      " 16  Protective_Frisk      91741 non-null  int64  \n",
      " 17  Probable_Cause        91741 non-null  int64  \n",
      " 18  Reasonable_Suspicion  91741 non-null  int64  \n",
      " 19  Inventory             91741 non-null  int64  \n",
      "dtypes: bool(2), float64(3), int64(5), object(10)\n",
      "memory usage: 12.8+ MB\n"
     ]
    }
   ],
   "source": [
    "df_cr_.info()"
   ]
  },
  {
   "cell_type": "code",
   "execution_count": 65,
   "id": "82ed036d",
   "metadata": {
    "execution": {
     "iopub.execute_input": "2022-04-20T23:53:58.547621Z",
     "iopub.status.busy": "2022-04-20T23:53:58.547245Z",
     "iopub.status.idle": "2022-04-20T23:53:58.559792Z",
     "shell.execute_reply": "2022-04-20T23:53:58.558666Z"
    },
    "papermill": {
     "duration": 0.117478,
     "end_time": "2022-04-20T23:53:58.562380",
     "exception": false,
     "start_time": "2022-04-20T23:53:58.444902",
     "status": "completed"
    },
    "tags": []
   },
   "outputs": [],
   "source": [
    "df_cr_.drop(df_cr_.iloc[[],[0,1,2,3,4,5,6,7,8,10,11,12,13,14,15,17,18,19]],axis=1,inplace=True)"
   ]
  },
  {
   "cell_type": "code",
   "execution_count": 66,
   "id": "670e9e6e",
   "metadata": {
    "execution": {
     "iopub.execute_input": "2022-04-20T23:53:58.770711Z",
     "iopub.status.busy": "2022-04-20T23:53:58.769436Z",
     "iopub.status.idle": "2022-04-20T23:53:58.779937Z",
     "shell.execute_reply": "2022-04-20T23:53:58.779141Z"
    },
    "papermill": {
     "duration": 0.113727,
     "end_time": "2022-04-20T23:53:58.782406",
     "exception": false,
     "start_time": "2022-04-20T23:53:58.668679",
     "status": "completed"
    },
    "tags": []
   },
   "outputs": [
    {
     "data": {
      "text/html": [
       "<div>\n",
       "<style scoped>\n",
       "    .dataframe tbody tr th:only-of-type {\n",
       "        vertical-align: middle;\n",
       "    }\n",
       "\n",
       "    .dataframe tbody tr th {\n",
       "        vertical-align: top;\n",
       "    }\n",
       "\n",
       "    .dataframe thead th {\n",
       "        text-align: right;\n",
       "    }\n",
       "</style>\n",
       "<table border=\"1\" class=\"dataframe\">\n",
       "  <thead>\n",
       "    <tr style=\"text-align: right;\">\n",
       "      <th></th>\n",
       "      <th>search_conducted</th>\n",
       "      <th>Protective_Frisk</th>\n",
       "    </tr>\n",
       "  </thead>\n",
       "  <tbody>\n",
       "    <tr>\n",
       "      <th>0</th>\n",
       "      <td>False</td>\n",
       "      <td>0</td>\n",
       "    </tr>\n",
       "    <tr>\n",
       "      <th>1</th>\n",
       "      <td>False</td>\n",
       "      <td>0</td>\n",
       "    </tr>\n",
       "    <tr>\n",
       "      <th>2</th>\n",
       "      <td>False</td>\n",
       "      <td>0</td>\n",
       "    </tr>\n",
       "    <tr>\n",
       "      <th>3</th>\n",
       "      <td>False</td>\n",
       "      <td>0</td>\n",
       "    </tr>\n",
       "    <tr>\n",
       "      <th>4</th>\n",
       "      <td>False</td>\n",
       "      <td>0</td>\n",
       "    </tr>\n",
       "  </tbody>\n",
       "</table>\n",
       "</div>"
      ],
      "text/plain": [
       "   search_conducted  Protective_Frisk\n",
       "0             False                 0\n",
       "1             False                 0\n",
       "2             False                 0\n",
       "3             False                 0\n",
       "4             False                 0"
      ]
     },
     "execution_count": 66,
     "metadata": {},
     "output_type": "execute_result"
    }
   ],
   "source": [
    "df_cr_.head()"
   ]
  },
  {
   "cell_type": "code",
   "execution_count": 67,
   "id": "5b801a30",
   "metadata": {
    "execution": {
     "iopub.execute_input": "2022-04-20T23:53:58.985152Z",
     "iopub.status.busy": "2022-04-20T23:53:58.984561Z",
     "iopub.status.idle": "2022-04-20T23:53:58.992849Z",
     "shell.execute_reply": "2022-04-20T23:53:58.992056Z"
    },
    "papermill": {
     "duration": 0.112193,
     "end_time": "2022-04-20T23:53:58.995168",
     "exception": false,
     "start_time": "2022-04-20T23:53:58.882975",
     "status": "completed"
    },
    "tags": []
   },
   "outputs": [
    {
     "data": {
      "text/plain": [
       "False    88545\n",
       "True      3196\n",
       "Name: search_conducted, dtype: int64"
      ]
     },
     "execution_count": 67,
     "metadata": {},
     "output_type": "execute_result"
    }
   ],
   "source": [
    "df_cr_.search_conducted.value_counts()"
   ]
  },
  {
   "cell_type": "code",
   "execution_count": 68,
   "id": "3fbd202f",
   "metadata": {
    "execution": {
     "iopub.execute_input": "2022-04-20T23:53:59.203581Z",
     "iopub.status.busy": "2022-04-20T23:53:59.203213Z",
     "iopub.status.idle": "2022-04-20T23:53:59.217596Z",
     "shell.execute_reply": "2022-04-20T23:53:59.216236Z"
    },
    "papermill": {
     "duration": 0.122719,
     "end_time": "2022-04-20T23:53:59.220307",
     "exception": false,
     "start_time": "2022-04-20T23:53:59.097588",
     "status": "completed"
    },
    "tags": []
   },
   "outputs": [
    {
     "name": "stdout",
     "output_type": "stream",
     "text": [
      "<class 'pandas.core.frame.DataFrame'>\n",
      "RangeIndex: 91741 entries, 0 to 91740\n",
      "Data columns (total 2 columns):\n",
      " #   Column            Non-Null Count  Dtype\n",
      "---  ------            --------------  -----\n",
      " 0   search_conducted  91741 non-null  bool \n",
      " 1   Protective_Frisk  91741 non-null  int64\n",
      "dtypes: bool(1), int64(1)\n",
      "memory usage: 806.4 KB\n"
     ]
    }
   ],
   "source": [
    "df_cr_.info()"
   ]
  },
  {
   "cell_type": "code",
   "execution_count": 69,
   "id": "e6b488c2",
   "metadata": {
    "execution": {
     "iopub.execute_input": "2022-04-20T23:53:59.424395Z",
     "iopub.status.busy": "2022-04-20T23:53:59.424021Z",
     "iopub.status.idle": "2022-04-20T23:53:59.432972Z",
     "shell.execute_reply": "2022-04-20T23:53:59.432272Z"
    },
    "papermill": {
     "duration": 0.113132,
     "end_time": "2022-04-20T23:53:59.434812",
     "exception": false,
     "start_time": "2022-04-20T23:53:59.321680",
     "status": "completed"
    },
    "tags": []
   },
   "outputs": [
    {
     "data": {
      "text/plain": [
       "0    91467\n",
       "1      274\n",
       "Name: Protective_Frisk, dtype: int64"
      ]
     },
     "execution_count": 69,
     "metadata": {},
     "output_type": "execute_result"
    }
   ],
   "source": [
    "df_cr_.Protective_Frisk.value_counts()"
   ]
  },
  {
   "cell_type": "code",
   "execution_count": 70,
   "id": "fdaa9113",
   "metadata": {
    "execution": {
     "iopub.execute_input": "2022-04-20T23:53:59.638739Z",
     "iopub.status.busy": "2022-04-20T23:53:59.638067Z",
     "iopub.status.idle": "2022-04-20T23:53:59.648568Z",
     "shell.execute_reply": "2022-04-20T23:53:59.647687Z"
    },
    "papermill": {
     "duration": 0.11572,
     "end_time": "2022-04-20T23:53:59.650702",
     "exception": false,
     "start_time": "2022-04-20T23:53:59.534982",
     "status": "completed"
    },
    "tags": []
   },
   "outputs": [
    {
     "data": {
      "text/plain": [
       "0    2922\n",
       "1     274\n",
       "Name: Protective_Frisk, dtype: int64"
      ]
     },
     "execution_count": 70,
     "metadata": {},
     "output_type": "execute_result"
    }
   ],
   "source": [
    "df_cr_[df_cr_.search_conducted==True].Protective_Frisk.value_counts()"
   ]
  },
  {
   "cell_type": "code",
   "execution_count": 71,
   "id": "8bcb7d6d",
   "metadata": {
    "execution": {
     "iopub.execute_input": "2022-04-20T23:53:59.855079Z",
     "iopub.status.busy": "2022-04-20T23:53:59.854445Z",
     "iopub.status.idle": "2022-04-20T23:53:59.863912Z",
     "shell.execute_reply": "2022-04-20T23:53:59.862942Z"
    },
    "papermill": {
     "duration": 0.1148,
     "end_time": "2022-04-20T23:53:59.866182",
     "exception": false,
     "start_time": "2022-04-20T23:53:59.751382",
     "status": "completed"
    },
    "tags": []
   },
   "outputs": [
    {
     "data": {
      "text/plain": [
       "True    274\n",
       "Name: search_conducted, dtype: int64"
      ]
     },
     "execution_count": 71,
     "metadata": {},
     "output_type": "execute_result"
    }
   ],
   "source": [
    "df_cr_[df_cr_.Protective_Frisk==1].search_conducted.value_counts()"
   ]
  },
  {
   "cell_type": "code",
   "execution_count": 72,
   "id": "41592694",
   "metadata": {
    "execution": {
     "iopub.execute_input": "2022-04-20T23:54:00.076235Z",
     "iopub.status.busy": "2022-04-20T23:54:00.075568Z",
     "iopub.status.idle": "2022-04-20T23:54:00.085215Z",
     "shell.execute_reply": "2022-04-20T23:54:00.084479Z"
    },
    "papermill": {
     "duration": 0.118539,
     "end_time": "2022-04-20T23:54:00.087773",
     "exception": false,
     "start_time": "2022-04-20T23:53:59.969234",
     "status": "completed"
    },
    "tags": []
   },
   "outputs": [],
   "source": [
    "df_yr = df.copy()"
   ]
  },
  {
   "cell_type": "code",
   "execution_count": 73,
   "id": "eb094d92",
   "metadata": {
    "execution": {
     "iopub.execute_input": "2022-04-20T23:54:00.295172Z",
     "iopub.status.busy": "2022-04-20T23:54:00.294763Z",
     "iopub.status.idle": "2022-04-20T23:54:00.401337Z",
     "shell.execute_reply": "2022-04-20T23:54:00.400509Z"
    },
    "papermill": {
     "duration": 0.212671,
     "end_time": "2022-04-20T23:54:00.403715",
     "exception": false,
     "start_time": "2022-04-20T23:54:00.191044",
     "status": "completed"
    },
    "tags": []
   },
   "outputs": [
    {
     "name": "stdout",
     "output_type": "stream",
     "text": [
      "<class 'pandas.core.frame.DataFrame'>\n",
      "RangeIndex: 91741 entries, 0 to 91740\n",
      "Data columns (total 15 columns):\n",
      " #   Column              Non-Null Count  Dtype  \n",
      "---  ------              --------------  -----  \n",
      " 0   stop_date           91741 non-null  object \n",
      " 1   stop_time           91741 non-null  object \n",
      " 2   county_name         0 non-null      float64\n",
      " 3   driver_gender       86406 non-null  object \n",
      " 4   driver_age_raw      86414 non-null  float64\n",
      " 5   driver_age          86120 non-null  float64\n",
      " 6   driver_race         86408 non-null  object \n",
      " 7   violation_raw       86408 non-null  object \n",
      " 8   violation           86408 non-null  object \n",
      " 9   search_conducted    91741 non-null  bool   \n",
      " 10  search_type         3196 non-null   object \n",
      " 11  stop_outcome        86408 non-null  object \n",
      " 12  is_arrested         86408 non-null  object \n",
      " 13  stop_duration       86408 non-null  object \n",
      " 14  drugs_related_stop  91741 non-null  bool   \n",
      "dtypes: bool(2), float64(3), object(10)\n",
      "memory usage: 9.3+ MB\n"
     ]
    }
   ],
   "source": [
    "df_yr.info()"
   ]
  },
  {
   "cell_type": "code",
   "execution_count": 74,
   "id": "f4017ca1",
   "metadata": {
    "execution": {
     "iopub.execute_input": "2022-04-20T23:54:00.610015Z",
     "iopub.status.busy": "2022-04-20T23:54:00.609632Z",
     "iopub.status.idle": "2022-04-20T23:54:00.632355Z",
     "shell.execute_reply": "2022-04-20T23:54:00.631547Z"
    },
    "papermill": {
     "duration": 0.128348,
     "end_time": "2022-04-20T23:54:00.634862",
     "exception": false,
     "start_time": "2022-04-20T23:54:00.506514",
     "status": "completed"
    },
    "tags": []
   },
   "outputs": [
    {
     "data": {
      "text/plain": [
       "2012-01-11    69\n",
       "2012-02-28    65\n",
       "2007-05-16    62\n",
       "2012-01-02    61\n",
       "2007-01-10    60\n",
       "              ..\n",
       "2015-01-27     1\n",
       "2005-12-25     1\n",
       "2005-01-18     1\n",
       "2010-12-25     1\n",
       "2005-01-02     1\n",
       "Name: stop_date, Length: 3768, dtype: int64"
      ]
     },
     "execution_count": 74,
     "metadata": {},
     "output_type": "execute_result"
    }
   ],
   "source": [
    "df_yr.stop_date.value_counts()"
   ]
  },
  {
   "cell_type": "code",
   "execution_count": 75,
   "id": "4514c3da",
   "metadata": {
    "execution": {
     "iopub.execute_input": "2022-04-20T23:54:00.846700Z",
     "iopub.status.busy": "2022-04-20T23:54:00.846036Z",
     "iopub.status.idle": "2022-04-20T23:54:00.866234Z",
     "shell.execute_reply": "2022-04-20T23:54:00.865480Z"
    },
    "papermill": {
     "duration": 0.129575,
     "end_time": "2022-04-20T23:54:00.868665",
     "exception": false,
     "start_time": "2022-04-20T23:54:00.739090",
     "status": "completed"
    },
    "tags": []
   },
   "outputs": [
    {
     "data": {
      "text/html": [
       "<div>\n",
       "<style scoped>\n",
       "    .dataframe tbody tr th:only-of-type {\n",
       "        vertical-align: middle;\n",
       "    }\n",
       "\n",
       "    .dataframe tbody tr th {\n",
       "        vertical-align: top;\n",
       "    }\n",
       "\n",
       "    .dataframe thead th {\n",
       "        text-align: right;\n",
       "    }\n",
       "</style>\n",
       "<table border=\"1\" class=\"dataframe\">\n",
       "  <thead>\n",
       "    <tr style=\"text-align: right;\">\n",
       "      <th></th>\n",
       "      <th>stop_date</th>\n",
       "      <th>stop_time</th>\n",
       "      <th>county_name</th>\n",
       "      <th>driver_gender</th>\n",
       "      <th>driver_age_raw</th>\n",
       "      <th>driver_age</th>\n",
       "      <th>driver_race</th>\n",
       "      <th>violation_raw</th>\n",
       "      <th>violation</th>\n",
       "      <th>search_conducted</th>\n",
       "      <th>search_type</th>\n",
       "      <th>stop_outcome</th>\n",
       "      <th>is_arrested</th>\n",
       "      <th>stop_duration</th>\n",
       "      <th>drugs_related_stop</th>\n",
       "    </tr>\n",
       "  </thead>\n",
       "  <tbody>\n",
       "    <tr>\n",
       "      <th>0</th>\n",
       "      <td>2005-01-02</td>\n",
       "      <td>01:55</td>\n",
       "      <td>NaN</td>\n",
       "      <td>M</td>\n",
       "      <td>1985.0</td>\n",
       "      <td>20.0</td>\n",
       "      <td>White</td>\n",
       "      <td>Speeding</td>\n",
       "      <td>Speeding</td>\n",
       "      <td>False</td>\n",
       "      <td>NaN</td>\n",
       "      <td>Citation</td>\n",
       "      <td>False</td>\n",
       "      <td>0-15 Min</td>\n",
       "      <td>False</td>\n",
       "    </tr>\n",
       "    <tr>\n",
       "      <th>1</th>\n",
       "      <td>2005-01-18</td>\n",
       "      <td>08:15</td>\n",
       "      <td>NaN</td>\n",
       "      <td>M</td>\n",
       "      <td>1965.0</td>\n",
       "      <td>40.0</td>\n",
       "      <td>White</td>\n",
       "      <td>Speeding</td>\n",
       "      <td>Speeding</td>\n",
       "      <td>False</td>\n",
       "      <td>NaN</td>\n",
       "      <td>Citation</td>\n",
       "      <td>False</td>\n",
       "      <td>0-15 Min</td>\n",
       "      <td>False</td>\n",
       "    </tr>\n",
       "    <tr>\n",
       "      <th>2</th>\n",
       "      <td>2005-01-23</td>\n",
       "      <td>23:15</td>\n",
       "      <td>NaN</td>\n",
       "      <td>M</td>\n",
       "      <td>1972.0</td>\n",
       "      <td>33.0</td>\n",
       "      <td>White</td>\n",
       "      <td>Speeding</td>\n",
       "      <td>Speeding</td>\n",
       "      <td>False</td>\n",
       "      <td>NaN</td>\n",
       "      <td>Citation</td>\n",
       "      <td>False</td>\n",
       "      <td>0-15 Min</td>\n",
       "      <td>False</td>\n",
       "    </tr>\n",
       "    <tr>\n",
       "      <th>3</th>\n",
       "      <td>2005-02-20</td>\n",
       "      <td>17:15</td>\n",
       "      <td>NaN</td>\n",
       "      <td>M</td>\n",
       "      <td>1986.0</td>\n",
       "      <td>19.0</td>\n",
       "      <td>White</td>\n",
       "      <td>Call for Service</td>\n",
       "      <td>Other</td>\n",
       "      <td>False</td>\n",
       "      <td>NaN</td>\n",
       "      <td>Arrest Driver</td>\n",
       "      <td>True</td>\n",
       "      <td>16-30 Min</td>\n",
       "      <td>False</td>\n",
       "    </tr>\n",
       "    <tr>\n",
       "      <th>4</th>\n",
       "      <td>2005-03-14</td>\n",
       "      <td>10:00</td>\n",
       "      <td>NaN</td>\n",
       "      <td>F</td>\n",
       "      <td>1984.0</td>\n",
       "      <td>21.0</td>\n",
       "      <td>White</td>\n",
       "      <td>Speeding</td>\n",
       "      <td>Speeding</td>\n",
       "      <td>False</td>\n",
       "      <td>NaN</td>\n",
       "      <td>Citation</td>\n",
       "      <td>False</td>\n",
       "      <td>0-15 Min</td>\n",
       "      <td>False</td>\n",
       "    </tr>\n",
       "  </tbody>\n",
       "</table>\n",
       "</div>"
      ],
      "text/plain": [
       "    stop_date stop_time  county_name driver_gender  driver_age_raw  \\\n",
       "0  2005-01-02     01:55          NaN             M          1985.0   \n",
       "1  2005-01-18     08:15          NaN             M          1965.0   \n",
       "2  2005-01-23     23:15          NaN             M          1972.0   \n",
       "3  2005-02-20     17:15          NaN             M          1986.0   \n",
       "4  2005-03-14     10:00          NaN             F          1984.0   \n",
       "\n",
       "   driver_age driver_race     violation_raw violation  search_conducted  \\\n",
       "0        20.0       White          Speeding  Speeding             False   \n",
       "1        40.0       White          Speeding  Speeding             False   \n",
       "2        33.0       White          Speeding  Speeding             False   \n",
       "3        19.0       White  Call for Service     Other             False   \n",
       "4        21.0       White          Speeding  Speeding             False   \n",
       "\n",
       "  search_type   stop_outcome is_arrested stop_duration  drugs_related_stop  \n",
       "0         NaN       Citation       False      0-15 Min               False  \n",
       "1         NaN       Citation       False      0-15 Min               False  \n",
       "2         NaN       Citation       False      0-15 Min               False  \n",
       "3         NaN  Arrest Driver        True     16-30 Min               False  \n",
       "4         NaN       Citation       False      0-15 Min               False  "
      ]
     },
     "execution_count": 75,
     "metadata": {},
     "output_type": "execute_result"
    }
   ],
   "source": [
    "df_yr.head()"
   ]
  },
  {
   "cell_type": "code",
   "execution_count": 76,
   "id": "3bc4dc3c",
   "metadata": {
    "execution": {
     "iopub.execute_input": "2022-04-20T23:54:01.081920Z",
     "iopub.status.busy": "2022-04-20T23:54:01.081234Z",
     "iopub.status.idle": "2022-04-20T23:54:01.114203Z",
     "shell.execute_reply": "2022-04-20T23:54:01.113396Z"
    },
    "papermill": {
     "duration": 0.143229,
     "end_time": "2022-04-20T23:54:01.116783",
     "exception": false,
     "start_time": "2022-04-20T23:54:00.973554",
     "status": "completed"
    },
    "tags": []
   },
   "outputs": [],
   "source": [
    "df_yr['stop_date']=pd.to_datetime(df_yr.stop_date)"
   ]
  },
  {
   "cell_type": "code",
   "execution_count": 77,
   "id": "b59bc2cb",
   "metadata": {
    "execution": {
     "iopub.execute_input": "2022-04-20T23:54:01.329939Z",
     "iopub.status.busy": "2022-04-20T23:54:01.329197Z",
     "iopub.status.idle": "2022-04-20T23:54:01.425691Z",
     "shell.execute_reply": "2022-04-20T23:54:01.424628Z"
    },
    "papermill": {
     "duration": 0.20624,
     "end_time": "2022-04-20T23:54:01.428320",
     "exception": false,
     "start_time": "2022-04-20T23:54:01.222080",
     "status": "completed"
    },
    "tags": []
   },
   "outputs": [
    {
     "name": "stdout",
     "output_type": "stream",
     "text": [
      "<class 'pandas.core.frame.DataFrame'>\n",
      "RangeIndex: 91741 entries, 0 to 91740\n",
      "Data columns (total 15 columns):\n",
      " #   Column              Non-Null Count  Dtype         \n",
      "---  ------              --------------  -----         \n",
      " 0   stop_date           91741 non-null  datetime64[ns]\n",
      " 1   stop_time           91741 non-null  object        \n",
      " 2   county_name         0 non-null      float64       \n",
      " 3   driver_gender       86406 non-null  object        \n",
      " 4   driver_age_raw      86414 non-null  float64       \n",
      " 5   driver_age          86120 non-null  float64       \n",
      " 6   driver_race         86408 non-null  object        \n",
      " 7   violation_raw       86408 non-null  object        \n",
      " 8   violation           86408 non-null  object        \n",
      " 9   search_conducted    91741 non-null  bool          \n",
      " 10  search_type         3196 non-null   object        \n",
      " 11  stop_outcome        86408 non-null  object        \n",
      " 12  is_arrested         86408 non-null  object        \n",
      " 13  stop_duration       86408 non-null  object        \n",
      " 14  drugs_related_stop  91741 non-null  bool          \n",
      "dtypes: bool(2), datetime64[ns](1), float64(3), object(9)\n",
      "memory usage: 9.3+ MB\n"
     ]
    }
   ],
   "source": [
    "df_yr.info()"
   ]
  },
  {
   "cell_type": "code",
   "execution_count": 78,
   "id": "8928b5aa",
   "metadata": {
    "execution": {
     "iopub.execute_input": "2022-04-20T23:54:01.647597Z",
     "iopub.status.busy": "2022-04-20T23:54:01.646955Z",
     "iopub.status.idle": "2022-04-20T23:54:01.657755Z",
     "shell.execute_reply": "2022-04-20T23:54:01.657038Z"
    },
    "papermill": {
     "duration": 0.126257,
     "end_time": "2022-04-20T23:54:01.659976",
     "exception": false,
     "start_time": "2022-04-20T23:54:01.533719",
     "status": "completed"
    },
    "tags": []
   },
   "outputs": [
    {
     "data": {
      "text/plain": [
       "'Sunday'"
      ]
     },
     "execution_count": 78,
     "metadata": {},
     "output_type": "execute_result"
    }
   ],
   "source": [
    "df_yr.loc[0,'stop_date'].day_name()"
   ]
  },
  {
   "cell_type": "code",
   "execution_count": 79,
   "id": "bc39c6df",
   "metadata": {
    "execution": {
     "iopub.execute_input": "2022-04-20T23:54:01.881706Z",
     "iopub.status.busy": "2022-04-20T23:54:01.880671Z",
     "iopub.status.idle": "2022-04-20T23:54:01.888428Z",
     "shell.execute_reply": "2022-04-20T23:54:01.887653Z"
    },
    "papermill": {
     "duration": 0.118307,
     "end_time": "2022-04-20T23:54:01.890520",
     "exception": false,
     "start_time": "2022-04-20T23:54:01.772213",
     "status": "completed"
    },
    "tags": []
   },
   "outputs": [
    {
     "data": {
      "text/plain": [
       "Timestamp('2005-01-02 00:00:00')"
      ]
     },
     "execution_count": 79,
     "metadata": {},
     "output_type": "execute_result"
    }
   ],
   "source": [
    "df_yr['stop_date'].min()"
   ]
  },
  {
   "cell_type": "code",
   "execution_count": 80,
   "id": "82215087",
   "metadata": {
    "execution": {
     "iopub.execute_input": "2022-04-20T23:54:02.104091Z",
     "iopub.status.busy": "2022-04-20T23:54:02.103664Z",
     "iopub.status.idle": "2022-04-20T23:54:02.111081Z",
     "shell.execute_reply": "2022-04-20T23:54:02.109940Z"
    },
    "papermill": {
     "duration": 0.116818,
     "end_time": "2022-04-20T23:54:02.113228",
     "exception": false,
     "start_time": "2022-04-20T23:54:01.996410",
     "status": "completed"
    },
    "tags": []
   },
   "outputs": [
    {
     "data": {
      "text/plain": [
       "Timestamp('2015-12-31 00:00:00')"
      ]
     },
     "execution_count": 80,
     "metadata": {},
     "output_type": "execute_result"
    }
   ],
   "source": [
    "df_yr['stop_date'].max()"
   ]
  },
  {
   "cell_type": "code",
   "execution_count": 81,
   "id": "a6175480",
   "metadata": {
    "execution": {
     "iopub.execute_input": "2022-04-20T23:54:02.323488Z",
     "iopub.status.busy": "2022-04-20T23:54:02.322889Z",
     "iopub.status.idle": "2022-04-20T23:54:02.330170Z",
     "shell.execute_reply": "2022-04-20T23:54:02.329332Z"
    },
    "papermill": {
     "duration": 0.114824,
     "end_time": "2022-04-20T23:54:02.332223",
     "exception": false,
     "start_time": "2022-04-20T23:54:02.217399",
     "status": "completed"
    },
    "tags": []
   },
   "outputs": [
    {
     "data": {
      "text/plain": [
       "Timedelta('4015 days 00:00:00')"
      ]
     },
     "execution_count": 81,
     "metadata": {},
     "output_type": "execute_result"
    }
   ],
   "source": [
    "df_yr['stop_date'].max() - df_yr['stop_date'].min()"
   ]
  },
  {
   "cell_type": "code",
   "execution_count": 82,
   "id": "41c63462",
   "metadata": {
    "execution": {
     "iopub.execute_input": "2022-04-20T23:54:02.546044Z",
     "iopub.status.busy": "2022-04-20T23:54:02.545409Z",
     "iopub.status.idle": "2022-04-20T23:54:02.557446Z",
     "shell.execute_reply": "2022-04-20T23:54:02.556783Z"
    },
    "papermill": {
     "duration": 0.121474,
     "end_time": "2022-04-20T23:54:02.559448",
     "exception": false,
     "start_time": "2022-04-20T23:54:02.437974",
     "status": "completed"
    },
    "tags": []
   },
   "outputs": [
    {
     "data": {
      "text/plain": [
       "2012-01-11    69\n",
       "2012-02-28    65\n",
       "2007-05-16    62\n",
       "2012-01-02    61\n",
       "2007-01-10    60\n",
       "              ..\n",
       "2015-01-27     1\n",
       "2005-12-25     1\n",
       "2005-01-18     1\n",
       "2010-12-25     1\n",
       "2005-01-02     1\n",
       "Name: stop_date, Length: 3768, dtype: int64"
      ]
     },
     "execution_count": 82,
     "metadata": {},
     "output_type": "execute_result"
    }
   ],
   "source": [
    "df_yr['stop_date'].value_counts()"
   ]
  },
  {
   "cell_type": "code",
   "execution_count": 83,
   "id": "c301ccbc",
   "metadata": {
    "execution": {
     "iopub.execute_input": "2022-04-20T23:54:02.805123Z",
     "iopub.status.busy": "2022-04-20T23:54:02.804744Z",
     "iopub.status.idle": "2022-04-20T23:54:02.828526Z",
     "shell.execute_reply": "2022-04-20T23:54:02.827709Z"
    },
    "papermill": {
     "duration": 0.143609,
     "end_time": "2022-04-20T23:54:02.830928",
     "exception": false,
     "start_time": "2022-04-20T23:54:02.687319",
     "status": "completed"
    },
    "tags": []
   },
   "outputs": [],
   "source": [
    "df_yr['year']= pd.to_datetime(df_yr.stop_date,format=\"%Y\")"
   ]
  }
 ],
 "metadata": {
  "kernelspec": {
   "display_name": "Python 3",
   "language": "python",
   "name": "python3"
  },
  "language_info": {
   "codemirror_mode": {
    "name": "ipython",
    "version": 3
   },
   "file_extension": ".py",
   "mimetype": "text/x-python",
   "name": "python",
   "nbconvert_exporter": "python",
   "pygments_lexer": "ipython3",
   "version": "3.7.12"
  },
  "papermill": {
   "default_parameters": {},
   "duration": 32.185981,
   "end_time": "2022-04-20T23:54:03.860419",
   "environment_variables": {},
   "exception": null,
   "input_path": "__notebook__.ipynb",
   "output_path": "__notebook__.ipynb",
   "parameters": {},
   "start_time": "2022-04-20T23:53:31.674438",
   "version": "2.3.4"
  }
 },
 "nbformat": 4,
 "nbformat_minor": 5
}
