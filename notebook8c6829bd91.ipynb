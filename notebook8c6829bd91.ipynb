{
 "cells": [
  {
   "cell_type": "code",
   "execution_count": 1,
   "id": "a3b5a013",
   "metadata": {
    "_cell_guid": "b1076dfc-b9ad-4769-8c92-a6c4dae69d19",
    "_uuid": "8f2839f25d086af736a60e9eeb907d3b93b6e0e5",
    "execution": {
     "iopub.execute_input": "2022-04-20T06:13:24.820109Z",
     "iopub.status.busy": "2022-04-20T06:13:24.819756Z",
     "iopub.status.idle": "2022-04-20T06:13:24.838185Z",
     "shell.execute_reply": "2022-04-20T06:13:24.837451Z"
    },
    "papermill": {
     "duration": 0.088706,
     "end_time": "2022-04-20T06:13:24.840578",
     "exception": false,
     "start_time": "2022-04-20T06:13:24.751872",
     "status": "completed"
    },
    "tags": []
   },
   "outputs": [
    {
     "name": "stdout",
     "output_type": "stream",
     "text": [
      "/kaggle/input/stanford-open-policing-project/police_project.csv\n"
     ]
    }
   ],
   "source": [
    "# This Python 3 environment comes with many helpful analytics libraries installed\n",
    "# It is defined by the kaggle/python Docker image: https://github.com/kaggle/docker-python\n",
    "# For example, here's several helpful packages to load\n",
    "\n",
    "import numpy as np # linear algebra\n",
    "import pandas as pd # data processing, CSV file I/O (e.g. pd.read_csv)\n",
    "\n",
    "# Input data files are available in the read-only \"../input/\" directory\n",
    "# For example, running this (by clicking run or pressing Shift+Enter) will list all files under the input directory\n",
    "\n",
    "import os\n",
    "for dirname, _, filenames in os.walk('/kaggle/input'):\n",
    "    for filename in filenames:\n",
    "        print(os.path.join(dirname, filename))\n",
    "\n",
    "# You can write up to 20GB to the current directory (/kaggle/working/) that gets preserved as output when you create a version using \"Save & Run All\" \n",
    "# You can also write temporary files to /kaggle/temp/, but they won't be saved outside of the current session"
   ]
  },
  {
   "cell_type": "code",
   "execution_count": 2,
   "id": "2606817a",
   "metadata": {
    "execution": {
     "iopub.execute_input": "2022-04-20T06:13:24.977534Z",
     "iopub.status.busy": "2022-04-20T06:13:24.977243Z",
     "iopub.status.idle": "2022-04-20T06:13:25.230292Z",
     "shell.execute_reply": "2022-04-20T06:13:25.229471Z"
    },
    "papermill": {
     "duration": 0.321839,
     "end_time": "2022-04-20T06:13:25.232884",
     "exception": false,
     "start_time": "2022-04-20T06:13:24.911045",
     "status": "completed"
    },
    "tags": []
   },
   "outputs": [],
   "source": [
    "df=pd.read_csv('../input/stanford-open-policing-project/police_project.csv')"
   ]
  },
  {
   "cell_type": "code",
   "execution_count": 3,
   "id": "d45c196a",
   "metadata": {
    "execution": {
     "iopub.execute_input": "2022-04-20T06:13:25.365645Z",
     "iopub.status.busy": "2022-04-20T06:13:25.365359Z",
     "iopub.status.idle": "2022-04-20T06:13:25.394210Z",
     "shell.execute_reply": "2022-04-20T06:13:25.393183Z"
    },
    "papermill": {
     "duration": 0.097642,
     "end_time": "2022-04-20T06:13:25.396507",
     "exception": false,
     "start_time": "2022-04-20T06:13:25.298865",
     "status": "completed"
    },
    "tags": []
   },
   "outputs": [
    {
     "data": {
      "text/html": [
       "<div>\n",
       "<style scoped>\n",
       "    .dataframe tbody tr th:only-of-type {\n",
       "        vertical-align: middle;\n",
       "    }\n",
       "\n",
       "    .dataframe tbody tr th {\n",
       "        vertical-align: top;\n",
       "    }\n",
       "\n",
       "    .dataframe thead th {\n",
       "        text-align: right;\n",
       "    }\n",
       "</style>\n",
       "<table border=\"1\" class=\"dataframe\">\n",
       "  <thead>\n",
       "    <tr style=\"text-align: right;\">\n",
       "      <th></th>\n",
       "      <th>stop_date</th>\n",
       "      <th>stop_time</th>\n",
       "      <th>county_name</th>\n",
       "      <th>driver_gender</th>\n",
       "      <th>driver_age_raw</th>\n",
       "      <th>driver_age</th>\n",
       "      <th>driver_race</th>\n",
       "      <th>violation_raw</th>\n",
       "      <th>violation</th>\n",
       "      <th>search_conducted</th>\n",
       "      <th>search_type</th>\n",
       "      <th>stop_outcome</th>\n",
       "      <th>is_arrested</th>\n",
       "      <th>stop_duration</th>\n",
       "      <th>drugs_related_stop</th>\n",
       "    </tr>\n",
       "  </thead>\n",
       "  <tbody>\n",
       "    <tr>\n",
       "      <th>0</th>\n",
       "      <td>2005-01-02</td>\n",
       "      <td>01:55</td>\n",
       "      <td>NaN</td>\n",
       "      <td>M</td>\n",
       "      <td>1985.0</td>\n",
       "      <td>20.0</td>\n",
       "      <td>White</td>\n",
       "      <td>Speeding</td>\n",
       "      <td>Speeding</td>\n",
       "      <td>False</td>\n",
       "      <td>NaN</td>\n",
       "      <td>Citation</td>\n",
       "      <td>False</td>\n",
       "      <td>0-15 Min</td>\n",
       "      <td>False</td>\n",
       "    </tr>\n",
       "    <tr>\n",
       "      <th>1</th>\n",
       "      <td>2005-01-18</td>\n",
       "      <td>08:15</td>\n",
       "      <td>NaN</td>\n",
       "      <td>M</td>\n",
       "      <td>1965.0</td>\n",
       "      <td>40.0</td>\n",
       "      <td>White</td>\n",
       "      <td>Speeding</td>\n",
       "      <td>Speeding</td>\n",
       "      <td>False</td>\n",
       "      <td>NaN</td>\n",
       "      <td>Citation</td>\n",
       "      <td>False</td>\n",
       "      <td>0-15 Min</td>\n",
       "      <td>False</td>\n",
       "    </tr>\n",
       "    <tr>\n",
       "      <th>2</th>\n",
       "      <td>2005-01-23</td>\n",
       "      <td>23:15</td>\n",
       "      <td>NaN</td>\n",
       "      <td>M</td>\n",
       "      <td>1972.0</td>\n",
       "      <td>33.0</td>\n",
       "      <td>White</td>\n",
       "      <td>Speeding</td>\n",
       "      <td>Speeding</td>\n",
       "      <td>False</td>\n",
       "      <td>NaN</td>\n",
       "      <td>Citation</td>\n",
       "      <td>False</td>\n",
       "      <td>0-15 Min</td>\n",
       "      <td>False</td>\n",
       "    </tr>\n",
       "    <tr>\n",
       "      <th>3</th>\n",
       "      <td>2005-02-20</td>\n",
       "      <td>17:15</td>\n",
       "      <td>NaN</td>\n",
       "      <td>M</td>\n",
       "      <td>1986.0</td>\n",
       "      <td>19.0</td>\n",
       "      <td>White</td>\n",
       "      <td>Call for Service</td>\n",
       "      <td>Other</td>\n",
       "      <td>False</td>\n",
       "      <td>NaN</td>\n",
       "      <td>Arrest Driver</td>\n",
       "      <td>True</td>\n",
       "      <td>16-30 Min</td>\n",
       "      <td>False</td>\n",
       "    </tr>\n",
       "    <tr>\n",
       "      <th>4</th>\n",
       "      <td>2005-03-14</td>\n",
       "      <td>10:00</td>\n",
       "      <td>NaN</td>\n",
       "      <td>F</td>\n",
       "      <td>1984.0</td>\n",
       "      <td>21.0</td>\n",
       "      <td>White</td>\n",
       "      <td>Speeding</td>\n",
       "      <td>Speeding</td>\n",
       "      <td>False</td>\n",
       "      <td>NaN</td>\n",
       "      <td>Citation</td>\n",
       "      <td>False</td>\n",
       "      <td>0-15 Min</td>\n",
       "      <td>False</td>\n",
       "    </tr>\n",
       "  </tbody>\n",
       "</table>\n",
       "</div>"
      ],
      "text/plain": [
       "    stop_date stop_time  county_name driver_gender  driver_age_raw  \\\n",
       "0  2005-01-02     01:55          NaN             M          1985.0   \n",
       "1  2005-01-18     08:15          NaN             M          1965.0   \n",
       "2  2005-01-23     23:15          NaN             M          1972.0   \n",
       "3  2005-02-20     17:15          NaN             M          1986.0   \n",
       "4  2005-03-14     10:00          NaN             F          1984.0   \n",
       "\n",
       "   driver_age driver_race     violation_raw violation  search_conducted  \\\n",
       "0        20.0       White          Speeding  Speeding             False   \n",
       "1        40.0       White          Speeding  Speeding             False   \n",
       "2        33.0       White          Speeding  Speeding             False   \n",
       "3        19.0       White  Call for Service     Other             False   \n",
       "4        21.0       White          Speeding  Speeding             False   \n",
       "\n",
       "  search_type   stop_outcome is_arrested stop_duration  drugs_related_stop  \n",
       "0         NaN       Citation       False      0-15 Min               False  \n",
       "1         NaN       Citation       False      0-15 Min               False  \n",
       "2         NaN       Citation       False      0-15 Min               False  \n",
       "3         NaN  Arrest Driver        True     16-30 Min               False  \n",
       "4         NaN       Citation       False      0-15 Min               False  "
      ]
     },
     "execution_count": 3,
     "metadata": {},
     "output_type": "execute_result"
    }
   ],
   "source": [
    "df.head()"
   ]
  },
  {
   "cell_type": "code",
   "execution_count": 4,
   "id": "e1a12f0c",
   "metadata": {
    "execution": {
     "iopub.execute_input": "2022-04-20T06:13:25.530839Z",
     "iopub.status.busy": "2022-04-20T06:13:25.530351Z",
     "iopub.status.idle": "2022-04-20T06:13:25.631364Z",
     "shell.execute_reply": "2022-04-20T06:13:25.630356Z"
    },
    "papermill": {
     "duration": 0.172131,
     "end_time": "2022-04-20T06:13:25.633713",
     "exception": false,
     "start_time": "2022-04-20T06:13:25.461582",
     "status": "completed"
    },
    "tags": []
   },
   "outputs": [
    {
     "name": "stdout",
     "output_type": "stream",
     "text": [
      "<class 'pandas.core.frame.DataFrame'>\n",
      "RangeIndex: 91741 entries, 0 to 91740\n",
      "Data columns (total 15 columns):\n",
      " #   Column              Non-Null Count  Dtype  \n",
      "---  ------              --------------  -----  \n",
      " 0   stop_date           91741 non-null  object \n",
      " 1   stop_time           91741 non-null  object \n",
      " 2   county_name         0 non-null      float64\n",
      " 3   driver_gender       86406 non-null  object \n",
      " 4   driver_age_raw      86414 non-null  float64\n",
      " 5   driver_age          86120 non-null  float64\n",
      " 6   driver_race         86408 non-null  object \n",
      " 7   violation_raw       86408 non-null  object \n",
      " 8   violation           86408 non-null  object \n",
      " 9   search_conducted    91741 non-null  bool   \n",
      " 10  search_type         3196 non-null   object \n",
      " 11  stop_outcome        86408 non-null  object \n",
      " 12  is_arrested         86408 non-null  object \n",
      " 13  stop_duration       86408 non-null  object \n",
      " 14  drugs_related_stop  91741 non-null  bool   \n",
      "dtypes: bool(2), float64(3), object(10)\n",
      "memory usage: 9.3+ MB\n"
     ]
    }
   ],
   "source": [
    "df.info()"
   ]
  },
  {
   "cell_type": "code",
   "execution_count": 5,
   "id": "244019d0",
   "metadata": {
    "execution": {
     "iopub.execute_input": "2022-04-20T06:13:25.769590Z",
     "iopub.status.busy": "2022-04-20T06:13:25.769059Z",
     "iopub.status.idle": "2022-04-20T06:13:25.786578Z",
     "shell.execute_reply": "2022-04-20T06:13:25.785708Z"
    },
    "papermill": {
     "duration": 0.089732,
     "end_time": "2022-04-20T06:13:25.789028",
     "exception": false,
     "start_time": "2022-04-20T06:13:25.699296",
     "status": "completed"
    },
    "tags": []
   },
   "outputs": [],
   "source": [
    "df1=df.copy()"
   ]
  },
  {
   "cell_type": "code",
   "execution_count": 6,
   "id": "691ee646",
   "metadata": {
    "execution": {
     "iopub.execute_input": "2022-04-20T06:13:25.940288Z",
     "iopub.status.busy": "2022-04-20T06:13:25.939779Z",
     "iopub.status.idle": "2022-04-20T06:13:25.958652Z",
     "shell.execute_reply": "2022-04-20T06:13:25.957932Z"
    },
    "papermill": {
     "duration": 0.08721,
     "end_time": "2022-04-20T06:13:25.960824",
     "exception": false,
     "start_time": "2022-04-20T06:13:25.873614",
     "status": "completed"
    },
    "tags": []
   },
   "outputs": [],
   "source": [
    "df1.drop('county_name',axis=1,inplace=True)"
   ]
  },
  {
   "cell_type": "code",
   "execution_count": 7,
   "id": "72ba5e18",
   "metadata": {
    "execution": {
     "iopub.execute_input": "2022-04-20T06:13:26.093050Z",
     "iopub.status.busy": "2022-04-20T06:13:26.092199Z",
     "iopub.status.idle": "2022-04-20T06:13:26.182039Z",
     "shell.execute_reply": "2022-04-20T06:13:26.181067Z"
    },
    "papermill": {
     "duration": 0.15936,
     "end_time": "2022-04-20T06:13:26.184987",
     "exception": false,
     "start_time": "2022-04-20T06:13:26.025627",
     "status": "completed"
    },
    "tags": []
   },
   "outputs": [
    {
     "name": "stdout",
     "output_type": "stream",
     "text": [
      "<class 'pandas.core.frame.DataFrame'>\n",
      "RangeIndex: 91741 entries, 0 to 91740\n",
      "Data columns (total 14 columns):\n",
      " #   Column              Non-Null Count  Dtype  \n",
      "---  ------              --------------  -----  \n",
      " 0   stop_date           91741 non-null  object \n",
      " 1   stop_time           91741 non-null  object \n",
      " 2   driver_gender       86406 non-null  object \n",
      " 3   driver_age_raw      86414 non-null  float64\n",
      " 4   driver_age          86120 non-null  float64\n",
      " 5   driver_race         86408 non-null  object \n",
      " 6   violation_raw       86408 non-null  object \n",
      " 7   violation           86408 non-null  object \n",
      " 8   search_conducted    91741 non-null  bool   \n",
      " 9   search_type         3196 non-null   object \n",
      " 10  stop_outcome        86408 non-null  object \n",
      " 11  is_arrested         86408 non-null  object \n",
      " 12  stop_duration       86408 non-null  object \n",
      " 13  drugs_related_stop  91741 non-null  bool   \n",
      "dtypes: bool(2), float64(2), object(10)\n",
      "memory usage: 8.6+ MB\n"
     ]
    }
   ],
   "source": [
    "df1.info()"
   ]
  },
  {
   "cell_type": "code",
   "execution_count": 8,
   "id": "e22b0329",
   "metadata": {
    "execution": {
     "iopub.execute_input": "2022-04-20T06:13:26.320366Z",
     "iopub.status.busy": "2022-04-20T06:13:26.320043Z",
     "iopub.status.idle": "2022-04-20T06:13:26.329974Z",
     "shell.execute_reply": "2022-04-20T06:13:26.329145Z"
    },
    "papermill": {
     "duration": 0.08,
     "end_time": "2022-04-20T06:13:26.332023",
     "exception": false,
     "start_time": "2022-04-20T06:13:26.252023",
     "status": "completed"
    },
    "tags": []
   },
   "outputs": [],
   "source": [
    "df1.drop(df1.iloc[[],[0,1,3,4,5,6,8,9,10,11,12,13]],axis=1,inplace=True)"
   ]
  },
  {
   "cell_type": "code",
   "execution_count": 9,
   "id": "f15d72de",
   "metadata": {
    "execution": {
     "iopub.execute_input": "2022-04-20T06:13:26.466779Z",
     "iopub.status.busy": "2022-04-20T06:13:26.466267Z",
     "iopub.status.idle": "2022-04-20T06:13:26.474953Z",
     "shell.execute_reply": "2022-04-20T06:13:26.474234Z"
    },
    "papermill": {
     "duration": 0.078451,
     "end_time": "2022-04-20T06:13:26.477167",
     "exception": false,
     "start_time": "2022-04-20T06:13:26.398716",
     "status": "completed"
    },
    "tags": []
   },
   "outputs": [
    {
     "data": {
      "text/html": [
       "<div>\n",
       "<style scoped>\n",
       "    .dataframe tbody tr th:only-of-type {\n",
       "        vertical-align: middle;\n",
       "    }\n",
       "\n",
       "    .dataframe tbody tr th {\n",
       "        vertical-align: top;\n",
       "    }\n",
       "\n",
       "    .dataframe thead th {\n",
       "        text-align: right;\n",
       "    }\n",
       "</style>\n",
       "<table border=\"1\" class=\"dataframe\">\n",
       "  <thead>\n",
       "    <tr style=\"text-align: right;\">\n",
       "      <th></th>\n",
       "      <th>driver_gender</th>\n",
       "      <th>violation</th>\n",
       "    </tr>\n",
       "  </thead>\n",
       "  <tbody>\n",
       "    <tr>\n",
       "      <th>0</th>\n",
       "      <td>M</td>\n",
       "      <td>Speeding</td>\n",
       "    </tr>\n",
       "    <tr>\n",
       "      <th>1</th>\n",
       "      <td>M</td>\n",
       "      <td>Speeding</td>\n",
       "    </tr>\n",
       "    <tr>\n",
       "      <th>2</th>\n",
       "      <td>M</td>\n",
       "      <td>Speeding</td>\n",
       "    </tr>\n",
       "    <tr>\n",
       "      <th>3</th>\n",
       "      <td>M</td>\n",
       "      <td>Other</td>\n",
       "    </tr>\n",
       "    <tr>\n",
       "      <th>4</th>\n",
       "      <td>F</td>\n",
       "      <td>Speeding</td>\n",
       "    </tr>\n",
       "  </tbody>\n",
       "</table>\n",
       "</div>"
      ],
      "text/plain": [
       "  driver_gender violation\n",
       "0             M  Speeding\n",
       "1             M  Speeding\n",
       "2             M  Speeding\n",
       "3             M     Other\n",
       "4             F  Speeding"
      ]
     },
     "execution_count": 9,
     "metadata": {},
     "output_type": "execute_result"
    }
   ],
   "source": [
    "df1.head()"
   ]
  },
  {
   "cell_type": "code",
   "execution_count": 10,
   "id": "fca7e687",
   "metadata": {
    "execution": {
     "iopub.execute_input": "2022-04-20T06:13:26.614619Z",
     "iopub.status.busy": "2022-04-20T06:13:26.614116Z",
     "iopub.status.idle": "2022-04-20T06:13:26.629642Z",
     "shell.execute_reply": "2022-04-20T06:13:26.628567Z"
    },
    "papermill": {
     "duration": 0.08734,
     "end_time": "2022-04-20T06:13:26.632207",
     "exception": false,
     "start_time": "2022-04-20T06:13:26.544867",
     "status": "completed"
    },
    "tags": []
   },
   "outputs": [],
   "source": [
    "df2=df.copy()"
   ]
  },
  {
   "cell_type": "code",
   "execution_count": 11,
   "id": "916477e9",
   "metadata": {
    "execution": {
     "iopub.execute_input": "2022-04-20T06:13:26.769074Z",
     "iopub.status.busy": "2022-04-20T06:13:26.768716Z",
     "iopub.status.idle": "2022-04-20T06:13:26.859441Z",
     "shell.execute_reply": "2022-04-20T06:13:26.858311Z"
    },
    "papermill": {
     "duration": 0.16335,
     "end_time": "2022-04-20T06:13:26.861982",
     "exception": false,
     "start_time": "2022-04-20T06:13:26.698632",
     "status": "completed"
    },
    "tags": []
   },
   "outputs": [
    {
     "name": "stdout",
     "output_type": "stream",
     "text": [
      "<class 'pandas.core.frame.DataFrame'>\n",
      "RangeIndex: 91741 entries, 0 to 91740\n",
      "Data columns (total 15 columns):\n",
      " #   Column              Non-Null Count  Dtype  \n",
      "---  ------              --------------  -----  \n",
      " 0   stop_date           91741 non-null  object \n",
      " 1   stop_time           91741 non-null  object \n",
      " 2   county_name         0 non-null      float64\n",
      " 3   driver_gender       86406 non-null  object \n",
      " 4   driver_age_raw      86414 non-null  float64\n",
      " 5   driver_age          86120 non-null  float64\n",
      " 6   driver_race         86408 non-null  object \n",
      " 7   violation_raw       86408 non-null  object \n",
      " 8   violation           86408 non-null  object \n",
      " 9   search_conducted    91741 non-null  bool   \n",
      " 10  search_type         3196 non-null   object \n",
      " 11  stop_outcome        86408 non-null  object \n",
      " 12  is_arrested         86408 non-null  object \n",
      " 13  stop_duration       86408 non-null  object \n",
      " 14  drugs_related_stop  91741 non-null  bool   \n",
      "dtypes: bool(2), float64(3), object(10)\n",
      "memory usage: 9.3+ MB\n"
     ]
    }
   ],
   "source": [
    "df2.info()"
   ]
  },
  {
   "cell_type": "code",
   "execution_count": 12,
   "id": "9f094d98",
   "metadata": {
    "execution": {
     "iopub.execute_input": "2022-04-20T06:13:26.996918Z",
     "iopub.status.busy": "2022-04-20T06:13:26.996648Z",
     "iopub.status.idle": "2022-04-20T06:13:27.006818Z",
     "shell.execute_reply": "2022-04-20T06:13:27.005691Z"
    },
    "papermill": {
     "duration": 0.080049,
     "end_time": "2022-04-20T06:13:27.009009",
     "exception": false,
     "start_time": "2022-04-20T06:13:26.928960",
     "status": "completed"
    },
    "tags": []
   },
   "outputs": [],
   "source": [
    "df2.drop(df2.iloc[[],[0,1,2,4,5,6,7,8,10,11,12,13,14]],axis=1,inplace=True)"
   ]
  },
  {
   "cell_type": "code",
   "execution_count": 13,
   "id": "231d4dbf",
   "metadata": {
    "execution": {
     "iopub.execute_input": "2022-04-20T06:13:27.149317Z",
     "iopub.status.busy": "2022-04-20T06:13:27.148528Z",
     "iopub.status.idle": "2022-04-20T06:13:27.166100Z",
     "shell.execute_reply": "2022-04-20T06:13:27.165308Z"
    },
    "papermill": {
     "duration": 0.090487,
     "end_time": "2022-04-20T06:13:27.168333",
     "exception": false,
     "start_time": "2022-04-20T06:13:27.077846",
     "status": "completed"
    },
    "tags": []
   },
   "outputs": [
    {
     "data": {
      "text/plain": [
       "M    62895\n",
       "F    23511\n",
       "Name: driver_gender, dtype: int64"
      ]
     },
     "execution_count": 13,
     "metadata": {},
     "output_type": "execute_result"
    }
   ],
   "source": [
    "df1.driver_gender.value_counts()"
   ]
  },
  {
   "cell_type": "code",
   "execution_count": 14,
   "id": "7baaaeb4",
   "metadata": {
    "execution": {
     "iopub.execute_input": "2022-04-20T06:13:27.307239Z",
     "iopub.status.busy": "2022-04-20T06:13:27.306633Z",
     "iopub.status.idle": "2022-04-20T06:13:27.324772Z",
     "shell.execute_reply": "2022-04-20T06:13:27.323802Z"
    },
    "papermill": {
     "duration": 0.090094,
     "end_time": "2022-04-20T06:13:27.326869",
     "exception": false,
     "start_time": "2022-04-20T06:13:27.236775",
     "status": "completed"
    },
    "tags": []
   },
   "outputs": [
    {
     "data": {
      "text/plain": [
       "M    0.727901\n",
       "F    0.272099\n",
       "Name: driver_gender, dtype: float64"
      ]
     },
     "execution_count": 14,
     "metadata": {},
     "output_type": "execute_result"
    }
   ],
   "source": [
    "df1.driver_gender.value_counts(normalize=True)"
   ]
  },
  {
   "cell_type": "code",
   "execution_count": 15,
   "id": "a3420a58",
   "metadata": {
    "execution": {
     "iopub.execute_input": "2022-04-20T06:13:27.465671Z",
     "iopub.status.busy": "2022-04-20T06:13:27.465089Z",
     "iopub.status.idle": "2022-04-20T06:13:27.483449Z",
     "shell.execute_reply": "2022-04-20T06:13:27.482472Z"
    },
    "papermill": {
     "duration": 0.09085,
     "end_time": "2022-04-20T06:13:27.485618",
     "exception": false,
     "start_time": "2022-04-20T06:13:27.394768",
     "status": "completed"
    },
    "tags": []
   },
   "outputs": [
    {
     "data": {
      "text/plain": [
       "Speeding               48463\n",
       "Moving violation       16224\n",
       "Equipment              11020\n",
       "Other                   4317\n",
       "Registration/plates     3432\n",
       "Seat belt               2952\n",
       "Name: violation, dtype: int64"
      ]
     },
     "execution_count": 15,
     "metadata": {},
     "output_type": "execute_result"
    }
   ],
   "source": [
    "df1.violation.value_counts()"
   ]
  },
  {
   "cell_type": "code",
   "execution_count": 16,
   "id": "e4847da0",
   "metadata": {
    "execution": {
     "iopub.execute_input": "2022-04-20T06:13:27.625178Z",
     "iopub.status.busy": "2022-04-20T06:13:27.624638Z",
     "iopub.status.idle": "2022-04-20T06:13:27.643382Z",
     "shell.execute_reply": "2022-04-20T06:13:27.642397Z"
    },
    "papermill": {
     "duration": 0.090676,
     "end_time": "2022-04-20T06:13:27.645698",
     "exception": false,
     "start_time": "2022-04-20T06:13:27.555022",
     "status": "completed"
    },
    "tags": []
   },
   "outputs": [
    {
     "data": {
      "text/plain": [
       "Speeding               0.560862\n",
       "Moving violation       0.187760\n",
       "Equipment              0.127534\n",
       "Other                  0.049961\n",
       "Registration/plates    0.039719\n",
       "Seat belt              0.034164\n",
       "Name: violation, dtype: float64"
      ]
     },
     "execution_count": 16,
     "metadata": {},
     "output_type": "execute_result"
    }
   ],
   "source": [
    "df1.violation.value_counts(normalize=True)"
   ]
  },
  {
   "cell_type": "code",
   "execution_count": 17,
   "id": "e8b7a056",
   "metadata": {
    "execution": {
     "iopub.execute_input": "2022-04-20T06:13:27.784721Z",
     "iopub.status.busy": "2022-04-20T06:13:27.784414Z",
     "iopub.status.idle": "2022-04-20T06:13:27.810967Z",
     "shell.execute_reply": "2022-04-20T06:13:27.810276Z"
    },
    "papermill": {
     "duration": 0.099197,
     "end_time": "2022-04-20T06:13:27.813106",
     "exception": false,
     "start_time": "2022-04-20T06:13:27.713909",
     "status": "completed"
    },
    "tags": []
   },
   "outputs": [
    {
     "data": {
      "text/plain": [
       "M    32979\n",
       "F    15482\n",
       "Name: driver_gender, dtype: int64"
      ]
     },
     "execution_count": 17,
     "metadata": {},
     "output_type": "execute_result"
    }
   ],
   "source": [
    "df1[df1.violation=='Speeding'].driver_gender.value_counts()"
   ]
  },
  {
   "cell_type": "code",
   "execution_count": 18,
   "id": "20fe3613",
   "metadata": {
    "execution": {
     "iopub.execute_input": "2022-04-20T06:13:27.954152Z",
     "iopub.status.busy": "2022-04-20T06:13:27.953629Z",
     "iopub.status.idle": "2022-04-20T06:13:27.980256Z",
     "shell.execute_reply": "2022-04-20T06:13:27.979105Z"
    },
    "papermill": {
     "duration": 0.099652,
     "end_time": "2022-04-20T06:13:27.982346",
     "exception": false,
     "start_time": "2022-04-20T06:13:27.882694",
     "status": "completed"
    },
    "tags": []
   },
   "outputs": [
    {
     "data": {
      "text/plain": [
       "M    0.680527\n",
       "F    0.319473\n",
       "Name: driver_gender, dtype: float64"
      ]
     },
     "execution_count": 18,
     "metadata": {},
     "output_type": "execute_result"
    }
   ],
   "source": [
    "df1[df1.violation=='Speeding'].driver_gender.value_counts(normalize=True)"
   ]
  },
  {
   "cell_type": "code",
   "execution_count": 19,
   "id": "43e59c58",
   "metadata": {
    "execution": {
     "iopub.execute_input": "2022-04-20T06:13:28.124756Z",
     "iopub.status.busy": "2022-04-20T06:13:28.124252Z",
     "iopub.status.idle": "2022-04-20T06:13:28.152039Z",
     "shell.execute_reply": "2022-04-20T06:13:28.151097Z"
    },
    "papermill": {
     "duration": 0.101421,
     "end_time": "2022-04-20T06:13:28.154161",
     "exception": false,
     "start_time": "2022-04-20T06:13:28.052740",
     "status": "completed"
    },
    "tags": []
   },
   "outputs": [
    {
     "data": {
      "text/plain": [
       "Speeding               32979\n",
       "Moving violation       13020\n",
       "Equipment               8533\n",
       "Other                   3627\n",
       "Registration/plates     2419\n",
       "Seat belt               2317\n",
       "Name: violation, dtype: int64"
      ]
     },
     "execution_count": 19,
     "metadata": {},
     "output_type": "execute_result"
    }
   ],
   "source": [
    "df1[df1.driver_gender=='M'].violation.value_counts()"
   ]
  },
  {
   "cell_type": "code",
   "execution_count": 20,
   "id": "306a5f39",
   "metadata": {
    "execution": {
     "iopub.execute_input": "2022-04-20T06:13:28.298385Z",
     "iopub.status.busy": "2022-04-20T06:13:28.298068Z",
     "iopub.status.idle": "2022-04-20T06:13:28.326230Z",
     "shell.execute_reply": "2022-04-20T06:13:28.325338Z"
    },
    "papermill": {
     "duration": 0.103688,
     "end_time": "2022-04-20T06:13:28.328445",
     "exception": false,
     "start_time": "2022-04-20T06:13:28.224757",
     "status": "completed"
    },
    "tags": []
   },
   "outputs": [
    {
     "data": {
      "text/plain": [
       "Speeding               0.524350\n",
       "Moving violation       0.207012\n",
       "Equipment              0.135671\n",
       "Other                  0.057668\n",
       "Registration/plates    0.038461\n",
       "Seat belt              0.036839\n",
       "Name: violation, dtype: float64"
      ]
     },
     "execution_count": 20,
     "metadata": {},
     "output_type": "execute_result"
    }
   ],
   "source": [
    "df1[df1.driver_gender=='M'].violation.value_counts(normalize=True)"
   ]
  },
  {
   "cell_type": "code",
   "execution_count": 21,
   "id": "a3ae68d1",
   "metadata": {
    "execution": {
     "iopub.execute_input": "2022-04-20T06:13:28.489602Z",
     "iopub.status.busy": "2022-04-20T06:13:28.489088Z",
     "iopub.status.idle": "2022-04-20T06:13:28.512341Z",
     "shell.execute_reply": "2022-04-20T06:13:28.511372Z"
    },
    "papermill": {
     "duration": 0.103696,
     "end_time": "2022-04-20T06:13:28.514651",
     "exception": false,
     "start_time": "2022-04-20T06:13:28.410955",
     "status": "completed"
    },
    "tags": []
   },
   "outputs": [
    {
     "data": {
      "text/plain": [
       "Speeding               15482\n",
       "Moving violation        3204\n",
       "Equipment               2487\n",
       "Registration/plates     1013\n",
       "Other                    690\n",
       "Seat belt                635\n",
       "Name: violation, dtype: int64"
      ]
     },
     "execution_count": 21,
     "metadata": {},
     "output_type": "execute_result"
    }
   ],
   "source": [
    "df1[df1.driver_gender=='F'].violation.value_counts()"
   ]
  },
  {
   "cell_type": "code",
   "execution_count": 22,
   "id": "a57bf56c",
   "metadata": {
    "execution": {
     "iopub.execute_input": "2022-04-20T06:13:28.660373Z",
     "iopub.status.busy": "2022-04-20T06:13:28.660064Z",
     "iopub.status.idle": "2022-04-20T06:13:28.683890Z",
     "shell.execute_reply": "2022-04-20T06:13:28.682919Z"
    },
    "papermill": {
     "duration": 0.099018,
     "end_time": "2022-04-20T06:13:28.686021",
     "exception": false,
     "start_time": "2022-04-20T06:13:28.587003",
     "status": "completed"
    },
    "tags": []
   },
   "outputs": [
    {
     "data": {
      "text/plain": [
       "Speeding               0.658500\n",
       "Moving violation       0.136277\n",
       "Equipment              0.105780\n",
       "Registration/plates    0.043086\n",
       "Other                  0.029348\n",
       "Seat belt              0.027009\n",
       "Name: violation, dtype: float64"
      ]
     },
     "execution_count": 22,
     "metadata": {},
     "output_type": "execute_result"
    }
   ],
   "source": [
    "df1[df1.driver_gender=='F'].violation.value_counts(normalize=True)"
   ]
  },
  {
   "cell_type": "code",
   "execution_count": 23,
   "id": "598debf5",
   "metadata": {
    "execution": {
     "iopub.execute_input": "2022-04-20T06:13:28.830847Z",
     "iopub.status.busy": "2022-04-20T06:13:28.830564Z",
     "iopub.status.idle": "2022-04-20T06:13:28.851369Z",
     "shell.execute_reply": "2022-04-20T06:13:28.849828Z"
    },
    "papermill": {
     "duration": 0.095557,
     "end_time": "2022-04-20T06:13:28.853671",
     "exception": false,
     "start_time": "2022-04-20T06:13:28.758114",
     "status": "completed"
    },
    "tags": []
   },
   "outputs": [
    {
     "name": "stdout",
     "output_type": "stream",
     "text": [
      "<class 'pandas.core.frame.DataFrame'>\n",
      "RangeIndex: 91741 entries, 0 to 91740\n",
      "Data columns (total 2 columns):\n",
      " #   Column            Non-Null Count  Dtype \n",
      "---  ------            --------------  ----- \n",
      " 0   driver_gender     86406 non-null  object\n",
      " 1   search_conducted  91741 non-null  bool  \n",
      "dtypes: bool(1), object(1)\n",
      "memory usage: 806.4+ KB\n"
     ]
    }
   ],
   "source": [
    "df2.info()"
   ]
  },
  {
   "cell_type": "code",
   "execution_count": 24,
   "id": "6dbc45e1",
   "metadata": {
    "execution": {
     "iopub.execute_input": "2022-04-20T06:13:29.001027Z",
     "iopub.status.busy": "2022-04-20T06:13:29.000530Z",
     "iopub.status.idle": "2022-04-20T06:13:29.009245Z",
     "shell.execute_reply": "2022-04-20T06:13:29.008473Z"
    },
    "papermill": {
     "duration": 0.084628,
     "end_time": "2022-04-20T06:13:29.011299",
     "exception": false,
     "start_time": "2022-04-20T06:13:28.926671",
     "status": "completed"
    },
    "tags": []
   },
   "outputs": [
    {
     "data": {
      "text/plain": [
       "M    2725\n",
       "F     471\n",
       "Name: driver_gender, dtype: int64"
      ]
     },
     "execution_count": 24,
     "metadata": {},
     "output_type": "execute_result"
    }
   ],
   "source": [
    "df2[df2.search_conducted==True].driver_gender.value_counts()"
   ]
  },
  {
   "cell_type": "code",
   "execution_count": 25,
   "id": "f110e367",
   "metadata": {
    "execution": {
     "iopub.execute_input": "2022-04-20T06:13:29.160194Z",
     "iopub.status.busy": "2022-04-20T06:13:29.159898Z",
     "iopub.status.idle": "2022-04-20T06:13:29.177160Z",
     "shell.execute_reply": "2022-04-20T06:13:29.176111Z"
    },
    "papermill": {
     "duration": 0.094894,
     "end_time": "2022-04-20T06:13:29.179334",
     "exception": false,
     "start_time": "2022-04-20T06:13:29.084440",
     "status": "completed"
    },
    "tags": []
   },
   "outputs": [
    {
     "data": {
      "text/plain": [
       "M    62895\n",
       "F    23511\n",
       "Name: driver_gender, dtype: int64"
      ]
     },
     "execution_count": 25,
     "metadata": {},
     "output_type": "execute_result"
    }
   ],
   "source": [
    "df2.driver_gender.value_counts()"
   ]
  },
  {
   "cell_type": "code",
   "execution_count": 26,
   "id": "23396e9c",
   "metadata": {
    "execution": {
     "iopub.execute_input": "2022-04-20T06:13:29.330725Z",
     "iopub.status.busy": "2022-04-20T06:13:29.330076Z",
     "iopub.status.idle": "2022-04-20T06:13:29.338837Z",
     "shell.execute_reply": "2022-04-20T06:13:29.337985Z"
    },
    "papermill": {
     "duration": 0.086583,
     "end_time": "2022-04-20T06:13:29.340964",
     "exception": false,
     "start_time": "2022-04-20T06:13:29.254381",
     "status": "completed"
    },
    "tags": []
   },
   "outputs": [
    {
     "data": {
      "text/plain": [
       "False    88545\n",
       "True      3196\n",
       "Name: search_conducted, dtype: int64"
      ]
     },
     "execution_count": 26,
     "metadata": {},
     "output_type": "execute_result"
    }
   ],
   "source": [
    "df2.search_conducted.value_counts()"
   ]
  },
  {
   "cell_type": "code",
   "execution_count": 27,
   "id": "bdf2214a",
   "metadata": {
    "execution": {
     "iopub.execute_input": "2022-04-20T06:13:29.489917Z",
     "iopub.status.busy": "2022-04-20T06:13:29.489456Z",
     "iopub.status.idle": "2022-04-20T06:13:29.497413Z",
     "shell.execute_reply": "2022-04-20T06:13:29.496405Z"
    },
    "papermill": {
     "duration": 0.085445,
     "end_time": "2022-04-20T06:13:29.499832",
     "exception": false,
     "start_time": "2022-04-20T06:13:29.414387",
     "status": "completed"
    },
    "tags": []
   },
   "outputs": [],
   "source": [
    "df2_1=df.copy()"
   ]
  },
  {
   "cell_type": "code",
   "execution_count": 28,
   "id": "ff55a6e6",
   "metadata": {
    "execution": {
     "iopub.execute_input": "2022-04-20T06:13:29.650237Z",
     "iopub.status.busy": "2022-04-20T06:13:29.649726Z",
     "iopub.status.idle": "2022-04-20T06:13:29.737953Z",
     "shell.execute_reply": "2022-04-20T06:13:29.736776Z"
    },
    "papermill": {
     "duration": 0.166336,
     "end_time": "2022-04-20T06:13:29.740710",
     "exception": false,
     "start_time": "2022-04-20T06:13:29.574374",
     "status": "completed"
    },
    "tags": []
   },
   "outputs": [
    {
     "name": "stdout",
     "output_type": "stream",
     "text": [
      "<class 'pandas.core.frame.DataFrame'>\n",
      "RangeIndex: 91741 entries, 0 to 91740\n",
      "Data columns (total 15 columns):\n",
      " #   Column              Non-Null Count  Dtype  \n",
      "---  ------              --------------  -----  \n",
      " 0   stop_date           91741 non-null  object \n",
      " 1   stop_time           91741 non-null  object \n",
      " 2   county_name         0 non-null      float64\n",
      " 3   driver_gender       86406 non-null  object \n",
      " 4   driver_age_raw      86414 non-null  float64\n",
      " 5   driver_age          86120 non-null  float64\n",
      " 6   driver_race         86408 non-null  object \n",
      " 7   violation_raw       86408 non-null  object \n",
      " 8   violation           86408 non-null  object \n",
      " 9   search_conducted    91741 non-null  bool   \n",
      " 10  search_type         3196 non-null   object \n",
      " 11  stop_outcome        86408 non-null  object \n",
      " 12  is_arrested         86408 non-null  object \n",
      " 13  stop_duration       86408 non-null  object \n",
      " 14  drugs_related_stop  91741 non-null  bool   \n",
      "dtypes: bool(2), float64(3), object(10)\n",
      "memory usage: 9.3+ MB\n"
     ]
    }
   ],
   "source": [
    "df2_1.info()"
   ]
  },
  {
   "cell_type": "code",
   "execution_count": 29,
   "id": "61cf63c2",
   "metadata": {
    "execution": {
     "iopub.execute_input": "2022-04-20T06:13:29.893011Z",
     "iopub.status.busy": "2022-04-20T06:13:29.892498Z",
     "iopub.status.idle": "2022-04-20T06:13:29.902051Z",
     "shell.execute_reply": "2022-04-20T06:13:29.901093Z"
    },
    "papermill": {
     "duration": 0.087926,
     "end_time": "2022-04-20T06:13:29.904595",
     "exception": false,
     "start_time": "2022-04-20T06:13:29.816669",
     "status": "completed"
    },
    "tags": []
   },
   "outputs": [],
   "source": [
    "df2_1.drop(df2_1.iloc[[],[0,1,2,4,5,6,7,10,11,12,13,14]],axis=1,inplace=True)"
   ]
  },
  {
   "cell_type": "code",
   "execution_count": 30,
   "id": "089c733b",
   "metadata": {
    "execution": {
     "iopub.execute_input": "2022-04-20T06:13:30.058567Z",
     "iopub.status.busy": "2022-04-20T06:13:30.057605Z",
     "iopub.status.idle": "2022-04-20T06:13:30.069049Z",
     "shell.execute_reply": "2022-04-20T06:13:30.068005Z"
    },
    "papermill": {
     "duration": 0.090398,
     "end_time": "2022-04-20T06:13:30.071402",
     "exception": false,
     "start_time": "2022-04-20T06:13:29.981004",
     "status": "completed"
    },
    "tags": []
   },
   "outputs": [
    {
     "data": {
      "text/html": [
       "<div>\n",
       "<style scoped>\n",
       "    .dataframe tbody tr th:only-of-type {\n",
       "        vertical-align: middle;\n",
       "    }\n",
       "\n",
       "    .dataframe tbody tr th {\n",
       "        vertical-align: top;\n",
       "    }\n",
       "\n",
       "    .dataframe thead th {\n",
       "        text-align: right;\n",
       "    }\n",
       "</style>\n",
       "<table border=\"1\" class=\"dataframe\">\n",
       "  <thead>\n",
       "    <tr style=\"text-align: right;\">\n",
       "      <th></th>\n",
       "      <th>driver_gender</th>\n",
       "      <th>violation</th>\n",
       "      <th>search_conducted</th>\n",
       "    </tr>\n",
       "  </thead>\n",
       "  <tbody>\n",
       "    <tr>\n",
       "      <th>0</th>\n",
       "      <td>M</td>\n",
       "      <td>Speeding</td>\n",
       "      <td>False</td>\n",
       "    </tr>\n",
       "    <tr>\n",
       "      <th>1</th>\n",
       "      <td>M</td>\n",
       "      <td>Speeding</td>\n",
       "      <td>False</td>\n",
       "    </tr>\n",
       "    <tr>\n",
       "      <th>2</th>\n",
       "      <td>M</td>\n",
       "      <td>Speeding</td>\n",
       "      <td>False</td>\n",
       "    </tr>\n",
       "    <tr>\n",
       "      <th>3</th>\n",
       "      <td>M</td>\n",
       "      <td>Other</td>\n",
       "      <td>False</td>\n",
       "    </tr>\n",
       "    <tr>\n",
       "      <th>4</th>\n",
       "      <td>F</td>\n",
       "      <td>Speeding</td>\n",
       "      <td>False</td>\n",
       "    </tr>\n",
       "  </tbody>\n",
       "</table>\n",
       "</div>"
      ],
      "text/plain": [
       "  driver_gender violation  search_conducted\n",
       "0             M  Speeding             False\n",
       "1             M  Speeding             False\n",
       "2             M  Speeding             False\n",
       "3             M     Other             False\n",
       "4             F  Speeding             False"
      ]
     },
     "execution_count": 30,
     "metadata": {},
     "output_type": "execute_result"
    }
   ],
   "source": [
    "df2_1.head()"
   ]
  },
  {
   "cell_type": "code",
   "execution_count": 31,
   "id": "34c0c068",
   "metadata": {
    "execution": {
     "iopub.execute_input": "2022-04-20T06:13:30.224114Z",
     "iopub.status.busy": "2022-04-20T06:13:30.223833Z",
     "iopub.status.idle": "2022-04-20T06:13:30.262826Z",
     "shell.execute_reply": "2022-04-20T06:13:30.261931Z"
    },
    "papermill": {
     "duration": 0.118215,
     "end_time": "2022-04-20T06:13:30.265007",
     "exception": false,
     "start_time": "2022-04-20T06:13:30.146792",
     "status": "completed"
    },
    "tags": []
   },
   "outputs": [
    {
     "data": {
      "text/plain": [
       "search_conducted  violation            driver_gender\n",
       "False             Equipment            M                 7935\n",
       "                                       F                 2381\n",
       "                  Moving violation     M                12241\n",
       "                                       F                 3088\n",
       "                  Other                M                 3456\n",
       "                                       F                  651\n",
       "                  Registration/plates  M                 2152\n",
       "                                       F                  946\n",
       "                  Seat belt            M                 2229\n",
       "                                       F                  627\n",
       "                  Speeding             M                32157\n",
       "                                       F                15347\n",
       "True              Equipment            M                  598\n",
       "                                       F                  106\n",
       "                  Moving violation     M                  779\n",
       "                                       F                  116\n",
       "                  Other                M                  171\n",
       "                                       F                   39\n",
       "                  Registration/plates  M                  267\n",
       "                                       F                   67\n",
       "                  Seat belt            M                   88\n",
       "                                       F                    8\n",
       "                  Speeding             M                  822\n",
       "                                       F                  135\n",
       "Name: driver_gender, dtype: int64"
      ]
     },
     "execution_count": 31,
     "metadata": {},
     "output_type": "execute_result"
    }
   ],
   "source": [
    "df2_1.groupby(['search_conducted','violation']).driver_gender.value_counts()"
   ]
  },
  {
   "cell_type": "code",
   "execution_count": 32,
   "id": "4519c0f2",
   "metadata": {
    "execution": {
     "iopub.execute_input": "2022-04-20T06:13:30.418552Z",
     "iopub.status.busy": "2022-04-20T06:13:30.417991Z",
     "iopub.status.idle": "2022-04-20T06:13:30.427961Z",
     "shell.execute_reply": "2022-04-20T06:13:30.427023Z"
    },
    "papermill": {
     "duration": 0.089628,
     "end_time": "2022-04-20T06:13:30.430181",
     "exception": false,
     "start_time": "2022-04-20T06:13:30.340553",
     "status": "completed"
    },
    "tags": []
   },
   "outputs": [
    {
     "data": {
      "text/plain": [
       "Speeding               957\n",
       "Moving violation       895\n",
       "Equipment              704\n",
       "Registration/plates    334\n",
       "Other                  210\n",
       "Seat belt               96\n",
       "Name: violation, dtype: int64"
      ]
     },
     "execution_count": 32,
     "metadata": {},
     "output_type": "execute_result"
    }
   ],
   "source": [
    "df2_1[df2_1.search_conducted==True].violation.value_counts()"
   ]
  },
  {
   "cell_type": "code",
   "execution_count": 33,
   "id": "63280980",
   "metadata": {
    "execution": {
     "iopub.execute_input": "2022-04-20T06:13:30.582287Z",
     "iopub.status.busy": "2022-04-20T06:13:30.581984Z",
     "iopub.status.idle": "2022-04-20T06:13:30.592704Z",
     "shell.execute_reply": "2022-04-20T06:13:30.592025Z"
    },
    "papermill": {
     "duration": 0.089743,
     "end_time": "2022-04-20T06:13:30.594822",
     "exception": false,
     "start_time": "2022-04-20T06:13:30.505079",
     "status": "completed"
    },
    "tags": []
   },
   "outputs": [
    {
     "data": {
      "text/plain": [
       "Speeding               0.299437\n",
       "Moving violation       0.280038\n",
       "Equipment              0.220275\n",
       "Registration/plates    0.104506\n",
       "Other                  0.065707\n",
       "Seat belt              0.030038\n",
       "Name: violation, dtype: float64"
      ]
     },
     "execution_count": 33,
     "metadata": {},
     "output_type": "execute_result"
    }
   ],
   "source": [
    "df2_1[df2_1.search_conducted==True].violation.value_counts(normalize=True)"
   ]
  },
  {
   "cell_type": "code",
   "execution_count": 34,
   "id": "3e82b4fa",
   "metadata": {
    "execution": {
     "iopub.execute_input": "2022-04-20T06:13:30.750164Z",
     "iopub.status.busy": "2022-04-20T06:13:30.749659Z",
     "iopub.status.idle": "2022-04-20T06:13:30.757505Z",
     "shell.execute_reply": "2022-04-20T06:13:30.756578Z"
    },
    "papermill": {
     "duration": 0.088183,
     "end_time": "2022-04-20T06:13:30.759994",
     "exception": false,
     "start_time": "2022-04-20T06:13:30.671811",
     "status": "completed"
    },
    "tags": []
   },
   "outputs": [],
   "source": [
    "df4=df.copy()"
   ]
  },
  {
   "cell_type": "code",
   "execution_count": 35,
   "id": "751cd062",
   "metadata": {
    "execution": {
     "iopub.execute_input": "2022-04-20T06:13:30.916949Z",
     "iopub.status.busy": "2022-04-20T06:13:30.916686Z",
     "iopub.status.idle": "2022-04-20T06:13:31.005446Z",
     "shell.execute_reply": "2022-04-20T06:13:31.003872Z"
    },
    "papermill": {
     "duration": 0.167909,
     "end_time": "2022-04-20T06:13:31.007537",
     "exception": false,
     "start_time": "2022-04-20T06:13:30.839628",
     "status": "completed"
    },
    "tags": []
   },
   "outputs": [
    {
     "name": "stdout",
     "output_type": "stream",
     "text": [
      "<class 'pandas.core.frame.DataFrame'>\n",
      "RangeIndex: 91741 entries, 0 to 91740\n",
      "Data columns (total 15 columns):\n",
      " #   Column              Non-Null Count  Dtype  \n",
      "---  ------              --------------  -----  \n",
      " 0   stop_date           91741 non-null  object \n",
      " 1   stop_time           91741 non-null  object \n",
      " 2   county_name         0 non-null      float64\n",
      " 3   driver_gender       86406 non-null  object \n",
      " 4   driver_age_raw      86414 non-null  float64\n",
      " 5   driver_age          86120 non-null  float64\n",
      " 6   driver_race         86408 non-null  object \n",
      " 7   violation_raw       86408 non-null  object \n",
      " 8   violation           86408 non-null  object \n",
      " 9   search_conducted    91741 non-null  bool   \n",
      " 10  search_type         3196 non-null   object \n",
      " 11  stop_outcome        86408 non-null  object \n",
      " 12  is_arrested         86408 non-null  object \n",
      " 13  stop_duration       86408 non-null  object \n",
      " 14  drugs_related_stop  91741 non-null  bool   \n",
      "dtypes: bool(2), float64(3), object(10)\n",
      "memory usage: 9.3+ MB\n"
     ]
    }
   ],
   "source": [
    "df4.info()"
   ]
  },
  {
   "cell_type": "code",
   "execution_count": 36,
   "id": "bb494a60",
   "metadata": {
    "execution": {
     "iopub.execute_input": "2022-04-20T06:13:31.160773Z",
     "iopub.status.busy": "2022-04-20T06:13:31.160268Z",
     "iopub.status.idle": "2022-04-20T06:13:31.169547Z",
     "shell.execute_reply": "2022-04-20T06:13:31.168774Z"
    },
    "papermill": {
     "duration": 0.088393,
     "end_time": "2022-04-20T06:13:31.171737",
     "exception": false,
     "start_time": "2022-04-20T06:13:31.083344",
     "status": "completed"
    },
    "tags": []
   },
   "outputs": [],
   "source": [
    "df4.drop(df4.iloc[[],[0,1,2,4,5,6,7,10,11,12,13,14]],axis=1,inplace=True)"
   ]
  },
  {
   "cell_type": "code",
   "execution_count": 37,
   "id": "3759717a",
   "metadata": {
    "execution": {
     "iopub.execute_input": "2022-04-20T06:13:31.324566Z",
     "iopub.status.busy": "2022-04-20T06:13:31.324066Z",
     "iopub.status.idle": "2022-04-20T06:13:31.334001Z",
     "shell.execute_reply": "2022-04-20T06:13:31.333210Z"
    },
    "papermill": {
     "duration": 0.089391,
     "end_time": "2022-04-20T06:13:31.335984",
     "exception": false,
     "start_time": "2022-04-20T06:13:31.246593",
     "status": "completed"
    },
    "tags": []
   },
   "outputs": [
    {
     "data": {
      "text/html": [
       "<div>\n",
       "<style scoped>\n",
       "    .dataframe tbody tr th:only-of-type {\n",
       "        vertical-align: middle;\n",
       "    }\n",
       "\n",
       "    .dataframe tbody tr th {\n",
       "        vertical-align: top;\n",
       "    }\n",
       "\n",
       "    .dataframe thead th {\n",
       "        text-align: right;\n",
       "    }\n",
       "</style>\n",
       "<table border=\"1\" class=\"dataframe\">\n",
       "  <thead>\n",
       "    <tr style=\"text-align: right;\">\n",
       "      <th></th>\n",
       "      <th>driver_gender</th>\n",
       "      <th>violation</th>\n",
       "      <th>search_conducted</th>\n",
       "    </tr>\n",
       "  </thead>\n",
       "  <tbody>\n",
       "    <tr>\n",
       "      <th>0</th>\n",
       "      <td>M</td>\n",
       "      <td>Speeding</td>\n",
       "      <td>False</td>\n",
       "    </tr>\n",
       "    <tr>\n",
       "      <th>1</th>\n",
       "      <td>M</td>\n",
       "      <td>Speeding</td>\n",
       "      <td>False</td>\n",
       "    </tr>\n",
       "    <tr>\n",
       "      <th>2</th>\n",
       "      <td>M</td>\n",
       "      <td>Speeding</td>\n",
       "      <td>False</td>\n",
       "    </tr>\n",
       "    <tr>\n",
       "      <th>3</th>\n",
       "      <td>M</td>\n",
       "      <td>Other</td>\n",
       "      <td>False</td>\n",
       "    </tr>\n",
       "    <tr>\n",
       "      <th>4</th>\n",
       "      <td>F</td>\n",
       "      <td>Speeding</td>\n",
       "      <td>False</td>\n",
       "    </tr>\n",
       "  </tbody>\n",
       "</table>\n",
       "</div>"
      ],
      "text/plain": [
       "  driver_gender violation  search_conducted\n",
       "0             M  Speeding             False\n",
       "1             M  Speeding             False\n",
       "2             M  Speeding             False\n",
       "3             M     Other             False\n",
       "4             F  Speeding             False"
      ]
     },
     "execution_count": 37,
     "metadata": {},
     "output_type": "execute_result"
    }
   ],
   "source": [
    "df4.head()"
   ]
  },
  {
   "cell_type": "code",
   "execution_count": 38,
   "id": "7c608983",
   "metadata": {
    "execution": {
     "iopub.execute_input": "2022-04-20T06:13:31.492784Z",
     "iopub.status.busy": "2022-04-20T06:13:31.492295Z",
     "iopub.status.idle": "2022-04-20T06:13:31.528797Z",
     "shell.execute_reply": "2022-04-20T06:13:31.527738Z"
    },
    "papermill": {
     "duration": 0.117331,
     "end_time": "2022-04-20T06:13:31.531006",
     "exception": false,
     "start_time": "2022-04-20T06:13:31.413675",
     "status": "completed"
    },
    "tags": []
   },
   "outputs": [
    {
     "data": {
      "text/plain": [
       "search_conducted  violation            driver_gender\n",
       "False             Equipment            M                 7935\n",
       "                                       F                 2381\n",
       "                  Moving violation     M                12241\n",
       "                                       F                 3088\n",
       "                  Other                M                 3456\n",
       "                                       F                  651\n",
       "                  Registration/plates  M                 2152\n",
       "                                       F                  946\n",
       "                  Seat belt            M                 2229\n",
       "                                       F                  627\n",
       "                  Speeding             M                32157\n",
       "                                       F                15347\n",
       "True              Equipment            M                  598\n",
       "                                       F                  106\n",
       "                  Moving violation     M                  779\n",
       "                                       F                  116\n",
       "                  Other                M                  171\n",
       "                                       F                   39\n",
       "                  Registration/plates  M                  267\n",
       "                                       F                   67\n",
       "                  Seat belt            M                   88\n",
       "                                       F                    8\n",
       "                  Speeding             M                  822\n",
       "                                       F                  135\n",
       "Name: driver_gender, dtype: int64"
      ]
     },
     "execution_count": 38,
     "metadata": {},
     "output_type": "execute_result"
    }
   ],
   "source": [
    "df4.groupby(['search_conducted','violation']).driver_gender.value_counts()"
   ]
  },
  {
   "cell_type": "code",
   "execution_count": 39,
   "id": "70424e8d",
   "metadata": {
    "execution": {
     "iopub.execute_input": "2022-04-20T06:13:31.687291Z",
     "iopub.status.busy": "2022-04-20T06:13:31.686919Z",
     "iopub.status.idle": "2022-04-20T06:13:31.694701Z",
     "shell.execute_reply": "2022-04-20T06:13:31.693953Z"
    },
    "papermill": {
     "duration": 0.088252,
     "end_time": "2022-04-20T06:13:31.696967",
     "exception": false,
     "start_time": "2022-04-20T06:13:31.608715",
     "status": "completed"
    },
    "tags": []
   },
   "outputs": [],
   "source": [
    "df3=df.copy()"
   ]
  },
  {
   "cell_type": "code",
   "execution_count": 40,
   "id": "7a343ca5",
   "metadata": {
    "execution": {
     "iopub.execute_input": "2022-04-20T06:13:31.858050Z",
     "iopub.status.busy": "2022-04-20T06:13:31.857360Z",
     "iopub.status.idle": "2022-04-20T06:13:31.947801Z",
     "shell.execute_reply": "2022-04-20T06:13:31.945948Z"
    },
    "papermill": {
     "duration": 0.17357,
     "end_time": "2022-04-20T06:13:31.950351",
     "exception": false,
     "start_time": "2022-04-20T06:13:31.776781",
     "status": "completed"
    },
    "tags": []
   },
   "outputs": [
    {
     "name": "stdout",
     "output_type": "stream",
     "text": [
      "<class 'pandas.core.frame.DataFrame'>\n",
      "RangeIndex: 91741 entries, 0 to 91740\n",
      "Data columns (total 15 columns):\n",
      " #   Column              Non-Null Count  Dtype  \n",
      "---  ------              --------------  -----  \n",
      " 0   stop_date           91741 non-null  object \n",
      " 1   stop_time           91741 non-null  object \n",
      " 2   county_name         0 non-null      float64\n",
      " 3   driver_gender       86406 non-null  object \n",
      " 4   driver_age_raw      86414 non-null  float64\n",
      " 5   driver_age          86120 non-null  float64\n",
      " 6   driver_race         86408 non-null  object \n",
      " 7   violation_raw       86408 non-null  object \n",
      " 8   violation           86408 non-null  object \n",
      " 9   search_conducted    91741 non-null  bool   \n",
      " 10  search_type         3196 non-null   object \n",
      " 11  stop_outcome        86408 non-null  object \n",
      " 12  is_arrested         86408 non-null  object \n",
      " 13  stop_duration       86408 non-null  object \n",
      " 14  drugs_related_stop  91741 non-null  bool   \n",
      "dtypes: bool(2), float64(3), object(10)\n",
      "memory usage: 9.3+ MB\n"
     ]
    }
   ],
   "source": [
    "df3.info()"
   ]
  },
  {
   "cell_type": "code",
   "execution_count": 41,
   "id": "9afb177a",
   "metadata": {
    "execution": {
     "iopub.execute_input": "2022-04-20T06:13:32.109190Z",
     "iopub.status.busy": "2022-04-20T06:13:32.108755Z",
     "iopub.status.idle": "2022-04-20T06:13:32.117940Z",
     "shell.execute_reply": "2022-04-20T06:13:32.117184Z"
    },
    "papermill": {
     "duration": 0.091984,
     "end_time": "2022-04-20T06:13:32.119954",
     "exception": false,
     "start_time": "2022-04-20T06:13:32.027970",
     "status": "completed"
    },
    "tags": []
   },
   "outputs": [],
   "source": [
    "df3.drop(df3.iloc[[],[0,1,2,3,4,5,6,7,8,11,12,13,14]],axis=1,inplace=True)"
   ]
  },
  {
   "cell_type": "code",
   "execution_count": 42,
   "id": "7c4f187a",
   "metadata": {
    "execution": {
     "iopub.execute_input": "2022-04-20T06:13:32.277631Z",
     "iopub.status.busy": "2022-04-20T06:13:32.277177Z",
     "iopub.status.idle": "2022-04-20T06:13:32.285830Z",
     "shell.execute_reply": "2022-04-20T06:13:32.284860Z"
    },
    "papermill": {
     "duration": 0.091036,
     "end_time": "2022-04-20T06:13:32.288035",
     "exception": false,
     "start_time": "2022-04-20T06:13:32.196999",
     "status": "completed"
    },
    "tags": []
   },
   "outputs": [
    {
     "data": {
      "text/html": [
       "<div>\n",
       "<style scoped>\n",
       "    .dataframe tbody tr th:only-of-type {\n",
       "        vertical-align: middle;\n",
       "    }\n",
       "\n",
       "    .dataframe tbody tr th {\n",
       "        vertical-align: top;\n",
       "    }\n",
       "\n",
       "    .dataframe thead th {\n",
       "        text-align: right;\n",
       "    }\n",
       "</style>\n",
       "<table border=\"1\" class=\"dataframe\">\n",
       "  <thead>\n",
       "    <tr style=\"text-align: right;\">\n",
       "      <th></th>\n",
       "      <th>search_conducted</th>\n",
       "      <th>search_type</th>\n",
       "    </tr>\n",
       "  </thead>\n",
       "  <tbody>\n",
       "    <tr>\n",
       "      <th>0</th>\n",
       "      <td>False</td>\n",
       "      <td>NaN</td>\n",
       "    </tr>\n",
       "    <tr>\n",
       "      <th>1</th>\n",
       "      <td>False</td>\n",
       "      <td>NaN</td>\n",
       "    </tr>\n",
       "    <tr>\n",
       "      <th>2</th>\n",
       "      <td>False</td>\n",
       "      <td>NaN</td>\n",
       "    </tr>\n",
       "    <tr>\n",
       "      <th>3</th>\n",
       "      <td>False</td>\n",
       "      <td>NaN</td>\n",
       "    </tr>\n",
       "    <tr>\n",
       "      <th>4</th>\n",
       "      <td>False</td>\n",
       "      <td>NaN</td>\n",
       "    </tr>\n",
       "  </tbody>\n",
       "</table>\n",
       "</div>"
      ],
      "text/plain": [
       "   search_conducted search_type\n",
       "0             False         NaN\n",
       "1             False         NaN\n",
       "2             False         NaN\n",
       "3             False         NaN\n",
       "4             False         NaN"
      ]
     },
     "execution_count": 42,
     "metadata": {},
     "output_type": "execute_result"
    }
   ],
   "source": [
    "df3.head()"
   ]
  },
  {
   "cell_type": "code",
   "execution_count": 43,
   "id": "ac95b594",
   "metadata": {
    "execution": {
     "iopub.execute_input": "2022-04-20T06:13:32.449612Z",
     "iopub.status.busy": "2022-04-20T06:13:32.449320Z",
     "iopub.status.idle": "2022-04-20T06:13:32.460353Z",
     "shell.execute_reply": "2022-04-20T06:13:32.459536Z"
    },
    "papermill": {
     "duration": 0.093994,
     "end_time": "2022-04-20T06:13:32.462325",
     "exception": false,
     "start_time": "2022-04-20T06:13:32.368331",
     "status": "completed"
    },
    "tags": []
   },
   "outputs": [
    {
     "data": {
      "text/plain": [
       "Incident to Arrest                                          1219\n",
       "Probable Cause                                               891\n",
       "Inventory                                                    220\n",
       "Reasonable Suspicion                                         197\n",
       "Protective Frisk                                             161\n",
       "Incident to Arrest,Inventory                                 129\n",
       "Incident to Arrest,Probable Cause                            106\n",
       "Probable Cause,Reasonable Suspicion                           75\n",
       "Incident to Arrest,Inventory,Probable Cause                   34\n",
       "Incident to Arrest,Protective Frisk                           33\n",
       "Probable Cause,Protective Frisk                               33\n",
       "Inventory,Probable Cause                                      22\n",
       "Incident to Arrest,Reasonable Suspicion                       13\n",
       "Inventory,Protective Frisk                                    11\n",
       "Incident to Arrest,Inventory,Protective Frisk                 11\n",
       "Protective Frisk,Reasonable Suspicion                         11\n",
       "Incident to Arrest,Probable Cause,Protective Frisk            10\n",
       "Incident to Arrest,Probable Cause,Reasonable Suspicion         6\n",
       "Incident to Arrest,Inventory,Reasonable Suspicion              4\n",
       "Inventory,Reasonable Suspicion                                 4\n",
       "Inventory,Probable Cause,Protective Frisk                      2\n",
       "Inventory,Probable Cause,Reasonable Suspicion                  2\n",
       "Incident to Arrest,Protective Frisk,Reasonable Suspicion       1\n",
       "Probable Cause,Protective Frisk,Reasonable Suspicion           1\n",
       "Name: search_type, dtype: int64"
      ]
     },
     "execution_count": 43,
     "metadata": {},
     "output_type": "execute_result"
    }
   ],
   "source": [
    "df3.search_type.value_counts()"
   ]
  },
  {
   "cell_type": "code",
   "execution_count": 44,
   "id": "1051e15a",
   "metadata": {
    "execution": {
     "iopub.execute_input": "2022-04-20T06:13:32.620271Z",
     "iopub.status.busy": "2022-04-20T06:13:32.619446Z",
     "iopub.status.idle": "2022-04-20T06:13:32.632207Z",
     "shell.execute_reply": "2022-04-20T06:13:32.631208Z"
    },
    "papermill": {
     "duration": 0.094249,
     "end_time": "2022-04-20T06:13:32.634435",
     "exception": false,
     "start_time": "2022-04-20T06:13:32.540186",
     "status": "completed"
    },
    "tags": []
   },
   "outputs": [
    {
     "data": {
      "text/plain": [
       "True    161\n",
       "Name: search_conducted, dtype: int64"
      ]
     },
     "execution_count": 44,
     "metadata": {},
     "output_type": "execute_result"
    }
   ],
   "source": [
    "df3[df3.search_type =='Protective Frisk'].search_conducted.value_counts()"
   ]
  },
  {
   "cell_type": "code",
   "execution_count": 45,
   "id": "9be89332",
   "metadata": {
    "execution": {
     "iopub.execute_input": "2022-04-20T06:13:32.794361Z",
     "iopub.status.busy": "2022-04-20T06:13:32.793766Z",
     "iopub.status.idle": "2022-04-20T06:13:32.806963Z",
     "shell.execute_reply": "2022-04-20T06:13:32.805959Z"
    },
    "papermill": {
     "duration": 0.095744,
     "end_time": "2022-04-20T06:13:32.809551",
     "exception": false,
     "start_time": "2022-04-20T06:13:32.713807",
     "status": "completed"
    },
    "tags": []
   },
   "outputs": [
    {
     "data": {
      "text/html": [
       "<div>\n",
       "<style scoped>\n",
       "    .dataframe tbody tr th:only-of-type {\n",
       "        vertical-align: middle;\n",
       "    }\n",
       "\n",
       "    .dataframe tbody tr th {\n",
       "        vertical-align: top;\n",
       "    }\n",
       "\n",
       "    .dataframe thead th {\n",
       "        text-align: right;\n",
       "    }\n",
       "</style>\n",
       "<table border=\"1\" class=\"dataframe\">\n",
       "  <thead>\n",
       "    <tr style=\"text-align: right;\">\n",
       "      <th></th>\n",
       "      <th>search_conducted</th>\n",
       "      <th>search_type</th>\n",
       "    </tr>\n",
       "  </thead>\n",
       "  <tbody>\n",
       "    <tr>\n",
       "      <th>0</th>\n",
       "      <td>False</td>\n",
       "      <td>NaN</td>\n",
       "    </tr>\n",
       "    <tr>\n",
       "      <th>1</th>\n",
       "      <td>False</td>\n",
       "      <td>NaN</td>\n",
       "    </tr>\n",
       "    <tr>\n",
       "      <th>2</th>\n",
       "      <td>False</td>\n",
       "      <td>NaN</td>\n",
       "    </tr>\n",
       "    <tr>\n",
       "      <th>3</th>\n",
       "      <td>False</td>\n",
       "      <td>NaN</td>\n",
       "    </tr>\n",
       "    <tr>\n",
       "      <th>4</th>\n",
       "      <td>False</td>\n",
       "      <td>NaN</td>\n",
       "    </tr>\n",
       "    <tr>\n",
       "      <th>...</th>\n",
       "      <td>...</td>\n",
       "      <td>...</td>\n",
       "    </tr>\n",
       "    <tr>\n",
       "      <th>91736</th>\n",
       "      <td>False</td>\n",
       "      <td>NaN</td>\n",
       "    </tr>\n",
       "    <tr>\n",
       "      <th>91737</th>\n",
       "      <td>False</td>\n",
       "      <td>NaN</td>\n",
       "    </tr>\n",
       "    <tr>\n",
       "      <th>91738</th>\n",
       "      <td>False</td>\n",
       "      <td>NaN</td>\n",
       "    </tr>\n",
       "    <tr>\n",
       "      <th>91739</th>\n",
       "      <td>False</td>\n",
       "      <td>NaN</td>\n",
       "    </tr>\n",
       "    <tr>\n",
       "      <th>91740</th>\n",
       "      <td>False</td>\n",
       "      <td>NaN</td>\n",
       "    </tr>\n",
       "  </tbody>\n",
       "</table>\n",
       "<p>91741 rows × 2 columns</p>\n",
       "</div>"
      ],
      "text/plain": [
       "       search_conducted search_type\n",
       "0                 False         NaN\n",
       "1                 False         NaN\n",
       "2                 False         NaN\n",
       "3                 False         NaN\n",
       "4                 False         NaN\n",
       "...                 ...         ...\n",
       "91736             False         NaN\n",
       "91737             False         NaN\n",
       "91738             False         NaN\n",
       "91739             False         NaN\n",
       "91740             False         NaN\n",
       "\n",
       "[91741 rows x 2 columns]"
      ]
     },
     "execution_count": 45,
     "metadata": {},
     "output_type": "execute_result"
    }
   ],
   "source": [
    "df3"
   ]
  },
  {
   "cell_type": "code",
   "execution_count": 46,
   "id": "94e6b50a",
   "metadata": {
    "execution": {
     "iopub.execute_input": "2022-04-20T06:13:32.971852Z",
     "iopub.status.busy": "2022-04-20T06:13:32.970948Z",
     "iopub.status.idle": "2022-04-20T06:13:32.978904Z",
     "shell.execute_reply": "2022-04-20T06:13:32.978219Z"
    },
    "papermill": {
     "duration": 0.091588,
     "end_time": "2022-04-20T06:13:32.981191",
     "exception": false,
     "start_time": "2022-04-20T06:13:32.889603",
     "status": "completed"
    },
    "tags": []
   },
   "outputs": [],
   "source": [
    "df5=df.copy()"
   ]
  },
  {
   "cell_type": "code",
   "execution_count": 47,
   "id": "dfa50f53",
   "metadata": {
    "execution": {
     "iopub.execute_input": "2022-04-20T06:13:33.142230Z",
     "iopub.status.busy": "2022-04-20T06:13:33.141722Z",
     "iopub.status.idle": "2022-04-20T06:13:33.228389Z",
     "shell.execute_reply": "2022-04-20T06:13:33.227700Z"
    },
    "papermill": {
     "duration": 0.171111,
     "end_time": "2022-04-20T06:13:33.231464",
     "exception": false,
     "start_time": "2022-04-20T06:13:33.060353",
     "status": "completed"
    },
    "tags": []
   },
   "outputs": [
    {
     "name": "stdout",
     "output_type": "stream",
     "text": [
      "<class 'pandas.core.frame.DataFrame'>\n",
      "RangeIndex: 91741 entries, 0 to 91740\n",
      "Data columns (total 15 columns):\n",
      " #   Column              Non-Null Count  Dtype  \n",
      "---  ------              --------------  -----  \n",
      " 0   stop_date           91741 non-null  object \n",
      " 1   stop_time           91741 non-null  object \n",
      " 2   county_name         0 non-null      float64\n",
      " 3   driver_gender       86406 non-null  object \n",
      " 4   driver_age_raw      86414 non-null  float64\n",
      " 5   driver_age          86120 non-null  float64\n",
      " 6   driver_race         86408 non-null  object \n",
      " 7   violation_raw       86408 non-null  object \n",
      " 8   violation           86408 non-null  object \n",
      " 9   search_conducted    91741 non-null  bool   \n",
      " 10  search_type         3196 non-null   object \n",
      " 11  stop_outcome        86408 non-null  object \n",
      " 12  is_arrested         86408 non-null  object \n",
      " 13  stop_duration       86408 non-null  object \n",
      " 14  drugs_related_stop  91741 non-null  bool   \n",
      "dtypes: bool(2), float64(3), object(10)\n",
      "memory usage: 9.3+ MB\n"
     ]
    }
   ],
   "source": [
    "df5.info()"
   ]
  },
  {
   "cell_type": "code",
   "execution_count": 48,
   "id": "2d692b35",
   "metadata": {
    "execution": {
     "iopub.execute_input": "2022-04-20T06:13:33.396246Z",
     "iopub.status.busy": "2022-04-20T06:13:33.395691Z",
     "iopub.status.idle": "2022-04-20T06:13:33.404371Z",
     "shell.execute_reply": "2022-04-20T06:13:33.403553Z"
    },
    "papermill": {
     "duration": 0.09288,
     "end_time": "2022-04-20T06:13:33.406646",
     "exception": false,
     "start_time": "2022-04-20T06:13:33.313766",
     "status": "completed"
    },
    "tags": []
   },
   "outputs": [],
   "source": [
    "df6=df.search_type.dropna()"
   ]
  },
  {
   "cell_type": "code",
   "execution_count": 49,
   "id": "24a219e5",
   "metadata": {
    "execution": {
     "iopub.execute_input": "2022-04-20T06:13:33.569010Z",
     "iopub.status.busy": "2022-04-20T06:13:33.568595Z",
     "iopub.status.idle": "2022-04-20T06:13:33.575423Z",
     "shell.execute_reply": "2022-04-20T06:13:33.574547Z"
    },
    "papermill": {
     "duration": 0.090604,
     "end_time": "2022-04-20T06:13:33.577452",
     "exception": false,
     "start_time": "2022-04-20T06:13:33.486848",
     "status": "completed"
    },
    "tags": []
   },
   "outputs": [
    {
     "data": {
      "text/plain": [
       "24       Incident to Arrest,Protective Frisk\n",
       "40                            Probable Cause\n",
       "41                            Probable Cause\n",
       "80                        Incident to Arrest\n",
       "106                           Probable Cause\n",
       "                        ...                 \n",
       "91494                     Incident to Arrest\n",
       "91548                     Incident to Arrest\n",
       "91672                     Incident to Arrest\n",
       "91700    Probable Cause,Reasonable Suspicion\n",
       "91708                     Incident to Arrest\n",
       "Name: search_type, Length: 3196, dtype: object"
      ]
     },
     "execution_count": 49,
     "metadata": {},
     "output_type": "execute_result"
    }
   ],
   "source": [
    "df6"
   ]
  },
  {
   "cell_type": "code",
   "execution_count": 50,
   "id": "bd4d106b",
   "metadata": {
    "execution": {
     "iopub.execute_input": "2022-04-20T06:13:33.741949Z",
     "iopub.status.busy": "2022-04-20T06:13:33.741536Z",
     "iopub.status.idle": "2022-04-20T06:13:33.745095Z",
     "shell.execute_reply": "2022-04-20T06:13:33.744350Z"
    },
    "papermill": {
     "duration": 0.087018,
     "end_time": "2022-04-20T06:13:33.747040",
     "exception": false,
     "start_time": "2022-04-20T06:13:33.660022",
     "status": "completed"
    },
    "tags": []
   },
   "outputs": [],
   "source": [
    "x = df6.tolist()"
   ]
  },
  {
   "cell_type": "code",
   "execution_count": 51,
   "id": "4ecb4f20",
   "metadata": {
    "execution": {
     "iopub.execute_input": "2022-04-20T06:13:33.914638Z",
     "iopub.status.busy": "2022-04-20T06:13:33.914153Z",
     "iopub.status.idle": "2022-04-20T06:13:33.919690Z",
     "shell.execute_reply": "2022-04-20T06:13:33.919076Z"
    },
    "papermill": {
     "duration": 0.090249,
     "end_time": "2022-04-20T06:13:33.921790",
     "exception": false,
     "start_time": "2022-04-20T06:13:33.831541",
     "status": "completed"
    },
    "tags": []
   },
   "outputs": [],
   "source": [
    "a=[]\n",
    "c = 0\n",
    "for i in x:\n",
    "    b = i.split(',')\n",
    "    if \"Protective Frisk\" in b:\n",
    "        a.append(b)\n",
    "        c = c+1"
   ]
  },
  {
   "cell_type": "code",
   "execution_count": 52,
   "id": "aff17bb9",
   "metadata": {
    "execution": {
     "iopub.execute_input": "2022-04-20T06:13:34.088186Z",
     "iopub.status.busy": "2022-04-20T06:13:34.087628Z",
     "iopub.status.idle": "2022-04-20T06:13:34.092877Z",
     "shell.execute_reply": "2022-04-20T06:13:34.092193Z"
    },
    "papermill": {
     "duration": 0.091003,
     "end_time": "2022-04-20T06:13:34.095102",
     "exception": false,
     "start_time": "2022-04-20T06:13:34.004099",
     "status": "completed"
    },
    "tags": []
   },
   "outputs": [
    {
     "data": {
      "text/plain": [
       "274"
      ]
     },
     "execution_count": 52,
     "metadata": {},
     "output_type": "execute_result"
    }
   ],
   "source": [
    "c"
   ]
  },
  {
   "cell_type": "code",
   "execution_count": 53,
   "id": "f89108fe",
   "metadata": {
    "execution": {
     "iopub.execute_input": "2022-04-20T06:13:34.261340Z",
     "iopub.status.busy": "2022-04-20T06:13:34.261036Z",
     "iopub.status.idle": "2022-04-20T06:13:34.268108Z",
     "shell.execute_reply": "2022-04-20T06:13:34.267467Z"
    },
    "papermill": {
     "duration": 0.092248,
     "end_time": "2022-04-20T06:13:34.270208",
     "exception": false,
     "start_time": "2022-04-20T06:13:34.177960",
     "status": "completed"
    },
    "tags": []
   },
   "outputs": [
    {
     "data": {
      "text/plain": [
       "0        NaN\n",
       "1        NaN\n",
       "2        NaN\n",
       "3        NaN\n",
       "4        NaN\n",
       "        ... \n",
       "91736    NaN\n",
       "91737    NaN\n",
       "91738    NaN\n",
       "91739    NaN\n",
       "91740    NaN\n",
       "Name: search_type, Length: 91741, dtype: object"
      ]
     },
     "execution_count": 53,
     "metadata": {},
     "output_type": "execute_result"
    }
   ],
   "source": [
    "df5.search_type"
   ]
  },
  {
   "cell_type": "code",
   "execution_count": 54,
   "id": "f850e117",
   "metadata": {
    "execution": {
     "iopub.execute_input": "2022-04-20T06:13:34.436431Z",
     "iopub.status.busy": "2022-04-20T06:13:34.435772Z",
     "iopub.status.idle": "2022-04-20T06:13:34.440468Z",
     "shell.execute_reply": "2022-04-20T06:13:34.439765Z"
    },
    "papermill": {
     "duration": 0.090101,
     "end_time": "2022-04-20T06:13:34.442557",
     "exception": false,
     "start_time": "2022-04-20T06:13:34.352456",
     "status": "completed"
    },
    "tags": []
   },
   "outputs": [],
   "source": [
    "df7=df5.search_type.tolist()"
   ]
  },
  {
   "cell_type": "code",
   "execution_count": 55,
   "id": "fde89ca0",
   "metadata": {
    "execution": {
     "iopub.execute_input": "2022-04-20T06:13:34.607643Z",
     "iopub.status.busy": "2022-04-20T06:13:34.607246Z",
     "iopub.status.idle": "2022-04-20T06:13:34.687042Z",
     "shell.execute_reply": "2022-04-20T06:13:34.686324Z"
    },
    "papermill": {
     "duration": 0.164113,
     "end_time": "2022-04-20T06:13:34.689305",
     "exception": false,
     "start_time": "2022-04-20T06:13:34.525192",
     "status": "completed"
    },
    "tags": []
   },
   "outputs": [],
   "source": [
    "z = []\n",
    "\n",
    "for i in df7:\n",
    "    i = str(i)\n",
    "    b = i.split(',')\n",
    "    for j in b:\n",
    "        if j not in z:\n",
    "            z.append(j)"
   ]
  },
  {
   "cell_type": "code",
   "execution_count": 56,
   "id": "e01c9d72",
   "metadata": {
    "execution": {
     "iopub.execute_input": "2022-04-20T06:13:34.856762Z",
     "iopub.status.busy": "2022-04-20T06:13:34.856358Z",
     "iopub.status.idle": "2022-04-20T06:13:34.860971Z",
     "shell.execute_reply": "2022-04-20T06:13:34.860335Z"
    },
    "papermill": {
     "duration": 0.091609,
     "end_time": "2022-04-20T06:13:34.862945",
     "exception": false,
     "start_time": "2022-04-20T06:13:34.771336",
     "status": "completed"
    },
    "tags": []
   },
   "outputs": [
    {
     "data": {
      "text/plain": [
       "['nan',\n",
       " 'Incident to Arrest',\n",
       " 'Protective Frisk',\n",
       " 'Probable Cause',\n",
       " 'Reasonable Suspicion',\n",
       " 'Inventory']"
      ]
     },
     "execution_count": 56,
     "metadata": {},
     "output_type": "execute_result"
    }
   ],
   "source": [
    "z"
   ]
  },
  {
   "cell_type": "code",
   "execution_count": 57,
   "id": "e757cb7b",
   "metadata": {
    "execution": {
     "iopub.execute_input": "2022-04-20T06:13:35.029940Z",
     "iopub.status.busy": "2022-04-20T06:13:35.029540Z",
     "iopub.status.idle": "2022-04-20T06:13:35.422795Z",
     "shell.execute_reply": "2022-04-20T06:13:35.422088Z"
    },
    "papermill": {
     "duration": 0.480901,
     "end_time": "2022-04-20T06:13:35.425153",
     "exception": false,
     "start_time": "2022-04-20T06:13:34.944252",
     "status": "completed"
    },
    "tags": []
   },
   "outputs": [],
   "source": [
    "c = {'Incident to Arrest':[],\n",
    " 'Protective Frisk':[],\n",
    " 'Probable Cause':[],\n",
    " 'Reasonable Suspicion':[],\n",
    " 'Inventory':[]}\n",
    "for i in c:\n",
    "    for j in df7:\n",
    "        j=str(j)\n",
    "        j = j.split(',')\n",
    "        if i in j:\n",
    "            c[i].append(1)\n",
    "        else:\n",
    "            c[i].append(0)\n",
    "#print(c)"
   ]
  },
  {
   "cell_type": "code",
   "execution_count": 58,
   "id": "5564e821",
   "metadata": {
    "execution": {
     "iopub.execute_input": "2022-04-20T06:13:35.592671Z",
     "iopub.status.busy": "2022-04-20T06:13:35.592271Z",
     "iopub.status.idle": "2022-04-20T06:13:35.776778Z",
     "shell.execute_reply": "2022-04-20T06:13:35.775854Z"
    },
    "papermill": {
     "duration": 0.271745,
     "end_time": "2022-04-20T06:13:35.778955",
     "exception": false,
     "start_time": "2022-04-20T06:13:35.507210",
     "status": "completed"
    },
    "tags": []
   },
   "outputs": [
    {
     "data": {
      "text/html": [
       "<div>\n",
       "<style scoped>\n",
       "    .dataframe tbody tr th:only-of-type {\n",
       "        vertical-align: middle;\n",
       "    }\n",
       "\n",
       "    .dataframe tbody tr th {\n",
       "        vertical-align: top;\n",
       "    }\n",
       "\n",
       "    .dataframe thead th {\n",
       "        text-align: right;\n",
       "    }\n",
       "</style>\n",
       "<table border=\"1\" class=\"dataframe\">\n",
       "  <thead>\n",
       "    <tr style=\"text-align: right;\">\n",
       "      <th></th>\n",
       "      <th>Incident to Arrest</th>\n",
       "      <th>Protective Frisk</th>\n",
       "      <th>Probable Cause</th>\n",
       "      <th>Reasonable Suspicion</th>\n",
       "      <th>Inventory</th>\n",
       "    </tr>\n",
       "  </thead>\n",
       "  <tbody>\n",
       "    <tr>\n",
       "      <th>0</th>\n",
       "      <td>0</td>\n",
       "      <td>0</td>\n",
       "      <td>0</td>\n",
       "      <td>0</td>\n",
       "      <td>0</td>\n",
       "    </tr>\n",
       "    <tr>\n",
       "      <th>1</th>\n",
       "      <td>0</td>\n",
       "      <td>0</td>\n",
       "      <td>0</td>\n",
       "      <td>0</td>\n",
       "      <td>0</td>\n",
       "    </tr>\n",
       "    <tr>\n",
       "      <th>2</th>\n",
       "      <td>0</td>\n",
       "      <td>0</td>\n",
       "      <td>0</td>\n",
       "      <td>0</td>\n",
       "      <td>0</td>\n",
       "    </tr>\n",
       "    <tr>\n",
       "      <th>3</th>\n",
       "      <td>0</td>\n",
       "      <td>0</td>\n",
       "      <td>0</td>\n",
       "      <td>0</td>\n",
       "      <td>0</td>\n",
       "    </tr>\n",
       "    <tr>\n",
       "      <th>4</th>\n",
       "      <td>0</td>\n",
       "      <td>0</td>\n",
       "      <td>0</td>\n",
       "      <td>0</td>\n",
       "      <td>0</td>\n",
       "    </tr>\n",
       "    <tr>\n",
       "      <th>...</th>\n",
       "      <td>...</td>\n",
       "      <td>...</td>\n",
       "      <td>...</td>\n",
       "      <td>...</td>\n",
       "      <td>...</td>\n",
       "    </tr>\n",
       "    <tr>\n",
       "      <th>91736</th>\n",
       "      <td>0</td>\n",
       "      <td>0</td>\n",
       "      <td>0</td>\n",
       "      <td>0</td>\n",
       "      <td>0</td>\n",
       "    </tr>\n",
       "    <tr>\n",
       "      <th>91737</th>\n",
       "      <td>0</td>\n",
       "      <td>0</td>\n",
       "      <td>0</td>\n",
       "      <td>0</td>\n",
       "      <td>0</td>\n",
       "    </tr>\n",
       "    <tr>\n",
       "      <th>91738</th>\n",
       "      <td>0</td>\n",
       "      <td>0</td>\n",
       "      <td>0</td>\n",
       "      <td>0</td>\n",
       "      <td>0</td>\n",
       "    </tr>\n",
       "    <tr>\n",
       "      <th>91739</th>\n",
       "      <td>0</td>\n",
       "      <td>0</td>\n",
       "      <td>0</td>\n",
       "      <td>0</td>\n",
       "      <td>0</td>\n",
       "    </tr>\n",
       "    <tr>\n",
       "      <th>91740</th>\n",
       "      <td>0</td>\n",
       "      <td>0</td>\n",
       "      <td>0</td>\n",
       "      <td>0</td>\n",
       "      <td>0</td>\n",
       "    </tr>\n",
       "  </tbody>\n",
       "</table>\n",
       "<p>91741 rows × 5 columns</p>\n",
       "</div>"
      ],
      "text/plain": [
       "       Incident to Arrest  Protective Frisk  Probable Cause  \\\n",
       "0                       0                 0               0   \n",
       "1                       0                 0               0   \n",
       "2                       0                 0               0   \n",
       "3                       0                 0               0   \n",
       "4                       0                 0               0   \n",
       "...                   ...               ...             ...   \n",
       "91736                   0                 0               0   \n",
       "91737                   0                 0               0   \n",
       "91738                   0                 0               0   \n",
       "91739                   0                 0               0   \n",
       "91740                   0                 0               0   \n",
       "\n",
       "       Reasonable Suspicion  Inventory  \n",
       "0                         0          0  \n",
       "1                         0          0  \n",
       "2                         0          0  \n",
       "3                         0          0  \n",
       "4                         0          0  \n",
       "...                     ...        ...  \n",
       "91736                     0          0  \n",
       "91737                     0          0  \n",
       "91738                     0          0  \n",
       "91739                     0          0  \n",
       "91740                     0          0  \n",
       "\n",
       "[91741 rows x 5 columns]"
      ]
     },
     "execution_count": 58,
     "metadata": {},
     "output_type": "execute_result"
    }
   ],
   "source": [
    "df8 = pd.DataFrame(c)\n",
    "df8"
   ]
  },
  {
   "cell_type": "code",
   "execution_count": 59,
   "id": "9b1d8c34",
   "metadata": {
    "execution": {
     "iopub.execute_input": "2022-04-20T06:13:35.947924Z",
     "iopub.status.busy": "2022-04-20T06:13:35.947520Z",
     "iopub.status.idle": "2022-04-20T06:13:35.955617Z",
     "shell.execute_reply": "2022-04-20T06:13:35.954688Z"
    },
    "papermill": {
     "duration": 0.094997,
     "end_time": "2022-04-20T06:13:35.957589",
     "exception": false,
     "start_time": "2022-04-20T06:13:35.862592",
     "status": "completed"
    },
    "tags": []
   },
   "outputs": [
    {
     "data": {
      "text/plain": [
       "Incident to Arrest      1566\n",
       "Protective Frisk         274\n",
       "Probable Cause          1182\n",
       "Reasonable Suspicion     314\n",
       "Inventory                439\n",
       "dtype: int64"
      ]
     },
     "execution_count": 59,
     "metadata": {},
     "output_type": "execute_result"
    }
   ],
   "source": [
    "df8.sum()"
   ]
  },
  {
   "cell_type": "code",
   "execution_count": 60,
   "id": "0989b0da",
   "metadata": {
    "execution": {
     "iopub.execute_input": "2022-04-20T06:13:36.123567Z",
     "iopub.status.busy": "2022-04-20T06:13:36.123292Z",
     "iopub.status.idle": "2022-04-20T06:13:36.135895Z",
     "shell.execute_reply": "2022-04-20T06:13:36.134933Z"
    },
    "papermill": {
     "duration": 0.098184,
     "end_time": "2022-04-20T06:13:36.138338",
     "exception": false,
     "start_time": "2022-04-20T06:13:36.040154",
     "status": "completed"
    },
    "tags": []
   },
   "outputs": [
    {
     "name": "stdout",
     "output_type": "stream",
     "text": [
      "<class 'pandas.core.frame.DataFrame'>\n",
      "RangeIndex: 91741 entries, 0 to 91740\n",
      "Data columns (total 5 columns):\n",
      " #   Column                Non-Null Count  Dtype\n",
      "---  ------                --------------  -----\n",
      " 0   Incident to Arrest    91741 non-null  int64\n",
      " 1   Protective Frisk      91741 non-null  int64\n",
      " 2   Probable Cause        91741 non-null  int64\n",
      " 3   Reasonable Suspicion  91741 non-null  int64\n",
      " 4   Inventory             91741 non-null  int64\n",
      "dtypes: int64(5)\n",
      "memory usage: 3.5 MB\n"
     ]
    }
   ],
   "source": [
    "df8.info()"
   ]
  }
 ],
 "metadata": {
  "kernelspec": {
   "display_name": "Python 3",
   "language": "python",
   "name": "python3"
  },
  "language_info": {
   "codemirror_mode": {
    "name": "ipython",
    "version": 3
   },
   "file_extension": ".py",
   "mimetype": "text/x-python",
   "name": "python",
   "nbconvert_exporter": "python",
   "pygments_lexer": "ipython3",
   "version": "3.7.12"
  },
  "papermill": {
   "default_parameters": {},
   "duration": 21.783339,
   "end_time": "2022-04-20T06:13:36.843077",
   "environment_variables": {},
   "exception": null,
   "input_path": "__notebook__.ipynb",
   "output_path": "__notebook__.ipynb",
   "parameters": {},
   "start_time": "2022-04-20T06:13:15.059738",
   "version": "2.3.4"
  }
 },
 "nbformat": 4,
 "nbformat_minor": 5
}
