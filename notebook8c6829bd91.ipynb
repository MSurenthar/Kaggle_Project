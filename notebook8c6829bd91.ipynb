{
 "cells": [
  {
   "cell_type": "code",
   "execution_count": 1,
   "id": "f5c83369",
   "metadata": {
    "_cell_guid": "b1076dfc-b9ad-4769-8c92-a6c4dae69d19",
    "_uuid": "8f2839f25d086af736a60e9eeb907d3b93b6e0e5",
    "execution": {
     "iopub.execute_input": "2022-04-20T11:36:18.543048Z",
     "iopub.status.busy": "2022-04-20T11:36:18.542607Z",
     "iopub.status.idle": "2022-04-20T11:36:18.562314Z",
     "shell.execute_reply": "2022-04-20T11:36:18.561546Z"
    },
    "papermill": {
     "duration": 0.095489,
     "end_time": "2022-04-20T11:36:18.565457",
     "exception": false,
     "start_time": "2022-04-20T11:36:18.469968",
     "status": "completed"
    },
    "tags": []
   },
   "outputs": [
    {
     "name": "stdout",
     "output_type": "stream",
     "text": [
      "/kaggle/input/stanford-open-policing-project/police_project.csv\n"
     ]
    }
   ],
   "source": [
    "# This Python 3 environment comes with many helpful analytics libraries installed\n",
    "# It is defined by the kaggle/python Docker image: https://github.com/kaggle/docker-python\n",
    "# For example, here's several helpful packages to load\n",
    "\n",
    "import numpy as np # linear algebra\n",
    "import pandas as pd # data processing, CSV file I/O (e.g. pd.read_csv)\n",
    "\n",
    "# Input data files are available in the read-only \"../input/\" directory\n",
    "# For example, running this (by clicking run or pressing Shift+Enter) will list all files under the input directory\n",
    "\n",
    "import os\n",
    "for dirname, _, filenames in os.walk('/kaggle/input'):\n",
    "    for filename in filenames:\n",
    "        print(os.path.join(dirname, filename))\n",
    "\n",
    "# You can write up to 20GB to the current directory (/kaggle/working/) that gets preserved as output when you create a version using \"Save & Run All\" \n",
    "# You can also write temporary files to /kaggle/temp/, but they won't be saved outside of the current session"
   ]
  },
  {
   "cell_type": "code",
   "execution_count": 2,
   "id": "64fa841f",
   "metadata": {
    "execution": {
     "iopub.execute_input": "2022-04-20T11:36:18.718573Z",
     "iopub.status.busy": "2022-04-20T11:36:18.718156Z",
     "iopub.status.idle": "2022-04-20T11:36:19.060104Z",
     "shell.execute_reply": "2022-04-20T11:36:19.058946Z"
    },
    "papermill": {
     "duration": 0.419385,
     "end_time": "2022-04-20T11:36:19.062711",
     "exception": false,
     "start_time": "2022-04-20T11:36:18.643326",
     "status": "completed"
    },
    "tags": []
   },
   "outputs": [],
   "source": [
    "df=pd.read_csv('../input/stanford-open-policing-project/police_project.csv')"
   ]
  },
  {
   "cell_type": "code",
   "execution_count": 3,
   "id": "affd3bb3",
   "metadata": {
    "execution": {
     "iopub.execute_input": "2022-04-20T11:36:19.214715Z",
     "iopub.status.busy": "2022-04-20T11:36:19.213747Z",
     "iopub.status.idle": "2022-04-20T11:36:19.246501Z",
     "shell.execute_reply": "2022-04-20T11:36:19.245644Z"
    },
    "papermill": {
     "duration": 0.111497,
     "end_time": "2022-04-20T11:36:19.250233",
     "exception": false,
     "start_time": "2022-04-20T11:36:19.138736",
     "status": "completed"
    },
    "tags": []
   },
   "outputs": [
    {
     "data": {
      "text/html": [
       "<div>\n",
       "<style scoped>\n",
       "    .dataframe tbody tr th:only-of-type {\n",
       "        vertical-align: middle;\n",
       "    }\n",
       "\n",
       "    .dataframe tbody tr th {\n",
       "        vertical-align: top;\n",
       "    }\n",
       "\n",
       "    .dataframe thead th {\n",
       "        text-align: right;\n",
       "    }\n",
       "</style>\n",
       "<table border=\"1\" class=\"dataframe\">\n",
       "  <thead>\n",
       "    <tr style=\"text-align: right;\">\n",
       "      <th></th>\n",
       "      <th>stop_date</th>\n",
       "      <th>stop_time</th>\n",
       "      <th>county_name</th>\n",
       "      <th>driver_gender</th>\n",
       "      <th>driver_age_raw</th>\n",
       "      <th>driver_age</th>\n",
       "      <th>driver_race</th>\n",
       "      <th>violation_raw</th>\n",
       "      <th>violation</th>\n",
       "      <th>search_conducted</th>\n",
       "      <th>search_type</th>\n",
       "      <th>stop_outcome</th>\n",
       "      <th>is_arrested</th>\n",
       "      <th>stop_duration</th>\n",
       "      <th>drugs_related_stop</th>\n",
       "    </tr>\n",
       "  </thead>\n",
       "  <tbody>\n",
       "    <tr>\n",
       "      <th>0</th>\n",
       "      <td>2005-01-02</td>\n",
       "      <td>01:55</td>\n",
       "      <td>NaN</td>\n",
       "      <td>M</td>\n",
       "      <td>1985.0</td>\n",
       "      <td>20.0</td>\n",
       "      <td>White</td>\n",
       "      <td>Speeding</td>\n",
       "      <td>Speeding</td>\n",
       "      <td>False</td>\n",
       "      <td>NaN</td>\n",
       "      <td>Citation</td>\n",
       "      <td>False</td>\n",
       "      <td>0-15 Min</td>\n",
       "      <td>False</td>\n",
       "    </tr>\n",
       "    <tr>\n",
       "      <th>1</th>\n",
       "      <td>2005-01-18</td>\n",
       "      <td>08:15</td>\n",
       "      <td>NaN</td>\n",
       "      <td>M</td>\n",
       "      <td>1965.0</td>\n",
       "      <td>40.0</td>\n",
       "      <td>White</td>\n",
       "      <td>Speeding</td>\n",
       "      <td>Speeding</td>\n",
       "      <td>False</td>\n",
       "      <td>NaN</td>\n",
       "      <td>Citation</td>\n",
       "      <td>False</td>\n",
       "      <td>0-15 Min</td>\n",
       "      <td>False</td>\n",
       "    </tr>\n",
       "    <tr>\n",
       "      <th>2</th>\n",
       "      <td>2005-01-23</td>\n",
       "      <td>23:15</td>\n",
       "      <td>NaN</td>\n",
       "      <td>M</td>\n",
       "      <td>1972.0</td>\n",
       "      <td>33.0</td>\n",
       "      <td>White</td>\n",
       "      <td>Speeding</td>\n",
       "      <td>Speeding</td>\n",
       "      <td>False</td>\n",
       "      <td>NaN</td>\n",
       "      <td>Citation</td>\n",
       "      <td>False</td>\n",
       "      <td>0-15 Min</td>\n",
       "      <td>False</td>\n",
       "    </tr>\n",
       "    <tr>\n",
       "      <th>3</th>\n",
       "      <td>2005-02-20</td>\n",
       "      <td>17:15</td>\n",
       "      <td>NaN</td>\n",
       "      <td>M</td>\n",
       "      <td>1986.0</td>\n",
       "      <td>19.0</td>\n",
       "      <td>White</td>\n",
       "      <td>Call for Service</td>\n",
       "      <td>Other</td>\n",
       "      <td>False</td>\n",
       "      <td>NaN</td>\n",
       "      <td>Arrest Driver</td>\n",
       "      <td>True</td>\n",
       "      <td>16-30 Min</td>\n",
       "      <td>False</td>\n",
       "    </tr>\n",
       "    <tr>\n",
       "      <th>4</th>\n",
       "      <td>2005-03-14</td>\n",
       "      <td>10:00</td>\n",
       "      <td>NaN</td>\n",
       "      <td>F</td>\n",
       "      <td>1984.0</td>\n",
       "      <td>21.0</td>\n",
       "      <td>White</td>\n",
       "      <td>Speeding</td>\n",
       "      <td>Speeding</td>\n",
       "      <td>False</td>\n",
       "      <td>NaN</td>\n",
       "      <td>Citation</td>\n",
       "      <td>False</td>\n",
       "      <td>0-15 Min</td>\n",
       "      <td>False</td>\n",
       "    </tr>\n",
       "  </tbody>\n",
       "</table>\n",
       "</div>"
      ],
      "text/plain": [
       "    stop_date stop_time  county_name driver_gender  driver_age_raw  \\\n",
       "0  2005-01-02     01:55          NaN             M          1985.0   \n",
       "1  2005-01-18     08:15          NaN             M          1965.0   \n",
       "2  2005-01-23     23:15          NaN             M          1972.0   \n",
       "3  2005-02-20     17:15          NaN             M          1986.0   \n",
       "4  2005-03-14     10:00          NaN             F          1984.0   \n",
       "\n",
       "   driver_age driver_race     violation_raw violation  search_conducted  \\\n",
       "0        20.0       White          Speeding  Speeding             False   \n",
       "1        40.0       White          Speeding  Speeding             False   \n",
       "2        33.0       White          Speeding  Speeding             False   \n",
       "3        19.0       White  Call for Service     Other             False   \n",
       "4        21.0       White          Speeding  Speeding             False   \n",
       "\n",
       "  search_type   stop_outcome is_arrested stop_duration  drugs_related_stop  \n",
       "0         NaN       Citation       False      0-15 Min               False  \n",
       "1         NaN       Citation       False      0-15 Min               False  \n",
       "2         NaN       Citation       False      0-15 Min               False  \n",
       "3         NaN  Arrest Driver        True     16-30 Min               False  \n",
       "4         NaN       Citation       False      0-15 Min               False  "
      ]
     },
     "execution_count": 3,
     "metadata": {},
     "output_type": "execute_result"
    }
   ],
   "source": [
    "df.head()"
   ]
  },
  {
   "cell_type": "code",
   "execution_count": 4,
   "id": "03714164",
   "metadata": {
    "execution": {
     "iopub.execute_input": "2022-04-20T11:36:19.417453Z",
     "iopub.status.busy": "2022-04-20T11:36:19.416554Z",
     "iopub.status.idle": "2022-04-20T11:36:19.543434Z",
     "shell.execute_reply": "2022-04-20T11:36:19.542076Z"
    },
    "papermill": {
     "duration": 0.214033,
     "end_time": "2022-04-20T11:36:19.546201",
     "exception": false,
     "start_time": "2022-04-20T11:36:19.332168",
     "status": "completed"
    },
    "tags": []
   },
   "outputs": [
    {
     "name": "stdout",
     "output_type": "stream",
     "text": [
      "<class 'pandas.core.frame.DataFrame'>\n",
      "RangeIndex: 91741 entries, 0 to 91740\n",
      "Data columns (total 15 columns):\n",
      " #   Column              Non-Null Count  Dtype  \n",
      "---  ------              --------------  -----  \n",
      " 0   stop_date           91741 non-null  object \n",
      " 1   stop_time           91741 non-null  object \n",
      " 2   county_name         0 non-null      float64\n",
      " 3   driver_gender       86406 non-null  object \n",
      " 4   driver_age_raw      86414 non-null  float64\n",
      " 5   driver_age          86120 non-null  float64\n",
      " 6   driver_race         86408 non-null  object \n",
      " 7   violation_raw       86408 non-null  object \n",
      " 8   violation           86408 non-null  object \n",
      " 9   search_conducted    91741 non-null  bool   \n",
      " 10  search_type         3196 non-null   object \n",
      " 11  stop_outcome        86408 non-null  object \n",
      " 12  is_arrested         86408 non-null  object \n",
      " 13  stop_duration       86408 non-null  object \n",
      " 14  drugs_related_stop  91741 non-null  bool   \n",
      "dtypes: bool(2), float64(3), object(10)\n",
      "memory usage: 9.3+ MB\n"
     ]
    }
   ],
   "source": [
    "df.info()"
   ]
  },
  {
   "cell_type": "code",
   "execution_count": 5,
   "id": "8a2ebe3e",
   "metadata": {
    "execution": {
     "iopub.execute_input": "2022-04-20T11:36:19.694864Z",
     "iopub.status.busy": "2022-04-20T11:36:19.694163Z",
     "iopub.status.idle": "2022-04-20T11:36:19.716278Z",
     "shell.execute_reply": "2022-04-20T11:36:19.715159Z"
    },
    "papermill": {
     "duration": 0.101799,
     "end_time": "2022-04-20T11:36:19.719263",
     "exception": false,
     "start_time": "2022-04-20T11:36:19.617464",
     "status": "completed"
    },
    "tags": []
   },
   "outputs": [],
   "source": [
    "df1=df.copy()"
   ]
  },
  {
   "cell_type": "code",
   "execution_count": 6,
   "id": "8f6efd0c",
   "metadata": {
    "execution": {
     "iopub.execute_input": "2022-04-20T11:36:19.870979Z",
     "iopub.status.busy": "2022-04-20T11:36:19.870550Z",
     "iopub.status.idle": "2022-04-20T11:36:19.894780Z",
     "shell.execute_reply": "2022-04-20T11:36:19.893780Z"
    },
    "papermill": {
     "duration": 0.103622,
     "end_time": "2022-04-20T11:36:19.897510",
     "exception": false,
     "start_time": "2022-04-20T11:36:19.793888",
     "status": "completed"
    },
    "tags": []
   },
   "outputs": [],
   "source": [
    "df1.drop('county_name',axis=1,inplace=True)"
   ]
  },
  {
   "cell_type": "code",
   "execution_count": 7,
   "id": "8732b349",
   "metadata": {
    "execution": {
     "iopub.execute_input": "2022-04-20T11:36:20.047745Z",
     "iopub.status.busy": "2022-04-20T11:36:20.047204Z",
     "iopub.status.idle": "2022-04-20T11:36:20.154508Z",
     "shell.execute_reply": "2022-04-20T11:36:20.153288Z"
    },
    "papermill": {
     "duration": 0.188897,
     "end_time": "2022-04-20T11:36:20.157269",
     "exception": false,
     "start_time": "2022-04-20T11:36:19.968372",
     "status": "completed"
    },
    "tags": []
   },
   "outputs": [
    {
     "name": "stdout",
     "output_type": "stream",
     "text": [
      "<class 'pandas.core.frame.DataFrame'>\n",
      "RangeIndex: 91741 entries, 0 to 91740\n",
      "Data columns (total 14 columns):\n",
      " #   Column              Non-Null Count  Dtype  \n",
      "---  ------              --------------  -----  \n",
      " 0   stop_date           91741 non-null  object \n",
      " 1   stop_time           91741 non-null  object \n",
      " 2   driver_gender       86406 non-null  object \n",
      " 3   driver_age_raw      86414 non-null  float64\n",
      " 4   driver_age          86120 non-null  float64\n",
      " 5   driver_race         86408 non-null  object \n",
      " 6   violation_raw       86408 non-null  object \n",
      " 7   violation           86408 non-null  object \n",
      " 8   search_conducted    91741 non-null  bool   \n",
      " 9   search_type         3196 non-null   object \n",
      " 10  stop_outcome        86408 non-null  object \n",
      " 11  is_arrested         86408 non-null  object \n",
      " 12  stop_duration       86408 non-null  object \n",
      " 13  drugs_related_stop  91741 non-null  bool   \n",
      "dtypes: bool(2), float64(2), object(10)\n",
      "memory usage: 8.6+ MB\n"
     ]
    }
   ],
   "source": [
    "df1.info()"
   ]
  },
  {
   "cell_type": "code",
   "execution_count": 8,
   "id": "bc4aac2f",
   "metadata": {
    "execution": {
     "iopub.execute_input": "2022-04-20T11:36:20.305967Z",
     "iopub.status.busy": "2022-04-20T11:36:20.305050Z",
     "iopub.status.idle": "2022-04-20T11:36:20.318302Z",
     "shell.execute_reply": "2022-04-20T11:36:20.317029Z"
    },
    "papermill": {
     "duration": 0.091707,
     "end_time": "2022-04-20T11:36:20.321154",
     "exception": false,
     "start_time": "2022-04-20T11:36:20.229447",
     "status": "completed"
    },
    "tags": []
   },
   "outputs": [],
   "source": [
    "df1.drop(df1.iloc[[],[0,1,3,4,5,6,8,9,10,11,12,13]],axis=1,inplace=True)"
   ]
  },
  {
   "cell_type": "code",
   "execution_count": 9,
   "id": "e2f06e3f",
   "metadata": {
    "execution": {
     "iopub.execute_input": "2022-04-20T11:36:20.471478Z",
     "iopub.status.busy": "2022-04-20T11:36:20.471039Z",
     "iopub.status.idle": "2022-04-20T11:36:20.483116Z",
     "shell.execute_reply": "2022-04-20T11:36:20.482319Z"
    },
    "papermill": {
     "duration": 0.091502,
     "end_time": "2022-04-20T11:36:20.485332",
     "exception": false,
     "start_time": "2022-04-20T11:36:20.393830",
     "status": "completed"
    },
    "tags": []
   },
   "outputs": [
    {
     "data": {
      "text/html": [
       "<div>\n",
       "<style scoped>\n",
       "    .dataframe tbody tr th:only-of-type {\n",
       "        vertical-align: middle;\n",
       "    }\n",
       "\n",
       "    .dataframe tbody tr th {\n",
       "        vertical-align: top;\n",
       "    }\n",
       "\n",
       "    .dataframe thead th {\n",
       "        text-align: right;\n",
       "    }\n",
       "</style>\n",
       "<table border=\"1\" class=\"dataframe\">\n",
       "  <thead>\n",
       "    <tr style=\"text-align: right;\">\n",
       "      <th></th>\n",
       "      <th>driver_gender</th>\n",
       "      <th>violation</th>\n",
       "    </tr>\n",
       "  </thead>\n",
       "  <tbody>\n",
       "    <tr>\n",
       "      <th>0</th>\n",
       "      <td>M</td>\n",
       "      <td>Speeding</td>\n",
       "    </tr>\n",
       "    <tr>\n",
       "      <th>1</th>\n",
       "      <td>M</td>\n",
       "      <td>Speeding</td>\n",
       "    </tr>\n",
       "    <tr>\n",
       "      <th>2</th>\n",
       "      <td>M</td>\n",
       "      <td>Speeding</td>\n",
       "    </tr>\n",
       "    <tr>\n",
       "      <th>3</th>\n",
       "      <td>M</td>\n",
       "      <td>Other</td>\n",
       "    </tr>\n",
       "    <tr>\n",
       "      <th>4</th>\n",
       "      <td>F</td>\n",
       "      <td>Speeding</td>\n",
       "    </tr>\n",
       "  </tbody>\n",
       "</table>\n",
       "</div>"
      ],
      "text/plain": [
       "  driver_gender violation\n",
       "0             M  Speeding\n",
       "1             M  Speeding\n",
       "2             M  Speeding\n",
       "3             M     Other\n",
       "4             F  Speeding"
      ]
     },
     "execution_count": 9,
     "metadata": {},
     "output_type": "execute_result"
    }
   ],
   "source": [
    "df1.head()"
   ]
  },
  {
   "cell_type": "code",
   "execution_count": 10,
   "id": "48cebd6d",
   "metadata": {
    "execution": {
     "iopub.execute_input": "2022-04-20T11:36:20.642827Z",
     "iopub.status.busy": "2022-04-20T11:36:20.642317Z",
     "iopub.status.idle": "2022-04-20T11:36:20.661538Z",
     "shell.execute_reply": "2022-04-20T11:36:20.660620Z"
    },
    "papermill": {
     "duration": 0.098615,
     "end_time": "2022-04-20T11:36:20.664313",
     "exception": false,
     "start_time": "2022-04-20T11:36:20.565698",
     "status": "completed"
    },
    "tags": []
   },
   "outputs": [],
   "source": [
    "df2=df.copy()"
   ]
  },
  {
   "cell_type": "code",
   "execution_count": 11,
   "id": "a09aa990",
   "metadata": {
    "execution": {
     "iopub.execute_input": "2022-04-20T11:36:20.818873Z",
     "iopub.status.busy": "2022-04-20T11:36:20.818503Z",
     "iopub.status.idle": "2022-04-20T11:36:20.927715Z",
     "shell.execute_reply": "2022-04-20T11:36:20.926112Z"
    },
    "papermill": {
     "duration": 0.190264,
     "end_time": "2022-04-20T11:36:20.930912",
     "exception": false,
     "start_time": "2022-04-20T11:36:20.740648",
     "status": "completed"
    },
    "tags": []
   },
   "outputs": [
    {
     "name": "stdout",
     "output_type": "stream",
     "text": [
      "<class 'pandas.core.frame.DataFrame'>\n",
      "RangeIndex: 91741 entries, 0 to 91740\n",
      "Data columns (total 15 columns):\n",
      " #   Column              Non-Null Count  Dtype  \n",
      "---  ------              --------------  -----  \n",
      " 0   stop_date           91741 non-null  object \n",
      " 1   stop_time           91741 non-null  object \n",
      " 2   county_name         0 non-null      float64\n",
      " 3   driver_gender       86406 non-null  object \n",
      " 4   driver_age_raw      86414 non-null  float64\n",
      " 5   driver_age          86120 non-null  float64\n",
      " 6   driver_race         86408 non-null  object \n",
      " 7   violation_raw       86408 non-null  object \n",
      " 8   violation           86408 non-null  object \n",
      " 9   search_conducted    91741 non-null  bool   \n",
      " 10  search_type         3196 non-null   object \n",
      " 11  stop_outcome        86408 non-null  object \n",
      " 12  is_arrested         86408 non-null  object \n",
      " 13  stop_duration       86408 non-null  object \n",
      " 14  drugs_related_stop  91741 non-null  bool   \n",
      "dtypes: bool(2), float64(3), object(10)\n",
      "memory usage: 9.3+ MB\n"
     ]
    }
   ],
   "source": [
    "df2.info()"
   ]
  },
  {
   "cell_type": "code",
   "execution_count": 12,
   "id": "f40c7e12",
   "metadata": {
    "execution": {
     "iopub.execute_input": "2022-04-20T11:36:21.089853Z",
     "iopub.status.busy": "2022-04-20T11:36:21.088753Z",
     "iopub.status.idle": "2022-04-20T11:36:21.100487Z",
     "shell.execute_reply": "2022-04-20T11:36:21.099193Z"
    },
    "papermill": {
     "duration": 0.093846,
     "end_time": "2022-04-20T11:36:21.103534",
     "exception": false,
     "start_time": "2022-04-20T11:36:21.009688",
     "status": "completed"
    },
    "tags": []
   },
   "outputs": [],
   "source": [
    "df2.drop(df2.iloc[[],[0,1,2,4,5,6,7,8,10,11,12,13,14]],axis=1,inplace=True)"
   ]
  },
  {
   "cell_type": "code",
   "execution_count": 13,
   "id": "ad5762ef",
   "metadata": {
    "execution": {
     "iopub.execute_input": "2022-04-20T11:36:21.260271Z",
     "iopub.status.busy": "2022-04-20T11:36:21.259184Z",
     "iopub.status.idle": "2022-04-20T11:36:21.279478Z",
     "shell.execute_reply": "2022-04-20T11:36:21.278523Z"
    },
    "papermill": {
     "duration": 0.100649,
     "end_time": "2022-04-20T11:36:21.281884",
     "exception": false,
     "start_time": "2022-04-20T11:36:21.181235",
     "status": "completed"
    },
    "tags": []
   },
   "outputs": [
    {
     "data": {
      "text/plain": [
       "M    62895\n",
       "F    23511\n",
       "Name: driver_gender, dtype: int64"
      ]
     },
     "execution_count": 13,
     "metadata": {},
     "output_type": "execute_result"
    }
   ],
   "source": [
    "df1.driver_gender.value_counts()"
   ]
  },
  {
   "cell_type": "code",
   "execution_count": 14,
   "id": "0f10734d",
   "metadata": {
    "execution": {
     "iopub.execute_input": "2022-04-20T11:36:21.436076Z",
     "iopub.status.busy": "2022-04-20T11:36:21.435587Z",
     "iopub.status.idle": "2022-04-20T11:36:21.455393Z",
     "shell.execute_reply": "2022-04-20T11:36:21.454489Z"
    },
    "papermill": {
     "duration": 0.097754,
     "end_time": "2022-04-20T11:36:21.457633",
     "exception": false,
     "start_time": "2022-04-20T11:36:21.359879",
     "status": "completed"
    },
    "tags": []
   },
   "outputs": [
    {
     "data": {
      "text/plain": [
       "M    0.727901\n",
       "F    0.272099\n",
       "Name: driver_gender, dtype: float64"
      ]
     },
     "execution_count": 14,
     "metadata": {},
     "output_type": "execute_result"
    }
   ],
   "source": [
    "df1.driver_gender.value_counts(normalize=True)"
   ]
  },
  {
   "cell_type": "code",
   "execution_count": 15,
   "id": "29719823",
   "metadata": {
    "execution": {
     "iopub.execute_input": "2022-04-20T11:36:21.607144Z",
     "iopub.status.busy": "2022-04-20T11:36:21.606440Z",
     "iopub.status.idle": "2022-04-20T11:36:21.627795Z",
     "shell.execute_reply": "2022-04-20T11:36:21.626680Z"
    },
    "papermill": {
     "duration": 0.099628,
     "end_time": "2022-04-20T11:36:21.630311",
     "exception": false,
     "start_time": "2022-04-20T11:36:21.530683",
     "status": "completed"
    },
    "tags": []
   },
   "outputs": [
    {
     "data": {
      "text/plain": [
       "Speeding               48463\n",
       "Moving violation       16224\n",
       "Equipment              11020\n",
       "Other                   4317\n",
       "Registration/plates     3432\n",
       "Seat belt               2952\n",
       "Name: violation, dtype: int64"
      ]
     },
     "execution_count": 15,
     "metadata": {},
     "output_type": "execute_result"
    }
   ],
   "source": [
    "df1.violation.value_counts()"
   ]
  },
  {
   "cell_type": "code",
   "execution_count": 16,
   "id": "4f83af83",
   "metadata": {
    "execution": {
     "iopub.execute_input": "2022-04-20T11:36:21.785056Z",
     "iopub.status.busy": "2022-04-20T11:36:21.784258Z",
     "iopub.status.idle": "2022-04-20T11:36:21.807374Z",
     "shell.execute_reply": "2022-04-20T11:36:21.806223Z"
    },
    "papermill": {
     "duration": 0.102708,
     "end_time": "2022-04-20T11:36:21.810208",
     "exception": false,
     "start_time": "2022-04-20T11:36:21.707500",
     "status": "completed"
    },
    "tags": []
   },
   "outputs": [
    {
     "data": {
      "text/plain": [
       "Speeding               0.560862\n",
       "Moving violation       0.187760\n",
       "Equipment              0.127534\n",
       "Other                  0.049961\n",
       "Registration/plates    0.039719\n",
       "Seat belt              0.034164\n",
       "Name: violation, dtype: float64"
      ]
     },
     "execution_count": 16,
     "metadata": {},
     "output_type": "execute_result"
    }
   ],
   "source": [
    "df1.violation.value_counts(normalize=True)"
   ]
  },
  {
   "cell_type": "code",
   "execution_count": 17,
   "id": "64a0a8e0",
   "metadata": {
    "execution": {
     "iopub.execute_input": "2022-04-20T11:36:21.966884Z",
     "iopub.status.busy": "2022-04-20T11:36:21.965765Z",
     "iopub.status.idle": "2022-04-20T11:36:21.998791Z",
     "shell.execute_reply": "2022-04-20T11:36:21.997675Z"
    },
    "papermill": {
     "duration": 0.11329,
     "end_time": "2022-04-20T11:36:22.001556",
     "exception": false,
     "start_time": "2022-04-20T11:36:21.888266",
     "status": "completed"
    },
    "tags": []
   },
   "outputs": [
    {
     "data": {
      "text/plain": [
       "M    32979\n",
       "F    15482\n",
       "Name: driver_gender, dtype: int64"
      ]
     },
     "execution_count": 17,
     "metadata": {},
     "output_type": "execute_result"
    }
   ],
   "source": [
    "df1[df1.violation=='Speeding'].driver_gender.value_counts()"
   ]
  },
  {
   "cell_type": "code",
   "execution_count": 18,
   "id": "c27f838e",
   "metadata": {
    "execution": {
     "iopub.execute_input": "2022-04-20T11:36:22.152411Z",
     "iopub.status.busy": "2022-04-20T11:36:22.152042Z",
     "iopub.status.idle": "2022-04-20T11:36:22.183910Z",
     "shell.execute_reply": "2022-04-20T11:36:22.183125Z"
    },
    "papermill": {
     "duration": 0.108803,
     "end_time": "2022-04-20T11:36:22.186039",
     "exception": false,
     "start_time": "2022-04-20T11:36:22.077236",
     "status": "completed"
    },
    "tags": []
   },
   "outputs": [
    {
     "data": {
      "text/plain": [
       "M    0.680527\n",
       "F    0.319473\n",
       "Name: driver_gender, dtype: float64"
      ]
     },
     "execution_count": 18,
     "metadata": {},
     "output_type": "execute_result"
    }
   ],
   "source": [
    "df1[df1.violation=='Speeding'].driver_gender.value_counts(normalize=True)"
   ]
  },
  {
   "cell_type": "code",
   "execution_count": 19,
   "id": "77cd74ac",
   "metadata": {
    "execution": {
     "iopub.execute_input": "2022-04-20T11:36:22.337883Z",
     "iopub.status.busy": "2022-04-20T11:36:22.337119Z",
     "iopub.status.idle": "2022-04-20T11:36:22.371302Z",
     "shell.execute_reply": "2022-04-20T11:36:22.370265Z"
    },
    "papermill": {
     "duration": 0.112915,
     "end_time": "2022-04-20T11:36:22.373671",
     "exception": false,
     "start_time": "2022-04-20T11:36:22.260756",
     "status": "completed"
    },
    "tags": []
   },
   "outputs": [
    {
     "data": {
      "text/plain": [
       "Speeding               32979\n",
       "Moving violation       13020\n",
       "Equipment               8533\n",
       "Other                   3627\n",
       "Registration/plates     2419\n",
       "Seat belt               2317\n",
       "Name: violation, dtype: int64"
      ]
     },
     "execution_count": 19,
     "metadata": {},
     "output_type": "execute_result"
    }
   ],
   "source": [
    "df1[df1.driver_gender=='M'].violation.value_counts()"
   ]
  },
  {
   "cell_type": "code",
   "execution_count": 20,
   "id": "2cce68ba",
   "metadata": {
    "execution": {
     "iopub.execute_input": "2022-04-20T11:36:22.534652Z",
     "iopub.status.busy": "2022-04-20T11:36:22.534297Z",
     "iopub.status.idle": "2022-04-20T11:36:22.568118Z",
     "shell.execute_reply": "2022-04-20T11:36:22.567209Z"
    },
    "papermill": {
     "duration": 0.121523,
     "end_time": "2022-04-20T11:36:22.570272",
     "exception": false,
     "start_time": "2022-04-20T11:36:22.448749",
     "status": "completed"
    },
    "tags": []
   },
   "outputs": [
    {
     "data": {
      "text/plain": [
       "Speeding               0.524350\n",
       "Moving violation       0.207012\n",
       "Equipment              0.135671\n",
       "Other                  0.057668\n",
       "Registration/plates    0.038461\n",
       "Seat belt              0.036839\n",
       "Name: violation, dtype: float64"
      ]
     },
     "execution_count": 20,
     "metadata": {},
     "output_type": "execute_result"
    }
   ],
   "source": [
    "df1[df1.driver_gender=='M'].violation.value_counts(normalize=True)"
   ]
  },
  {
   "cell_type": "code",
   "execution_count": 21,
   "id": "c59d9c00",
   "metadata": {
    "execution": {
     "iopub.execute_input": "2022-04-20T11:36:22.722750Z",
     "iopub.status.busy": "2022-04-20T11:36:22.722393Z",
     "iopub.status.idle": "2022-04-20T11:36:22.750848Z",
     "shell.execute_reply": "2022-04-20T11:36:22.749934Z"
    },
    "papermill": {
     "duration": 0.108611,
     "end_time": "2022-04-20T11:36:22.752964",
     "exception": false,
     "start_time": "2022-04-20T11:36:22.644353",
     "status": "completed"
    },
    "tags": []
   },
   "outputs": [
    {
     "data": {
      "text/plain": [
       "Speeding               15482\n",
       "Moving violation        3204\n",
       "Equipment               2487\n",
       "Registration/plates     1013\n",
       "Other                    690\n",
       "Seat belt                635\n",
       "Name: violation, dtype: int64"
      ]
     },
     "execution_count": 21,
     "metadata": {},
     "output_type": "execute_result"
    }
   ],
   "source": [
    "df1[df1.driver_gender=='F'].violation.value_counts()"
   ]
  },
  {
   "cell_type": "code",
   "execution_count": 22,
   "id": "9f03c7e0",
   "metadata": {
    "execution": {
     "iopub.execute_input": "2022-04-20T11:36:22.904922Z",
     "iopub.status.busy": "2022-04-20T11:36:22.904540Z",
     "iopub.status.idle": "2022-04-20T11:36:22.934564Z",
     "shell.execute_reply": "2022-04-20T11:36:22.933498Z"
    },
    "papermill": {
     "duration": 0.108099,
     "end_time": "2022-04-20T11:36:22.937100",
     "exception": false,
     "start_time": "2022-04-20T11:36:22.829001",
     "status": "completed"
    },
    "tags": []
   },
   "outputs": [
    {
     "data": {
      "text/plain": [
       "Speeding               0.658500\n",
       "Moving violation       0.136277\n",
       "Equipment              0.105780\n",
       "Registration/plates    0.043086\n",
       "Other                  0.029348\n",
       "Seat belt              0.027009\n",
       "Name: violation, dtype: float64"
      ]
     },
     "execution_count": 22,
     "metadata": {},
     "output_type": "execute_result"
    }
   ],
   "source": [
    "df1[df1.driver_gender=='F'].violation.value_counts(normalize=True)"
   ]
  },
  {
   "cell_type": "code",
   "execution_count": 23,
   "id": "e4273bd7",
   "metadata": {
    "execution": {
     "iopub.execute_input": "2022-04-20T11:36:23.094424Z",
     "iopub.status.busy": "2022-04-20T11:36:23.094063Z",
     "iopub.status.idle": "2022-04-20T11:36:23.118378Z",
     "shell.execute_reply": "2022-04-20T11:36:23.117266Z"
    },
    "papermill": {
     "duration": 0.105074,
     "end_time": "2022-04-20T11:36:23.120900",
     "exception": false,
     "start_time": "2022-04-20T11:36:23.015826",
     "status": "completed"
    },
    "tags": []
   },
   "outputs": [
    {
     "name": "stdout",
     "output_type": "stream",
     "text": [
      "<class 'pandas.core.frame.DataFrame'>\n",
      "RangeIndex: 91741 entries, 0 to 91740\n",
      "Data columns (total 2 columns):\n",
      " #   Column            Non-Null Count  Dtype \n",
      "---  ------            --------------  ----- \n",
      " 0   driver_gender     86406 non-null  object\n",
      " 1   search_conducted  91741 non-null  bool  \n",
      "dtypes: bool(1), object(1)\n",
      "memory usage: 806.4+ KB\n"
     ]
    }
   ],
   "source": [
    "df2.info()"
   ]
  },
  {
   "cell_type": "code",
   "execution_count": 24,
   "id": "07342c62",
   "metadata": {
    "execution": {
     "iopub.execute_input": "2022-04-20T11:36:23.282799Z",
     "iopub.status.busy": "2022-04-20T11:36:23.282470Z",
     "iopub.status.idle": "2022-04-20T11:36:23.293255Z",
     "shell.execute_reply": "2022-04-20T11:36:23.292313Z"
    },
    "papermill": {
     "duration": 0.095386,
     "end_time": "2022-04-20T11:36:23.295703",
     "exception": false,
     "start_time": "2022-04-20T11:36:23.200317",
     "status": "completed"
    },
    "tags": []
   },
   "outputs": [
    {
     "data": {
      "text/plain": [
       "M    2725\n",
       "F     471\n",
       "Name: driver_gender, dtype: int64"
      ]
     },
     "execution_count": 24,
     "metadata": {},
     "output_type": "execute_result"
    }
   ],
   "source": [
    "df2[df2.search_conducted==True].driver_gender.value_counts()"
   ]
  },
  {
   "cell_type": "code",
   "execution_count": 25,
   "id": "17a97fd3",
   "metadata": {
    "execution": {
     "iopub.execute_input": "2022-04-20T11:36:23.451173Z",
     "iopub.status.busy": "2022-04-20T11:36:23.450484Z",
     "iopub.status.idle": "2022-04-20T11:36:23.470067Z",
     "shell.execute_reply": "2022-04-20T11:36:23.469052Z"
    },
    "papermill": {
     "duration": 0.099605,
     "end_time": "2022-04-20T11:36:23.472380",
     "exception": false,
     "start_time": "2022-04-20T11:36:23.372775",
     "status": "completed"
    },
    "tags": []
   },
   "outputs": [
    {
     "data": {
      "text/plain": [
       "M    62895\n",
       "F    23511\n",
       "Name: driver_gender, dtype: int64"
      ]
     },
     "execution_count": 25,
     "metadata": {},
     "output_type": "execute_result"
    }
   ],
   "source": [
    "df2.driver_gender.value_counts()"
   ]
  },
  {
   "cell_type": "code",
   "execution_count": 26,
   "id": "01d97730",
   "metadata": {
    "execution": {
     "iopub.execute_input": "2022-04-20T11:36:23.628132Z",
     "iopub.status.busy": "2022-04-20T11:36:23.627481Z",
     "iopub.status.idle": "2022-04-20T11:36:23.636174Z",
     "shell.execute_reply": "2022-04-20T11:36:23.635241Z"
    },
    "papermill": {
     "duration": 0.089361,
     "end_time": "2022-04-20T11:36:23.638486",
     "exception": false,
     "start_time": "2022-04-20T11:36:23.549125",
     "status": "completed"
    },
    "tags": []
   },
   "outputs": [
    {
     "data": {
      "text/plain": [
       "False    88545\n",
       "True      3196\n",
       "Name: search_conducted, dtype: int64"
      ]
     },
     "execution_count": 26,
     "metadata": {},
     "output_type": "execute_result"
    }
   ],
   "source": [
    "df2.search_conducted.value_counts()"
   ]
  },
  {
   "cell_type": "code",
   "execution_count": 27,
   "id": "219ba1a2",
   "metadata": {
    "execution": {
     "iopub.execute_input": "2022-04-20T11:36:23.799840Z",
     "iopub.status.busy": "2022-04-20T11:36:23.799163Z",
     "iopub.status.idle": "2022-04-20T11:36:23.809518Z",
     "shell.execute_reply": "2022-04-20T11:36:23.808221Z"
    },
    "papermill": {
     "duration": 0.095741,
     "end_time": "2022-04-20T11:36:23.812235",
     "exception": false,
     "start_time": "2022-04-20T11:36:23.716494",
     "status": "completed"
    },
    "tags": []
   },
   "outputs": [],
   "source": [
    "df2_1=df.copy()"
   ]
  },
  {
   "cell_type": "code",
   "execution_count": 28,
   "id": "03ac2a40",
   "metadata": {
    "execution": {
     "iopub.execute_input": "2022-04-20T11:36:23.969623Z",
     "iopub.status.busy": "2022-04-20T11:36:23.969262Z",
     "iopub.status.idle": "2022-04-20T11:36:24.076506Z",
     "shell.execute_reply": "2022-04-20T11:36:24.075312Z"
    },
    "papermill": {
     "duration": 0.18989,
     "end_time": "2022-04-20T11:36:24.079025",
     "exception": false,
     "start_time": "2022-04-20T11:36:23.889135",
     "status": "completed"
    },
    "tags": []
   },
   "outputs": [
    {
     "name": "stdout",
     "output_type": "stream",
     "text": [
      "<class 'pandas.core.frame.DataFrame'>\n",
      "RangeIndex: 91741 entries, 0 to 91740\n",
      "Data columns (total 15 columns):\n",
      " #   Column              Non-Null Count  Dtype  \n",
      "---  ------              --------------  -----  \n",
      " 0   stop_date           91741 non-null  object \n",
      " 1   stop_time           91741 non-null  object \n",
      " 2   county_name         0 non-null      float64\n",
      " 3   driver_gender       86406 non-null  object \n",
      " 4   driver_age_raw      86414 non-null  float64\n",
      " 5   driver_age          86120 non-null  float64\n",
      " 6   driver_race         86408 non-null  object \n",
      " 7   violation_raw       86408 non-null  object \n",
      " 8   violation           86408 non-null  object \n",
      " 9   search_conducted    91741 non-null  bool   \n",
      " 10  search_type         3196 non-null   object \n",
      " 11  stop_outcome        86408 non-null  object \n",
      " 12  is_arrested         86408 non-null  object \n",
      " 13  stop_duration       86408 non-null  object \n",
      " 14  drugs_related_stop  91741 non-null  bool   \n",
      "dtypes: bool(2), float64(3), object(10)\n",
      "memory usage: 9.3+ MB\n"
     ]
    }
   ],
   "source": [
    "df2_1.info()"
   ]
  },
  {
   "cell_type": "code",
   "execution_count": 29,
   "id": "576f2791",
   "metadata": {
    "execution": {
     "iopub.execute_input": "2022-04-20T11:36:24.239759Z",
     "iopub.status.busy": "2022-04-20T11:36:24.239408Z",
     "iopub.status.idle": "2022-04-20T11:36:24.250945Z",
     "shell.execute_reply": "2022-04-20T11:36:24.249827Z"
    },
    "papermill": {
     "duration": 0.094628,
     "end_time": "2022-04-20T11:36:24.253323",
     "exception": false,
     "start_time": "2022-04-20T11:36:24.158695",
     "status": "completed"
    },
    "tags": []
   },
   "outputs": [],
   "source": [
    "df2_1.drop(df2_1.iloc[[],[0,1,2,4,5,6,7,10,11,12,13,14]],axis=1,inplace=True)"
   ]
  },
  {
   "cell_type": "code",
   "execution_count": 30,
   "id": "633e6434",
   "metadata": {
    "execution": {
     "iopub.execute_input": "2022-04-20T11:36:24.413506Z",
     "iopub.status.busy": "2022-04-20T11:36:24.413150Z",
     "iopub.status.idle": "2022-04-20T11:36:24.423751Z",
     "shell.execute_reply": "2022-04-20T11:36:24.422956Z"
    },
    "papermill": {
     "duration": 0.091949,
     "end_time": "2022-04-20T11:36:24.425709",
     "exception": false,
     "start_time": "2022-04-20T11:36:24.333760",
     "status": "completed"
    },
    "tags": []
   },
   "outputs": [
    {
     "data": {
      "text/html": [
       "<div>\n",
       "<style scoped>\n",
       "    .dataframe tbody tr th:only-of-type {\n",
       "        vertical-align: middle;\n",
       "    }\n",
       "\n",
       "    .dataframe tbody tr th {\n",
       "        vertical-align: top;\n",
       "    }\n",
       "\n",
       "    .dataframe thead th {\n",
       "        text-align: right;\n",
       "    }\n",
       "</style>\n",
       "<table border=\"1\" class=\"dataframe\">\n",
       "  <thead>\n",
       "    <tr style=\"text-align: right;\">\n",
       "      <th></th>\n",
       "      <th>driver_gender</th>\n",
       "      <th>violation</th>\n",
       "      <th>search_conducted</th>\n",
       "    </tr>\n",
       "  </thead>\n",
       "  <tbody>\n",
       "    <tr>\n",
       "      <th>0</th>\n",
       "      <td>M</td>\n",
       "      <td>Speeding</td>\n",
       "      <td>False</td>\n",
       "    </tr>\n",
       "    <tr>\n",
       "      <th>1</th>\n",
       "      <td>M</td>\n",
       "      <td>Speeding</td>\n",
       "      <td>False</td>\n",
       "    </tr>\n",
       "    <tr>\n",
       "      <th>2</th>\n",
       "      <td>M</td>\n",
       "      <td>Speeding</td>\n",
       "      <td>False</td>\n",
       "    </tr>\n",
       "    <tr>\n",
       "      <th>3</th>\n",
       "      <td>M</td>\n",
       "      <td>Other</td>\n",
       "      <td>False</td>\n",
       "    </tr>\n",
       "    <tr>\n",
       "      <th>4</th>\n",
       "      <td>F</td>\n",
       "      <td>Speeding</td>\n",
       "      <td>False</td>\n",
       "    </tr>\n",
       "  </tbody>\n",
       "</table>\n",
       "</div>"
      ],
      "text/plain": [
       "  driver_gender violation  search_conducted\n",
       "0             M  Speeding             False\n",
       "1             M  Speeding             False\n",
       "2             M  Speeding             False\n",
       "3             M     Other             False\n",
       "4             F  Speeding             False"
      ]
     },
     "execution_count": 30,
     "metadata": {},
     "output_type": "execute_result"
    }
   ],
   "source": [
    "df2_1.head()"
   ]
  },
  {
   "cell_type": "code",
   "execution_count": 31,
   "id": "a576ac58",
   "metadata": {
    "execution": {
     "iopub.execute_input": "2022-04-20T11:36:24.582167Z",
     "iopub.status.busy": "2022-04-20T11:36:24.581604Z",
     "iopub.status.idle": "2022-04-20T11:36:24.625742Z",
     "shell.execute_reply": "2022-04-20T11:36:24.624711Z"
    },
    "papermill": {
     "duration": 0.125544,
     "end_time": "2022-04-20T11:36:24.628305",
     "exception": false,
     "start_time": "2022-04-20T11:36:24.502761",
     "status": "completed"
    },
    "tags": []
   },
   "outputs": [
    {
     "data": {
      "text/plain": [
       "search_conducted  violation            driver_gender\n",
       "False             Equipment            M                 7935\n",
       "                                       F                 2381\n",
       "                  Moving violation     M                12241\n",
       "                                       F                 3088\n",
       "                  Other                M                 3456\n",
       "                                       F                  651\n",
       "                  Registration/plates  M                 2152\n",
       "                                       F                  946\n",
       "                  Seat belt            M                 2229\n",
       "                                       F                  627\n",
       "                  Speeding             M                32157\n",
       "                                       F                15347\n",
       "True              Equipment            M                  598\n",
       "                                       F                  106\n",
       "                  Moving violation     M                  779\n",
       "                                       F                  116\n",
       "                  Other                M                  171\n",
       "                                       F                   39\n",
       "                  Registration/plates  M                  267\n",
       "                                       F                   67\n",
       "                  Seat belt            M                   88\n",
       "                                       F                    8\n",
       "                  Speeding             M                  822\n",
       "                                       F                  135\n",
       "Name: driver_gender, dtype: int64"
      ]
     },
     "execution_count": 31,
     "metadata": {},
     "output_type": "execute_result"
    }
   ],
   "source": [
    "df2_1.groupby(['search_conducted','violation']).driver_gender.value_counts()"
   ]
  },
  {
   "cell_type": "code",
   "execution_count": 32,
   "id": "ce91789b",
   "metadata": {
    "execution": {
     "iopub.execute_input": "2022-04-20T11:36:24.788758Z",
     "iopub.status.busy": "2022-04-20T11:36:24.788365Z",
     "iopub.status.idle": "2022-04-20T11:36:24.800503Z",
     "shell.execute_reply": "2022-04-20T11:36:24.799604Z"
    },
    "papermill": {
     "duration": 0.09598,
     "end_time": "2022-04-20T11:36:24.802956",
     "exception": false,
     "start_time": "2022-04-20T11:36:24.706976",
     "status": "completed"
    },
    "tags": []
   },
   "outputs": [
    {
     "data": {
      "text/plain": [
       "Speeding               957\n",
       "Moving violation       895\n",
       "Equipment              704\n",
       "Registration/plates    334\n",
       "Other                  210\n",
       "Seat belt               96\n",
       "Name: violation, dtype: int64"
      ]
     },
     "execution_count": 32,
     "metadata": {},
     "output_type": "execute_result"
    }
   ],
   "source": [
    "df2_1[df2_1.search_conducted==True].violation.value_counts()"
   ]
  },
  {
   "cell_type": "code",
   "execution_count": 33,
   "id": "8c840476",
   "metadata": {
    "execution": {
     "iopub.execute_input": "2022-04-20T11:36:24.971995Z",
     "iopub.status.busy": "2022-04-20T11:36:24.971609Z",
     "iopub.status.idle": "2022-04-20T11:36:24.983683Z",
     "shell.execute_reply": "2022-04-20T11:36:24.982926Z"
    },
    "papermill": {
     "duration": 0.101411,
     "end_time": "2022-04-20T11:36:24.985944",
     "exception": false,
     "start_time": "2022-04-20T11:36:24.884533",
     "status": "completed"
    },
    "tags": []
   },
   "outputs": [
    {
     "data": {
      "text/plain": [
       "Speeding               0.299437\n",
       "Moving violation       0.280038\n",
       "Equipment              0.220275\n",
       "Registration/plates    0.104506\n",
       "Other                  0.065707\n",
       "Seat belt              0.030038\n",
       "Name: violation, dtype: float64"
      ]
     },
     "execution_count": 33,
     "metadata": {},
     "output_type": "execute_result"
    }
   ],
   "source": [
    "df2_1[df2_1.search_conducted==True].violation.value_counts(normalize=True)"
   ]
  },
  {
   "cell_type": "code",
   "execution_count": 34,
   "id": "e561c653",
   "metadata": {
    "execution": {
     "iopub.execute_input": "2022-04-20T11:36:25.151338Z",
     "iopub.status.busy": "2022-04-20T11:36:25.150709Z",
     "iopub.status.idle": "2022-04-20T11:36:25.160448Z",
     "shell.execute_reply": "2022-04-20T11:36:25.159637Z"
    },
    "papermill": {
     "duration": 0.093929,
     "end_time": "2022-04-20T11:36:25.162930",
     "exception": false,
     "start_time": "2022-04-20T11:36:25.069001",
     "status": "completed"
    },
    "tags": []
   },
   "outputs": [],
   "source": [
    "df4=df.copy()"
   ]
  },
  {
   "cell_type": "code",
   "execution_count": 35,
   "id": "bf73e3dd",
   "metadata": {
    "execution": {
     "iopub.execute_input": "2022-04-20T11:36:25.324071Z",
     "iopub.status.busy": "2022-04-20T11:36:25.323438Z",
     "iopub.status.idle": "2022-04-20T11:36:25.431962Z",
     "shell.execute_reply": "2022-04-20T11:36:25.430797Z"
    },
    "papermill": {
     "duration": 0.192215,
     "end_time": "2022-04-20T11:36:25.434434",
     "exception": false,
     "start_time": "2022-04-20T11:36:25.242219",
     "status": "completed"
    },
    "tags": []
   },
   "outputs": [
    {
     "name": "stdout",
     "output_type": "stream",
     "text": [
      "<class 'pandas.core.frame.DataFrame'>\n",
      "RangeIndex: 91741 entries, 0 to 91740\n",
      "Data columns (total 15 columns):\n",
      " #   Column              Non-Null Count  Dtype  \n",
      "---  ------              --------------  -----  \n",
      " 0   stop_date           91741 non-null  object \n",
      " 1   stop_time           91741 non-null  object \n",
      " 2   county_name         0 non-null      float64\n",
      " 3   driver_gender       86406 non-null  object \n",
      " 4   driver_age_raw      86414 non-null  float64\n",
      " 5   driver_age          86120 non-null  float64\n",
      " 6   driver_race         86408 non-null  object \n",
      " 7   violation_raw       86408 non-null  object \n",
      " 8   violation           86408 non-null  object \n",
      " 9   search_conducted    91741 non-null  bool   \n",
      " 10  search_type         3196 non-null   object \n",
      " 11  stop_outcome        86408 non-null  object \n",
      " 12  is_arrested         86408 non-null  object \n",
      " 13  stop_duration       86408 non-null  object \n",
      " 14  drugs_related_stop  91741 non-null  bool   \n",
      "dtypes: bool(2), float64(3), object(10)\n",
      "memory usage: 9.3+ MB\n"
     ]
    }
   ],
   "source": [
    "df4.info()"
   ]
  },
  {
   "cell_type": "code",
   "execution_count": 36,
   "id": "f10fc571",
   "metadata": {
    "execution": {
     "iopub.execute_input": "2022-04-20T11:36:25.595807Z",
     "iopub.status.busy": "2022-04-20T11:36:25.595453Z",
     "iopub.status.idle": "2022-04-20T11:36:25.607048Z",
     "shell.execute_reply": "2022-04-20T11:36:25.605851Z"
    },
    "papermill": {
     "duration": 0.094337,
     "end_time": "2022-04-20T11:36:25.609185",
     "exception": false,
     "start_time": "2022-04-20T11:36:25.514848",
     "status": "completed"
    },
    "tags": []
   },
   "outputs": [],
   "source": [
    "df4.drop(df4.iloc[[],[0,1,2,4,5,6,7,10,11,12,13,14]],axis=1,inplace=True)"
   ]
  },
  {
   "cell_type": "code",
   "execution_count": 37,
   "id": "d2a3d922",
   "metadata": {
    "execution": {
     "iopub.execute_input": "2022-04-20T11:36:25.775499Z",
     "iopub.status.busy": "2022-04-20T11:36:25.775100Z",
     "iopub.status.idle": "2022-04-20T11:36:25.787318Z",
     "shell.execute_reply": "2022-04-20T11:36:25.786201Z"
    },
    "papermill": {
     "duration": 0.099774,
     "end_time": "2022-04-20T11:36:25.789677",
     "exception": false,
     "start_time": "2022-04-20T11:36:25.689903",
     "status": "completed"
    },
    "tags": []
   },
   "outputs": [
    {
     "data": {
      "text/html": [
       "<div>\n",
       "<style scoped>\n",
       "    .dataframe tbody tr th:only-of-type {\n",
       "        vertical-align: middle;\n",
       "    }\n",
       "\n",
       "    .dataframe tbody tr th {\n",
       "        vertical-align: top;\n",
       "    }\n",
       "\n",
       "    .dataframe thead th {\n",
       "        text-align: right;\n",
       "    }\n",
       "</style>\n",
       "<table border=\"1\" class=\"dataframe\">\n",
       "  <thead>\n",
       "    <tr style=\"text-align: right;\">\n",
       "      <th></th>\n",
       "      <th>driver_gender</th>\n",
       "      <th>violation</th>\n",
       "      <th>search_conducted</th>\n",
       "    </tr>\n",
       "  </thead>\n",
       "  <tbody>\n",
       "    <tr>\n",
       "      <th>0</th>\n",
       "      <td>M</td>\n",
       "      <td>Speeding</td>\n",
       "      <td>False</td>\n",
       "    </tr>\n",
       "    <tr>\n",
       "      <th>1</th>\n",
       "      <td>M</td>\n",
       "      <td>Speeding</td>\n",
       "      <td>False</td>\n",
       "    </tr>\n",
       "    <tr>\n",
       "      <th>2</th>\n",
       "      <td>M</td>\n",
       "      <td>Speeding</td>\n",
       "      <td>False</td>\n",
       "    </tr>\n",
       "    <tr>\n",
       "      <th>3</th>\n",
       "      <td>M</td>\n",
       "      <td>Other</td>\n",
       "      <td>False</td>\n",
       "    </tr>\n",
       "    <tr>\n",
       "      <th>4</th>\n",
       "      <td>F</td>\n",
       "      <td>Speeding</td>\n",
       "      <td>False</td>\n",
       "    </tr>\n",
       "  </tbody>\n",
       "</table>\n",
       "</div>"
      ],
      "text/plain": [
       "  driver_gender violation  search_conducted\n",
       "0             M  Speeding             False\n",
       "1             M  Speeding             False\n",
       "2             M  Speeding             False\n",
       "3             M     Other             False\n",
       "4             F  Speeding             False"
      ]
     },
     "execution_count": 37,
     "metadata": {},
     "output_type": "execute_result"
    }
   ],
   "source": [
    "df4.head()"
   ]
  },
  {
   "cell_type": "code",
   "execution_count": 38,
   "id": "14946eaf",
   "metadata": {
    "execution": {
     "iopub.execute_input": "2022-04-20T11:36:25.956170Z",
     "iopub.status.busy": "2022-04-20T11:36:25.955783Z",
     "iopub.status.idle": "2022-04-20T11:36:25.998270Z",
     "shell.execute_reply": "2022-04-20T11:36:25.997503Z"
    },
    "papermill": {
     "duration": 0.128876,
     "end_time": "2022-04-20T11:36:26.000578",
     "exception": false,
     "start_time": "2022-04-20T11:36:25.871702",
     "status": "completed"
    },
    "tags": []
   },
   "outputs": [
    {
     "data": {
      "text/plain": [
       "search_conducted  violation            driver_gender\n",
       "False             Equipment            M                 7935\n",
       "                                       F                 2381\n",
       "                  Moving violation     M                12241\n",
       "                                       F                 3088\n",
       "                  Other                M                 3456\n",
       "                                       F                  651\n",
       "                  Registration/plates  M                 2152\n",
       "                                       F                  946\n",
       "                  Seat belt            M                 2229\n",
       "                                       F                  627\n",
       "                  Speeding             M                32157\n",
       "                                       F                15347\n",
       "True              Equipment            M                  598\n",
       "                                       F                  106\n",
       "                  Moving violation     M                  779\n",
       "                                       F                  116\n",
       "                  Other                M                  171\n",
       "                                       F                   39\n",
       "                  Registration/plates  M                  267\n",
       "                                       F                   67\n",
       "                  Seat belt            M                   88\n",
       "                                       F                    8\n",
       "                  Speeding             M                  822\n",
       "                                       F                  135\n",
       "Name: driver_gender, dtype: int64"
      ]
     },
     "execution_count": 38,
     "metadata": {},
     "output_type": "execute_result"
    }
   ],
   "source": [
    "df4.groupby(['search_conducted','violation']).driver_gender.value_counts()"
   ]
  },
  {
   "cell_type": "code",
   "execution_count": 39,
   "id": "48690263",
   "metadata": {
    "execution": {
     "iopub.execute_input": "2022-04-20T11:36:26.166565Z",
     "iopub.status.busy": "2022-04-20T11:36:26.165262Z",
     "iopub.status.idle": "2022-04-20T11:36:26.176215Z",
     "shell.execute_reply": "2022-04-20T11:36:26.174961Z"
    },
    "papermill": {
     "duration": 0.09651,
     "end_time": "2022-04-20T11:36:26.179604",
     "exception": false,
     "start_time": "2022-04-20T11:36:26.083094",
     "status": "completed"
    },
    "tags": []
   },
   "outputs": [],
   "source": [
    "df3=df.copy()"
   ]
  },
  {
   "cell_type": "code",
   "execution_count": 40,
   "id": "ff427ab5",
   "metadata": {
    "execution": {
     "iopub.execute_input": "2022-04-20T11:36:26.347500Z",
     "iopub.status.busy": "2022-04-20T11:36:26.347127Z",
     "iopub.status.idle": "2022-04-20T11:36:26.454650Z",
     "shell.execute_reply": "2022-04-20T11:36:26.453476Z"
    },
    "papermill": {
     "duration": 0.193267,
     "end_time": "2022-04-20T11:36:26.457397",
     "exception": false,
     "start_time": "2022-04-20T11:36:26.264130",
     "status": "completed"
    },
    "tags": []
   },
   "outputs": [
    {
     "name": "stdout",
     "output_type": "stream",
     "text": [
      "<class 'pandas.core.frame.DataFrame'>\n",
      "RangeIndex: 91741 entries, 0 to 91740\n",
      "Data columns (total 15 columns):\n",
      " #   Column              Non-Null Count  Dtype  \n",
      "---  ------              --------------  -----  \n",
      " 0   stop_date           91741 non-null  object \n",
      " 1   stop_time           91741 non-null  object \n",
      " 2   county_name         0 non-null      float64\n",
      " 3   driver_gender       86406 non-null  object \n",
      " 4   driver_age_raw      86414 non-null  float64\n",
      " 5   driver_age          86120 non-null  float64\n",
      " 6   driver_race         86408 non-null  object \n",
      " 7   violation_raw       86408 non-null  object \n",
      " 8   violation           86408 non-null  object \n",
      " 9   search_conducted    91741 non-null  bool   \n",
      " 10  search_type         3196 non-null   object \n",
      " 11  stop_outcome        86408 non-null  object \n",
      " 12  is_arrested         86408 non-null  object \n",
      " 13  stop_duration       86408 non-null  object \n",
      " 14  drugs_related_stop  91741 non-null  bool   \n",
      "dtypes: bool(2), float64(3), object(10)\n",
      "memory usage: 9.3+ MB\n"
     ]
    }
   ],
   "source": [
    "df3.info()"
   ]
  },
  {
   "cell_type": "code",
   "execution_count": 41,
   "id": "ff6831ce",
   "metadata": {
    "execution": {
     "iopub.execute_input": "2022-04-20T11:36:26.621458Z",
     "iopub.status.busy": "2022-04-20T11:36:26.620508Z",
     "iopub.status.idle": "2022-04-20T11:36:26.631522Z",
     "shell.execute_reply": "2022-04-20T11:36:26.630627Z"
    },
    "papermill": {
     "duration": 0.095491,
     "end_time": "2022-04-20T11:36:26.633980",
     "exception": false,
     "start_time": "2022-04-20T11:36:26.538489",
     "status": "completed"
    },
    "tags": []
   },
   "outputs": [],
   "source": [
    "df3.drop(df3.iloc[[],[0,1,2,3,4,5,6,7,8,11,12,13,14]],axis=1,inplace=True)"
   ]
  },
  {
   "cell_type": "code",
   "execution_count": 42,
   "id": "d56f0e11",
   "metadata": {
    "execution": {
     "iopub.execute_input": "2022-04-20T11:36:26.798155Z",
     "iopub.status.busy": "2022-04-20T11:36:26.797796Z",
     "iopub.status.idle": "2022-04-20T11:36:26.808252Z",
     "shell.execute_reply": "2022-04-20T11:36:26.807508Z"
    },
    "papermill": {
     "duration": 0.09527,
     "end_time": "2022-04-20T11:36:26.810064",
     "exception": false,
     "start_time": "2022-04-20T11:36:26.714794",
     "status": "completed"
    },
    "tags": []
   },
   "outputs": [
    {
     "data": {
      "text/html": [
       "<div>\n",
       "<style scoped>\n",
       "    .dataframe tbody tr th:only-of-type {\n",
       "        vertical-align: middle;\n",
       "    }\n",
       "\n",
       "    .dataframe tbody tr th {\n",
       "        vertical-align: top;\n",
       "    }\n",
       "\n",
       "    .dataframe thead th {\n",
       "        text-align: right;\n",
       "    }\n",
       "</style>\n",
       "<table border=\"1\" class=\"dataframe\">\n",
       "  <thead>\n",
       "    <tr style=\"text-align: right;\">\n",
       "      <th></th>\n",
       "      <th>search_conducted</th>\n",
       "      <th>search_type</th>\n",
       "    </tr>\n",
       "  </thead>\n",
       "  <tbody>\n",
       "    <tr>\n",
       "      <th>0</th>\n",
       "      <td>False</td>\n",
       "      <td>NaN</td>\n",
       "    </tr>\n",
       "    <tr>\n",
       "      <th>1</th>\n",
       "      <td>False</td>\n",
       "      <td>NaN</td>\n",
       "    </tr>\n",
       "    <tr>\n",
       "      <th>2</th>\n",
       "      <td>False</td>\n",
       "      <td>NaN</td>\n",
       "    </tr>\n",
       "    <tr>\n",
       "      <th>3</th>\n",
       "      <td>False</td>\n",
       "      <td>NaN</td>\n",
       "    </tr>\n",
       "    <tr>\n",
       "      <th>4</th>\n",
       "      <td>False</td>\n",
       "      <td>NaN</td>\n",
       "    </tr>\n",
       "  </tbody>\n",
       "</table>\n",
       "</div>"
      ],
      "text/plain": [
       "   search_conducted search_type\n",
       "0             False         NaN\n",
       "1             False         NaN\n",
       "2             False         NaN\n",
       "3             False         NaN\n",
       "4             False         NaN"
      ]
     },
     "execution_count": 42,
     "metadata": {},
     "output_type": "execute_result"
    }
   ],
   "source": [
    "df3.head()"
   ]
  },
  {
   "cell_type": "code",
   "execution_count": 43,
   "id": "4151bff4",
   "metadata": {
    "execution": {
     "iopub.execute_input": "2022-04-20T11:36:26.979393Z",
     "iopub.status.busy": "2022-04-20T11:36:26.978711Z",
     "iopub.status.idle": "2022-04-20T11:36:26.991267Z",
     "shell.execute_reply": "2022-04-20T11:36:26.990379Z"
    },
    "papermill": {
     "duration": 0.101859,
     "end_time": "2022-04-20T11:36:26.993763",
     "exception": false,
     "start_time": "2022-04-20T11:36:26.891904",
     "status": "completed"
    },
    "tags": []
   },
   "outputs": [
    {
     "data": {
      "text/plain": [
       "Incident to Arrest                                          1219\n",
       "Probable Cause                                               891\n",
       "Inventory                                                    220\n",
       "Reasonable Suspicion                                         197\n",
       "Protective Frisk                                             161\n",
       "Incident to Arrest,Inventory                                 129\n",
       "Incident to Arrest,Probable Cause                            106\n",
       "Probable Cause,Reasonable Suspicion                           75\n",
       "Incident to Arrest,Inventory,Probable Cause                   34\n",
       "Incident to Arrest,Protective Frisk                           33\n",
       "Probable Cause,Protective Frisk                               33\n",
       "Inventory,Probable Cause                                      22\n",
       "Incident to Arrest,Reasonable Suspicion                       13\n",
       "Inventory,Protective Frisk                                    11\n",
       "Incident to Arrest,Inventory,Protective Frisk                 11\n",
       "Protective Frisk,Reasonable Suspicion                         11\n",
       "Incident to Arrest,Probable Cause,Protective Frisk            10\n",
       "Incident to Arrest,Probable Cause,Reasonable Suspicion         6\n",
       "Incident to Arrest,Inventory,Reasonable Suspicion              4\n",
       "Inventory,Reasonable Suspicion                                 4\n",
       "Inventory,Probable Cause,Protective Frisk                      2\n",
       "Inventory,Probable Cause,Reasonable Suspicion                  2\n",
       "Incident to Arrest,Protective Frisk,Reasonable Suspicion       1\n",
       "Probable Cause,Protective Frisk,Reasonable Suspicion           1\n",
       "Name: search_type, dtype: int64"
      ]
     },
     "execution_count": 43,
     "metadata": {},
     "output_type": "execute_result"
    }
   ],
   "source": [
    "df3.search_type.value_counts()"
   ]
  },
  {
   "cell_type": "code",
   "execution_count": 44,
   "id": "0c7397b3",
   "metadata": {
    "execution": {
     "iopub.execute_input": "2022-04-20T11:36:27.161907Z",
     "iopub.status.busy": "2022-04-20T11:36:27.160825Z",
     "iopub.status.idle": "2022-04-20T11:36:27.175623Z",
     "shell.execute_reply": "2022-04-20T11:36:27.174676Z"
    },
    "papermill": {
     "duration": 0.102225,
     "end_time": "2022-04-20T11:36:27.178490",
     "exception": false,
     "start_time": "2022-04-20T11:36:27.076265",
     "status": "completed"
    },
    "tags": []
   },
   "outputs": [
    {
     "data": {
      "text/plain": [
       "True    161\n",
       "Name: search_conducted, dtype: int64"
      ]
     },
     "execution_count": 44,
     "metadata": {},
     "output_type": "execute_result"
    }
   ],
   "source": [
    "df3[df3.search_type =='Protective Frisk'].search_conducted.value_counts()"
   ]
  },
  {
   "cell_type": "code",
   "execution_count": 45,
   "id": "7c7b8e58",
   "metadata": {
    "execution": {
     "iopub.execute_input": "2022-04-20T11:36:27.349212Z",
     "iopub.status.busy": "2022-04-20T11:36:27.348836Z",
     "iopub.status.idle": "2022-04-20T11:36:27.364637Z",
     "shell.execute_reply": "2022-04-20T11:36:27.363698Z"
    },
    "papermill": {
     "duration": 0.10319,
     "end_time": "2022-04-20T11:36:27.367085",
     "exception": false,
     "start_time": "2022-04-20T11:36:27.263895",
     "status": "completed"
    },
    "tags": []
   },
   "outputs": [
    {
     "data": {
      "text/html": [
       "<div>\n",
       "<style scoped>\n",
       "    .dataframe tbody tr th:only-of-type {\n",
       "        vertical-align: middle;\n",
       "    }\n",
       "\n",
       "    .dataframe tbody tr th {\n",
       "        vertical-align: top;\n",
       "    }\n",
       "\n",
       "    .dataframe thead th {\n",
       "        text-align: right;\n",
       "    }\n",
       "</style>\n",
       "<table border=\"1\" class=\"dataframe\">\n",
       "  <thead>\n",
       "    <tr style=\"text-align: right;\">\n",
       "      <th></th>\n",
       "      <th>search_conducted</th>\n",
       "      <th>search_type</th>\n",
       "    </tr>\n",
       "  </thead>\n",
       "  <tbody>\n",
       "    <tr>\n",
       "      <th>0</th>\n",
       "      <td>False</td>\n",
       "      <td>NaN</td>\n",
       "    </tr>\n",
       "    <tr>\n",
       "      <th>1</th>\n",
       "      <td>False</td>\n",
       "      <td>NaN</td>\n",
       "    </tr>\n",
       "    <tr>\n",
       "      <th>2</th>\n",
       "      <td>False</td>\n",
       "      <td>NaN</td>\n",
       "    </tr>\n",
       "    <tr>\n",
       "      <th>3</th>\n",
       "      <td>False</td>\n",
       "      <td>NaN</td>\n",
       "    </tr>\n",
       "    <tr>\n",
       "      <th>4</th>\n",
       "      <td>False</td>\n",
       "      <td>NaN</td>\n",
       "    </tr>\n",
       "    <tr>\n",
       "      <th>...</th>\n",
       "      <td>...</td>\n",
       "      <td>...</td>\n",
       "    </tr>\n",
       "    <tr>\n",
       "      <th>91736</th>\n",
       "      <td>False</td>\n",
       "      <td>NaN</td>\n",
       "    </tr>\n",
       "    <tr>\n",
       "      <th>91737</th>\n",
       "      <td>False</td>\n",
       "      <td>NaN</td>\n",
       "    </tr>\n",
       "    <tr>\n",
       "      <th>91738</th>\n",
       "      <td>False</td>\n",
       "      <td>NaN</td>\n",
       "    </tr>\n",
       "    <tr>\n",
       "      <th>91739</th>\n",
       "      <td>False</td>\n",
       "      <td>NaN</td>\n",
       "    </tr>\n",
       "    <tr>\n",
       "      <th>91740</th>\n",
       "      <td>False</td>\n",
       "      <td>NaN</td>\n",
       "    </tr>\n",
       "  </tbody>\n",
       "</table>\n",
       "<p>91741 rows × 2 columns</p>\n",
       "</div>"
      ],
      "text/plain": [
       "       search_conducted search_type\n",
       "0                 False         NaN\n",
       "1                 False         NaN\n",
       "2                 False         NaN\n",
       "3                 False         NaN\n",
       "4                 False         NaN\n",
       "...                 ...         ...\n",
       "91736             False         NaN\n",
       "91737             False         NaN\n",
       "91738             False         NaN\n",
       "91739             False         NaN\n",
       "91740             False         NaN\n",
       "\n",
       "[91741 rows x 2 columns]"
      ]
     },
     "execution_count": 45,
     "metadata": {},
     "output_type": "execute_result"
    }
   ],
   "source": [
    "df3"
   ]
  },
  {
   "cell_type": "code",
   "execution_count": 46,
   "id": "9b9bb82f",
   "metadata": {
    "execution": {
     "iopub.execute_input": "2022-04-20T11:36:27.536134Z",
     "iopub.status.busy": "2022-04-20T11:36:27.535439Z",
     "iopub.status.idle": "2022-04-20T11:36:27.546714Z",
     "shell.execute_reply": "2022-04-20T11:36:27.545590Z"
    },
    "papermill": {
     "duration": 0.100651,
     "end_time": "2022-04-20T11:36:27.549560",
     "exception": false,
     "start_time": "2022-04-20T11:36:27.448909",
     "status": "completed"
    },
    "tags": []
   },
   "outputs": [],
   "source": [
    "df5=df.copy()"
   ]
  },
  {
   "cell_type": "code",
   "execution_count": 47,
   "id": "e2ddea4a",
   "metadata": {
    "execution": {
     "iopub.execute_input": "2022-04-20T11:36:27.718029Z",
     "iopub.status.busy": "2022-04-20T11:36:27.717512Z",
     "iopub.status.idle": "2022-04-20T11:36:27.825995Z",
     "shell.execute_reply": "2022-04-20T11:36:27.824823Z"
    },
    "papermill": {
     "duration": 0.196373,
     "end_time": "2022-04-20T11:36:27.829274",
     "exception": false,
     "start_time": "2022-04-20T11:36:27.632901",
     "status": "completed"
    },
    "tags": []
   },
   "outputs": [
    {
     "name": "stdout",
     "output_type": "stream",
     "text": [
      "<class 'pandas.core.frame.DataFrame'>\n",
      "RangeIndex: 91741 entries, 0 to 91740\n",
      "Data columns (total 15 columns):\n",
      " #   Column              Non-Null Count  Dtype  \n",
      "---  ------              --------------  -----  \n",
      " 0   stop_date           91741 non-null  object \n",
      " 1   stop_time           91741 non-null  object \n",
      " 2   county_name         0 non-null      float64\n",
      " 3   driver_gender       86406 non-null  object \n",
      " 4   driver_age_raw      86414 non-null  float64\n",
      " 5   driver_age          86120 non-null  float64\n",
      " 6   driver_race         86408 non-null  object \n",
      " 7   violation_raw       86408 non-null  object \n",
      " 8   violation           86408 non-null  object \n",
      " 9   search_conducted    91741 non-null  bool   \n",
      " 10  search_type         3196 non-null   object \n",
      " 11  stop_outcome        86408 non-null  object \n",
      " 12  is_arrested         86408 non-null  object \n",
      " 13  stop_duration       86408 non-null  object \n",
      " 14  drugs_related_stop  91741 non-null  bool   \n",
      "dtypes: bool(2), float64(3), object(10)\n",
      "memory usage: 9.3+ MB\n"
     ]
    }
   ],
   "source": [
    "df5.info()"
   ]
  },
  {
   "cell_type": "code",
   "execution_count": 48,
   "id": "e36b20ca",
   "metadata": {
    "execution": {
     "iopub.execute_input": "2022-04-20T11:36:28.032406Z",
     "iopub.status.busy": "2022-04-20T11:36:28.031261Z",
     "iopub.status.idle": "2022-04-20T11:36:28.043215Z",
     "shell.execute_reply": "2022-04-20T11:36:28.042129Z"
    },
    "papermill": {
     "duration": 0.131985,
     "end_time": "2022-04-20T11:36:28.045987",
     "exception": false,
     "start_time": "2022-04-20T11:36:27.914002",
     "status": "completed"
    },
    "tags": []
   },
   "outputs": [],
   "source": [
    "df6=df.search_type.dropna()"
   ]
  },
  {
   "cell_type": "code",
   "execution_count": 49,
   "id": "9fb1fba3",
   "metadata": {
    "execution": {
     "iopub.execute_input": "2022-04-20T11:36:28.219294Z",
     "iopub.status.busy": "2022-04-20T11:36:28.218910Z",
     "iopub.status.idle": "2022-04-20T11:36:28.226748Z",
     "shell.execute_reply": "2022-04-20T11:36:28.226069Z"
    },
    "papermill": {
     "duration": 0.099048,
     "end_time": "2022-04-20T11:36:28.228690",
     "exception": false,
     "start_time": "2022-04-20T11:36:28.129642",
     "status": "completed"
    },
    "tags": []
   },
   "outputs": [
    {
     "data": {
      "text/plain": [
       "24       Incident to Arrest,Protective Frisk\n",
       "40                            Probable Cause\n",
       "41                            Probable Cause\n",
       "80                        Incident to Arrest\n",
       "106                           Probable Cause\n",
       "                        ...                 \n",
       "91494                     Incident to Arrest\n",
       "91548                     Incident to Arrest\n",
       "91672                     Incident to Arrest\n",
       "91700    Probable Cause,Reasonable Suspicion\n",
       "91708                     Incident to Arrest\n",
       "Name: search_type, Length: 3196, dtype: object"
      ]
     },
     "execution_count": 49,
     "metadata": {},
     "output_type": "execute_result"
    }
   ],
   "source": [
    "df6"
   ]
  },
  {
   "cell_type": "code",
   "execution_count": 50,
   "id": "72fa043e",
   "metadata": {
    "execution": {
     "iopub.execute_input": "2022-04-20T11:36:28.402622Z",
     "iopub.status.busy": "2022-04-20T11:36:28.401627Z",
     "iopub.status.idle": "2022-04-20T11:36:28.406239Z",
     "shell.execute_reply": "2022-04-20T11:36:28.405519Z"
    },
    "papermill": {
     "duration": 0.093718,
     "end_time": "2022-04-20T11:36:28.408419",
     "exception": false,
     "start_time": "2022-04-20T11:36:28.314701",
     "status": "completed"
    },
    "tags": []
   },
   "outputs": [],
   "source": [
    "x = df6.tolist()"
   ]
  },
  {
   "cell_type": "code",
   "execution_count": 51,
   "id": "caa0f858",
   "metadata": {
    "execution": {
     "iopub.execute_input": "2022-04-20T11:36:28.577216Z",
     "iopub.status.busy": "2022-04-20T11:36:28.576370Z",
     "iopub.status.idle": "2022-04-20T11:36:28.583965Z",
     "shell.execute_reply": "2022-04-20T11:36:28.582932Z"
    },
    "papermill": {
     "duration": 0.094413,
     "end_time": "2022-04-20T11:36:28.586309",
     "exception": false,
     "start_time": "2022-04-20T11:36:28.491896",
     "status": "completed"
    },
    "tags": []
   },
   "outputs": [],
   "source": [
    "a=[]\n",
    "c = 0\n",
    "for i in x:\n",
    "    b = i.split(',')\n",
    "    if \"Protective Frisk\" in b:\n",
    "        a.append(b)\n",
    "        c = c+1"
   ]
  },
  {
   "cell_type": "code",
   "execution_count": 52,
   "id": "e3b79ee3",
   "metadata": {
    "execution": {
     "iopub.execute_input": "2022-04-20T11:36:28.762913Z",
     "iopub.status.busy": "2022-04-20T11:36:28.761732Z",
     "iopub.status.idle": "2022-04-20T11:36:28.769439Z",
     "shell.execute_reply": "2022-04-20T11:36:28.768276Z"
    },
    "papermill": {
     "duration": 0.100251,
     "end_time": "2022-04-20T11:36:28.771974",
     "exception": false,
     "start_time": "2022-04-20T11:36:28.671723",
     "status": "completed"
    },
    "tags": []
   },
   "outputs": [
    {
     "data": {
      "text/plain": [
       "274"
      ]
     },
     "execution_count": 52,
     "metadata": {},
     "output_type": "execute_result"
    }
   ],
   "source": [
    "c"
   ]
  },
  {
   "cell_type": "code",
   "execution_count": 53,
   "id": "b1ecf5f8",
   "metadata": {
    "execution": {
     "iopub.execute_input": "2022-04-20T11:36:28.950876Z",
     "iopub.status.busy": "2022-04-20T11:36:28.950360Z",
     "iopub.status.idle": "2022-04-20T11:36:28.959662Z",
     "shell.execute_reply": "2022-04-20T11:36:28.958764Z"
    },
    "papermill": {
     "duration": 0.09854,
     "end_time": "2022-04-20T11:36:28.962056",
     "exception": false,
     "start_time": "2022-04-20T11:36:28.863516",
     "status": "completed"
    },
    "tags": []
   },
   "outputs": [
    {
     "data": {
      "text/plain": [
       "0        NaN\n",
       "1        NaN\n",
       "2        NaN\n",
       "3        NaN\n",
       "4        NaN\n",
       "        ... \n",
       "91736    NaN\n",
       "91737    NaN\n",
       "91738    NaN\n",
       "91739    NaN\n",
       "91740    NaN\n",
       "Name: search_type, Length: 91741, dtype: object"
      ]
     },
     "execution_count": 53,
     "metadata": {},
     "output_type": "execute_result"
    }
   ],
   "source": [
    "df5.search_type"
   ]
  },
  {
   "cell_type": "code",
   "execution_count": 54,
   "id": "52cabbfb",
   "metadata": {
    "execution": {
     "iopub.execute_input": "2022-04-20T11:36:29.140814Z",
     "iopub.status.busy": "2022-04-20T11:36:29.140468Z",
     "iopub.status.idle": "2022-04-20T11:36:29.146086Z",
     "shell.execute_reply": "2022-04-20T11:36:29.144967Z"
    },
    "papermill": {
     "duration": 0.09655,
     "end_time": "2022-04-20T11:36:29.148476",
     "exception": false,
     "start_time": "2022-04-20T11:36:29.051926",
     "status": "completed"
    },
    "tags": []
   },
   "outputs": [],
   "source": [
    "df7=df5.search_type.tolist()"
   ]
  },
  {
   "cell_type": "code",
   "execution_count": 55,
   "id": "70b28c6d",
   "metadata": {
    "execution": {
     "iopub.execute_input": "2022-04-20T11:36:29.335656Z",
     "iopub.status.busy": "2022-04-20T11:36:29.334945Z",
     "iopub.status.idle": "2022-04-20T11:36:29.416597Z",
     "shell.execute_reply": "2022-04-20T11:36:29.415368Z"
    },
    "papermill": {
     "duration": 0.18219,
     "end_time": "2022-04-20T11:36:29.419482",
     "exception": false,
     "start_time": "2022-04-20T11:36:29.237292",
     "status": "completed"
    },
    "tags": []
   },
   "outputs": [],
   "source": [
    "z = []\n",
    "\n",
    "for i in df7:\n",
    "    i = str(i)\n",
    "    b = i.split(',')\n",
    "    for j in b:\n",
    "        if j not in z:\n",
    "            z.append(j)"
   ]
  },
  {
   "cell_type": "code",
   "execution_count": 56,
   "id": "8f547fe7",
   "metadata": {
    "execution": {
     "iopub.execute_input": "2022-04-20T11:36:29.596410Z",
     "iopub.status.busy": "2022-04-20T11:36:29.595765Z",
     "iopub.status.idle": "2022-04-20T11:36:29.601446Z",
     "shell.execute_reply": "2022-04-20T11:36:29.600607Z"
    },
    "papermill": {
     "duration": 0.098259,
     "end_time": "2022-04-20T11:36:29.603338",
     "exception": false,
     "start_time": "2022-04-20T11:36:29.505079",
     "status": "completed"
    },
    "tags": []
   },
   "outputs": [
    {
     "data": {
      "text/plain": [
       "['nan',\n",
       " 'Incident to Arrest',\n",
       " 'Protective Frisk',\n",
       " 'Probable Cause',\n",
       " 'Reasonable Suspicion',\n",
       " 'Inventory']"
      ]
     },
     "execution_count": 56,
     "metadata": {},
     "output_type": "execute_result"
    }
   ],
   "source": [
    "z"
   ]
  },
  {
   "cell_type": "code",
   "execution_count": 57,
   "id": "344b1757",
   "metadata": {
    "execution": {
     "iopub.execute_input": "2022-04-20T11:36:29.779824Z",
     "iopub.status.busy": "2022-04-20T11:36:29.779205Z",
     "iopub.status.idle": "2022-04-20T11:36:30.147282Z",
     "shell.execute_reply": "2022-04-20T11:36:30.146305Z"
    },
    "papermill": {
     "duration": 0.460965,
     "end_time": "2022-04-20T11:36:30.150119",
     "exception": false,
     "start_time": "2022-04-20T11:36:29.689154",
     "status": "completed"
    },
    "tags": []
   },
   "outputs": [],
   "source": [
    "c = {'Incident to Arrest':[],\n",
    " 'Protective Frisk':[],\n",
    " 'Probable Cause':[],\n",
    " 'Reasonable Suspicion':[],\n",
    " 'Inventory':[]}\n",
    "for i in c:\n",
    "    for j in df7:\n",
    "        j=str(j)\n",
    "        j = j.split(',')\n",
    "        if i in j:\n",
    "            c[i].append(1)\n",
    "        else:\n",
    "            c[i].append(0)\n",
    "#print(c)"
   ]
  },
  {
   "cell_type": "code",
   "execution_count": 58,
   "id": "a79b8f86",
   "metadata": {
    "execution": {
     "iopub.execute_input": "2022-04-20T11:36:30.323606Z",
     "iopub.status.busy": "2022-04-20T11:36:30.323239Z",
     "iopub.status.idle": "2022-04-20T11:36:30.530778Z",
     "shell.execute_reply": "2022-04-20T11:36:30.529769Z"
    },
    "papermill": {
     "duration": 0.297061,
     "end_time": "2022-04-20T11:36:30.533348",
     "exception": false,
     "start_time": "2022-04-20T11:36:30.236287",
     "status": "completed"
    },
    "tags": []
   },
   "outputs": [
    {
     "data": {
      "text/html": [
       "<div>\n",
       "<style scoped>\n",
       "    .dataframe tbody tr th:only-of-type {\n",
       "        vertical-align: middle;\n",
       "    }\n",
       "\n",
       "    .dataframe tbody tr th {\n",
       "        vertical-align: top;\n",
       "    }\n",
       "\n",
       "    .dataframe thead th {\n",
       "        text-align: right;\n",
       "    }\n",
       "</style>\n",
       "<table border=\"1\" class=\"dataframe\">\n",
       "  <thead>\n",
       "    <tr style=\"text-align: right;\">\n",
       "      <th></th>\n",
       "      <th>Incident_to_Arrest</th>\n",
       "      <th>Protective_Frisk</th>\n",
       "      <th>Probable_Cause</th>\n",
       "      <th>Reasonable_Suspicion</th>\n",
       "      <th>Inventory</th>\n",
       "    </tr>\n",
       "  </thead>\n",
       "  <tbody>\n",
       "    <tr>\n",
       "      <th>0</th>\n",
       "      <td>0</td>\n",
       "      <td>0</td>\n",
       "      <td>0</td>\n",
       "      <td>0</td>\n",
       "      <td>0</td>\n",
       "    </tr>\n",
       "    <tr>\n",
       "      <th>1</th>\n",
       "      <td>0</td>\n",
       "      <td>0</td>\n",
       "      <td>0</td>\n",
       "      <td>0</td>\n",
       "      <td>0</td>\n",
       "    </tr>\n",
       "    <tr>\n",
       "      <th>2</th>\n",
       "      <td>0</td>\n",
       "      <td>0</td>\n",
       "      <td>0</td>\n",
       "      <td>0</td>\n",
       "      <td>0</td>\n",
       "    </tr>\n",
       "    <tr>\n",
       "      <th>3</th>\n",
       "      <td>0</td>\n",
       "      <td>0</td>\n",
       "      <td>0</td>\n",
       "      <td>0</td>\n",
       "      <td>0</td>\n",
       "    </tr>\n",
       "    <tr>\n",
       "      <th>4</th>\n",
       "      <td>0</td>\n",
       "      <td>0</td>\n",
       "      <td>0</td>\n",
       "      <td>0</td>\n",
       "      <td>0</td>\n",
       "    </tr>\n",
       "    <tr>\n",
       "      <th>...</th>\n",
       "      <td>...</td>\n",
       "      <td>...</td>\n",
       "      <td>...</td>\n",
       "      <td>...</td>\n",
       "      <td>...</td>\n",
       "    </tr>\n",
       "    <tr>\n",
       "      <th>91736</th>\n",
       "      <td>0</td>\n",
       "      <td>0</td>\n",
       "      <td>0</td>\n",
       "      <td>0</td>\n",
       "      <td>0</td>\n",
       "    </tr>\n",
       "    <tr>\n",
       "      <th>91737</th>\n",
       "      <td>0</td>\n",
       "      <td>0</td>\n",
       "      <td>0</td>\n",
       "      <td>0</td>\n",
       "      <td>0</td>\n",
       "    </tr>\n",
       "    <tr>\n",
       "      <th>91738</th>\n",
       "      <td>0</td>\n",
       "      <td>0</td>\n",
       "      <td>0</td>\n",
       "      <td>0</td>\n",
       "      <td>0</td>\n",
       "    </tr>\n",
       "    <tr>\n",
       "      <th>91739</th>\n",
       "      <td>0</td>\n",
       "      <td>0</td>\n",
       "      <td>0</td>\n",
       "      <td>0</td>\n",
       "      <td>0</td>\n",
       "    </tr>\n",
       "    <tr>\n",
       "      <th>91740</th>\n",
       "      <td>0</td>\n",
       "      <td>0</td>\n",
       "      <td>0</td>\n",
       "      <td>0</td>\n",
       "      <td>0</td>\n",
       "    </tr>\n",
       "  </tbody>\n",
       "</table>\n",
       "<p>91741 rows × 5 columns</p>\n",
       "</div>"
      ],
      "text/plain": [
       "       Incident_to_Arrest  Protective_Frisk  Probable_Cause  \\\n",
       "0                       0                 0               0   \n",
       "1                       0                 0               0   \n",
       "2                       0                 0               0   \n",
       "3                       0                 0               0   \n",
       "4                       0                 0               0   \n",
       "...                   ...               ...             ...   \n",
       "91736                   0                 0               0   \n",
       "91737                   0                 0               0   \n",
       "91738                   0                 0               0   \n",
       "91739                   0                 0               0   \n",
       "91740                   0                 0               0   \n",
       "\n",
       "       Reasonable_Suspicion  Inventory  \n",
       "0                         0          0  \n",
       "1                         0          0  \n",
       "2                         0          0  \n",
       "3                         0          0  \n",
       "4                         0          0  \n",
       "...                     ...        ...  \n",
       "91736                     0          0  \n",
       "91737                     0          0  \n",
       "91738                     0          0  \n",
       "91739                     0          0  \n",
       "91740                     0          0  \n",
       "\n",
       "[91741 rows x 5 columns]"
      ]
     },
     "execution_count": 58,
     "metadata": {},
     "output_type": "execute_result"
    }
   ],
   "source": [
    "df8 = pd.DataFrame(c)\n",
    "df8.rename(columns={\"Incident to Arrest\": \"Incident_to_Arrest\", \"Protective Frisk\": \"Protective_Frisk\", \"Probable Cause\": \"Probable_Cause\", \"Reasonable Suspicion\": \"Reasonable_Suspicion\"})"
   ]
  },
  {
   "cell_type": "code",
   "execution_count": 59,
   "id": "19cf79f4",
   "metadata": {
    "execution": {
     "iopub.execute_input": "2022-04-20T11:36:30.707804Z",
     "iopub.status.busy": "2022-04-20T11:36:30.707470Z",
     "iopub.status.idle": "2022-04-20T11:36:30.716409Z",
     "shell.execute_reply": "2022-04-20T11:36:30.715542Z"
    },
    "papermill": {
     "duration": 0.098621,
     "end_time": "2022-04-20T11:36:30.718978",
     "exception": false,
     "start_time": "2022-04-20T11:36:30.620357",
     "status": "completed"
    },
    "tags": []
   },
   "outputs": [
    {
     "data": {
      "text/plain": [
       "Incident to Arrest      1566\n",
       "Protective Frisk         274\n",
       "Probable Cause          1182\n",
       "Reasonable Suspicion     314\n",
       "Inventory                439\n",
       "dtype: int64"
      ]
     },
     "execution_count": 59,
     "metadata": {},
     "output_type": "execute_result"
    }
   ],
   "source": [
    "df8.sum()"
   ]
  },
  {
   "cell_type": "code",
   "execution_count": 60,
   "id": "3f8445d6",
   "metadata": {
    "execution": {
     "iopub.execute_input": "2022-04-20T11:36:30.900082Z",
     "iopub.status.busy": "2022-04-20T11:36:30.899488Z",
     "iopub.status.idle": "2022-04-20T11:36:30.912494Z",
     "shell.execute_reply": "2022-04-20T11:36:30.911566Z"
    },
    "papermill": {
     "duration": 0.105039,
     "end_time": "2022-04-20T11:36:30.915360",
     "exception": false,
     "start_time": "2022-04-20T11:36:30.810321",
     "status": "completed"
    },
    "tags": []
   },
   "outputs": [
    {
     "name": "stdout",
     "output_type": "stream",
     "text": [
      "<class 'pandas.core.frame.DataFrame'>\n",
      "RangeIndex: 91741 entries, 0 to 91740\n",
      "Data columns (total 5 columns):\n",
      " #   Column                Non-Null Count  Dtype\n",
      "---  ------                --------------  -----\n",
      " 0   Incident to Arrest    91741 non-null  int64\n",
      " 1   Protective Frisk      91741 non-null  int64\n",
      " 2   Probable Cause        91741 non-null  int64\n",
      " 3   Reasonable Suspicion  91741 non-null  int64\n",
      " 4   Inventory             91741 non-null  int64\n",
      "dtypes: int64(5)\n",
      "memory usage: 3.5 MB\n"
     ]
    }
   ],
   "source": [
    "df8.info()"
   ]
  },
  {
   "cell_type": "code",
   "execution_count": 61,
   "id": "00ad62df",
   "metadata": {
    "execution": {
     "iopub.execute_input": "2022-04-20T11:36:31.099393Z",
     "iopub.status.busy": "2022-04-20T11:36:31.098700Z",
     "iopub.status.idle": "2022-04-20T11:36:31.137036Z",
     "shell.execute_reply": "2022-04-20T11:36:31.135966Z"
    },
    "papermill": {
     "duration": 0.13357,
     "end_time": "2022-04-20T11:36:31.140034",
     "exception": false,
     "start_time": "2022-04-20T11:36:31.006464",
     "status": "completed"
    },
    "tags": []
   },
   "outputs": [],
   "source": [
    "df_created = pd.concat([df5,df8],axis=1)"
   ]
  },
  {
   "cell_type": "code",
   "execution_count": 62,
   "id": "3442f449",
   "metadata": {
    "execution": {
     "iopub.execute_input": "2022-04-20T11:36:31.321958Z",
     "iopub.status.busy": "2022-04-20T11:36:31.320936Z",
     "iopub.status.idle": "2022-04-20T11:36:31.391271Z",
     "shell.execute_reply": "2022-04-20T11:36:31.390204Z"
    },
    "papermill": {
     "duration": 0.164126,
     "end_time": "2022-04-20T11:36:31.394213",
     "exception": false,
     "start_time": "2022-04-20T11:36:31.230087",
     "status": "completed"
    },
    "tags": []
   },
   "outputs": [],
   "source": [
    "df_cr_=df_created.copy()"
   ]
  },
  {
   "cell_type": "code",
   "execution_count": 63,
   "id": "b68a7e4e",
   "metadata": {
    "execution": {
     "iopub.execute_input": "2022-04-20T11:36:31.567121Z",
     "iopub.status.busy": "2022-04-20T11:36:31.566719Z",
     "iopub.status.idle": "2022-04-20T11:36:31.678400Z",
     "shell.execute_reply": "2022-04-20T11:36:31.677340Z"
    },
    "papermill": {
     "duration": 0.200907,
     "end_time": "2022-04-20T11:36:31.680834",
     "exception": false,
     "start_time": "2022-04-20T11:36:31.479927",
     "status": "completed"
    },
    "tags": []
   },
   "outputs": [
    {
     "name": "stdout",
     "output_type": "stream",
     "text": [
      "<class 'pandas.core.frame.DataFrame'>\n",
      "RangeIndex: 91741 entries, 0 to 91740\n",
      "Data columns (total 20 columns):\n",
      " #   Column                Non-Null Count  Dtype  \n",
      "---  ------                --------------  -----  \n",
      " 0   stop_date             91741 non-null  object \n",
      " 1   stop_time             91741 non-null  object \n",
      " 2   county_name           0 non-null      float64\n",
      " 3   driver_gender         86406 non-null  object \n",
      " 4   driver_age_raw        86414 non-null  float64\n",
      " 5   driver_age            86120 non-null  float64\n",
      " 6   driver_race           86408 non-null  object \n",
      " 7   violation_raw         86408 non-null  object \n",
      " 8   violation             86408 non-null  object \n",
      " 9   search_conducted      91741 non-null  bool   \n",
      " 10  search_type           3196 non-null   object \n",
      " 11  stop_outcome          86408 non-null  object \n",
      " 12  is_arrested           86408 non-null  object \n",
      " 13  stop_duration         86408 non-null  object \n",
      " 14  drugs_related_stop    91741 non-null  bool   \n",
      " 15  Incident to Arrest    91741 non-null  int64  \n",
      " 16  Protective Frisk      91741 non-null  int64  \n",
      " 17  Probable Cause        91741 non-null  int64  \n",
      " 18  Reasonable Suspicion  91741 non-null  int64  \n",
      " 19  Inventory             91741 non-null  int64  \n",
      "dtypes: bool(2), float64(3), int64(5), object(10)\n",
      "memory usage: 12.8+ MB\n"
     ]
    }
   ],
   "source": [
    "df_cr_.info()"
   ]
  },
  {
   "cell_type": "code",
   "execution_count": 64,
   "id": "023f49cf",
   "metadata": {
    "execution": {
     "iopub.execute_input": "2022-04-20T11:36:31.859939Z",
     "iopub.status.busy": "2022-04-20T11:36:31.859553Z",
     "iopub.status.idle": "2022-04-20T11:36:31.871485Z",
     "shell.execute_reply": "2022-04-20T11:36:31.870458Z"
    },
    "papermill": {
     "duration": 0.104402,
     "end_time": "2022-04-20T11:36:31.873569",
     "exception": false,
     "start_time": "2022-04-20T11:36:31.769167",
     "status": "completed"
    },
    "tags": []
   },
   "outputs": [],
   "source": [
    "df_cr_.drop(df_cr_.iloc[[],[0,1,2,3,4,5,6,7,8,10,11,12,13,14,15,17,18,19]],axis=1,inplace=True)"
   ]
  },
  {
   "cell_type": "code",
   "execution_count": 65,
   "id": "440879c1",
   "metadata": {
    "execution": {
     "iopub.execute_input": "2022-04-20T11:36:32.051403Z",
     "iopub.status.busy": "2022-04-20T11:36:32.051046Z",
     "iopub.status.idle": "2022-04-20T11:36:32.061304Z",
     "shell.execute_reply": "2022-04-20T11:36:32.060308Z"
    },
    "papermill": {
     "duration": 0.10249,
     "end_time": "2022-04-20T11:36:32.063640",
     "exception": false,
     "start_time": "2022-04-20T11:36:31.961150",
     "status": "completed"
    },
    "tags": []
   },
   "outputs": [
    {
     "data": {
      "text/html": [
       "<div>\n",
       "<style scoped>\n",
       "    .dataframe tbody tr th:only-of-type {\n",
       "        vertical-align: middle;\n",
       "    }\n",
       "\n",
       "    .dataframe tbody tr th {\n",
       "        vertical-align: top;\n",
       "    }\n",
       "\n",
       "    .dataframe thead th {\n",
       "        text-align: right;\n",
       "    }\n",
       "</style>\n",
       "<table border=\"1\" class=\"dataframe\">\n",
       "  <thead>\n",
       "    <tr style=\"text-align: right;\">\n",
       "      <th></th>\n",
       "      <th>search_conducted</th>\n",
       "      <th>Protective Frisk</th>\n",
       "    </tr>\n",
       "  </thead>\n",
       "  <tbody>\n",
       "    <tr>\n",
       "      <th>0</th>\n",
       "      <td>False</td>\n",
       "      <td>0</td>\n",
       "    </tr>\n",
       "    <tr>\n",
       "      <th>1</th>\n",
       "      <td>False</td>\n",
       "      <td>0</td>\n",
       "    </tr>\n",
       "    <tr>\n",
       "      <th>2</th>\n",
       "      <td>False</td>\n",
       "      <td>0</td>\n",
       "    </tr>\n",
       "    <tr>\n",
       "      <th>3</th>\n",
       "      <td>False</td>\n",
       "      <td>0</td>\n",
       "    </tr>\n",
       "    <tr>\n",
       "      <th>4</th>\n",
       "      <td>False</td>\n",
       "      <td>0</td>\n",
       "    </tr>\n",
       "  </tbody>\n",
       "</table>\n",
       "</div>"
      ],
      "text/plain": [
       "   search_conducted  Protective Frisk\n",
       "0             False                 0\n",
       "1             False                 0\n",
       "2             False                 0\n",
       "3             False                 0\n",
       "4             False                 0"
      ]
     },
     "execution_count": 65,
     "metadata": {},
     "output_type": "execute_result"
    }
   ],
   "source": [
    "df_cr_.head()"
   ]
  },
  {
   "cell_type": "code",
   "execution_count": 66,
   "id": "60375dcc",
   "metadata": {
    "execution": {
     "iopub.execute_input": "2022-04-20T11:36:32.244318Z",
     "iopub.status.busy": "2022-04-20T11:36:32.243713Z",
     "iopub.status.idle": "2022-04-20T11:36:32.253886Z",
     "shell.execute_reply": "2022-04-20T11:36:32.253039Z"
    },
    "papermill": {
     "duration": 0.103688,
     "end_time": "2022-04-20T11:36:32.256020",
     "exception": false,
     "start_time": "2022-04-20T11:36:32.152332",
     "status": "completed"
    },
    "tags": []
   },
   "outputs": [
    {
     "data": {
      "text/plain": [
       "False    88545\n",
       "True      3196\n",
       "Name: search_conducted, dtype: int64"
      ]
     },
     "execution_count": 66,
     "metadata": {},
     "output_type": "execute_result"
    }
   ],
   "source": [
    "df_cr_.search_conducted.value_counts()"
   ]
  },
  {
   "cell_type": "code",
   "execution_count": 67,
   "id": "91bc61f5",
   "metadata": {
    "execution": {
     "iopub.execute_input": "2022-04-20T11:36:32.435678Z",
     "iopub.status.busy": "2022-04-20T11:36:32.434725Z",
     "iopub.status.idle": "2022-04-20T11:36:32.448227Z",
     "shell.execute_reply": "2022-04-20T11:36:32.447259Z"
    },
    "papermill": {
     "duration": 0.107121,
     "end_time": "2022-04-20T11:36:32.450563",
     "exception": false,
     "start_time": "2022-04-20T11:36:32.343442",
     "status": "completed"
    },
    "tags": []
   },
   "outputs": [
    {
     "name": "stdout",
     "output_type": "stream",
     "text": [
      "<class 'pandas.core.frame.DataFrame'>\n",
      "RangeIndex: 91741 entries, 0 to 91740\n",
      "Data columns (total 2 columns):\n",
      " #   Column            Non-Null Count  Dtype\n",
      "---  ------            --------------  -----\n",
      " 0   search_conducted  91741 non-null  bool \n",
      " 1   Protective Frisk  91741 non-null  int64\n",
      "dtypes: bool(1), int64(1)\n",
      "memory usage: 806.4 KB\n"
     ]
    }
   ],
   "source": [
    "df_cr_.info()"
   ]
  },
  {
   "cell_type": "code",
   "execution_count": 68,
   "id": "2a823e66",
   "metadata": {
    "execution": {
     "iopub.execute_input": "2022-04-20T11:36:32.629532Z",
     "iopub.status.busy": "2022-04-20T11:36:32.628984Z",
     "iopub.status.idle": "2022-04-20T11:36:32.639712Z",
     "shell.execute_reply": "2022-04-20T11:36:32.638773Z"
    },
    "papermill": {
     "duration": 0.103053,
     "end_time": "2022-04-20T11:36:32.642380",
     "exception": false,
     "start_time": "2022-04-20T11:36:32.539327",
     "status": "completed"
    },
    "tags": []
   },
   "outputs": [
    {
     "data": {
      "text/plain": [
       "Protective Frisk    0.0\n",
       "dtype: float64"
      ]
     },
     "execution_count": 68,
     "metadata": {},
     "output_type": "execute_result"
    }
   ],
   "source": [
    "df_cr_.iloc[[],[1]].sum()"
   ]
  },
  {
   "cell_type": "code",
   "execution_count": null,
   "id": "d6e6afb4",
   "metadata": {
    "papermill": {
     "duration": 0.091186,
     "end_time": "2022-04-20T11:36:32.822384",
     "exception": false,
     "start_time": "2022-04-20T11:36:32.731198",
     "status": "completed"
    },
    "tags": []
   },
   "outputs": [],
   "source": []
  }
 ],
 "metadata": {
  "kernelspec": {
   "display_name": "Python 3",
   "language": "python",
   "name": "python3"
  },
  "language_info": {
   "codemirror_mode": {
    "name": "ipython",
    "version": 3
   },
   "file_extension": ".py",
   "mimetype": "text/x-python",
   "name": "python",
   "nbconvert_exporter": "python",
   "pygments_lexer": "ipython3",
   "version": "3.7.12"
  },
  "papermill": {
   "default_parameters": {},
   "duration": 27.019532,
   "end_time": "2022-04-20T11:36:33.837774",
   "environment_variables": {},
   "exception": null,
   "input_path": "__notebook__.ipynb",
   "output_path": "__notebook__.ipynb",
   "parameters": {},
   "start_time": "2022-04-20T11:36:06.818242",
   "version": "2.3.4"
  }
 },
 "nbformat": 4,
 "nbformat_minor": 5
}
