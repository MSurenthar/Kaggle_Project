{
 "cells": [
  {
   "cell_type": "code",
   "execution_count": 1,
   "id": "e6937daf",
   "metadata": {
    "_cell_guid": "b1076dfc-b9ad-4769-8c92-a6c4dae69d19",
    "_uuid": "8f2839f25d086af736a60e9eeb907d3b93b6e0e5",
    "execution": {
     "iopub.execute_input": "2022-04-22T00:32:28.116586Z",
     "iopub.status.busy": "2022-04-22T00:32:28.115905Z",
     "iopub.status.idle": "2022-04-22T00:32:28.137694Z",
     "shell.execute_reply": "2022-04-22T00:32:28.136059Z"
    },
    "papermill": {
     "duration": 0.163226,
     "end_time": "2022-04-22T00:32:28.140694",
     "exception": false,
     "start_time": "2022-04-22T00:32:27.977468",
     "status": "completed"
    },
    "tags": []
   },
   "outputs": [
    {
     "name": "stdout",
     "output_type": "stream",
     "text": [
      "/kaggle/input/stanford-open-policing-project/police_project.csv\n"
     ]
    }
   ],
   "source": [
    "# This Python 3 environment comes with many helpful analytics libraries installed\n",
    "# It is defined by the kaggle/python Docker image: https://github.com/kaggle/docker-python\n",
    "# For example, here's several helpful packages to load\n",
    "\n",
    "import numpy as np # linear algebra\n",
    "import pandas as pd # data processing, CSV file I/O (e.g. pd.read_csv)\n",
    "\n",
    "# Input data files are available in the read-only \"../input/\" directory\n",
    "# For example, running this (by clicking run or pressing Shift+Enter) will list all files under the input directory\n",
    "\n",
    "import os\n",
    "for dirname, _, filenames in os.walk('/kaggle/input'):\n",
    "    for filename in filenames:\n",
    "        print(os.path.join(dirname, filename))\n",
    "\n",
    "# You can write up to 20GB to the current directory (/kaggle/working/) that gets preserved as output when you create a version using \"Save & Run All\" \n",
    "# You can also write temporary files to /kaggle/temp/, but they won't be saved outside of the current session"
   ]
  },
  {
   "cell_type": "code",
   "execution_count": 2,
   "id": "86d06bc4",
   "metadata": {
    "execution": {
     "iopub.execute_input": "2022-04-22T00:32:28.410209Z",
     "iopub.status.busy": "2022-04-22T00:32:28.409061Z",
     "iopub.status.idle": "2022-04-22T00:32:28.728710Z",
     "shell.execute_reply": "2022-04-22T00:32:28.727125Z"
    },
    "papermill": {
     "duration": 0.454874,
     "end_time": "2022-04-22T00:32:28.731662",
     "exception": false,
     "start_time": "2022-04-22T00:32:28.276788",
     "status": "completed"
    },
    "tags": []
   },
   "outputs": [],
   "source": [
    "df=pd.read_csv('../input/stanford-open-policing-project/police_project.csv')"
   ]
  },
  {
   "cell_type": "code",
   "execution_count": 3,
   "id": "f45c5759",
   "metadata": {
    "execution": {
     "iopub.execute_input": "2022-04-22T00:32:28.997690Z",
     "iopub.status.busy": "2022-04-22T00:32:28.997207Z",
     "iopub.status.idle": "2022-04-22T00:32:29.030263Z",
     "shell.execute_reply": "2022-04-22T00:32:29.029692Z"
    },
    "papermill": {
     "duration": 0.168384,
     "end_time": "2022-04-22T00:32:29.033200",
     "exception": false,
     "start_time": "2022-04-22T00:32:28.864816",
     "status": "completed"
    },
    "tags": []
   },
   "outputs": [
    {
     "data": {
      "text/html": [
       "<div>\n",
       "<style scoped>\n",
       "    .dataframe tbody tr th:only-of-type {\n",
       "        vertical-align: middle;\n",
       "    }\n",
       "\n",
       "    .dataframe tbody tr th {\n",
       "        vertical-align: top;\n",
       "    }\n",
       "\n",
       "    .dataframe thead th {\n",
       "        text-align: right;\n",
       "    }\n",
       "</style>\n",
       "<table border=\"1\" class=\"dataframe\">\n",
       "  <thead>\n",
       "    <tr style=\"text-align: right;\">\n",
       "      <th></th>\n",
       "      <th>stop_date</th>\n",
       "      <th>stop_time</th>\n",
       "      <th>county_name</th>\n",
       "      <th>driver_gender</th>\n",
       "      <th>driver_age_raw</th>\n",
       "      <th>driver_age</th>\n",
       "      <th>driver_race</th>\n",
       "      <th>violation_raw</th>\n",
       "      <th>violation</th>\n",
       "      <th>search_conducted</th>\n",
       "      <th>search_type</th>\n",
       "      <th>stop_outcome</th>\n",
       "      <th>is_arrested</th>\n",
       "      <th>stop_duration</th>\n",
       "      <th>drugs_related_stop</th>\n",
       "    </tr>\n",
       "  </thead>\n",
       "  <tbody>\n",
       "    <tr>\n",
       "      <th>0</th>\n",
       "      <td>2005-01-02</td>\n",
       "      <td>01:55</td>\n",
       "      <td>NaN</td>\n",
       "      <td>M</td>\n",
       "      <td>1985.0</td>\n",
       "      <td>20.0</td>\n",
       "      <td>White</td>\n",
       "      <td>Speeding</td>\n",
       "      <td>Speeding</td>\n",
       "      <td>False</td>\n",
       "      <td>NaN</td>\n",
       "      <td>Citation</td>\n",
       "      <td>False</td>\n",
       "      <td>0-15 Min</td>\n",
       "      <td>False</td>\n",
       "    </tr>\n",
       "    <tr>\n",
       "      <th>1</th>\n",
       "      <td>2005-01-18</td>\n",
       "      <td>08:15</td>\n",
       "      <td>NaN</td>\n",
       "      <td>M</td>\n",
       "      <td>1965.0</td>\n",
       "      <td>40.0</td>\n",
       "      <td>White</td>\n",
       "      <td>Speeding</td>\n",
       "      <td>Speeding</td>\n",
       "      <td>False</td>\n",
       "      <td>NaN</td>\n",
       "      <td>Citation</td>\n",
       "      <td>False</td>\n",
       "      <td>0-15 Min</td>\n",
       "      <td>False</td>\n",
       "    </tr>\n",
       "    <tr>\n",
       "      <th>2</th>\n",
       "      <td>2005-01-23</td>\n",
       "      <td>23:15</td>\n",
       "      <td>NaN</td>\n",
       "      <td>M</td>\n",
       "      <td>1972.0</td>\n",
       "      <td>33.0</td>\n",
       "      <td>White</td>\n",
       "      <td>Speeding</td>\n",
       "      <td>Speeding</td>\n",
       "      <td>False</td>\n",
       "      <td>NaN</td>\n",
       "      <td>Citation</td>\n",
       "      <td>False</td>\n",
       "      <td>0-15 Min</td>\n",
       "      <td>False</td>\n",
       "    </tr>\n",
       "    <tr>\n",
       "      <th>3</th>\n",
       "      <td>2005-02-20</td>\n",
       "      <td>17:15</td>\n",
       "      <td>NaN</td>\n",
       "      <td>M</td>\n",
       "      <td>1986.0</td>\n",
       "      <td>19.0</td>\n",
       "      <td>White</td>\n",
       "      <td>Call for Service</td>\n",
       "      <td>Other</td>\n",
       "      <td>False</td>\n",
       "      <td>NaN</td>\n",
       "      <td>Arrest Driver</td>\n",
       "      <td>True</td>\n",
       "      <td>16-30 Min</td>\n",
       "      <td>False</td>\n",
       "    </tr>\n",
       "    <tr>\n",
       "      <th>4</th>\n",
       "      <td>2005-03-14</td>\n",
       "      <td>10:00</td>\n",
       "      <td>NaN</td>\n",
       "      <td>F</td>\n",
       "      <td>1984.0</td>\n",
       "      <td>21.0</td>\n",
       "      <td>White</td>\n",
       "      <td>Speeding</td>\n",
       "      <td>Speeding</td>\n",
       "      <td>False</td>\n",
       "      <td>NaN</td>\n",
       "      <td>Citation</td>\n",
       "      <td>False</td>\n",
       "      <td>0-15 Min</td>\n",
       "      <td>False</td>\n",
       "    </tr>\n",
       "  </tbody>\n",
       "</table>\n",
       "</div>"
      ],
      "text/plain": [
       "    stop_date stop_time  county_name driver_gender  driver_age_raw  \\\n",
       "0  2005-01-02     01:55          NaN             M          1985.0   \n",
       "1  2005-01-18     08:15          NaN             M          1965.0   \n",
       "2  2005-01-23     23:15          NaN             M          1972.0   \n",
       "3  2005-02-20     17:15          NaN             M          1986.0   \n",
       "4  2005-03-14     10:00          NaN             F          1984.0   \n",
       "\n",
       "   driver_age driver_race     violation_raw violation  search_conducted  \\\n",
       "0        20.0       White          Speeding  Speeding             False   \n",
       "1        40.0       White          Speeding  Speeding             False   \n",
       "2        33.0       White          Speeding  Speeding             False   \n",
       "3        19.0       White  Call for Service     Other             False   \n",
       "4        21.0       White          Speeding  Speeding             False   \n",
       "\n",
       "  search_type   stop_outcome is_arrested stop_duration  drugs_related_stop  \n",
       "0         NaN       Citation       False      0-15 Min               False  \n",
       "1         NaN       Citation       False      0-15 Min               False  \n",
       "2         NaN       Citation       False      0-15 Min               False  \n",
       "3         NaN  Arrest Driver        True     16-30 Min               False  \n",
       "4         NaN       Citation       False      0-15 Min               False  "
      ]
     },
     "execution_count": 3,
     "metadata": {},
     "output_type": "execute_result"
    }
   ],
   "source": [
    "df.head()"
   ]
  },
  {
   "cell_type": "code",
   "execution_count": 4,
   "id": "d7487499",
   "metadata": {
    "execution": {
     "iopub.execute_input": "2022-04-22T00:32:29.302255Z",
     "iopub.status.busy": "2022-04-22T00:32:29.301942Z",
     "iopub.status.idle": "2022-04-22T00:32:29.428249Z",
     "shell.execute_reply": "2022-04-22T00:32:29.426877Z"
    },
    "papermill": {
     "duration": 0.263885,
     "end_time": "2022-04-22T00:32:29.431566",
     "exception": false,
     "start_time": "2022-04-22T00:32:29.167681",
     "status": "completed"
    },
    "tags": []
   },
   "outputs": [
    {
     "name": "stdout",
     "output_type": "stream",
     "text": [
      "<class 'pandas.core.frame.DataFrame'>\n",
      "RangeIndex: 91741 entries, 0 to 91740\n",
      "Data columns (total 15 columns):\n",
      " #   Column              Non-Null Count  Dtype  \n",
      "---  ------              --------------  -----  \n",
      " 0   stop_date           91741 non-null  object \n",
      " 1   stop_time           91741 non-null  object \n",
      " 2   county_name         0 non-null      float64\n",
      " 3   driver_gender       86406 non-null  object \n",
      " 4   driver_age_raw      86414 non-null  float64\n",
      " 5   driver_age          86120 non-null  float64\n",
      " 6   driver_race         86408 non-null  object \n",
      " 7   violation_raw       86408 non-null  object \n",
      " 8   violation           86408 non-null  object \n",
      " 9   search_conducted    91741 non-null  bool   \n",
      " 10  search_type         3196 non-null   object \n",
      " 11  stop_outcome        86408 non-null  object \n",
      " 12  is_arrested         86408 non-null  object \n",
      " 13  stop_duration       86408 non-null  object \n",
      " 14  drugs_related_stop  91741 non-null  bool   \n",
      "dtypes: bool(2), float64(3), object(10)\n",
      "memory usage: 9.3+ MB\n"
     ]
    }
   ],
   "source": [
    "df.info()"
   ]
  },
  {
   "cell_type": "code",
   "execution_count": 5,
   "id": "8d342963",
   "metadata": {
    "execution": {
     "iopub.execute_input": "2022-04-22T00:32:29.703133Z",
     "iopub.status.busy": "2022-04-22T00:32:29.702790Z",
     "iopub.status.idle": "2022-04-22T00:32:29.713388Z",
     "shell.execute_reply": "2022-04-22T00:32:29.712488Z"
    },
    "papermill": {
     "duration": 0.148683,
     "end_time": "2022-04-22T00:32:29.715446",
     "exception": false,
     "start_time": "2022-04-22T00:32:29.566763",
     "status": "completed"
    },
    "tags": []
   },
   "outputs": [],
   "source": [
    "df1=df.copy()"
   ]
  },
  {
   "cell_type": "code",
   "execution_count": 6,
   "id": "72b8ef22",
   "metadata": {
    "execution": {
     "iopub.execute_input": "2022-04-22T00:32:29.982505Z",
     "iopub.status.busy": "2022-04-22T00:32:29.981583Z",
     "iopub.status.idle": "2022-04-22T00:32:30.004284Z",
     "shell.execute_reply": "2022-04-22T00:32:30.003303Z"
    },
    "papermill": {
     "duration": 0.160405,
     "end_time": "2022-04-22T00:32:30.007478",
     "exception": false,
     "start_time": "2022-04-22T00:32:29.847073",
     "status": "completed"
    },
    "tags": []
   },
   "outputs": [],
   "source": [
    "df1.drop('county_name',axis=1,inplace=True)"
   ]
  },
  {
   "cell_type": "code",
   "execution_count": 7,
   "id": "c1ec69e9",
   "metadata": {
    "execution": {
     "iopub.execute_input": "2022-04-22T00:32:30.290649Z",
     "iopub.status.busy": "2022-04-22T00:32:30.290226Z",
     "iopub.status.idle": "2022-04-22T00:32:30.403449Z",
     "shell.execute_reply": "2022-04-22T00:32:30.402541Z"
    },
    "papermill": {
     "duration": 0.259917,
     "end_time": "2022-04-22T00:32:30.406131",
     "exception": false,
     "start_time": "2022-04-22T00:32:30.146214",
     "status": "completed"
    },
    "tags": []
   },
   "outputs": [
    {
     "name": "stdout",
     "output_type": "stream",
     "text": [
      "<class 'pandas.core.frame.DataFrame'>\n",
      "RangeIndex: 91741 entries, 0 to 91740\n",
      "Data columns (total 14 columns):\n",
      " #   Column              Non-Null Count  Dtype  \n",
      "---  ------              --------------  -----  \n",
      " 0   stop_date           91741 non-null  object \n",
      " 1   stop_time           91741 non-null  object \n",
      " 2   driver_gender       86406 non-null  object \n",
      " 3   driver_age_raw      86414 non-null  float64\n",
      " 4   driver_age          86120 non-null  float64\n",
      " 5   driver_race         86408 non-null  object \n",
      " 6   violation_raw       86408 non-null  object \n",
      " 7   violation           86408 non-null  object \n",
      " 8   search_conducted    91741 non-null  bool   \n",
      " 9   search_type         3196 non-null   object \n",
      " 10  stop_outcome        86408 non-null  object \n",
      " 11  is_arrested         86408 non-null  object \n",
      " 12  stop_duration       86408 non-null  object \n",
      " 13  drugs_related_stop  91741 non-null  bool   \n",
      "dtypes: bool(2), float64(2), object(10)\n",
      "memory usage: 8.6+ MB\n"
     ]
    }
   ],
   "source": [
    "df1.info()"
   ]
  },
  {
   "cell_type": "code",
   "execution_count": 8,
   "id": "1cb42cf5",
   "metadata": {
    "execution": {
     "iopub.execute_input": "2022-04-22T00:32:30.690435Z",
     "iopub.status.busy": "2022-04-22T00:32:30.689541Z",
     "iopub.status.idle": "2022-04-22T00:32:30.701720Z",
     "shell.execute_reply": "2022-04-22T00:32:30.700729Z"
    },
    "papermill": {
     "duration": 0.160845,
     "end_time": "2022-04-22T00:32:30.704532",
     "exception": false,
     "start_time": "2022-04-22T00:32:30.543687",
     "status": "completed"
    },
    "tags": []
   },
   "outputs": [],
   "source": [
    "df1.drop(df1.iloc[[],[0,1,3,4,5,6,8,9,10,11,12,13]],axis=1,inplace=True)"
   ]
  },
  {
   "cell_type": "code",
   "execution_count": 9,
   "id": "a6a9c72f",
   "metadata": {
    "execution": {
     "iopub.execute_input": "2022-04-22T00:32:31.003143Z",
     "iopub.status.busy": "2022-04-22T00:32:31.002790Z",
     "iopub.status.idle": "2022-04-22T00:32:31.013789Z",
     "shell.execute_reply": "2022-04-22T00:32:31.012426Z"
    },
    "papermill": {
     "duration": 0.163254,
     "end_time": "2022-04-22T00:32:31.017444",
     "exception": false,
     "start_time": "2022-04-22T00:32:30.854190",
     "status": "completed"
    },
    "tags": []
   },
   "outputs": [
    {
     "data": {
      "text/html": [
       "<div>\n",
       "<style scoped>\n",
       "    .dataframe tbody tr th:only-of-type {\n",
       "        vertical-align: middle;\n",
       "    }\n",
       "\n",
       "    .dataframe tbody tr th {\n",
       "        vertical-align: top;\n",
       "    }\n",
       "\n",
       "    .dataframe thead th {\n",
       "        text-align: right;\n",
       "    }\n",
       "</style>\n",
       "<table border=\"1\" class=\"dataframe\">\n",
       "  <thead>\n",
       "    <tr style=\"text-align: right;\">\n",
       "      <th></th>\n",
       "      <th>driver_gender</th>\n",
       "      <th>violation</th>\n",
       "    </tr>\n",
       "  </thead>\n",
       "  <tbody>\n",
       "    <tr>\n",
       "      <th>0</th>\n",
       "      <td>M</td>\n",
       "      <td>Speeding</td>\n",
       "    </tr>\n",
       "    <tr>\n",
       "      <th>1</th>\n",
       "      <td>M</td>\n",
       "      <td>Speeding</td>\n",
       "    </tr>\n",
       "    <tr>\n",
       "      <th>2</th>\n",
       "      <td>M</td>\n",
       "      <td>Speeding</td>\n",
       "    </tr>\n",
       "    <tr>\n",
       "      <th>3</th>\n",
       "      <td>M</td>\n",
       "      <td>Other</td>\n",
       "    </tr>\n",
       "    <tr>\n",
       "      <th>4</th>\n",
       "      <td>F</td>\n",
       "      <td>Speeding</td>\n",
       "    </tr>\n",
       "  </tbody>\n",
       "</table>\n",
       "</div>"
      ],
      "text/plain": [
       "  driver_gender violation\n",
       "0             M  Speeding\n",
       "1             M  Speeding\n",
       "2             M  Speeding\n",
       "3             M     Other\n",
       "4             F  Speeding"
      ]
     },
     "execution_count": 9,
     "metadata": {},
     "output_type": "execute_result"
    }
   ],
   "source": [
    "df1.head()"
   ]
  },
  {
   "cell_type": "code",
   "execution_count": 10,
   "id": "6b1a8ca3",
   "metadata": {
    "execution": {
     "iopub.execute_input": "2022-04-22T00:32:31.302939Z",
     "iopub.status.busy": "2022-04-22T00:32:31.302010Z",
     "iopub.status.idle": "2022-04-22T00:32:31.325497Z",
     "shell.execute_reply": "2022-04-22T00:32:31.324136Z"
    },
    "papermill": {
     "duration": 0.165528,
     "end_time": "2022-04-22T00:32:31.328155",
     "exception": false,
     "start_time": "2022-04-22T00:32:31.162627",
     "status": "completed"
    },
    "tags": []
   },
   "outputs": [],
   "source": [
    "df2=df.copy()"
   ]
  },
  {
   "cell_type": "code",
   "execution_count": 11,
   "id": "0b82c2b1",
   "metadata": {
    "execution": {
     "iopub.execute_input": "2022-04-22T00:32:31.612210Z",
     "iopub.status.busy": "2022-04-22T00:32:31.611868Z",
     "iopub.status.idle": "2022-04-22T00:32:31.725604Z",
     "shell.execute_reply": "2022-04-22T00:32:31.723952Z"
    },
    "papermill": {
     "duration": 0.260732,
     "end_time": "2022-04-22T00:32:31.727989",
     "exception": false,
     "start_time": "2022-04-22T00:32:31.467257",
     "status": "completed"
    },
    "tags": []
   },
   "outputs": [
    {
     "name": "stdout",
     "output_type": "stream",
     "text": [
      "<class 'pandas.core.frame.DataFrame'>\n",
      "RangeIndex: 91741 entries, 0 to 91740\n",
      "Data columns (total 15 columns):\n",
      " #   Column              Non-Null Count  Dtype  \n",
      "---  ------              --------------  -----  \n",
      " 0   stop_date           91741 non-null  object \n",
      " 1   stop_time           91741 non-null  object \n",
      " 2   county_name         0 non-null      float64\n",
      " 3   driver_gender       86406 non-null  object \n",
      " 4   driver_age_raw      86414 non-null  float64\n",
      " 5   driver_age          86120 non-null  float64\n",
      " 6   driver_race         86408 non-null  object \n",
      " 7   violation_raw       86408 non-null  object \n",
      " 8   violation           86408 non-null  object \n",
      " 9   search_conducted    91741 non-null  bool   \n",
      " 10  search_type         3196 non-null   object \n",
      " 11  stop_outcome        86408 non-null  object \n",
      " 12  is_arrested         86408 non-null  object \n",
      " 13  stop_duration       86408 non-null  object \n",
      " 14  drugs_related_stop  91741 non-null  bool   \n",
      "dtypes: bool(2), float64(3), object(10)\n",
      "memory usage: 9.3+ MB\n"
     ]
    }
   ],
   "source": [
    "df2.info()"
   ]
  },
  {
   "cell_type": "code",
   "execution_count": 12,
   "id": "092e500e",
   "metadata": {
    "execution": {
     "iopub.execute_input": "2022-04-22T00:32:32.020399Z",
     "iopub.status.busy": "2022-04-22T00:32:32.019885Z",
     "iopub.status.idle": "2022-04-22T00:32:32.030717Z",
     "shell.execute_reply": "2022-04-22T00:32:32.029763Z"
    },
    "papermill": {
     "duration": 0.163272,
     "end_time": "2022-04-22T00:32:32.033384",
     "exception": false,
     "start_time": "2022-04-22T00:32:31.870112",
     "status": "completed"
    },
    "tags": []
   },
   "outputs": [],
   "source": [
    "df2.drop(df2.iloc[[],[0,1,2,4,5,6,7,8,10,11,12,13,14]],axis=1,inplace=True)"
   ]
  },
  {
   "cell_type": "code",
   "execution_count": 13,
   "id": "e8750ff4",
   "metadata": {
    "execution": {
     "iopub.execute_input": "2022-04-22T00:32:32.313915Z",
     "iopub.status.busy": "2022-04-22T00:32:32.313403Z",
     "iopub.status.idle": "2022-04-22T00:32:32.332725Z",
     "shell.execute_reply": "2022-04-22T00:32:32.331766Z"
    },
    "papermill": {
     "duration": 0.163301,
     "end_time": "2022-04-22T00:32:32.334766",
     "exception": false,
     "start_time": "2022-04-22T00:32:32.171465",
     "status": "completed"
    },
    "tags": []
   },
   "outputs": [
    {
     "data": {
      "text/plain": [
       "M    62895\n",
       "F    23511\n",
       "Name: driver_gender, dtype: int64"
      ]
     },
     "execution_count": 13,
     "metadata": {},
     "output_type": "execute_result"
    }
   ],
   "source": [
    "df1.driver_gender.value_counts()"
   ]
  },
  {
   "cell_type": "code",
   "execution_count": 14,
   "id": "2f58163b",
   "metadata": {
    "execution": {
     "iopub.execute_input": "2022-04-22T00:32:32.627836Z",
     "iopub.status.busy": "2022-04-22T00:32:32.627262Z",
     "iopub.status.idle": "2022-04-22T00:32:32.648044Z",
     "shell.execute_reply": "2022-04-22T00:32:32.646813Z"
    },
    "papermill": {
     "duration": 0.171023,
     "end_time": "2022-04-22T00:32:32.651050",
     "exception": false,
     "start_time": "2022-04-22T00:32:32.480027",
     "status": "completed"
    },
    "tags": []
   },
   "outputs": [
    {
     "data": {
      "text/plain": [
       "M    0.727901\n",
       "F    0.272099\n",
       "Name: driver_gender, dtype: float64"
      ]
     },
     "execution_count": 14,
     "metadata": {},
     "output_type": "execute_result"
    }
   ],
   "source": [
    "df1.driver_gender.value_counts(normalize=True)"
   ]
  },
  {
   "cell_type": "code",
   "execution_count": 15,
   "id": "5936c7cb",
   "metadata": {
    "execution": {
     "iopub.execute_input": "2022-04-22T00:32:32.942653Z",
     "iopub.status.busy": "2022-04-22T00:32:32.942249Z",
     "iopub.status.idle": "2022-04-22T00:32:32.962669Z",
     "shell.execute_reply": "2022-04-22T00:32:32.961779Z"
    },
    "papermill": {
     "duration": 0.168414,
     "end_time": "2022-04-22T00:32:32.965121",
     "exception": false,
     "start_time": "2022-04-22T00:32:32.796707",
     "status": "completed"
    },
    "tags": []
   },
   "outputs": [
    {
     "data": {
      "text/plain": [
       "Speeding               48463\n",
       "Moving violation       16224\n",
       "Equipment              11020\n",
       "Other                   4317\n",
       "Registration/plates     3432\n",
       "Seat belt               2952\n",
       "Name: violation, dtype: int64"
      ]
     },
     "execution_count": 15,
     "metadata": {},
     "output_type": "execute_result"
    }
   ],
   "source": [
    "df1.violation.value_counts()"
   ]
  },
  {
   "cell_type": "code",
   "execution_count": 16,
   "id": "8dba7dd7",
   "metadata": {
    "execution": {
     "iopub.execute_input": "2022-04-22T00:32:33.252328Z",
     "iopub.status.busy": "2022-04-22T00:32:33.251428Z",
     "iopub.status.idle": "2022-04-22T00:32:33.274331Z",
     "shell.execute_reply": "2022-04-22T00:32:33.273760Z"
    },
    "papermill": {
     "duration": 0.171134,
     "end_time": "2022-04-22T00:32:33.276412",
     "exception": false,
     "start_time": "2022-04-22T00:32:33.105278",
     "status": "completed"
    },
    "tags": []
   },
   "outputs": [
    {
     "data": {
      "text/plain": [
       "Speeding               0.560862\n",
       "Moving violation       0.187760\n",
       "Equipment              0.127534\n",
       "Other                  0.049961\n",
       "Registration/plates    0.039719\n",
       "Seat belt              0.034164\n",
       "Name: violation, dtype: float64"
      ]
     },
     "execution_count": 16,
     "metadata": {},
     "output_type": "execute_result"
    }
   ],
   "source": [
    "df1.violation.value_counts(normalize=True)"
   ]
  },
  {
   "cell_type": "code",
   "execution_count": 17,
   "id": "3d6427fb",
   "metadata": {
    "execution": {
     "iopub.execute_input": "2022-04-22T00:32:33.554405Z",
     "iopub.status.busy": "2022-04-22T00:32:33.553935Z",
     "iopub.status.idle": "2022-04-22T00:32:33.586096Z",
     "shell.execute_reply": "2022-04-22T00:32:33.585127Z"
    },
    "papermill": {
     "duration": 0.174521,
     "end_time": "2022-04-22T00:32:33.588063",
     "exception": false,
     "start_time": "2022-04-22T00:32:33.413542",
     "status": "completed"
    },
    "tags": []
   },
   "outputs": [
    {
     "data": {
      "text/plain": [
       "M    32979\n",
       "F    15482\n",
       "Name: driver_gender, dtype: int64"
      ]
     },
     "execution_count": 17,
     "metadata": {},
     "output_type": "execute_result"
    }
   ],
   "source": [
    "df1[df1.violation=='Speeding'].driver_gender.value_counts()"
   ]
  },
  {
   "cell_type": "code",
   "execution_count": 18,
   "id": "40d9e824",
   "metadata": {
    "execution": {
     "iopub.execute_input": "2022-04-22T00:32:33.888431Z",
     "iopub.status.busy": "2022-04-22T00:32:33.887970Z",
     "iopub.status.idle": "2022-04-22T00:32:33.917319Z",
     "shell.execute_reply": "2022-04-22T00:32:33.916348Z"
    },
    "papermill": {
     "duration": 0.184697,
     "end_time": "2022-04-22T00:32:33.919345",
     "exception": false,
     "start_time": "2022-04-22T00:32:33.734648",
     "status": "completed"
    },
    "tags": []
   },
   "outputs": [
    {
     "data": {
      "text/plain": [
       "M    0.680527\n",
       "F    0.319473\n",
       "Name: driver_gender, dtype: float64"
      ]
     },
     "execution_count": 18,
     "metadata": {},
     "output_type": "execute_result"
    }
   ],
   "source": [
    "df1[df1.violation=='Speeding'].driver_gender.value_counts(normalize=True)"
   ]
  },
  {
   "cell_type": "code",
   "execution_count": 19,
   "id": "1700f3d8",
   "metadata": {
    "execution": {
     "iopub.execute_input": "2022-04-22T00:32:34.204185Z",
     "iopub.status.busy": "2022-04-22T00:32:34.203623Z",
     "iopub.status.idle": "2022-04-22T00:32:34.238692Z",
     "shell.execute_reply": "2022-04-22T00:32:34.237654Z"
    },
    "papermill": {
     "duration": 0.179797,
     "end_time": "2022-04-22T00:32:34.241272",
     "exception": false,
     "start_time": "2022-04-22T00:32:34.061475",
     "status": "completed"
    },
    "tags": []
   },
   "outputs": [
    {
     "data": {
      "text/plain": [
       "Speeding               32979\n",
       "Moving violation       13020\n",
       "Equipment               8533\n",
       "Other                   3627\n",
       "Registration/plates     2419\n",
       "Seat belt               2317\n",
       "Name: violation, dtype: int64"
      ]
     },
     "execution_count": 19,
     "metadata": {},
     "output_type": "execute_result"
    }
   ],
   "source": [
    "df1[df1.driver_gender=='M'].violation.value_counts()"
   ]
  },
  {
   "cell_type": "code",
   "execution_count": 20,
   "id": "7a0d0925",
   "metadata": {
    "execution": {
     "iopub.execute_input": "2022-04-22T00:32:34.519312Z",
     "iopub.status.busy": "2022-04-22T00:32:34.519004Z",
     "iopub.status.idle": "2022-04-22T00:32:34.552006Z",
     "shell.execute_reply": "2022-04-22T00:32:34.550737Z"
    },
    "papermill": {
     "duration": 0.173666,
     "end_time": "2022-04-22T00:32:34.554840",
     "exception": false,
     "start_time": "2022-04-22T00:32:34.381174",
     "status": "completed"
    },
    "tags": []
   },
   "outputs": [
    {
     "data": {
      "text/plain": [
       "Speeding               0.524350\n",
       "Moving violation       0.207012\n",
       "Equipment              0.135671\n",
       "Other                  0.057668\n",
       "Registration/plates    0.038461\n",
       "Seat belt              0.036839\n",
       "Name: violation, dtype: float64"
      ]
     },
     "execution_count": 20,
     "metadata": {},
     "output_type": "execute_result"
    }
   ],
   "source": [
    "df1[df1.driver_gender=='M'].violation.value_counts(normalize=True)"
   ]
  },
  {
   "cell_type": "code",
   "execution_count": 21,
   "id": "0913fa16",
   "metadata": {
    "execution": {
     "iopub.execute_input": "2022-04-22T00:32:34.837873Z",
     "iopub.status.busy": "2022-04-22T00:32:34.837386Z",
     "iopub.status.idle": "2022-04-22T00:32:34.863837Z",
     "shell.execute_reply": "2022-04-22T00:32:34.862881Z"
    },
    "papermill": {
     "duration": 0.171077,
     "end_time": "2022-04-22T00:32:34.865917",
     "exception": false,
     "start_time": "2022-04-22T00:32:34.694840",
     "status": "completed"
    },
    "tags": []
   },
   "outputs": [
    {
     "data": {
      "text/plain": [
       "Speeding               15482\n",
       "Moving violation        3204\n",
       "Equipment               2487\n",
       "Registration/plates     1013\n",
       "Other                    690\n",
       "Seat belt                635\n",
       "Name: violation, dtype: int64"
      ]
     },
     "execution_count": 21,
     "metadata": {},
     "output_type": "execute_result"
    }
   ],
   "source": [
    "df1[df1.driver_gender=='F'].violation.value_counts()"
   ]
  },
  {
   "cell_type": "code",
   "execution_count": 22,
   "id": "2db8a4d0",
   "metadata": {
    "execution": {
     "iopub.execute_input": "2022-04-22T00:32:35.158023Z",
     "iopub.status.busy": "2022-04-22T00:32:35.157398Z",
     "iopub.status.idle": "2022-04-22T00:32:35.187380Z",
     "shell.execute_reply": "2022-04-22T00:32:35.186424Z"
    },
    "papermill": {
     "duration": 0.179213,
     "end_time": "2022-04-22T00:32:35.189974",
     "exception": false,
     "start_time": "2022-04-22T00:32:35.010761",
     "status": "completed"
    },
    "tags": []
   },
   "outputs": [
    {
     "data": {
      "text/plain": [
       "Speeding               0.658500\n",
       "Moving violation       0.136277\n",
       "Equipment              0.105780\n",
       "Registration/plates    0.043086\n",
       "Other                  0.029348\n",
       "Seat belt              0.027009\n",
       "Name: violation, dtype: float64"
      ]
     },
     "execution_count": 22,
     "metadata": {},
     "output_type": "execute_result"
    }
   ],
   "source": [
    "df1[df1.driver_gender=='F'].violation.value_counts(normalize=True)"
   ]
  },
  {
   "cell_type": "code",
   "execution_count": 23,
   "id": "31eaeb58",
   "metadata": {
    "execution": {
     "iopub.execute_input": "2022-04-22T00:32:35.478374Z",
     "iopub.status.busy": "2022-04-22T00:32:35.477918Z",
     "iopub.status.idle": "2022-04-22T00:32:35.500911Z",
     "shell.execute_reply": "2022-04-22T00:32:35.499902Z"
    },
    "papermill": {
     "duration": 0.164951,
     "end_time": "2022-04-22T00:32:35.503480",
     "exception": false,
     "start_time": "2022-04-22T00:32:35.338529",
     "status": "completed"
    },
    "tags": []
   },
   "outputs": [
    {
     "name": "stdout",
     "output_type": "stream",
     "text": [
      "<class 'pandas.core.frame.DataFrame'>\n",
      "RangeIndex: 91741 entries, 0 to 91740\n",
      "Data columns (total 2 columns):\n",
      " #   Column            Non-Null Count  Dtype \n",
      "---  ------            --------------  ----- \n",
      " 0   driver_gender     86406 non-null  object\n",
      " 1   search_conducted  91741 non-null  bool  \n",
      "dtypes: bool(1), object(1)\n",
      "memory usage: 806.4+ KB\n"
     ]
    }
   ],
   "source": [
    "df2.info()"
   ]
  },
  {
   "cell_type": "code",
   "execution_count": 24,
   "id": "a19f1a7a",
   "metadata": {
    "execution": {
     "iopub.execute_input": "2022-04-22T00:32:35.786044Z",
     "iopub.status.busy": "2022-04-22T00:32:35.785587Z",
     "iopub.status.idle": "2022-04-22T00:32:35.795960Z",
     "shell.execute_reply": "2022-04-22T00:32:35.794727Z"
    },
    "papermill": {
     "duration": 0.152032,
     "end_time": "2022-04-22T00:32:35.798256",
     "exception": false,
     "start_time": "2022-04-22T00:32:35.646224",
     "status": "completed"
    },
    "tags": []
   },
   "outputs": [
    {
     "data": {
      "text/plain": [
       "M    2725\n",
       "F     471\n",
       "Name: driver_gender, dtype: int64"
      ]
     },
     "execution_count": 24,
     "metadata": {},
     "output_type": "execute_result"
    }
   ],
   "source": [
    "df2[df2.search_conducted==True].driver_gender.value_counts()"
   ]
  },
  {
   "cell_type": "code",
   "execution_count": 25,
   "id": "19ed9d9e",
   "metadata": {
    "execution": {
     "iopub.execute_input": "2022-04-22T00:32:36.083750Z",
     "iopub.status.busy": "2022-04-22T00:32:36.083414Z",
     "iopub.status.idle": "2022-04-22T00:32:36.104340Z",
     "shell.execute_reply": "2022-04-22T00:32:36.103073Z"
    },
    "papermill": {
     "duration": 0.169792,
     "end_time": "2022-04-22T00:32:36.106688",
     "exception": false,
     "start_time": "2022-04-22T00:32:35.936896",
     "status": "completed"
    },
    "tags": []
   },
   "outputs": [
    {
     "data": {
      "text/plain": [
       "M    62895\n",
       "F    23511\n",
       "Name: driver_gender, dtype: int64"
      ]
     },
     "execution_count": 25,
     "metadata": {},
     "output_type": "execute_result"
    }
   ],
   "source": [
    "df2.driver_gender.value_counts()"
   ]
  },
  {
   "cell_type": "code",
   "execution_count": 26,
   "id": "ee2f3bcb",
   "metadata": {
    "execution": {
     "iopub.execute_input": "2022-04-22T00:32:36.399513Z",
     "iopub.status.busy": "2022-04-22T00:32:36.399171Z",
     "iopub.status.idle": "2022-04-22T00:32:36.408822Z",
     "shell.execute_reply": "2022-04-22T00:32:36.407991Z"
    },
    "papermill": {
     "duration": 0.160097,
     "end_time": "2022-04-22T00:32:36.412037",
     "exception": false,
     "start_time": "2022-04-22T00:32:36.251940",
     "status": "completed"
    },
    "tags": []
   },
   "outputs": [
    {
     "data": {
      "text/plain": [
       "False    88545\n",
       "True      3196\n",
       "Name: search_conducted, dtype: int64"
      ]
     },
     "execution_count": 26,
     "metadata": {},
     "output_type": "execute_result"
    }
   ],
   "source": [
    "df2.search_conducted.value_counts()"
   ]
  },
  {
   "cell_type": "code",
   "execution_count": 27,
   "id": "94e42095",
   "metadata": {
    "execution": {
     "iopub.execute_input": "2022-04-22T00:32:36.691829Z",
     "iopub.status.busy": "2022-04-22T00:32:36.691544Z",
     "iopub.status.idle": "2022-04-22T00:32:36.698852Z",
     "shell.execute_reply": "2022-04-22T00:32:36.698258Z"
    },
    "papermill": {
     "duration": 0.148884,
     "end_time": "2022-04-22T00:32:36.701069",
     "exception": false,
     "start_time": "2022-04-22T00:32:36.552185",
     "status": "completed"
    },
    "tags": []
   },
   "outputs": [],
   "source": [
    "df2_1=df.copy()"
   ]
  },
  {
   "cell_type": "code",
   "execution_count": 28,
   "id": "0bfd5aa3",
   "metadata": {
    "execution": {
     "iopub.execute_input": "2022-04-22T00:32:36.997265Z",
     "iopub.status.busy": "2022-04-22T00:32:36.996194Z",
     "iopub.status.idle": "2022-04-22T00:32:37.117723Z",
     "shell.execute_reply": "2022-04-22T00:32:37.116386Z"
    },
    "papermill": {
     "duration": 0.275175,
     "end_time": "2022-04-22T00:32:37.121001",
     "exception": false,
     "start_time": "2022-04-22T00:32:36.845826",
     "status": "completed"
    },
    "tags": []
   },
   "outputs": [
    {
     "name": "stdout",
     "output_type": "stream",
     "text": [
      "<class 'pandas.core.frame.DataFrame'>\n",
      "RangeIndex: 91741 entries, 0 to 91740\n",
      "Data columns (total 15 columns):\n",
      " #   Column              Non-Null Count  Dtype  \n",
      "---  ------              --------------  -----  \n",
      " 0   stop_date           91741 non-null  object \n",
      " 1   stop_time           91741 non-null  object \n",
      " 2   county_name         0 non-null      float64\n",
      " 3   driver_gender       86406 non-null  object \n",
      " 4   driver_age_raw      86414 non-null  float64\n",
      " 5   driver_age          86120 non-null  float64\n",
      " 6   driver_race         86408 non-null  object \n",
      " 7   violation_raw       86408 non-null  object \n",
      " 8   violation           86408 non-null  object \n",
      " 9   search_conducted    91741 non-null  bool   \n",
      " 10  search_type         3196 non-null   object \n",
      " 11  stop_outcome        86408 non-null  object \n",
      " 12  is_arrested         86408 non-null  object \n",
      " 13  stop_duration       86408 non-null  object \n",
      " 14  drugs_related_stop  91741 non-null  bool   \n",
      "dtypes: bool(2), float64(3), object(10)\n",
      "memory usage: 9.3+ MB\n"
     ]
    }
   ],
   "source": [
    "df2_1.info()"
   ]
  },
  {
   "cell_type": "code",
   "execution_count": 29,
   "id": "8575f4bf",
   "metadata": {
    "execution": {
     "iopub.execute_input": "2022-04-22T00:32:37.412346Z",
     "iopub.status.busy": "2022-04-22T00:32:37.412028Z",
     "iopub.status.idle": "2022-04-22T00:32:37.423441Z",
     "shell.execute_reply": "2022-04-22T00:32:37.422467Z"
    },
    "papermill": {
     "duration": 0.15692,
     "end_time": "2022-04-22T00:32:37.425400",
     "exception": false,
     "start_time": "2022-04-22T00:32:37.268480",
     "status": "completed"
    },
    "tags": []
   },
   "outputs": [],
   "source": [
    "df2_1.drop(df2_1.iloc[[],[0,1,2,4,5,6,7,10,11,12,13,14]],axis=1,inplace=True)"
   ]
  },
  {
   "cell_type": "code",
   "execution_count": 30,
   "id": "a195378b",
   "metadata": {
    "execution": {
     "iopub.execute_input": "2022-04-22T00:32:37.720389Z",
     "iopub.status.busy": "2022-04-22T00:32:37.720024Z",
     "iopub.status.idle": "2022-04-22T00:32:37.730923Z",
     "shell.execute_reply": "2022-04-22T00:32:37.730400Z"
    },
    "papermill": {
     "duration": 0.165761,
     "end_time": "2022-04-22T00:32:37.733800",
     "exception": false,
     "start_time": "2022-04-22T00:32:37.568039",
     "status": "completed"
    },
    "tags": []
   },
   "outputs": [
    {
     "data": {
      "text/html": [
       "<div>\n",
       "<style scoped>\n",
       "    .dataframe tbody tr th:only-of-type {\n",
       "        vertical-align: middle;\n",
       "    }\n",
       "\n",
       "    .dataframe tbody tr th {\n",
       "        vertical-align: top;\n",
       "    }\n",
       "\n",
       "    .dataframe thead th {\n",
       "        text-align: right;\n",
       "    }\n",
       "</style>\n",
       "<table border=\"1\" class=\"dataframe\">\n",
       "  <thead>\n",
       "    <tr style=\"text-align: right;\">\n",
       "      <th></th>\n",
       "      <th>driver_gender</th>\n",
       "      <th>violation</th>\n",
       "      <th>search_conducted</th>\n",
       "    </tr>\n",
       "  </thead>\n",
       "  <tbody>\n",
       "    <tr>\n",
       "      <th>0</th>\n",
       "      <td>M</td>\n",
       "      <td>Speeding</td>\n",
       "      <td>False</td>\n",
       "    </tr>\n",
       "    <tr>\n",
       "      <th>1</th>\n",
       "      <td>M</td>\n",
       "      <td>Speeding</td>\n",
       "      <td>False</td>\n",
       "    </tr>\n",
       "    <tr>\n",
       "      <th>2</th>\n",
       "      <td>M</td>\n",
       "      <td>Speeding</td>\n",
       "      <td>False</td>\n",
       "    </tr>\n",
       "    <tr>\n",
       "      <th>3</th>\n",
       "      <td>M</td>\n",
       "      <td>Other</td>\n",
       "      <td>False</td>\n",
       "    </tr>\n",
       "    <tr>\n",
       "      <th>4</th>\n",
       "      <td>F</td>\n",
       "      <td>Speeding</td>\n",
       "      <td>False</td>\n",
       "    </tr>\n",
       "  </tbody>\n",
       "</table>\n",
       "</div>"
      ],
      "text/plain": [
       "  driver_gender violation  search_conducted\n",
       "0             M  Speeding             False\n",
       "1             M  Speeding             False\n",
       "2             M  Speeding             False\n",
       "3             M     Other             False\n",
       "4             F  Speeding             False"
      ]
     },
     "execution_count": 30,
     "metadata": {},
     "output_type": "execute_result"
    }
   ],
   "source": [
    "df2_1.head()"
   ]
  },
  {
   "cell_type": "code",
   "execution_count": 31,
   "id": "ae8b9aed",
   "metadata": {
    "execution": {
     "iopub.execute_input": "2022-04-22T00:32:38.030411Z",
     "iopub.status.busy": "2022-04-22T00:32:38.030054Z",
     "iopub.status.idle": "2022-04-22T00:32:38.085131Z",
     "shell.execute_reply": "2022-04-22T00:32:38.083807Z"
    },
    "papermill": {
     "duration": 0.207054,
     "end_time": "2022-04-22T00:32:38.088978",
     "exception": false,
     "start_time": "2022-04-22T00:32:37.881924",
     "status": "completed"
    },
    "tags": []
   },
   "outputs": [
    {
     "data": {
      "text/plain": [
       "search_conducted  violation            driver_gender\n",
       "False             Equipment            M                 7935\n",
       "                                       F                 2381\n",
       "                  Moving violation     M                12241\n",
       "                                       F                 3088\n",
       "                  Other                M                 3456\n",
       "                                       F                  651\n",
       "                  Registration/plates  M                 2152\n",
       "                                       F                  946\n",
       "                  Seat belt            M                 2229\n",
       "                                       F                  627\n",
       "                  Speeding             M                32157\n",
       "                                       F                15347\n",
       "True              Equipment            M                  598\n",
       "                                       F                  106\n",
       "                  Moving violation     M                  779\n",
       "                                       F                  116\n",
       "                  Other                M                  171\n",
       "                                       F                   39\n",
       "                  Registration/plates  M                  267\n",
       "                                       F                   67\n",
       "                  Seat belt            M                   88\n",
       "                                       F                    8\n",
       "                  Speeding             M                  822\n",
       "                                       F                  135\n",
       "Name: driver_gender, dtype: int64"
      ]
     },
     "execution_count": 31,
     "metadata": {},
     "output_type": "execute_result"
    }
   ],
   "source": [
    "df2_1.groupby(['search_conducted','violation']).driver_gender.value_counts()"
   ]
  },
  {
   "cell_type": "code",
   "execution_count": 32,
   "id": "47a0dccf",
   "metadata": {
    "execution": {
     "iopub.execute_input": "2022-04-22T00:32:38.384115Z",
     "iopub.status.busy": "2022-04-22T00:32:38.383558Z",
     "iopub.status.idle": "2022-04-22T00:32:38.395955Z",
     "shell.execute_reply": "2022-04-22T00:32:38.394953Z"
    },
    "papermill": {
     "duration": 0.159658,
     "end_time": "2022-04-22T00:32:38.398063",
     "exception": false,
     "start_time": "2022-04-22T00:32:38.238405",
     "status": "completed"
    },
    "tags": []
   },
   "outputs": [
    {
     "data": {
      "text/plain": [
       "Speeding               957\n",
       "Moving violation       895\n",
       "Equipment              704\n",
       "Registration/plates    334\n",
       "Other                  210\n",
       "Seat belt               96\n",
       "Name: violation, dtype: int64"
      ]
     },
     "execution_count": 32,
     "metadata": {},
     "output_type": "execute_result"
    }
   ],
   "source": [
    "df2_1[df2_1.search_conducted==True].violation.value_counts()"
   ]
  },
  {
   "cell_type": "code",
   "execution_count": 33,
   "id": "cdb892eb",
   "metadata": {
    "execution": {
     "iopub.execute_input": "2022-04-22T00:32:38.685116Z",
     "iopub.status.busy": "2022-04-22T00:32:38.684835Z",
     "iopub.status.idle": "2022-04-22T00:32:38.694581Z",
     "shell.execute_reply": "2022-04-22T00:32:38.693646Z"
    },
    "papermill": {
     "duration": 0.152237,
     "end_time": "2022-04-22T00:32:38.696648",
     "exception": false,
     "start_time": "2022-04-22T00:32:38.544411",
     "status": "completed"
    },
    "tags": []
   },
   "outputs": [
    {
     "data": {
      "text/plain": [
       "Speeding               0.299437\n",
       "Moving violation       0.280038\n",
       "Equipment              0.220275\n",
       "Registration/plates    0.104506\n",
       "Other                  0.065707\n",
       "Seat belt              0.030038\n",
       "Name: violation, dtype: float64"
      ]
     },
     "execution_count": 33,
     "metadata": {},
     "output_type": "execute_result"
    }
   ],
   "source": [
    "df2_1[df2_1.search_conducted==True].violation.value_counts(normalize=True)"
   ]
  },
  {
   "cell_type": "code",
   "execution_count": 34,
   "id": "1bc2e8b0",
   "metadata": {
    "execution": {
     "iopub.execute_input": "2022-04-22T00:32:38.989492Z",
     "iopub.status.busy": "2022-04-22T00:32:38.988922Z",
     "iopub.status.idle": "2022-04-22T00:32:38.996289Z",
     "shell.execute_reply": "2022-04-22T00:32:38.995561Z"
    },
    "papermill": {
     "duration": 0.156029,
     "end_time": "2022-04-22T00:32:38.998489",
     "exception": false,
     "start_time": "2022-04-22T00:32:38.842460",
     "status": "completed"
    },
    "tags": []
   },
   "outputs": [],
   "source": [
    "df4=df.copy()"
   ]
  },
  {
   "cell_type": "code",
   "execution_count": 35,
   "id": "526545f9",
   "metadata": {
    "execution": {
     "iopub.execute_input": "2022-04-22T00:32:39.284604Z",
     "iopub.status.busy": "2022-04-22T00:32:39.284338Z",
     "iopub.status.idle": "2022-04-22T00:32:39.391931Z",
     "shell.execute_reply": "2022-04-22T00:32:39.390668Z"
    },
    "papermill": {
     "duration": 0.251151,
     "end_time": "2022-04-22T00:32:39.393859",
     "exception": false,
     "start_time": "2022-04-22T00:32:39.142708",
     "status": "completed"
    },
    "tags": []
   },
   "outputs": [
    {
     "name": "stdout",
     "output_type": "stream",
     "text": [
      "<class 'pandas.core.frame.DataFrame'>\n",
      "RangeIndex: 91741 entries, 0 to 91740\n",
      "Data columns (total 15 columns):\n",
      " #   Column              Non-Null Count  Dtype  \n",
      "---  ------              --------------  -----  \n",
      " 0   stop_date           91741 non-null  object \n",
      " 1   stop_time           91741 non-null  object \n",
      " 2   county_name         0 non-null      float64\n",
      " 3   driver_gender       86406 non-null  object \n",
      " 4   driver_age_raw      86414 non-null  float64\n",
      " 5   driver_age          86120 non-null  float64\n",
      " 6   driver_race         86408 non-null  object \n",
      " 7   violation_raw       86408 non-null  object \n",
      " 8   violation           86408 non-null  object \n",
      " 9   search_conducted    91741 non-null  bool   \n",
      " 10  search_type         3196 non-null   object \n",
      " 11  stop_outcome        86408 non-null  object \n",
      " 12  is_arrested         86408 non-null  object \n",
      " 13  stop_duration       86408 non-null  object \n",
      " 14  drugs_related_stop  91741 non-null  bool   \n",
      "dtypes: bool(2), float64(3), object(10)\n",
      "memory usage: 9.3+ MB\n"
     ]
    }
   ],
   "source": [
    "df4.info()"
   ]
  },
  {
   "cell_type": "code",
   "execution_count": 36,
   "id": "9a58b0d0",
   "metadata": {
    "execution": {
     "iopub.execute_input": "2022-04-22T00:32:39.678564Z",
     "iopub.status.busy": "2022-04-22T00:32:39.677266Z",
     "iopub.status.idle": "2022-04-22T00:32:39.689708Z",
     "shell.execute_reply": "2022-04-22T00:32:39.688515Z"
    },
    "papermill": {
     "duration": 0.157683,
     "end_time": "2022-04-22T00:32:39.692183",
     "exception": false,
     "start_time": "2022-04-22T00:32:39.534500",
     "status": "completed"
    },
    "tags": []
   },
   "outputs": [],
   "source": [
    "df4.drop(df4.iloc[[],[0,1,2,4,5,6,7,10,11,12,13,14]],axis=1,inplace=True)"
   ]
  },
  {
   "cell_type": "code",
   "execution_count": 37,
   "id": "bf45bdb5",
   "metadata": {
    "execution": {
     "iopub.execute_input": "2022-04-22T00:32:39.979172Z",
     "iopub.status.busy": "2022-04-22T00:32:39.978694Z",
     "iopub.status.idle": "2022-04-22T00:32:39.987837Z",
     "shell.execute_reply": "2022-04-22T00:32:39.987360Z"
    },
    "papermill": {
     "duration": 0.155562,
     "end_time": "2022-04-22T00:32:39.989898",
     "exception": false,
     "start_time": "2022-04-22T00:32:39.834336",
     "status": "completed"
    },
    "tags": []
   },
   "outputs": [
    {
     "data": {
      "text/html": [
       "<div>\n",
       "<style scoped>\n",
       "    .dataframe tbody tr th:only-of-type {\n",
       "        vertical-align: middle;\n",
       "    }\n",
       "\n",
       "    .dataframe tbody tr th {\n",
       "        vertical-align: top;\n",
       "    }\n",
       "\n",
       "    .dataframe thead th {\n",
       "        text-align: right;\n",
       "    }\n",
       "</style>\n",
       "<table border=\"1\" class=\"dataframe\">\n",
       "  <thead>\n",
       "    <tr style=\"text-align: right;\">\n",
       "      <th></th>\n",
       "      <th>driver_gender</th>\n",
       "      <th>violation</th>\n",
       "      <th>search_conducted</th>\n",
       "    </tr>\n",
       "  </thead>\n",
       "  <tbody>\n",
       "    <tr>\n",
       "      <th>0</th>\n",
       "      <td>M</td>\n",
       "      <td>Speeding</td>\n",
       "      <td>False</td>\n",
       "    </tr>\n",
       "    <tr>\n",
       "      <th>1</th>\n",
       "      <td>M</td>\n",
       "      <td>Speeding</td>\n",
       "      <td>False</td>\n",
       "    </tr>\n",
       "    <tr>\n",
       "      <th>2</th>\n",
       "      <td>M</td>\n",
       "      <td>Speeding</td>\n",
       "      <td>False</td>\n",
       "    </tr>\n",
       "    <tr>\n",
       "      <th>3</th>\n",
       "      <td>M</td>\n",
       "      <td>Other</td>\n",
       "      <td>False</td>\n",
       "    </tr>\n",
       "    <tr>\n",
       "      <th>4</th>\n",
       "      <td>F</td>\n",
       "      <td>Speeding</td>\n",
       "      <td>False</td>\n",
       "    </tr>\n",
       "  </tbody>\n",
       "</table>\n",
       "</div>"
      ],
      "text/plain": [
       "  driver_gender violation  search_conducted\n",
       "0             M  Speeding             False\n",
       "1             M  Speeding             False\n",
       "2             M  Speeding             False\n",
       "3             M     Other             False\n",
       "4             F  Speeding             False"
      ]
     },
     "execution_count": 37,
     "metadata": {},
     "output_type": "execute_result"
    }
   ],
   "source": [
    "df4.head()"
   ]
  },
  {
   "cell_type": "code",
   "execution_count": 38,
   "id": "f8f224ef",
   "metadata": {
    "execution": {
     "iopub.execute_input": "2022-04-22T00:32:40.290223Z",
     "iopub.status.busy": "2022-04-22T00:32:40.289913Z",
     "iopub.status.idle": "2022-04-22T00:32:40.334703Z",
     "shell.execute_reply": "2022-04-22T00:32:40.333858Z"
    },
    "papermill": {
     "duration": 0.200201,
     "end_time": "2022-04-22T00:32:40.336669",
     "exception": false,
     "start_time": "2022-04-22T00:32:40.136468",
     "status": "completed"
    },
    "tags": []
   },
   "outputs": [
    {
     "data": {
      "text/plain": [
       "search_conducted  violation            driver_gender\n",
       "False             Equipment            M                 7935\n",
       "                                       F                 2381\n",
       "                  Moving violation     M                12241\n",
       "                                       F                 3088\n",
       "                  Other                M                 3456\n",
       "                                       F                  651\n",
       "                  Registration/plates  M                 2152\n",
       "                                       F                  946\n",
       "                  Seat belt            M                 2229\n",
       "                                       F                  627\n",
       "                  Speeding             M                32157\n",
       "                                       F                15347\n",
       "True              Equipment            M                  598\n",
       "                                       F                  106\n",
       "                  Moving violation     M                  779\n",
       "                                       F                  116\n",
       "                  Other                M                  171\n",
       "                                       F                   39\n",
       "                  Registration/plates  M                  267\n",
       "                                       F                   67\n",
       "                  Seat belt            M                   88\n",
       "                                       F                    8\n",
       "                  Speeding             M                  822\n",
       "                                       F                  135\n",
       "Name: driver_gender, dtype: int64"
      ]
     },
     "execution_count": 38,
     "metadata": {},
     "output_type": "execute_result"
    }
   ],
   "source": [
    "df4.groupby(['search_conducted','violation']).driver_gender.value_counts()"
   ]
  },
  {
   "cell_type": "code",
   "execution_count": 39,
   "id": "943c1fa2",
   "metadata": {
    "execution": {
     "iopub.execute_input": "2022-04-22T00:32:40.638364Z",
     "iopub.status.busy": "2022-04-22T00:32:40.638006Z",
     "iopub.status.idle": "2022-04-22T00:32:40.645999Z",
     "shell.execute_reply": "2022-04-22T00:32:40.645275Z"
    },
    "papermill": {
     "duration": 0.163078,
     "end_time": "2022-04-22T00:32:40.648877",
     "exception": false,
     "start_time": "2022-04-22T00:32:40.485799",
     "status": "completed"
    },
    "tags": []
   },
   "outputs": [],
   "source": [
    "df3=df.copy()"
   ]
  },
  {
   "cell_type": "code",
   "execution_count": 40,
   "id": "69e2d18d",
   "metadata": {
    "execution": {
     "iopub.execute_input": "2022-04-22T00:32:40.954797Z",
     "iopub.status.busy": "2022-04-22T00:32:40.954481Z",
     "iopub.status.idle": "2022-04-22T00:32:41.073377Z",
     "shell.execute_reply": "2022-04-22T00:32:41.071730Z"
    },
    "papermill": {
     "duration": 0.273398,
     "end_time": "2022-04-22T00:32:41.076503",
     "exception": false,
     "start_time": "2022-04-22T00:32:40.803105",
     "status": "completed"
    },
    "tags": []
   },
   "outputs": [
    {
     "name": "stdout",
     "output_type": "stream",
     "text": [
      "<class 'pandas.core.frame.DataFrame'>\n",
      "RangeIndex: 91741 entries, 0 to 91740\n",
      "Data columns (total 15 columns):\n",
      " #   Column              Non-Null Count  Dtype  \n",
      "---  ------              --------------  -----  \n",
      " 0   stop_date           91741 non-null  object \n",
      " 1   stop_time           91741 non-null  object \n",
      " 2   county_name         0 non-null      float64\n",
      " 3   driver_gender       86406 non-null  object \n",
      " 4   driver_age_raw      86414 non-null  float64\n",
      " 5   driver_age          86120 non-null  float64\n",
      " 6   driver_race         86408 non-null  object \n",
      " 7   violation_raw       86408 non-null  object \n",
      " 8   violation           86408 non-null  object \n",
      " 9   search_conducted    91741 non-null  bool   \n",
      " 10  search_type         3196 non-null   object \n",
      " 11  stop_outcome        86408 non-null  object \n",
      " 12  is_arrested         86408 non-null  object \n",
      " 13  stop_duration       86408 non-null  object \n",
      " 14  drugs_related_stop  91741 non-null  bool   \n",
      "dtypes: bool(2), float64(3), object(10)\n",
      "memory usage: 9.3+ MB\n"
     ]
    }
   ],
   "source": [
    "df3.info()"
   ]
  },
  {
   "cell_type": "code",
   "execution_count": 41,
   "id": "0e193332",
   "metadata": {
    "execution": {
     "iopub.execute_input": "2022-04-22T00:32:41.388748Z",
     "iopub.status.busy": "2022-04-22T00:32:41.388441Z",
     "iopub.status.idle": "2022-04-22T00:32:41.400108Z",
     "shell.execute_reply": "2022-04-22T00:32:41.398764Z"
    },
    "papermill": {
     "duration": 0.167526,
     "end_time": "2022-04-22T00:32:41.403192",
     "exception": false,
     "start_time": "2022-04-22T00:32:41.235666",
     "status": "completed"
    },
    "tags": []
   },
   "outputs": [],
   "source": [
    "df3.drop(df3.iloc[[],[0,1,2,3,4,5,6,7,8,11,12,13,14]],axis=1,inplace=True)"
   ]
  },
  {
   "cell_type": "code",
   "execution_count": 42,
   "id": "c718c705",
   "metadata": {
    "execution": {
     "iopub.execute_input": "2022-04-22T00:32:41.716503Z",
     "iopub.status.busy": "2022-04-22T00:32:41.715866Z",
     "iopub.status.idle": "2022-04-22T00:32:41.728650Z",
     "shell.execute_reply": "2022-04-22T00:32:41.727742Z"
    },
    "papermill": {
     "duration": 0.176566,
     "end_time": "2022-04-22T00:32:41.732330",
     "exception": false,
     "start_time": "2022-04-22T00:32:41.555764",
     "status": "completed"
    },
    "tags": []
   },
   "outputs": [
    {
     "data": {
      "text/html": [
       "<div>\n",
       "<style scoped>\n",
       "    .dataframe tbody tr th:only-of-type {\n",
       "        vertical-align: middle;\n",
       "    }\n",
       "\n",
       "    .dataframe tbody tr th {\n",
       "        vertical-align: top;\n",
       "    }\n",
       "\n",
       "    .dataframe thead th {\n",
       "        text-align: right;\n",
       "    }\n",
       "</style>\n",
       "<table border=\"1\" class=\"dataframe\">\n",
       "  <thead>\n",
       "    <tr style=\"text-align: right;\">\n",
       "      <th></th>\n",
       "      <th>search_conducted</th>\n",
       "      <th>search_type</th>\n",
       "    </tr>\n",
       "  </thead>\n",
       "  <tbody>\n",
       "    <tr>\n",
       "      <th>0</th>\n",
       "      <td>False</td>\n",
       "      <td>NaN</td>\n",
       "    </tr>\n",
       "    <tr>\n",
       "      <th>1</th>\n",
       "      <td>False</td>\n",
       "      <td>NaN</td>\n",
       "    </tr>\n",
       "    <tr>\n",
       "      <th>2</th>\n",
       "      <td>False</td>\n",
       "      <td>NaN</td>\n",
       "    </tr>\n",
       "    <tr>\n",
       "      <th>3</th>\n",
       "      <td>False</td>\n",
       "      <td>NaN</td>\n",
       "    </tr>\n",
       "    <tr>\n",
       "      <th>4</th>\n",
       "      <td>False</td>\n",
       "      <td>NaN</td>\n",
       "    </tr>\n",
       "  </tbody>\n",
       "</table>\n",
       "</div>"
      ],
      "text/plain": [
       "   search_conducted search_type\n",
       "0             False         NaN\n",
       "1             False         NaN\n",
       "2             False         NaN\n",
       "3             False         NaN\n",
       "4             False         NaN"
      ]
     },
     "execution_count": 42,
     "metadata": {},
     "output_type": "execute_result"
    }
   ],
   "source": [
    "df3.head()"
   ]
  },
  {
   "cell_type": "code",
   "execution_count": 43,
   "id": "12188249",
   "metadata": {
    "execution": {
     "iopub.execute_input": "2022-04-22T00:32:42.041471Z",
     "iopub.status.busy": "2022-04-22T00:32:42.040429Z",
     "iopub.status.idle": "2022-04-22T00:32:42.058555Z",
     "shell.execute_reply": "2022-04-22T00:32:42.057666Z"
    },
    "papermill": {
     "duration": 0.168151,
     "end_time": "2022-04-22T00:32:42.060504",
     "exception": false,
     "start_time": "2022-04-22T00:32:41.892353",
     "status": "completed"
    },
    "tags": []
   },
   "outputs": [
    {
     "data": {
      "text/plain": [
       "Incident to Arrest                                          1219\n",
       "Probable Cause                                               891\n",
       "Inventory                                                    220\n",
       "Reasonable Suspicion                                         197\n",
       "Protective Frisk                                             161\n",
       "Incident to Arrest,Inventory                                 129\n",
       "Incident to Arrest,Probable Cause                            106\n",
       "Probable Cause,Reasonable Suspicion                           75\n",
       "Incident to Arrest,Inventory,Probable Cause                   34\n",
       "Incident to Arrest,Protective Frisk                           33\n",
       "Probable Cause,Protective Frisk                               33\n",
       "Inventory,Probable Cause                                      22\n",
       "Incident to Arrest,Reasonable Suspicion                       13\n",
       "Inventory,Protective Frisk                                    11\n",
       "Incident to Arrest,Inventory,Protective Frisk                 11\n",
       "Protective Frisk,Reasonable Suspicion                         11\n",
       "Incident to Arrest,Probable Cause,Protective Frisk            10\n",
       "Incident to Arrest,Probable Cause,Reasonable Suspicion         6\n",
       "Incident to Arrest,Inventory,Reasonable Suspicion              4\n",
       "Inventory,Reasonable Suspicion                                 4\n",
       "Inventory,Probable Cause,Protective Frisk                      2\n",
       "Inventory,Probable Cause,Reasonable Suspicion                  2\n",
       "Incident to Arrest,Protective Frisk,Reasonable Suspicion       1\n",
       "Probable Cause,Protective Frisk,Reasonable Suspicion           1\n",
       "Name: search_type, dtype: int64"
      ]
     },
     "execution_count": 43,
     "metadata": {},
     "output_type": "execute_result"
    }
   ],
   "source": [
    "df3.search_type.value_counts()"
   ]
  },
  {
   "cell_type": "code",
   "execution_count": 44,
   "id": "b9570b80",
   "metadata": {
    "execution": {
     "iopub.execute_input": "2022-04-22T00:32:42.375983Z",
     "iopub.status.busy": "2022-04-22T00:32:42.375684Z",
     "iopub.status.idle": "2022-04-22T00:32:42.389871Z",
     "shell.execute_reply": "2022-04-22T00:32:42.389355Z"
    },
    "papermill": {
     "duration": 0.167033,
     "end_time": "2022-04-22T00:32:42.392116",
     "exception": false,
     "start_time": "2022-04-22T00:32:42.225083",
     "status": "completed"
    },
    "tags": []
   },
   "outputs": [
    {
     "data": {
      "text/plain": [
       "True    161\n",
       "Name: search_conducted, dtype: int64"
      ]
     },
     "execution_count": 44,
     "metadata": {},
     "output_type": "execute_result"
    }
   ],
   "source": [
    "df3[df3.search_type =='Protective Frisk'].search_conducted.value_counts()"
   ]
  },
  {
   "cell_type": "code",
   "execution_count": 45,
   "id": "6fce8741",
   "metadata": {
    "execution": {
     "iopub.execute_input": "2022-04-22T00:32:42.695762Z",
     "iopub.status.busy": "2022-04-22T00:32:42.695307Z",
     "iopub.status.idle": "2022-04-22T00:32:42.707125Z",
     "shell.execute_reply": "2022-04-22T00:32:42.706394Z"
    },
    "papermill": {
     "duration": 0.166536,
     "end_time": "2022-04-22T00:32:42.709338",
     "exception": false,
     "start_time": "2022-04-22T00:32:42.542802",
     "status": "completed"
    },
    "tags": []
   },
   "outputs": [
    {
     "data": {
      "text/html": [
       "<div>\n",
       "<style scoped>\n",
       "    .dataframe tbody tr th:only-of-type {\n",
       "        vertical-align: middle;\n",
       "    }\n",
       "\n",
       "    .dataframe tbody tr th {\n",
       "        vertical-align: top;\n",
       "    }\n",
       "\n",
       "    .dataframe thead th {\n",
       "        text-align: right;\n",
       "    }\n",
       "</style>\n",
       "<table border=\"1\" class=\"dataframe\">\n",
       "  <thead>\n",
       "    <tr style=\"text-align: right;\">\n",
       "      <th></th>\n",
       "      <th>search_conducted</th>\n",
       "      <th>search_type</th>\n",
       "    </tr>\n",
       "  </thead>\n",
       "  <tbody>\n",
       "    <tr>\n",
       "      <th>0</th>\n",
       "      <td>False</td>\n",
       "      <td>NaN</td>\n",
       "    </tr>\n",
       "    <tr>\n",
       "      <th>1</th>\n",
       "      <td>False</td>\n",
       "      <td>NaN</td>\n",
       "    </tr>\n",
       "    <tr>\n",
       "      <th>2</th>\n",
       "      <td>False</td>\n",
       "      <td>NaN</td>\n",
       "    </tr>\n",
       "    <tr>\n",
       "      <th>3</th>\n",
       "      <td>False</td>\n",
       "      <td>NaN</td>\n",
       "    </tr>\n",
       "    <tr>\n",
       "      <th>4</th>\n",
       "      <td>False</td>\n",
       "      <td>NaN</td>\n",
       "    </tr>\n",
       "    <tr>\n",
       "      <th>...</th>\n",
       "      <td>...</td>\n",
       "      <td>...</td>\n",
       "    </tr>\n",
       "    <tr>\n",
       "      <th>91736</th>\n",
       "      <td>False</td>\n",
       "      <td>NaN</td>\n",
       "    </tr>\n",
       "    <tr>\n",
       "      <th>91737</th>\n",
       "      <td>False</td>\n",
       "      <td>NaN</td>\n",
       "    </tr>\n",
       "    <tr>\n",
       "      <th>91738</th>\n",
       "      <td>False</td>\n",
       "      <td>NaN</td>\n",
       "    </tr>\n",
       "    <tr>\n",
       "      <th>91739</th>\n",
       "      <td>False</td>\n",
       "      <td>NaN</td>\n",
       "    </tr>\n",
       "    <tr>\n",
       "      <th>91740</th>\n",
       "      <td>False</td>\n",
       "      <td>NaN</td>\n",
       "    </tr>\n",
       "  </tbody>\n",
       "</table>\n",
       "<p>91741 rows × 2 columns</p>\n",
       "</div>"
      ],
      "text/plain": [
       "       search_conducted search_type\n",
       "0                 False         NaN\n",
       "1                 False         NaN\n",
       "2                 False         NaN\n",
       "3                 False         NaN\n",
       "4                 False         NaN\n",
       "...                 ...         ...\n",
       "91736             False         NaN\n",
       "91737             False         NaN\n",
       "91738             False         NaN\n",
       "91739             False         NaN\n",
       "91740             False         NaN\n",
       "\n",
       "[91741 rows x 2 columns]"
      ]
     },
     "execution_count": 45,
     "metadata": {},
     "output_type": "execute_result"
    }
   ],
   "source": [
    "df3"
   ]
  },
  {
   "cell_type": "code",
   "execution_count": 46,
   "id": "53a40c6a",
   "metadata": {
    "execution": {
     "iopub.execute_input": "2022-04-22T00:32:43.027546Z",
     "iopub.status.busy": "2022-04-22T00:32:43.027159Z",
     "iopub.status.idle": "2022-04-22T00:32:43.038648Z",
     "shell.execute_reply": "2022-04-22T00:32:43.036594Z"
    },
    "papermill": {
     "duration": 0.176767,
     "end_time": "2022-04-22T00:32:43.042086",
     "exception": false,
     "start_time": "2022-04-22T00:32:42.865319",
     "status": "completed"
    },
    "tags": []
   },
   "outputs": [],
   "source": [
    "df5=df.copy()"
   ]
  },
  {
   "cell_type": "code",
   "execution_count": 47,
   "id": "19942899",
   "metadata": {
    "execution": {
     "iopub.execute_input": "2022-04-22T00:32:43.372333Z",
     "iopub.status.busy": "2022-04-22T00:32:43.371730Z",
     "iopub.status.idle": "2022-04-22T00:32:43.483304Z",
     "shell.execute_reply": "2022-04-22T00:32:43.482466Z"
    },
    "papermill": {
     "duration": 0.27618,
     "end_time": "2022-04-22T00:32:43.485594",
     "exception": false,
     "start_time": "2022-04-22T00:32:43.209414",
     "status": "completed"
    },
    "tags": []
   },
   "outputs": [
    {
     "name": "stdout",
     "output_type": "stream",
     "text": [
      "<class 'pandas.core.frame.DataFrame'>\n",
      "RangeIndex: 91741 entries, 0 to 91740\n",
      "Data columns (total 15 columns):\n",
      " #   Column              Non-Null Count  Dtype  \n",
      "---  ------              --------------  -----  \n",
      " 0   stop_date           91741 non-null  object \n",
      " 1   stop_time           91741 non-null  object \n",
      " 2   county_name         0 non-null      float64\n",
      " 3   driver_gender       86406 non-null  object \n",
      " 4   driver_age_raw      86414 non-null  float64\n",
      " 5   driver_age          86120 non-null  float64\n",
      " 6   driver_race         86408 non-null  object \n",
      " 7   violation_raw       86408 non-null  object \n",
      " 8   violation           86408 non-null  object \n",
      " 9   search_conducted    91741 non-null  bool   \n",
      " 10  search_type         3196 non-null   object \n",
      " 11  stop_outcome        86408 non-null  object \n",
      " 12  is_arrested         86408 non-null  object \n",
      " 13  stop_duration       86408 non-null  object \n",
      " 14  drugs_related_stop  91741 non-null  bool   \n",
      "dtypes: bool(2), float64(3), object(10)\n",
      "memory usage: 9.3+ MB\n"
     ]
    }
   ],
   "source": [
    "df5.info()"
   ]
  },
  {
   "cell_type": "code",
   "execution_count": 48,
   "id": "5fda9c47",
   "metadata": {
    "execution": {
     "iopub.execute_input": "2022-04-22T00:32:43.808361Z",
     "iopub.status.busy": "2022-04-22T00:32:43.807836Z",
     "iopub.status.idle": "2022-04-22T00:32:43.821224Z",
     "shell.execute_reply": "2022-04-22T00:32:43.820525Z"
    },
    "papermill": {
     "duration": 0.178052,
     "end_time": "2022-04-22T00:32:43.823928",
     "exception": false,
     "start_time": "2022-04-22T00:32:43.645876",
     "status": "completed"
    },
    "tags": []
   },
   "outputs": [],
   "source": [
    "df6=df.search_type.dropna()"
   ]
  },
  {
   "cell_type": "code",
   "execution_count": 49,
   "id": "bb63dea9",
   "metadata": {
    "execution": {
     "iopub.execute_input": "2022-04-22T00:32:44.153857Z",
     "iopub.status.busy": "2022-04-22T00:32:44.153545Z",
     "iopub.status.idle": "2022-04-22T00:32:44.166332Z",
     "shell.execute_reply": "2022-04-22T00:32:44.164416Z"
    },
    "papermill": {
     "duration": 0.18474,
     "end_time": "2022-04-22T00:32:44.169534",
     "exception": false,
     "start_time": "2022-04-22T00:32:43.984794",
     "status": "completed"
    },
    "tags": []
   },
   "outputs": [
    {
     "data": {
      "text/plain": [
       "24       Incident to Arrest,Protective Frisk\n",
       "40                            Probable Cause\n",
       "41                            Probable Cause\n",
       "80                        Incident to Arrest\n",
       "106                           Probable Cause\n",
       "                        ...                 \n",
       "91494                     Incident to Arrest\n",
       "91548                     Incident to Arrest\n",
       "91672                     Incident to Arrest\n",
       "91700    Probable Cause,Reasonable Suspicion\n",
       "91708                     Incident to Arrest\n",
       "Name: search_type, Length: 3196, dtype: object"
      ]
     },
     "execution_count": 49,
     "metadata": {},
     "output_type": "execute_result"
    }
   ],
   "source": [
    "df6"
   ]
  },
  {
   "cell_type": "code",
   "execution_count": 50,
   "id": "87e43a0a",
   "metadata": {
    "execution": {
     "iopub.execute_input": "2022-04-22T00:32:44.482974Z",
     "iopub.status.busy": "2022-04-22T00:32:44.482676Z",
     "iopub.status.idle": "2022-04-22T00:32:44.488054Z",
     "shell.execute_reply": "2022-04-22T00:32:44.486459Z"
    },
    "papermill": {
     "duration": 0.160963,
     "end_time": "2022-04-22T00:32:44.491224",
     "exception": false,
     "start_time": "2022-04-22T00:32:44.330261",
     "status": "completed"
    },
    "tags": []
   },
   "outputs": [],
   "source": [
    "x = df6.tolist()"
   ]
  },
  {
   "cell_type": "code",
   "execution_count": 51,
   "id": "084ac7cd",
   "metadata": {
    "execution": {
     "iopub.execute_input": "2022-04-22T00:32:44.794948Z",
     "iopub.status.busy": "2022-04-22T00:32:44.794663Z",
     "iopub.status.idle": "2022-04-22T00:32:44.803783Z",
     "shell.execute_reply": "2022-04-22T00:32:44.802007Z"
    },
    "papermill": {
     "duration": 0.168783,
     "end_time": "2022-04-22T00:32:44.809732",
     "exception": false,
     "start_time": "2022-04-22T00:32:44.640949",
     "status": "completed"
    },
    "tags": []
   },
   "outputs": [],
   "source": [
    "a=[]\n",
    "c = 0\n",
    "for i in x:\n",
    "    b = i.split(',')\n",
    "    if \"Protective Frisk\" in b:\n",
    "        a.append(b)\n",
    "        c = c+1"
   ]
  },
  {
   "cell_type": "code",
   "execution_count": 52,
   "id": "e73f1164",
   "metadata": {
    "execution": {
     "iopub.execute_input": "2022-04-22T00:32:45.109022Z",
     "iopub.status.busy": "2022-04-22T00:32:45.108401Z",
     "iopub.status.idle": "2022-04-22T00:32:45.115515Z",
     "shell.execute_reply": "2022-04-22T00:32:45.114056Z"
    },
    "papermill": {
     "duration": 0.156083,
     "end_time": "2022-04-22T00:32:45.118363",
     "exception": false,
     "start_time": "2022-04-22T00:32:44.962280",
     "status": "completed"
    },
    "tags": []
   },
   "outputs": [
    {
     "data": {
      "text/plain": [
       "274"
      ]
     },
     "execution_count": 52,
     "metadata": {},
     "output_type": "execute_result"
    }
   ],
   "source": [
    "c"
   ]
  },
  {
   "cell_type": "code",
   "execution_count": 53,
   "id": "3bb3a69e",
   "metadata": {
    "execution": {
     "iopub.execute_input": "2022-04-22T00:32:45.418840Z",
     "iopub.status.busy": "2022-04-22T00:32:45.418555Z",
     "iopub.status.idle": "2022-04-22T00:32:45.426718Z",
     "shell.execute_reply": "2022-04-22T00:32:45.425919Z"
    },
    "papermill": {
     "duration": 0.160512,
     "end_time": "2022-04-22T00:32:45.428898",
     "exception": false,
     "start_time": "2022-04-22T00:32:45.268386",
     "status": "completed"
    },
    "tags": []
   },
   "outputs": [
    {
     "data": {
      "text/plain": [
       "0        NaN\n",
       "1        NaN\n",
       "2        NaN\n",
       "3        NaN\n",
       "4        NaN\n",
       "        ... \n",
       "91736    NaN\n",
       "91737    NaN\n",
       "91738    NaN\n",
       "91739    NaN\n",
       "91740    NaN\n",
       "Name: search_type, Length: 91741, dtype: object"
      ]
     },
     "execution_count": 53,
     "metadata": {},
     "output_type": "execute_result"
    }
   ],
   "source": [
    "df5.search_type"
   ]
  },
  {
   "cell_type": "code",
   "execution_count": 54,
   "id": "63df2b24",
   "metadata": {
    "execution": {
     "iopub.execute_input": "2022-04-22T00:32:45.732945Z",
     "iopub.status.busy": "2022-04-22T00:32:45.732369Z",
     "iopub.status.idle": "2022-04-22T00:32:45.738655Z",
     "shell.execute_reply": "2022-04-22T00:32:45.737429Z"
    },
    "papermill": {
     "duration": 0.164994,
     "end_time": "2022-04-22T00:32:45.741298",
     "exception": false,
     "start_time": "2022-04-22T00:32:45.576304",
     "status": "completed"
    },
    "tags": []
   },
   "outputs": [],
   "source": [
    "df7=df5.search_type.tolist()"
   ]
  },
  {
   "cell_type": "code",
   "execution_count": 55,
   "id": "79f855b3",
   "metadata": {
    "execution": {
     "iopub.execute_input": "2022-04-22T00:32:46.037551Z",
     "iopub.status.busy": "2022-04-22T00:32:46.036981Z",
     "iopub.status.idle": "2022-04-22T00:32:46.146224Z",
     "shell.execute_reply": "2022-04-22T00:32:46.145510Z"
    },
    "papermill": {
     "duration": 0.261713,
     "end_time": "2022-04-22T00:32:46.148753",
     "exception": false,
     "start_time": "2022-04-22T00:32:45.887040",
     "status": "completed"
    },
    "tags": []
   },
   "outputs": [],
   "source": [
    "z = []\n",
    "\n",
    "for i in df7:\n",
    "    i = str(i)\n",
    "    b = i.split(',')\n",
    "    for j in b:\n",
    "        if j not in z:\n",
    "            z.append(j)"
   ]
  },
  {
   "cell_type": "code",
   "execution_count": 56,
   "id": "629f29c6",
   "metadata": {
    "execution": {
     "iopub.execute_input": "2022-04-22T00:32:46.446848Z",
     "iopub.status.busy": "2022-04-22T00:32:46.446354Z",
     "iopub.status.idle": "2022-04-22T00:32:46.451111Z",
     "shell.execute_reply": "2022-04-22T00:32:46.450525Z"
    },
    "papermill": {
     "duration": 0.156275,
     "end_time": "2022-04-22T00:32:46.452816",
     "exception": false,
     "start_time": "2022-04-22T00:32:46.296541",
     "status": "completed"
    },
    "tags": []
   },
   "outputs": [
    {
     "data": {
      "text/plain": [
       "['nan',\n",
       " 'Incident to Arrest',\n",
       " 'Protective Frisk',\n",
       " 'Probable Cause',\n",
       " 'Reasonable Suspicion',\n",
       " 'Inventory']"
      ]
     },
     "execution_count": 56,
     "metadata": {},
     "output_type": "execute_result"
    }
   ],
   "source": [
    "z"
   ]
  },
  {
   "cell_type": "code",
   "execution_count": 57,
   "id": "aea3437d",
   "metadata": {
    "execution": {
     "iopub.execute_input": "2022-04-22T00:32:46.746392Z",
     "iopub.status.busy": "2022-04-22T00:32:46.745842Z",
     "iopub.status.idle": "2022-04-22T00:32:47.263683Z",
     "shell.execute_reply": "2022-04-22T00:32:47.262105Z"
    },
    "papermill": {
     "duration": 0.665707,
     "end_time": "2022-04-22T00:32:47.266251",
     "exception": false,
     "start_time": "2022-04-22T00:32:46.600544",
     "status": "completed"
    },
    "tags": []
   },
   "outputs": [],
   "source": [
    "c = {'Incident to Arrest':[],\n",
    " 'Protective Frisk':[],\n",
    " 'Probable Cause':[],\n",
    " 'Reasonable Suspicion':[],\n",
    " 'Inventory':[]}\n",
    "for i in c:\n",
    "    for j in df7:\n",
    "        j=str(j)\n",
    "        j = j.split(',')\n",
    "        if i in j:\n",
    "            c[i].append(1)\n",
    "        else:\n",
    "            c[i].append(0)\n",
    "#print(c)"
   ]
  },
  {
   "cell_type": "code",
   "execution_count": 58,
   "id": "120d6ebd",
   "metadata": {
    "execution": {
     "iopub.execute_input": "2022-04-22T00:32:47.565805Z",
     "iopub.status.busy": "2022-04-22T00:32:47.565518Z",
     "iopub.status.idle": "2022-04-22T00:32:47.798536Z",
     "shell.execute_reply": "2022-04-22T00:32:47.797218Z"
    },
    "papermill": {
     "duration": 0.385118,
     "end_time": "2022-04-22T00:32:47.801023",
     "exception": false,
     "start_time": "2022-04-22T00:32:47.415905",
     "status": "completed"
    },
    "tags": []
   },
   "outputs": [],
   "source": [
    "df8 = pd.DataFrame(c)\n",
    "df8.rename(columns={\"Incident to Arrest\": \"Incident_to_Arrest\", \"Protective Frisk\": \"Protective_Frisk\", \"Probable Cause\": \"Probable_Cause\", \"Reasonable Suspicion\": \"Reasonable_Suspicion\"},inplace=True)"
   ]
  },
  {
   "cell_type": "code",
   "execution_count": 59,
   "id": "f16207c2",
   "metadata": {
    "execution": {
     "iopub.execute_input": "2022-04-22T00:32:48.095202Z",
     "iopub.status.busy": "2022-04-22T00:32:48.094900Z",
     "iopub.status.idle": "2022-04-22T00:32:48.103328Z",
     "shell.execute_reply": "2022-04-22T00:32:48.102543Z"
    },
    "papermill": {
     "duration": 0.15778,
     "end_time": "2022-04-22T00:32:48.105430",
     "exception": false,
     "start_time": "2022-04-22T00:32:47.947650",
     "status": "completed"
    },
    "tags": []
   },
   "outputs": [
    {
     "data": {
      "text/plain": [
       "Incident_to_Arrest      1566\n",
       "Protective_Frisk         274\n",
       "Probable_Cause          1182\n",
       "Reasonable_Suspicion     314\n",
       "Inventory                439\n",
       "dtype: int64"
      ]
     },
     "execution_count": 59,
     "metadata": {},
     "output_type": "execute_result"
    }
   ],
   "source": [
    "df8.sum()"
   ]
  },
  {
   "cell_type": "code",
   "execution_count": 60,
   "id": "6e471a76",
   "metadata": {
    "execution": {
     "iopub.execute_input": "2022-04-22T00:32:48.404218Z",
     "iopub.status.busy": "2022-04-22T00:32:48.403731Z",
     "iopub.status.idle": "2022-04-22T00:32:48.820807Z",
     "shell.execute_reply": "2022-04-22T00:32:48.819970Z"
    },
    "papermill": {
     "duration": 0.571814,
     "end_time": "2022-04-22T00:32:48.823935",
     "exception": false,
     "start_time": "2022-04-22T00:32:48.252121",
     "status": "completed"
    },
    "tags": []
   },
   "outputs": [
    {
     "data": {
      "text/plain": [
       "<AxesSubplot:ylabel='None'>"
      ]
     },
     "execution_count": 60,
     "metadata": {},
     "output_type": "execute_result"
    },
    {
     "data": {
      "image/png": "[encoded data removed]",
      "text/plain": [
       "<Figure size 432x288 with 1 Axes>"
      ]
     },
     "metadata": {},
     "output_type": "display_data"
    }
   ],
   "source": [
    "df8.sum().plot(kind = \"pie\")"
   ]
  },
  {
   "cell_type": "code",
   "execution_count": 61,
   "id": "307d5321",
   "metadata": {
    "execution": {
     "iopub.execute_input": "2022-04-22T00:32:49.145219Z",
     "iopub.status.busy": "2022-04-22T00:32:49.144927Z",
     "iopub.status.idle": "2022-04-22T00:32:49.160615Z",
     "shell.execute_reply": "2022-04-22T00:32:49.159419Z"
    },
    "papermill": {
     "duration": 0.1758,
     "end_time": "2022-04-22T00:32:49.163368",
     "exception": false,
     "start_time": "2022-04-22T00:32:48.987568",
     "status": "completed"
    },
    "tags": []
   },
   "outputs": [
    {
     "name": "stdout",
     "output_type": "stream",
     "text": [
      "<class 'pandas.core.frame.DataFrame'>\n",
      "RangeIndex: 91741 entries, 0 to 91740\n",
      "Data columns (total 5 columns):\n",
      " #   Column                Non-Null Count  Dtype\n",
      "---  ------                --------------  -----\n",
      " 0   Incident_to_Arrest    91741 non-null  int64\n",
      " 1   Protective_Frisk      91741 non-null  int64\n",
      " 2   Probable_Cause        91741 non-null  int64\n",
      " 3   Reasonable_Suspicion  91741 non-null  int64\n",
      " 4   Inventory             91741 non-null  int64\n",
      "dtypes: int64(5)\n",
      "memory usage: 3.5 MB\n"
     ]
    }
   ],
   "source": [
    "df8.info()"
   ]
  },
  {
   "cell_type": "code",
   "execution_count": 62,
   "id": "8471acdf",
   "metadata": {
    "execution": {
     "iopub.execute_input": "2022-04-22T00:32:49.480070Z",
     "iopub.status.busy": "2022-04-22T00:32:49.479731Z",
     "iopub.status.idle": "2022-04-22T00:32:49.507703Z",
     "shell.execute_reply": "2022-04-22T00:32:49.506449Z"
    },
    "papermill": {
     "duration": 0.189635,
     "end_time": "2022-04-22T00:32:49.510610",
     "exception": false,
     "start_time": "2022-04-22T00:32:49.320975",
     "status": "completed"
    },
    "tags": []
   },
   "outputs": [],
   "source": [
    "df_created = pd.concat([df5,df8],axis=1)"
   ]
  },
  {
   "cell_type": "code",
   "execution_count": 63,
   "id": "43c05a5b",
   "metadata": {
    "execution": {
     "iopub.execute_input": "2022-04-22T00:32:49.819502Z",
     "iopub.status.busy": "2022-04-22T00:32:49.819190Z",
     "iopub.status.idle": "2022-04-22T00:32:49.875807Z",
     "shell.execute_reply": "2022-04-22T00:32:49.874886Z"
    },
    "papermill": {
     "duration": 0.21289,
     "end_time": "2022-04-22T00:32:49.878268",
     "exception": false,
     "start_time": "2022-04-22T00:32:49.665378",
     "status": "completed"
    },
    "tags": []
   },
   "outputs": [],
   "source": [
    "df_cr_=df_created.copy()"
   ]
  },
  {
   "cell_type": "code",
   "execution_count": 64,
   "id": "16ddde7f",
   "metadata": {
    "execution": {
     "iopub.execute_input": "2022-04-22T00:32:50.177888Z",
     "iopub.status.busy": "2022-04-22T00:32:50.177432Z",
     "iopub.status.idle": "2022-04-22T00:32:50.286188Z",
     "shell.execute_reply": "2022-04-22T00:32:50.284065Z"
    },
    "papermill": {
     "duration": 0.260415,
     "end_time": "2022-04-22T00:32:50.290277",
     "exception": false,
     "start_time": "2022-04-22T00:32:50.029862",
     "status": "completed"
    },
    "tags": []
   },
   "outputs": [
    {
     "name": "stdout",
     "output_type": "stream",
     "text": [
      "<class 'pandas.core.frame.DataFrame'>\n",
      "RangeIndex: 91741 entries, 0 to 91740\n",
      "Data columns (total 20 columns):\n",
      " #   Column                Non-Null Count  Dtype  \n",
      "---  ------                --------------  -----  \n",
      " 0   stop_date             91741 non-null  object \n",
      " 1   stop_time             91741 non-null  object \n",
      " 2   county_name           0 non-null      float64\n",
      " 3   driver_gender         86406 non-null  object \n",
      " 4   driver_age_raw        86414 non-null  float64\n",
      " 5   driver_age            86120 non-null  float64\n",
      " 6   driver_race           86408 non-null  object \n",
      " 7   violation_raw         86408 non-null  object \n",
      " 8   violation             86408 non-null  object \n",
      " 9   search_conducted      91741 non-null  bool   \n",
      " 10  search_type           3196 non-null   object \n",
      " 11  stop_outcome          86408 non-null  object \n",
      " 12  is_arrested           86408 non-null  object \n",
      " 13  stop_duration         86408 non-null  object \n",
      " 14  drugs_related_stop    91741 non-null  bool   \n",
      " 15  Incident_to_Arrest    91741 non-null  int64  \n",
      " 16  Protective_Frisk      91741 non-null  int64  \n",
      " 17  Probable_Cause        91741 non-null  int64  \n",
      " 18  Reasonable_Suspicion  91741 non-null  int64  \n",
      " 19  Inventory             91741 non-null  int64  \n",
      "dtypes: bool(2), float64(3), int64(5), object(10)\n",
      "memory usage: 12.8+ MB\n"
     ]
    }
   ],
   "source": [
    "df_cr_.info()"
   ]
  },
  {
   "cell_type": "code",
   "execution_count": 65,
   "id": "455bf0b9",
   "metadata": {
    "execution": {
     "iopub.execute_input": "2022-04-22T00:32:50.597094Z",
     "iopub.status.busy": "2022-04-22T00:32:50.595825Z",
     "iopub.status.idle": "2022-04-22T00:32:50.609308Z",
     "shell.execute_reply": "2022-04-22T00:32:50.607683Z"
    },
    "papermill": {
     "duration": 0.170219,
     "end_time": "2022-04-22T00:32:50.612338",
     "exception": false,
     "start_time": "2022-04-22T00:32:50.442119",
     "status": "completed"
    },
    "tags": []
   },
   "outputs": [],
   "source": [
    "df_cr_.drop(df_cr_.iloc[[],[0,1,2,3,4,5,6,7,8,10,11,12,13,14,15,17,18,19]],axis=1,inplace=True)"
   ]
  },
  {
   "cell_type": "code",
   "execution_count": 66,
   "id": "d17cde3f",
   "metadata": {
    "execution": {
     "iopub.execute_input": "2022-04-22T00:32:50.925953Z",
     "iopub.status.busy": "2022-04-22T00:32:50.925415Z",
     "iopub.status.idle": "2022-04-22T00:32:50.935718Z",
     "shell.execute_reply": "2022-04-22T00:32:50.934584Z"
    },
    "papermill": {
     "duration": 0.1728,
     "end_time": "2022-04-22T00:32:50.938085",
     "exception": false,
     "start_time": "2022-04-22T00:32:50.765285",
     "status": "completed"
    },
    "tags": []
   },
   "outputs": [
    {
     "data": {
      "text/html": [
       "<div>\n",
       "<style scoped>\n",
       "    .dataframe tbody tr th:only-of-type {\n",
       "        vertical-align: middle;\n",
       "    }\n",
       "\n",
       "    .dataframe tbody tr th {\n",
       "        vertical-align: top;\n",
       "    }\n",
       "\n",
       "    .dataframe thead th {\n",
       "        text-align: right;\n",
       "    }\n",
       "</style>\n",
       "<table border=\"1\" class=\"dataframe\">\n",
       "  <thead>\n",
       "    <tr style=\"text-align: right;\">\n",
       "      <th></th>\n",
       "      <th>search_conducted</th>\n",
       "      <th>Protective_Frisk</th>\n",
       "    </tr>\n",
       "  </thead>\n",
       "  <tbody>\n",
       "    <tr>\n",
       "      <th>0</th>\n",
       "      <td>False</td>\n",
       "      <td>0</td>\n",
       "    </tr>\n",
       "    <tr>\n",
       "      <th>1</th>\n",
       "      <td>False</td>\n",
       "      <td>0</td>\n",
       "    </tr>\n",
       "    <tr>\n",
       "      <th>2</th>\n",
       "      <td>False</td>\n",
       "      <td>0</td>\n",
       "    </tr>\n",
       "    <tr>\n",
       "      <th>3</th>\n",
       "      <td>False</td>\n",
       "      <td>0</td>\n",
       "    </tr>\n",
       "    <tr>\n",
       "      <th>4</th>\n",
       "      <td>False</td>\n",
       "      <td>0</td>\n",
       "    </tr>\n",
       "  </tbody>\n",
       "</table>\n",
       "</div>"
      ],
      "text/plain": [
       "   search_conducted  Protective_Frisk\n",
       "0             False                 0\n",
       "1             False                 0\n",
       "2             False                 0\n",
       "3             False                 0\n",
       "4             False                 0"
      ]
     },
     "execution_count": 66,
     "metadata": {},
     "output_type": "execute_result"
    }
   ],
   "source": [
    "df_cr_.head()"
   ]
  },
  {
   "cell_type": "code",
   "execution_count": 67,
   "id": "cbedfeaa",
   "metadata": {
    "execution": {
     "iopub.execute_input": "2022-04-22T00:32:51.260375Z",
     "iopub.status.busy": "2022-04-22T00:32:51.260039Z",
     "iopub.status.idle": "2022-04-22T00:32:51.268496Z",
     "shell.execute_reply": "2022-04-22T00:32:51.267788Z"
    },
    "papermill": {
     "duration": 0.174382,
     "end_time": "2022-04-22T00:32:51.270948",
     "exception": false,
     "start_time": "2022-04-22T00:32:51.096566",
     "status": "completed"
    },
    "tags": []
   },
   "outputs": [
    {
     "data": {
      "text/plain": [
       "False    88545\n",
       "True      3196\n",
       "Name: search_conducted, dtype: int64"
      ]
     },
     "execution_count": 67,
     "metadata": {},
     "output_type": "execute_result"
    }
   ],
   "source": [
    "df_cr_.search_conducted.value_counts()"
   ]
  },
  {
   "cell_type": "code",
   "execution_count": 68,
   "id": "fe01f416",
   "metadata": {
    "execution": {
     "iopub.execute_input": "2022-04-22T00:32:51.586984Z",
     "iopub.status.busy": "2022-04-22T00:32:51.586494Z",
     "iopub.status.idle": "2022-04-22T00:32:51.597372Z",
     "shell.execute_reply": "2022-04-22T00:32:51.596677Z"
    },
    "papermill": {
     "duration": 0.167908,
     "end_time": "2022-04-22T00:32:51.599808",
     "exception": false,
     "start_time": "2022-04-22T00:32:51.431900",
     "status": "completed"
    },
    "tags": []
   },
   "outputs": [
    {
     "name": "stdout",
     "output_type": "stream",
     "text": [
      "<class 'pandas.core.frame.DataFrame'>\n",
      "RangeIndex: 91741 entries, 0 to 91740\n",
      "Data columns (total 2 columns):\n",
      " #   Column            Non-Null Count  Dtype\n",
      "---  ------            --------------  -----\n",
      " 0   search_conducted  91741 non-null  bool \n",
      " 1   Protective_Frisk  91741 non-null  int64\n",
      "dtypes: bool(1), int64(1)\n",
      "memory usage: 806.4 KB\n"
     ]
    }
   ],
   "source": [
    "df_cr_.info()"
   ]
  },
  {
   "cell_type": "code",
   "execution_count": 69,
   "id": "a469b5f9",
   "metadata": {
    "execution": {
     "iopub.execute_input": "2022-04-22T00:32:51.909165Z",
     "iopub.status.busy": "2022-04-22T00:32:51.908617Z",
     "iopub.status.idle": "2022-04-22T00:32:51.916021Z",
     "shell.execute_reply": "2022-04-22T00:32:51.915290Z"
    },
    "papermill": {
     "duration": 0.167743,
     "end_time": "2022-04-22T00:32:51.918615",
     "exception": false,
     "start_time": "2022-04-22T00:32:51.750872",
     "status": "completed"
    },
    "tags": []
   },
   "outputs": [
    {
     "data": {
      "text/plain": [
       "0    91467\n",
       "1      274\n",
       "Name: Protective_Frisk, dtype: int64"
      ]
     },
     "execution_count": 69,
     "metadata": {},
     "output_type": "execute_result"
    }
   ],
   "source": [
    "df_cr_.Protective_Frisk.value_counts()"
   ]
  },
  {
   "cell_type": "code",
   "execution_count": 70,
   "id": "d0633806",
   "metadata": {
    "execution": {
     "iopub.execute_input": "2022-04-22T00:32:52.244385Z",
     "iopub.status.busy": "2022-04-22T00:32:52.243934Z",
     "iopub.status.idle": "2022-04-22T00:32:52.252491Z",
     "shell.execute_reply": "2022-04-22T00:32:52.251417Z"
    },
    "papermill": {
     "duration": 0.173144,
     "end_time": "2022-04-22T00:32:52.255047",
     "exception": false,
     "start_time": "2022-04-22T00:32:52.081903",
     "status": "completed"
    },
    "tags": []
   },
   "outputs": [
    {
     "data": {
      "text/plain": [
       "0    2922\n",
       "1     274\n",
       "Name: Protective_Frisk, dtype: int64"
      ]
     },
     "execution_count": 70,
     "metadata": {},
     "output_type": "execute_result"
    }
   ],
   "source": [
    "df_cr_[df_cr_.search_conducted==True].Protective_Frisk.value_counts()"
   ]
  },
  {
   "cell_type": "code",
   "execution_count": 71,
   "id": "69ab4508",
   "metadata": {
    "execution": {
     "iopub.execute_input": "2022-04-22T00:32:52.566823Z",
     "iopub.status.busy": "2022-04-22T00:32:52.566051Z",
     "iopub.status.idle": "2022-04-22T00:32:52.574780Z",
     "shell.execute_reply": "2022-04-22T00:32:52.574249Z"
    },
    "papermill": {
     "duration": 0.165184,
     "end_time": "2022-04-22T00:32:52.576950",
     "exception": false,
     "start_time": "2022-04-22T00:32:52.411766",
     "status": "completed"
    },
    "tags": []
   },
   "outputs": [
    {
     "data": {
      "text/plain": [
       "True    274\n",
       "Name: search_conducted, dtype: int64"
      ]
     },
     "execution_count": 71,
     "metadata": {},
     "output_type": "execute_result"
    }
   ],
   "source": [
    "df_cr_[df_cr_.Protective_Frisk==1].search_conducted.value_counts()"
   ]
  },
  {
   "cell_type": "code",
   "execution_count": 72,
   "id": "1ea9caab",
   "metadata": {
    "execution": {
     "iopub.execute_input": "2022-04-22T00:32:52.891221Z",
     "iopub.status.busy": "2022-04-22T00:32:52.890641Z",
     "iopub.status.idle": "2022-04-22T00:32:52.899003Z",
     "shell.execute_reply": "2022-04-22T00:32:52.897615Z"
    },
    "papermill": {
     "duration": 0.170947,
     "end_time": "2022-04-22T00:32:52.901562",
     "exception": false,
     "start_time": "2022-04-22T00:32:52.730615",
     "status": "completed"
    },
    "tags": []
   },
   "outputs": [],
   "source": [
    "df_yr = df.copy()"
   ]
  },
  {
   "cell_type": "code",
   "execution_count": 73,
   "id": "2b6e5f2f",
   "metadata": {
    "execution": {
     "iopub.execute_input": "2022-04-22T00:32:53.227615Z",
     "iopub.status.busy": "2022-04-22T00:32:53.227300Z",
     "iopub.status.idle": "2022-04-22T00:32:53.341725Z",
     "shell.execute_reply": "2022-04-22T00:32:53.340899Z"
    },
    "papermill": {
     "duration": 0.278652,
     "end_time": "2022-04-22T00:32:53.343983",
     "exception": false,
     "start_time": "2022-04-22T00:32:53.065331",
     "status": "completed"
    },
    "tags": []
   },
   "outputs": [
    {
     "name": "stdout",
     "output_type": "stream",
     "text": [
      "<class 'pandas.core.frame.DataFrame'>\n",
      "RangeIndex: 91741 entries, 0 to 91740\n",
      "Data columns (total 15 columns):\n",
      " #   Column              Non-Null Count  Dtype  \n",
      "---  ------              --------------  -----  \n",
      " 0   stop_date           91741 non-null  object \n",
      " 1   stop_time           91741 non-null  object \n",
      " 2   county_name         0 non-null      float64\n",
      " 3   driver_gender       86406 non-null  object \n",
      " 4   driver_age_raw      86414 non-null  float64\n",
      " 5   driver_age          86120 non-null  float64\n",
      " 6   driver_race         86408 non-null  object \n",
      " 7   violation_raw       86408 non-null  object \n",
      " 8   violation           86408 non-null  object \n",
      " 9   search_conducted    91741 non-null  bool   \n",
      " 10  search_type         3196 non-null   object \n",
      " 11  stop_outcome        86408 non-null  object \n",
      " 12  is_arrested         86408 non-null  object \n",
      " 13  stop_duration       86408 non-null  object \n",
      " 14  drugs_related_stop  91741 non-null  bool   \n",
      "dtypes: bool(2), float64(3), object(10)\n",
      "memory usage: 9.3+ MB\n"
     ]
    }
   ],
   "source": [
    "df_yr.info()"
   ]
  },
  {
   "cell_type": "code",
   "execution_count": 74,
   "id": "797841d5",
   "metadata": {
    "execution": {
     "iopub.execute_input": "2022-04-22T00:32:53.677629Z",
     "iopub.status.busy": "2022-04-22T00:32:53.676936Z",
     "iopub.status.idle": "2022-04-22T00:32:53.702005Z",
     "shell.execute_reply": "2022-04-22T00:32:53.700332Z"
    },
    "papermill": {
     "duration": 0.194411,
     "end_time": "2022-04-22T00:32:53.707462",
     "exception": false,
     "start_time": "2022-04-22T00:32:53.513051",
     "status": "completed"
    },
    "tags": []
   },
   "outputs": [
    {
     "data": {
      "text/plain": [
       "2012-01-11    69\n",
       "2012-02-28    65\n",
       "2007-05-16    62\n",
       "2012-01-02    61\n",
       "2007-01-10    60\n",
       "              ..\n",
       "2015-01-27     1\n",
       "2005-12-25     1\n",
       "2005-01-18     1\n",
       "2010-12-25     1\n",
       "2005-01-02     1\n",
       "Name: stop_date, Length: 3768, dtype: int64"
      ]
     },
     "execution_count": 74,
     "metadata": {},
     "output_type": "execute_result"
    }
   ],
   "source": [
    "df_yr.stop_date.value_counts()"
   ]
  },
  {
   "cell_type": "code",
   "execution_count": 75,
   "id": "f1d7b21c",
   "metadata": {
    "execution": {
     "iopub.execute_input": "2022-04-22T00:32:54.052188Z",
     "iopub.status.busy": "2022-04-22T00:32:54.051804Z",
     "iopub.status.idle": "2022-04-22T00:32:54.077724Z",
     "shell.execute_reply": "2022-04-22T00:32:54.077089Z"
    },
    "papermill": {
     "duration": 0.203491,
     "end_time": "2022-04-22T00:32:54.079657",
     "exception": false,
     "start_time": "2022-04-22T00:32:53.876166",
     "status": "completed"
    },
    "tags": []
   },
   "outputs": [
    {
     "data": {
      "text/html": [
       "<div>\n",
       "<style scoped>\n",
       "    .dataframe tbody tr th:only-of-type {\n",
       "        vertical-align: middle;\n",
       "    }\n",
       "\n",
       "    .dataframe tbody tr th {\n",
       "        vertical-align: top;\n",
       "    }\n",
       "\n",
       "    .dataframe thead th {\n",
       "        text-align: right;\n",
       "    }\n",
       "</style>\n",
       "<table border=\"1\" class=\"dataframe\">\n",
       "  <thead>\n",
       "    <tr style=\"text-align: right;\">\n",
       "      <th></th>\n",
       "      <th>stop_date</th>\n",
       "      <th>stop_time</th>\n",
       "      <th>county_name</th>\n",
       "      <th>driver_gender</th>\n",
       "      <th>driver_age_raw</th>\n",
       "      <th>driver_age</th>\n",
       "      <th>driver_race</th>\n",
       "      <th>violation_raw</th>\n",
       "      <th>violation</th>\n",
       "      <th>search_conducted</th>\n",
       "      <th>search_type</th>\n",
       "      <th>stop_outcome</th>\n",
       "      <th>is_arrested</th>\n",
       "      <th>stop_duration</th>\n",
       "      <th>drugs_related_stop</th>\n",
       "    </tr>\n",
       "  </thead>\n",
       "  <tbody>\n",
       "    <tr>\n",
       "      <th>0</th>\n",
       "      <td>2005-01-02</td>\n",
       "      <td>01:55</td>\n",
       "      <td>NaN</td>\n",
       "      <td>M</td>\n",
       "      <td>1985.0</td>\n",
       "      <td>20.0</td>\n",
       "      <td>White</td>\n",
       "      <td>Speeding</td>\n",
       "      <td>Speeding</td>\n",
       "      <td>False</td>\n",
       "      <td>NaN</td>\n",
       "      <td>Citation</td>\n",
       "      <td>False</td>\n",
       "      <td>0-15 Min</td>\n",
       "      <td>False</td>\n",
       "    </tr>\n",
       "    <tr>\n",
       "      <th>1</th>\n",
       "      <td>2005-01-18</td>\n",
       "      <td>08:15</td>\n",
       "      <td>NaN</td>\n",
       "      <td>M</td>\n",
       "      <td>1965.0</td>\n",
       "      <td>40.0</td>\n",
       "      <td>White</td>\n",
       "      <td>Speeding</td>\n",
       "      <td>Speeding</td>\n",
       "      <td>False</td>\n",
       "      <td>NaN</td>\n",
       "      <td>Citation</td>\n",
       "      <td>False</td>\n",
       "      <td>0-15 Min</td>\n",
       "      <td>False</td>\n",
       "    </tr>\n",
       "    <tr>\n",
       "      <th>2</th>\n",
       "      <td>2005-01-23</td>\n",
       "      <td>23:15</td>\n",
       "      <td>NaN</td>\n",
       "      <td>M</td>\n",
       "      <td>1972.0</td>\n",
       "      <td>33.0</td>\n",
       "      <td>White</td>\n",
       "      <td>Speeding</td>\n",
       "      <td>Speeding</td>\n",
       "      <td>False</td>\n",
       "      <td>NaN</td>\n",
       "      <td>Citation</td>\n",
       "      <td>False</td>\n",
       "      <td>0-15 Min</td>\n",
       "      <td>False</td>\n",
       "    </tr>\n",
       "    <tr>\n",
       "      <th>3</th>\n",
       "      <td>2005-02-20</td>\n",
       "      <td>17:15</td>\n",
       "      <td>NaN</td>\n",
       "      <td>M</td>\n",
       "      <td>1986.0</td>\n",
       "      <td>19.0</td>\n",
       "      <td>White</td>\n",
       "      <td>Call for Service</td>\n",
       "      <td>Other</td>\n",
       "      <td>False</td>\n",
       "      <td>NaN</td>\n",
       "      <td>Arrest Driver</td>\n",
       "      <td>True</td>\n",
       "      <td>16-30 Min</td>\n",
       "      <td>False</td>\n",
       "    </tr>\n",
       "    <tr>\n",
       "      <th>4</th>\n",
       "      <td>2005-03-14</td>\n",
       "      <td>10:00</td>\n",
       "      <td>NaN</td>\n",
       "      <td>F</td>\n",
       "      <td>1984.0</td>\n",
       "      <td>21.0</td>\n",
       "      <td>White</td>\n",
       "      <td>Speeding</td>\n",
       "      <td>Speeding</td>\n",
       "      <td>False</td>\n",
       "      <td>NaN</td>\n",
       "      <td>Citation</td>\n",
       "      <td>False</td>\n",
       "      <td>0-15 Min</td>\n",
       "      <td>False</td>\n",
       "    </tr>\n",
       "  </tbody>\n",
       "</table>\n",
       "</div>"
      ],
      "text/plain": [
       "    stop_date stop_time  county_name driver_gender  driver_age_raw  \\\n",
       "0  2005-01-02     01:55          NaN             M          1985.0   \n",
       "1  2005-01-18     08:15          NaN             M          1965.0   \n",
       "2  2005-01-23     23:15          NaN             M          1972.0   \n",
       "3  2005-02-20     17:15          NaN             M          1986.0   \n",
       "4  2005-03-14     10:00          NaN             F          1984.0   \n",
       "\n",
       "   driver_age driver_race     violation_raw violation  search_conducted  \\\n",
       "0        20.0       White          Speeding  Speeding             False   \n",
       "1        40.0       White          Speeding  Speeding             False   \n",
       "2        33.0       White          Speeding  Speeding             False   \n",
       "3        19.0       White  Call for Service     Other             False   \n",
       "4        21.0       White          Speeding  Speeding             False   \n",
       "\n",
       "  search_type   stop_outcome is_arrested stop_duration  drugs_related_stop  \n",
       "0         NaN       Citation       False      0-15 Min               False  \n",
       "1         NaN       Citation       False      0-15 Min               False  \n",
       "2         NaN       Citation       False      0-15 Min               False  \n",
       "3         NaN  Arrest Driver        True     16-30 Min               False  \n",
       "4         NaN       Citation       False      0-15 Min               False  "
      ]
     },
     "execution_count": 75,
     "metadata": {},
     "output_type": "execute_result"
    }
   ],
   "source": [
    "df_yr.head()"
   ]
  },
  {
   "cell_type": "code",
   "execution_count": 76,
   "id": "6e005baf",
   "metadata": {
    "execution": {
     "iopub.execute_input": "2022-04-22T00:32:54.412317Z",
     "iopub.status.busy": "2022-04-22T00:32:54.411941Z",
     "iopub.status.idle": "2022-04-22T00:32:54.452254Z",
     "shell.execute_reply": "2022-04-22T00:32:54.450894Z"
    },
    "papermill": {
     "duration": 0.211608,
     "end_time": "2022-04-22T00:32:54.455377",
     "exception": false,
     "start_time": "2022-04-22T00:32:54.243769",
     "status": "completed"
    },
    "tags": []
   },
   "outputs": [],
   "source": [
    "df_yr['stop_date']=pd.to_datetime(df_yr.stop_date)"
   ]
  },
  {
   "cell_type": "code",
   "execution_count": 77,
   "id": "83bf0b21",
   "metadata": {
    "execution": {
     "iopub.execute_input": "2022-04-22T00:32:54.781388Z",
     "iopub.status.busy": "2022-04-22T00:32:54.781040Z",
     "iopub.status.idle": "2022-04-22T00:32:54.881653Z",
     "shell.execute_reply": "2022-04-22T00:32:54.880418Z"
    },
    "papermill": {
     "duration": 0.264387,
     "end_time": "2022-04-22T00:32:54.884306",
     "exception": false,
     "start_time": "2022-04-22T00:32:54.619919",
     "status": "completed"
    },
    "tags": []
   },
   "outputs": [
    {
     "name": "stdout",
     "output_type": "stream",
     "text": [
      "<class 'pandas.core.frame.DataFrame'>\n",
      "RangeIndex: 91741 entries, 0 to 91740\n",
      "Data columns (total 15 columns):\n",
      " #   Column              Non-Null Count  Dtype         \n",
      "---  ------              --------------  -----         \n",
      " 0   stop_date           91741 non-null  datetime64[ns]\n",
      " 1   stop_time           91741 non-null  object        \n",
      " 2   county_name         0 non-null      float64       \n",
      " 3   driver_gender       86406 non-null  object        \n",
      " 4   driver_age_raw      86414 non-null  float64       \n",
      " 5   driver_age          86120 non-null  float64       \n",
      " 6   driver_race         86408 non-null  object        \n",
      " 7   violation_raw       86408 non-null  object        \n",
      " 8   violation           86408 non-null  object        \n",
      " 9   search_conducted    91741 non-null  bool          \n",
      " 10  search_type         3196 non-null   object        \n",
      " 11  stop_outcome        86408 non-null  object        \n",
      " 12  is_arrested         86408 non-null  object        \n",
      " 13  stop_duration       86408 non-null  object        \n",
      " 14  drugs_related_stop  91741 non-null  bool          \n",
      "dtypes: bool(2), datetime64[ns](1), float64(3), object(9)\n",
      "memory usage: 9.3+ MB\n"
     ]
    }
   ],
   "source": [
    "df_yr.info()"
   ]
  },
  {
   "cell_type": "code",
   "execution_count": 78,
   "id": "6faed829",
   "metadata": {
    "execution": {
     "iopub.execute_input": "2022-04-22T00:32:55.211475Z",
     "iopub.status.busy": "2022-04-22T00:32:55.210935Z",
     "iopub.status.idle": "2022-04-22T00:32:55.219719Z",
     "shell.execute_reply": "2022-04-22T00:32:55.219110Z"
    },
    "papermill": {
     "duration": 0.178138,
     "end_time": "2022-04-22T00:32:55.222776",
     "exception": false,
     "start_time": "2022-04-22T00:32:55.044638",
     "status": "completed"
    },
    "tags": []
   },
   "outputs": [
    {
     "data": {
      "text/plain": [
       "'Sunday'"
      ]
     },
     "execution_count": 78,
     "metadata": {},
     "output_type": "execute_result"
    }
   ],
   "source": [
    "df_yr.loc[0,'stop_date'].day_name()"
   ]
  },
  {
   "cell_type": "code",
   "execution_count": 79,
   "id": "1934ac9b",
   "metadata": {
    "execution": {
     "iopub.execute_input": "2022-04-22T00:32:55.545564Z",
     "iopub.status.busy": "2022-04-22T00:32:55.545161Z",
     "iopub.status.idle": "2022-04-22T00:32:55.551389Z",
     "shell.execute_reply": "2022-04-22T00:32:55.550417Z"
    },
    "papermill": {
     "duration": 0.168029,
     "end_time": "2022-04-22T00:32:55.554182",
     "exception": false,
     "start_time": "2022-04-22T00:32:55.386153",
     "status": "completed"
    },
    "tags": []
   },
   "outputs": [
    {
     "data": {
      "text/plain": [
       "Timestamp('2005-01-02 00:00:00')"
      ]
     },
     "execution_count": 79,
     "metadata": {},
     "output_type": "execute_result"
    }
   ],
   "source": [
    "df_yr['stop_date'].min()"
   ]
  },
  {
   "cell_type": "code",
   "execution_count": 80,
   "id": "6ac63a38",
   "metadata": {
    "execution": {
     "iopub.execute_input": "2022-04-22T00:32:55.899399Z",
     "iopub.status.busy": "2022-04-22T00:32:55.898635Z",
     "iopub.status.idle": "2022-04-22T00:32:55.904818Z",
     "shell.execute_reply": "2022-04-22T00:32:55.904281Z"
    },
    "papermill": {
     "duration": 0.191633,
     "end_time": "2022-04-22T00:32:55.906944",
     "exception": false,
     "start_time": "2022-04-22T00:32:55.715311",
     "status": "completed"
    },
    "tags": []
   },
   "outputs": [
    {
     "data": {
      "text/plain": [
       "Timestamp('2015-12-31 00:00:00')"
      ]
     },
     "execution_count": 80,
     "metadata": {},
     "output_type": "execute_result"
    }
   ],
   "source": [
    "df_yr['stop_date'].max()"
   ]
  },
  {
   "cell_type": "code",
   "execution_count": 81,
   "id": "7b2c4837",
   "metadata": {
    "execution": {
     "iopub.execute_input": "2022-04-22T00:32:56.236656Z",
     "iopub.status.busy": "2022-04-22T00:32:56.235770Z",
     "iopub.status.idle": "2022-04-22T00:32:56.245464Z",
     "shell.execute_reply": "2022-04-22T00:32:56.243813Z"
    },
    "papermill": {
     "duration": 0.177819,
     "end_time": "2022-04-22T00:32:56.248648",
     "exception": false,
     "start_time": "2022-04-22T00:32:56.070829",
     "status": "completed"
    },
    "tags": []
   },
   "outputs": [
    {
     "data": {
      "text/plain": [
       "Timedelta('4015 days 00:00:00')"
      ]
     },
     "execution_count": 81,
     "metadata": {},
     "output_type": "execute_result"
    }
   ],
   "source": [
    "df_yr['stop_date'].max() - df_yr['stop_date'].min()"
   ]
  },
  {
   "cell_type": "code",
   "execution_count": 82,
   "id": "ce95f62b",
   "metadata": {
    "execution": {
     "iopub.execute_input": "2022-04-22T00:32:56.584286Z",
     "iopub.status.busy": "2022-04-22T00:32:56.583929Z",
     "iopub.status.idle": "2022-04-22T00:32:56.597001Z",
     "shell.execute_reply": "2022-04-22T00:32:56.595595Z"
    },
    "papermill": {
     "duration": 0.180571,
     "end_time": "2022-04-22T00:32:56.599988",
     "exception": false,
     "start_time": "2022-04-22T00:32:56.419417",
     "status": "completed"
    },
    "tags": []
   },
   "outputs": [
    {
     "data": {
      "text/plain": [
       "2012-01-11    69\n",
       "2012-02-28    65\n",
       "2007-05-16    62\n",
       "2012-01-02    61\n",
       "2007-01-10    60\n",
       "              ..\n",
       "2015-01-27     1\n",
       "2005-12-25     1\n",
       "2005-01-18     1\n",
       "2010-12-25     1\n",
       "2005-01-02     1\n",
       "Name: stop_date, Length: 3768, dtype: int64"
      ]
     },
     "execution_count": 82,
     "metadata": {},
     "output_type": "execute_result"
    }
   ],
   "source": [
    "df_yr['stop_date'].value_counts()"
   ]
  },
  {
   "cell_type": "code",
   "execution_count": 83,
   "id": "286b0b51",
   "metadata": {
    "execution": {
     "iopub.execute_input": "2022-04-22T00:32:56.951528Z",
     "iopub.status.busy": "2022-04-22T00:32:56.950751Z",
     "iopub.status.idle": "2022-04-22T00:32:56.961497Z",
     "shell.execute_reply": "2022-04-22T00:32:56.960357Z"
    },
    "papermill": {
     "duration": 0.189717,
     "end_time": "2022-04-22T00:32:56.964115",
     "exception": false,
     "start_time": "2022-04-22T00:32:56.774398",
     "status": "completed"
    },
    "tags": []
   },
   "outputs": [
    {
     "data": {
      "text/plain": [
       "2012-01-11    69\n",
       "2012-02-28    65\n",
       "2007-05-16    62\n",
       "2012-01-02    61\n",
       "2007-01-10    60\n",
       "              ..\n",
       "2015-01-27     1\n",
       "2005-12-25     1\n",
       "2005-01-18     1\n",
       "2010-12-25     1\n",
       "2005-01-02     1\n",
       "Name: stop_date, Length: 3768, dtype: int64"
      ]
     },
     "execution_count": 83,
     "metadata": {},
     "output_type": "execute_result"
    }
   ],
   "source": [
    "df_yr['stop_date'].value_counts()"
   ]
  },
  {
   "cell_type": "code",
   "execution_count": 84,
   "id": "9db94f03",
   "metadata": {
    "execution": {
     "iopub.execute_input": "2022-04-22T00:32:57.305015Z",
     "iopub.status.busy": "2022-04-22T00:32:57.304653Z",
     "iopub.status.idle": "2022-04-22T00:32:57.341690Z",
     "shell.execute_reply": "2022-04-22T00:32:57.340499Z"
    },
    "papermill": {
     "duration": 0.212978,
     "end_time": "2022-04-22T00:32:57.344861",
     "exception": false,
     "start_time": "2022-04-22T00:32:57.131883",
     "status": "completed"
    },
    "tags": []
   },
   "outputs": [],
   "source": [
    "df_yr['year']= pd.to_datetime(df_yr.stop_date).dt.year"
   ]
  },
  {
   "cell_type": "code",
   "execution_count": 85,
   "id": "3b17c5dd",
   "metadata": {
    "execution": {
     "iopub.execute_input": "2022-04-22T00:32:57.687926Z",
     "iopub.status.busy": "2022-04-22T00:32:57.687623Z",
     "iopub.status.idle": "2022-04-22T00:32:57.696385Z",
     "shell.execute_reply": "2022-04-22T00:32:57.695459Z"
    },
    "papermill": {
     "duration": 0.182976,
     "end_time": "2022-04-22T00:32:57.699574",
     "exception": false,
     "start_time": "2022-04-22T00:32:57.516598",
     "status": "completed"
    },
    "tags": []
   },
   "outputs": [
    {
     "data": {
      "text/plain": [
       "2012    10970\n",
       "2006    10639\n",
       "2007     9476\n",
       "2014     9228\n",
       "2008     8752\n",
       "2015     8599\n",
       "2011     8126\n",
       "2013     7924\n",
       "2009     7908\n",
       "2010     7561\n",
       "2005     2558\n",
       "Name: year, dtype: int64"
      ]
     },
     "execution_count": 85,
     "metadata": {},
     "output_type": "execute_result"
    }
   ],
   "source": [
    "df_yr.year.value_counts()"
   ]
  },
  {
   "cell_type": "code",
   "execution_count": 86,
   "id": "36f18198",
   "metadata": {
    "execution": {
     "iopub.execute_input": "2022-04-22T00:32:58.036516Z",
     "iopub.status.busy": "2022-04-22T00:32:58.034742Z",
     "iopub.status.idle": "2022-04-22T00:32:58.047543Z",
     "shell.execute_reply": "2022-04-22T00:32:58.045970Z"
    },
    "papermill": {
     "duration": 0.178124,
     "end_time": "2022-04-22T00:32:58.050185",
     "exception": false,
     "start_time": "2022-04-22T00:32:57.872061",
     "status": "completed"
    },
    "tags": []
   },
   "outputs": [],
   "source": [
    "df_drug = df.copy()"
   ]
  },
  {
   "cell_type": "code",
   "execution_count": 87,
   "id": "ee765983",
   "metadata": {
    "execution": {
     "iopub.execute_input": "2022-04-22T00:32:58.376307Z",
     "iopub.status.busy": "2022-04-22T00:32:58.375729Z",
     "iopub.status.idle": "2022-04-22T00:32:58.487096Z",
     "shell.execute_reply": "2022-04-22T00:32:58.485173Z"
    },
    "papermill": {
     "duration": 0.277103,
     "end_time": "2022-04-22T00:32:58.489916",
     "exception": false,
     "start_time": "2022-04-22T00:32:58.212813",
     "status": "completed"
    },
    "tags": []
   },
   "outputs": [
    {
     "name": "stdout",
     "output_type": "stream",
     "text": [
      "<class 'pandas.core.frame.DataFrame'>\n",
      "RangeIndex: 91741 entries, 0 to 91740\n",
      "Data columns (total 15 columns):\n",
      " #   Column              Non-Null Count  Dtype  \n",
      "---  ------              --------------  -----  \n",
      " 0   stop_date           91741 non-null  object \n",
      " 1   stop_time           91741 non-null  object \n",
      " 2   county_name         0 non-null      float64\n",
      " 3   driver_gender       86406 non-null  object \n",
      " 4   driver_age_raw      86414 non-null  float64\n",
      " 5   driver_age          86120 non-null  float64\n",
      " 6   driver_race         86408 non-null  object \n",
      " 7   violation_raw       86408 non-null  object \n",
      " 8   violation           86408 non-null  object \n",
      " 9   search_conducted    91741 non-null  bool   \n",
      " 10  search_type         3196 non-null   object \n",
      " 11  stop_outcome        86408 non-null  object \n",
      " 12  is_arrested         86408 non-null  object \n",
      " 13  stop_duration       86408 non-null  object \n",
      " 14  drugs_related_stop  91741 non-null  bool   \n",
      "dtypes: bool(2), float64(3), object(10)\n",
      "memory usage: 9.3+ MB\n"
     ]
    }
   ],
   "source": [
    "df_drug.info()"
   ]
  },
  {
   "cell_type": "code",
   "execution_count": 88,
   "id": "5f159f60",
   "metadata": {
    "execution": {
     "iopub.execute_input": "2022-04-22T00:32:58.834981Z",
     "iopub.status.busy": "2022-04-22T00:32:58.834578Z",
     "iopub.status.idle": "2022-04-22T00:32:58.846610Z",
     "shell.execute_reply": "2022-04-22T00:32:58.845441Z"
    },
    "papermill": {
     "duration": 0.186672,
     "end_time": "2022-04-22T00:32:58.849357",
     "exception": false,
     "start_time": "2022-04-22T00:32:58.662685",
     "status": "completed"
    },
    "tags": []
   },
   "outputs": [],
   "source": [
    "df_drug.drop(df_drug.iloc[[],[0,2,3,4,5,6,7,8,10,11,12,13]],axis=1,inplace=True)"
   ]
  },
  {
   "cell_type": "code",
   "execution_count": 89,
   "id": "9f688845",
   "metadata": {
    "execution": {
     "iopub.execute_input": "2022-04-22T00:32:59.174843Z",
     "iopub.status.busy": "2022-04-22T00:32:59.174379Z",
     "iopub.status.idle": "2022-04-22T00:32:59.199010Z",
     "shell.execute_reply": "2022-04-22T00:32:59.197601Z"
    },
    "papermill": {
     "duration": 0.190435,
     "end_time": "2022-04-22T00:32:59.201990",
     "exception": false,
     "start_time": "2022-04-22T00:32:59.011555",
     "status": "completed"
    },
    "tags": []
   },
   "outputs": [
    {
     "name": "stdout",
     "output_type": "stream",
     "text": [
      "<class 'pandas.core.frame.DataFrame'>\n",
      "RangeIndex: 91741 entries, 0 to 91740\n",
      "Data columns (total 3 columns):\n",
      " #   Column              Non-Null Count  Dtype \n",
      "---  ------              --------------  ----- \n",
      " 0   stop_time           91741 non-null  object\n",
      " 1   search_conducted    91741 non-null  bool  \n",
      " 2   drugs_related_stop  91741 non-null  bool  \n",
      "dtypes: bool(2), object(1)\n",
      "memory usage: 896.0+ KB\n"
     ]
    }
   ],
   "source": [
    "df_drug.info()"
   ]
  },
  {
   "cell_type": "code",
   "execution_count": 90,
   "id": "43a369e8",
   "metadata": {
    "execution": {
     "iopub.execute_input": "2022-04-22T00:32:59.536857Z",
     "iopub.status.busy": "2022-04-22T00:32:59.536384Z",
     "iopub.status.idle": "2022-04-22T00:32:59.547829Z",
     "shell.execute_reply": "2022-04-22T00:32:59.547012Z"
    },
    "papermill": {
     "duration": 0.178327,
     "end_time": "2022-04-22T00:32:59.549863",
     "exception": false,
     "start_time": "2022-04-22T00:32:59.371536",
     "status": "completed"
    },
    "tags": []
   },
   "outputs": [
    {
     "data": {
      "text/html": [
       "<div>\n",
       "<style scoped>\n",
       "    .dataframe tbody tr th:only-of-type {\n",
       "        vertical-align: middle;\n",
       "    }\n",
       "\n",
       "    .dataframe tbody tr th {\n",
       "        vertical-align: top;\n",
       "    }\n",
       "\n",
       "    .dataframe thead th {\n",
       "        text-align: right;\n",
       "    }\n",
       "</style>\n",
       "<table border=\"1\" class=\"dataframe\">\n",
       "  <thead>\n",
       "    <tr style=\"text-align: right;\">\n",
       "      <th></th>\n",
       "      <th>stop_time</th>\n",
       "      <th>search_conducted</th>\n",
       "      <th>drugs_related_stop</th>\n",
       "    </tr>\n",
       "  </thead>\n",
       "  <tbody>\n",
       "    <tr>\n",
       "      <th>0</th>\n",
       "      <td>01:55</td>\n",
       "      <td>False</td>\n",
       "      <td>False</td>\n",
       "    </tr>\n",
       "    <tr>\n",
       "      <th>1</th>\n",
       "      <td>08:15</td>\n",
       "      <td>False</td>\n",
       "      <td>False</td>\n",
       "    </tr>\n",
       "    <tr>\n",
       "      <th>2</th>\n",
       "      <td>23:15</td>\n",
       "      <td>False</td>\n",
       "      <td>False</td>\n",
       "    </tr>\n",
       "    <tr>\n",
       "      <th>3</th>\n",
       "      <td>17:15</td>\n",
       "      <td>False</td>\n",
       "      <td>False</td>\n",
       "    </tr>\n",
       "    <tr>\n",
       "      <th>4</th>\n",
       "      <td>10:00</td>\n",
       "      <td>False</td>\n",
       "      <td>False</td>\n",
       "    </tr>\n",
       "  </tbody>\n",
       "</table>\n",
       "</div>"
      ],
      "text/plain": [
       "  stop_time  search_conducted  drugs_related_stop\n",
       "0     01:55             False               False\n",
       "1     08:15             False               False\n",
       "2     23:15             False               False\n",
       "3     17:15             False               False\n",
       "4     10:00             False               False"
      ]
     },
     "execution_count": 90,
     "metadata": {},
     "output_type": "execute_result"
    }
   ],
   "source": [
    "df_drug.head()"
   ]
  },
  {
   "cell_type": "code",
   "execution_count": 91,
   "id": "3a9bcf93",
   "metadata": {
    "execution": {
     "iopub.execute_input": "2022-04-22T00:32:59.876278Z",
     "iopub.status.busy": "2022-04-22T00:32:59.875951Z",
     "iopub.status.idle": "2022-04-22T00:33:00.002250Z",
     "shell.execute_reply": "2022-04-22T00:33:00.000827Z"
    },
    "papermill": {
     "duration": 0.295682,
     "end_time": "2022-04-22T00:33:00.005210",
     "exception": false,
     "start_time": "2022-04-22T00:32:59.709528",
     "status": "completed"
    },
    "tags": []
   },
   "outputs": [],
   "source": [
    "df_drug['stop_time']= pd.to_datetime(df_drug.stop_time).dt.hour"
   ]
  },
  {
   "cell_type": "code",
   "execution_count": 92,
   "id": "33121a46",
   "metadata": {
    "execution": {
     "iopub.execute_input": "2022-04-22T00:33:00.333280Z",
     "iopub.status.busy": "2022-04-22T00:33:00.332592Z",
     "iopub.status.idle": "2022-04-22T00:33:00.345043Z",
     "shell.execute_reply": "2022-04-22T00:33:00.344460Z"
    },
    "papermill": {
     "duration": 0.178875,
     "end_time": "2022-04-22T00:33:00.347347",
     "exception": false,
     "start_time": "2022-04-22T00:33:00.168472",
     "status": "completed"
    },
    "tags": []
   },
   "outputs": [],
   "source": [
    "df_drug.sort_values(by=['stop_time'],inplace=True)"
   ]
  },
  {
   "cell_type": "code",
   "execution_count": 93,
   "id": "00c54728",
   "metadata": {
    "execution": {
     "iopub.execute_input": "2022-04-22T00:33:00.673460Z",
     "iopub.status.busy": "2022-04-22T00:33:00.672031Z",
     "iopub.status.idle": "2022-04-22T00:33:00.684592Z",
     "shell.execute_reply": "2022-04-22T00:33:00.684056Z"
    },
    "papermill": {
     "duration": 0.178909,
     "end_time": "2022-04-22T00:33:00.686355",
     "exception": false,
     "start_time": "2022-04-22T00:33:00.507446",
     "status": "completed"
    },
    "tags": []
   },
   "outputs": [
    {
     "data": {
      "text/html": [
       "<div>\n",
       "<style scoped>\n",
       "    .dataframe tbody tr th:only-of-type {\n",
       "        vertical-align: middle;\n",
       "    }\n",
       "\n",
       "    .dataframe tbody tr th {\n",
       "        vertical-align: top;\n",
       "    }\n",
       "\n",
       "    .dataframe thead th {\n",
       "        text-align: right;\n",
       "    }\n",
       "</style>\n",
       "<table border=\"1\" class=\"dataframe\">\n",
       "  <thead>\n",
       "    <tr style=\"text-align: right;\">\n",
       "      <th></th>\n",
       "      <th>stop_time</th>\n",
       "      <th>search_conducted</th>\n",
       "      <th>drugs_related_stop</th>\n",
       "    </tr>\n",
       "  </thead>\n",
       "  <tbody>\n",
       "    <tr>\n",
       "      <th>72262</th>\n",
       "      <td>0</td>\n",
       "      <td>False</td>\n",
       "      <td>False</td>\n",
       "    </tr>\n",
       "    <tr>\n",
       "      <th>5173</th>\n",
       "      <td>0</td>\n",
       "      <td>False</td>\n",
       "      <td>False</td>\n",
       "    </tr>\n",
       "    <tr>\n",
       "      <th>74333</th>\n",
       "      <td>0</td>\n",
       "      <td>False</td>\n",
       "      <td>False</td>\n",
       "    </tr>\n",
       "    <tr>\n",
       "      <th>29114</th>\n",
       "      <td>0</td>\n",
       "      <td>False</td>\n",
       "      <td>False</td>\n",
       "    </tr>\n",
       "    <tr>\n",
       "      <th>29133</th>\n",
       "      <td>0</td>\n",
       "      <td>False</td>\n",
       "      <td>False</td>\n",
       "    </tr>\n",
       "    <tr>\n",
       "      <th>...</th>\n",
       "      <td>...</td>\n",
       "      <td>...</td>\n",
       "      <td>...</td>\n",
       "    </tr>\n",
       "    <tr>\n",
       "      <th>73690</th>\n",
       "      <td>23</td>\n",
       "      <td>False</td>\n",
       "      <td>False</td>\n",
       "    </tr>\n",
       "    <tr>\n",
       "      <th>73710</th>\n",
       "      <td>23</td>\n",
       "      <td>False</td>\n",
       "      <td>False</td>\n",
       "    </tr>\n",
       "    <tr>\n",
       "      <th>8362</th>\n",
       "      <td>23</td>\n",
       "      <td>False</td>\n",
       "      <td>False</td>\n",
       "    </tr>\n",
       "    <tr>\n",
       "      <th>29979</th>\n",
       "      <td>23</td>\n",
       "      <td>False</td>\n",
       "      <td>False</td>\n",
       "    </tr>\n",
       "    <tr>\n",
       "      <th>28103</th>\n",
       "      <td>23</td>\n",
       "      <td>False</td>\n",
       "      <td>False</td>\n",
       "    </tr>\n",
       "  </tbody>\n",
       "</table>\n",
       "<p>91741 rows × 3 columns</p>\n",
       "</div>"
      ],
      "text/plain": [
       "       stop_time  search_conducted  drugs_related_stop\n",
       "72262          0             False               False\n",
       "5173           0             False               False\n",
       "74333          0             False               False\n",
       "29114          0             False               False\n",
       "29133          0             False               False\n",
       "...          ...               ...                 ...\n",
       "73690         23             False               False\n",
       "73710         23             False               False\n",
       "8362          23             False               False\n",
       "29979         23             False               False\n",
       "28103         23             False               False\n",
       "\n",
       "[91741 rows x 3 columns]"
      ]
     },
     "execution_count": 93,
     "metadata": {},
     "output_type": "execute_result"
    }
   ],
   "source": [
    "df_drug"
   ]
  },
  {
   "cell_type": "code",
   "execution_count": 94,
   "id": "d8cd1942",
   "metadata": {
    "execution": {
     "iopub.execute_input": "2022-04-22T00:33:01.018977Z",
     "iopub.status.busy": "2022-04-22T00:33:01.017717Z",
     "iopub.status.idle": "2022-04-22T00:33:01.026693Z",
     "shell.execute_reply": "2022-04-22T00:33:01.026150Z"
    },
    "papermill": {
     "duration": 0.179063,
     "end_time": "2022-04-22T00:33:01.029631",
     "exception": false,
     "start_time": "2022-04-22T00:33:00.850568",
     "status": "completed"
    },
    "tags": []
   },
   "outputs": [
    {
     "data": {
      "text/plain": [
       "False    90926\n",
       "True       815\n",
       "Name: drugs_related_stop, dtype: int64"
      ]
     },
     "execution_count": 94,
     "metadata": {},
     "output_type": "execute_result"
    }
   ],
   "source": [
    "df_drug.drugs_related_stop.value_counts()"
   ]
  },
  {
   "cell_type": "code",
   "execution_count": 95,
   "id": "33f4e6ab",
   "metadata": {
    "execution": {
     "iopub.execute_input": "2022-04-22T00:33:01.356567Z",
     "iopub.status.busy": "2022-04-22T00:33:01.356257Z",
     "iopub.status.idle": "2022-04-22T00:33:01.365781Z",
     "shell.execute_reply": "2022-04-22T00:33:01.364855Z"
    },
    "papermill": {
     "duration": 0.176128,
     "end_time": "2022-04-22T00:33:01.367804",
     "exception": false,
     "start_time": "2022-04-22T00:33:01.191676",
     "status": "completed"
    },
    "tags": []
   },
   "outputs": [
    {
     "data": {
      "text/plain": [
       "10    7350\n",
       "9     6838\n",
       "11    5877\n",
       "14    5634\n",
       "23    5629\n",
       "0     5221\n",
       "8     5210\n",
       "13    4842\n",
       "15    4832\n",
       "7     4572\n",
       "1     4442\n",
       "16    3844\n",
       "12    3582\n",
       "22    3473\n",
       "20    3340\n",
       "6     3290\n",
       "2     2975\n",
       "17    2900\n",
       "19    2587\n",
       "18    2168\n",
       "21    1499\n",
       "3     1172\n",
       "4      254\n",
       "5      210\n",
       "Name: stop_time, dtype: int64"
      ]
     },
     "execution_count": 95,
     "metadata": {},
     "output_type": "execute_result"
    }
   ],
   "source": [
    "df_drug.stop_time.value_counts()"
   ]
  },
  {
   "cell_type": "code",
   "execution_count": 96,
   "id": "17f68aeb",
   "metadata": {
    "execution": {
     "iopub.execute_input": "2022-04-22T00:33:01.692508Z",
     "iopub.status.busy": "2022-04-22T00:33:01.692187Z",
     "iopub.status.idle": "2022-04-22T00:33:01.704055Z",
     "shell.execute_reply": "2022-04-22T00:33:01.703060Z"
    },
    "papermill": {
     "duration": 0.179092,
     "end_time": "2022-04-22T00:33:01.706956",
     "exception": false,
     "start_time": "2022-04-22T00:33:01.527864",
     "status": "completed"
    },
    "tags": []
   },
   "outputs": [
    {
     "data": {
      "text/plain": [
       "0     103\n",
       "23     92\n",
       "1      60\n",
       "13     50\n",
       "22     47\n",
       "2      46\n",
       "14     44\n",
       "9      43\n",
       "10     42\n",
       "11     41\n",
       "15     31\n",
       "19     30\n",
       "20     27\n",
       "18     22\n",
       "16     22\n",
       "21     20\n",
       "3      20\n",
       "12     16\n",
       "17     16\n",
       "7      15\n",
       "8      14\n",
       "6      10\n",
       "4       3\n",
       "5       1\n",
       "Name: stop_time, dtype: int64"
      ]
     },
     "execution_count": 96,
     "metadata": {},
     "output_type": "execute_result"
    }
   ],
   "source": [
    "df_drug[df_drug.drugs_related_stop==True].stop_time.value_counts()"
   ]
  },
  {
   "cell_type": "code",
   "execution_count": 97,
   "id": "fb07b687",
   "metadata": {
    "execution": {
     "iopub.execute_input": "2022-04-22T00:33:02.048686Z",
     "iopub.status.busy": "2022-04-22T00:33:02.048410Z",
     "iopub.status.idle": "2022-04-22T00:33:02.062489Z",
     "shell.execute_reply": "2022-04-22T00:33:02.061875Z"
    },
    "papermill": {
     "duration": 0.186461,
     "end_time": "2022-04-22T00:33:02.064342",
     "exception": false,
     "start_time": "2022-04-22T00:33:01.877881",
     "status": "completed"
    },
    "tags": []
   },
   "outputs": [
    {
     "data": {
      "text/plain": [
       "stop_time  drugs_related_stop\n",
       "0          False                 5118\n",
       "           True                   103\n",
       "1          False                 4382\n",
       "           True                    60\n",
       "2          False                 2929\n",
       "           True                    46\n",
       "3          False                 1152\n",
       "           True                    20\n",
       "4          False                  251\n",
       "           True                     3\n",
       "5          False                  209\n",
       "           True                     1\n",
       "6          False                 3280\n",
       "           True                    10\n",
       "7          False                 4557\n",
       "           True                    15\n",
       "8          False                 5196\n",
       "           True                    14\n",
       "9          False                 6795\n",
       "           True                    43\n",
       "10         False                 7308\n",
       "           True                    42\n",
       "11         False                 5836\n",
       "           True                    41\n",
       "12         False                 3566\n",
       "           True                    16\n",
       "13         False                 4792\n",
       "           True                    50\n",
       "14         False                 5590\n",
       "           True                    44\n",
       "15         False                 4801\n",
       "           True                    31\n",
       "16         False                 3822\n",
       "           True                    22\n",
       "17         False                 2884\n",
       "           True                    16\n",
       "18         False                 2146\n",
       "           True                    22\n",
       "19         False                 2557\n",
       "           True                    30\n",
       "20         False                 3313\n",
       "           True                    27\n",
       "21         False                 1479\n",
       "           True                    20\n",
       "22         False                 3426\n",
       "           True                    47\n",
       "23         False                 5537\n",
       "           True                    92\n",
       "Name: drugs_related_stop, dtype: int64"
      ]
     },
     "execution_count": 97,
     "metadata": {},
     "output_type": "execute_result"
    }
   ],
   "source": [
    "df_drug.groupby(['stop_time']).drugs_related_stop.value_counts()"
   ]
  },
  {
   "cell_type": "code",
   "execution_count": 98,
   "id": "406a82cc",
   "metadata": {
    "execution": {
     "iopub.execute_input": "2022-04-22T00:33:02.390286Z",
     "iopub.status.busy": "2022-04-22T00:33:02.389967Z",
     "iopub.status.idle": "2022-04-22T00:33:02.576569Z",
     "shell.execute_reply": "2022-04-22T00:33:02.575260Z"
    },
    "papermill": {
     "duration": 0.352632,
     "end_time": "2022-04-22T00:33:02.579811",
     "exception": false,
     "start_time": "2022-04-22T00:33:02.227179",
     "status": "completed"
    },
    "tags": []
   },
   "outputs": [
    {
     "data": {
      "text/plain": [
       "<AxesSubplot:xlabel='stop_time,drugs_related_stop'>"
      ]
     },
     "execution_count": 98,
     "metadata": {},
     "output_type": "execute_result"
    },
    {
     "data": {
      "image/png": "[encoded data removed]",
      "text/plain": [
       "<Figure size 432x288 with 1 Axes>"
      ]
     },
     "metadata": {
      "needs_background": "light"
     },
     "output_type": "display_data"
    }
   ],
   "source": [
    "df_drug.groupby(['stop_time']).drugs_related_stop.value_counts().plot()"
   ]
  },
  {
   "cell_type": "code",
   "execution_count": 99,
   "id": "31bb78fc",
   "metadata": {
    "execution": {
     "iopub.execute_input": "2022-04-22T00:33:02.913841Z",
     "iopub.status.busy": "2022-04-22T00:33:02.913550Z",
     "iopub.status.idle": "2022-04-22T00:33:04.434685Z",
     "shell.execute_reply": "2022-04-22T00:33:04.433464Z"
    },
    "papermill": {
     "duration": 1.692233,
     "end_time": "2022-04-22T00:33:04.437862",
     "exception": false,
     "start_time": "2022-04-22T00:33:02.745629",
     "status": "completed"
    },
    "tags": []
   },
   "outputs": [
    {
     "data": {
      "image/png": "[encoded data removed]",
      "text/plain": [
       "<Figure size 432x432 with 1 Axes>"
      ]
     },
     "metadata": {
      "needs_background": "light"
     },
     "output_type": "display_data"
    }
   ],
   "source": [
    "import matplotlib.pyplot as plt\n",
    "import seaborn as sns\n",
    "\n",
    "plt.figure(figsize=(6,6))\n",
    "sns.set_palette('pastel')\n",
    "\n",
    "ax = sns.countplot(x = df_drug['stop_time'], data  = df_drug)\n",
    "ax.set(xlabel='Time', ylabel = 'Count')\n",
    "plt.title('Stop_Time vs Count', fontsize = 15, fontweight = 'bold')\n",
    "plt.show()"
   ]
  },
  {
   "cell_type": "code",
   "execution_count": 100,
   "id": "ed5b7a29",
   "metadata": {
    "execution": {
     "iopub.execute_input": "2022-04-22T00:33:04.788857Z",
     "iopub.status.busy": "2022-04-22T00:33:04.788538Z",
     "iopub.status.idle": "2022-04-22T00:33:04.810529Z",
     "shell.execute_reply": "2022-04-22T00:33:04.809361Z"
    },
    "papermill": {
     "duration": 0.1961,
     "end_time": "2022-04-22T00:33:04.813445",
     "exception": false,
     "start_time": "2022-04-22T00:33:04.617345",
     "status": "completed"
    },
    "tags": []
   },
   "outputs": [
    {
     "data": {
      "text/html": [
       "<div>\n",
       "<style scoped>\n",
       "    .dataframe tbody tr th:only-of-type {\n",
       "        vertical-align: middle;\n",
       "    }\n",
       "\n",
       "    .dataframe tbody tr th {\n",
       "        vertical-align: top;\n",
       "    }\n",
       "\n",
       "    .dataframe thead th {\n",
       "        text-align: right;\n",
       "    }\n",
       "</style>\n",
       "<table border=\"1\" class=\"dataframe\">\n",
       "  <thead>\n",
       "    <tr style=\"text-align: right;\">\n",
       "      <th></th>\n",
       "      <th>stop_time</th>\n",
       "    </tr>\n",
       "  </thead>\n",
       "  <tbody>\n",
       "    <tr>\n",
       "      <th>count</th>\n",
       "      <td>91741.000000</td>\n",
       "    </tr>\n",
       "    <tr>\n",
       "      <th>mean</th>\n",
       "      <td>11.657885</td>\n",
       "    </tr>\n",
       "    <tr>\n",
       "      <th>std</th>\n",
       "      <td>6.506469</td>\n",
       "    </tr>\n",
       "    <tr>\n",
       "      <th>min</th>\n",
       "      <td>0.000000</td>\n",
       "    </tr>\n",
       "    <tr>\n",
       "      <th>25%</th>\n",
       "      <td>8.000000</td>\n",
       "    </tr>\n",
       "    <tr>\n",
       "      <th>50%</th>\n",
       "      <td>11.000000</td>\n",
       "    </tr>\n",
       "    <tr>\n",
       "      <th>75%</th>\n",
       "      <td>16.000000</td>\n",
       "    </tr>\n",
       "    <tr>\n",
       "      <th>max</th>\n",
       "      <td>23.000000</td>\n",
       "    </tr>\n",
       "  </tbody>\n",
       "</table>\n",
       "</div>"
      ],
      "text/plain": [
       "          stop_time\n",
       "count  91741.000000\n",
       "mean      11.657885\n",
       "std        6.506469\n",
       "min        0.000000\n",
       "25%        8.000000\n",
       "50%       11.000000\n",
       "75%       16.000000\n",
       "max       23.000000"
      ]
     },
     "execution_count": 100,
     "metadata": {},
     "output_type": "execute_result"
    }
   ],
   "source": [
    "df_drug.describe()"
   ]
  }
 ],
 "metadata": {
  "kernelspec": {
   "display_name": "Python 3",
   "language": "python",
   "name": "python3"
  },
  "language_info": {
   "codemirror_mode": {
    "name": "ipython",
    "version": 3
   },
   "file_extension": ".py",
   "mimetype": "text/x-python",
   "name": "python",
   "nbconvert_exporter": "python",
   "pygments_lexer": "ipython3",
   "version": "3.7.12"
  },
  "papermill": {
   "default_parameters": {},
   "duration": 52.049574,
   "end_time": "2022-04-22T00:33:06.210625",
   "environment_variables": {},
   "exception": null,
   "input_path": "__notebook__.ipynb",
   "output_path": "__notebook__.ipynb",
   "parameters": {},
   "start_time": "2022-04-22T00:32:14.161051",
   "version": "2.3.4"
  }
 },
 "nbformat": 4,
 "nbformat_minor": 5
}
