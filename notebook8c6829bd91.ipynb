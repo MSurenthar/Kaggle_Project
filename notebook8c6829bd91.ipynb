{
 "cells": [
  {
   "cell_type": "code",
   "execution_count": 1,
   "id": "a654a9bf",
   "metadata": {
    "_cell_guid": "b1076dfc-b9ad-4769-8c92-a6c4dae69d19",
    "_uuid": "8f2839f25d086af736a60e9eeb907d3b93b6e0e5",
    "execution": {
     "iopub.execute_input": "2022-04-21T13:43:23.195615Z",
     "iopub.status.busy": "2022-04-21T13:43:23.195126Z",
     "iopub.status.idle": "2022-04-21T13:43:23.213234Z",
     "shell.execute_reply": "2022-04-21T13:43:23.211853Z"
    },
    "papermill": {
     "duration": 0.089876,
     "end_time": "2022-04-21T13:43:23.215253",
     "exception": false,
     "start_time": "2022-04-21T13:43:23.125377",
     "status": "completed"
    },
    "tags": []
   },
   "outputs": [
    {
     "name": "stdout",
     "output_type": "stream",
     "text": [
      "/kaggle/input/stanford-open-policing-project/police_project.csv\n"
     ]
    }
   ],
   "source": [
    "# This Python 3 environment comes with many helpful analytics libraries installed\n",
    "# It is defined by the kaggle/python Docker image: https://github.com/kaggle/docker-python\n",
    "# For example, here's several helpful packages to load\n",
    "\n",
    "import numpy as np # linear algebra\n",
    "import pandas as pd # data processing, CSV file I/O (e.g. pd.read_csv)\n",
    "\n",
    "# Input data files are available in the read-only \"../input/\" directory\n",
    "# For example, running this (by clicking run or pressing Shift+Enter) will list all files under the input directory\n",
    "\n",
    "import os\n",
    "for dirname, _, filenames in os.walk('/kaggle/input'):\n",
    "    for filename in filenames:\n",
    "        print(os.path.join(dirname, filename))\n",
    "\n",
    "# You can write up to 20GB to the current directory (/kaggle/working/) that gets preserved as output when you create a version using \"Save & Run All\" \n",
    "# You can also write temporary files to /kaggle/temp/, but they won't be saved outside of the current session"
   ]
  },
  {
   "cell_type": "code",
   "execution_count": 2,
   "id": "328d7d3c",
   "metadata": {
    "execution": {
     "iopub.execute_input": "2022-04-21T13:43:23.356104Z",
     "iopub.status.busy": "2022-04-21T13:43:23.355407Z",
     "iopub.status.idle": "2022-04-21T13:43:23.655886Z",
     "shell.execute_reply": "2022-04-21T13:43:23.654667Z"
    },
    "papermill": {
     "duration": 0.373365,
     "end_time": "2022-04-21T13:43:23.658241",
     "exception": false,
     "start_time": "2022-04-21T13:43:23.284876",
     "status": "completed"
    },
    "tags": []
   },
   "outputs": [],
   "source": [
    "df=pd.read_csv('../input/stanford-open-policing-project/police_project.csv')"
   ]
  },
  {
   "cell_type": "code",
   "execution_count": 3,
   "id": "124f1534",
   "metadata": {
    "execution": {
     "iopub.execute_input": "2022-04-21T13:43:23.851531Z",
     "iopub.status.busy": "2022-04-21T13:43:23.851107Z",
     "iopub.status.idle": "2022-04-21T13:43:23.880304Z",
     "shell.execute_reply": "2022-04-21T13:43:23.879801Z"
    },
    "papermill": {
     "duration": 0.137644,
     "end_time": "2022-04-21T13:43:23.882569",
     "exception": false,
     "start_time": "2022-04-21T13:43:23.744925",
     "status": "completed"
    },
    "tags": []
   },
   "outputs": [
    {
     "data": {
      "text/html": [
       "<div>\n",
       "<style scoped>\n",
       "    .dataframe tbody tr th:only-of-type {\n",
       "        vertical-align: middle;\n",
       "    }\n",
       "\n",
       "    .dataframe tbody tr th {\n",
       "        vertical-align: top;\n",
       "    }\n",
       "\n",
       "    .dataframe thead th {\n",
       "        text-align: right;\n",
       "    }\n",
       "</style>\n",
       "<table border=\"1\" class=\"dataframe\">\n",
       "  <thead>\n",
       "    <tr style=\"text-align: right;\">\n",
       "      <th></th>\n",
       "      <th>stop_date</th>\n",
       "      <th>stop_time</th>\n",
       "      <th>county_name</th>\n",
       "      <th>driver_gender</th>\n",
       "      <th>driver_age_raw</th>\n",
       "      <th>driver_age</th>\n",
       "      <th>driver_race</th>\n",
       "      <th>violation_raw</th>\n",
       "      <th>violation</th>\n",
       "      <th>search_conducted</th>\n",
       "      <th>search_type</th>\n",
       "      <th>stop_outcome</th>\n",
       "      <th>is_arrested</th>\n",
       "      <th>stop_duration</th>\n",
       "      <th>drugs_related_stop</th>\n",
       "    </tr>\n",
       "  </thead>\n",
       "  <tbody>\n",
       "    <tr>\n",
       "      <th>0</th>\n",
       "      <td>2005-01-02</td>\n",
       "      <td>01:55</td>\n",
       "      <td>NaN</td>\n",
       "      <td>M</td>\n",
       "      <td>1985.0</td>\n",
       "      <td>20.0</td>\n",
       "      <td>White</td>\n",
       "      <td>Speeding</td>\n",
       "      <td>Speeding</td>\n",
       "      <td>False</td>\n",
       "      <td>NaN</td>\n",
       "      <td>Citation</td>\n",
       "      <td>False</td>\n",
       "      <td>0-15 Min</td>\n",
       "      <td>False</td>\n",
       "    </tr>\n",
       "    <tr>\n",
       "      <th>1</th>\n",
       "      <td>2005-01-18</td>\n",
       "      <td>08:15</td>\n",
       "      <td>NaN</td>\n",
       "      <td>M</td>\n",
       "      <td>1965.0</td>\n",
       "      <td>40.0</td>\n",
       "      <td>White</td>\n",
       "      <td>Speeding</td>\n",
       "      <td>Speeding</td>\n",
       "      <td>False</td>\n",
       "      <td>NaN</td>\n",
       "      <td>Citation</td>\n",
       "      <td>False</td>\n",
       "      <td>0-15 Min</td>\n",
       "      <td>False</td>\n",
       "    </tr>\n",
       "    <tr>\n",
       "      <th>2</th>\n",
       "      <td>2005-01-23</td>\n",
       "      <td>23:15</td>\n",
       "      <td>NaN</td>\n",
       "      <td>M</td>\n",
       "      <td>1972.0</td>\n",
       "      <td>33.0</td>\n",
       "      <td>White</td>\n",
       "      <td>Speeding</td>\n",
       "      <td>Speeding</td>\n",
       "      <td>False</td>\n",
       "      <td>NaN</td>\n",
       "      <td>Citation</td>\n",
       "      <td>False</td>\n",
       "      <td>0-15 Min</td>\n",
       "      <td>False</td>\n",
       "    </tr>\n",
       "    <tr>\n",
       "      <th>3</th>\n",
       "      <td>2005-02-20</td>\n",
       "      <td>17:15</td>\n",
       "      <td>NaN</td>\n",
       "      <td>M</td>\n",
       "      <td>1986.0</td>\n",
       "      <td>19.0</td>\n",
       "      <td>White</td>\n",
       "      <td>Call for Service</td>\n",
       "      <td>Other</td>\n",
       "      <td>False</td>\n",
       "      <td>NaN</td>\n",
       "      <td>Arrest Driver</td>\n",
       "      <td>True</td>\n",
       "      <td>16-30 Min</td>\n",
       "      <td>False</td>\n",
       "    </tr>\n",
       "    <tr>\n",
       "      <th>4</th>\n",
       "      <td>2005-03-14</td>\n",
       "      <td>10:00</td>\n",
       "      <td>NaN</td>\n",
       "      <td>F</td>\n",
       "      <td>1984.0</td>\n",
       "      <td>21.0</td>\n",
       "      <td>White</td>\n",
       "      <td>Speeding</td>\n",
       "      <td>Speeding</td>\n",
       "      <td>False</td>\n",
       "      <td>NaN</td>\n",
       "      <td>Citation</td>\n",
       "      <td>False</td>\n",
       "      <td>0-15 Min</td>\n",
       "      <td>False</td>\n",
       "    </tr>\n",
       "  </tbody>\n",
       "</table>\n",
       "</div>"
      ],
      "text/plain": [
       "    stop_date stop_time  county_name driver_gender  driver_age_raw  \\\n",
       "0  2005-01-02     01:55          NaN             M          1985.0   \n",
       "1  2005-01-18     08:15          NaN             M          1965.0   \n",
       "2  2005-01-23     23:15          NaN             M          1972.0   \n",
       "3  2005-02-20     17:15          NaN             M          1986.0   \n",
       "4  2005-03-14     10:00          NaN             F          1984.0   \n",
       "\n",
       "   driver_age driver_race     violation_raw violation  search_conducted  \\\n",
       "0        20.0       White          Speeding  Speeding             False   \n",
       "1        40.0       White          Speeding  Speeding             False   \n",
       "2        33.0       White          Speeding  Speeding             False   \n",
       "3        19.0       White  Call for Service     Other             False   \n",
       "4        21.0       White          Speeding  Speeding             False   \n",
       "\n",
       "  search_type   stop_outcome is_arrested stop_duration  drugs_related_stop  \n",
       "0         NaN       Citation       False      0-15 Min               False  \n",
       "1         NaN       Citation       False      0-15 Min               False  \n",
       "2         NaN       Citation       False      0-15 Min               False  \n",
       "3         NaN  Arrest Driver        True     16-30 Min               False  \n",
       "4         NaN       Citation       False      0-15 Min               False  "
      ]
     },
     "execution_count": 3,
     "metadata": {},
     "output_type": "execute_result"
    }
   ],
   "source": [
    "df.head()"
   ]
  },
  {
   "cell_type": "code",
   "execution_count": 4,
   "id": "5ce0cabb",
   "metadata": {
    "execution": {
     "iopub.execute_input": "2022-04-21T13:43:24.095872Z",
     "iopub.status.busy": "2022-04-21T13:43:24.095584Z",
     "iopub.status.idle": "2022-04-21T13:43:24.214558Z",
     "shell.execute_reply": "2022-04-21T13:43:24.213267Z"
    },
    "papermill": {
     "duration": 0.229642,
     "end_time": "2022-04-21T13:43:24.218059",
     "exception": false,
     "start_time": "2022-04-21T13:43:23.988417",
     "status": "completed"
    },
    "tags": []
   },
   "outputs": [
    {
     "name": "stdout",
     "output_type": "stream",
     "text": [
      "<class 'pandas.core.frame.DataFrame'>\n",
      "RangeIndex: 91741 entries, 0 to 91740\n",
      "Data columns (total 15 columns):\n",
      " #   Column              Non-Null Count  Dtype  \n",
      "---  ------              --------------  -----  \n",
      " 0   stop_date           91741 non-null  object \n",
      " 1   stop_time           91741 non-null  object \n",
      " 2   county_name         0 non-null      float64\n",
      " 3   driver_gender       86406 non-null  object \n",
      " 4   driver_age_raw      86414 non-null  float64\n",
      " 5   driver_age          86120 non-null  float64\n",
      " 6   driver_race         86408 non-null  object \n",
      " 7   violation_raw       86408 non-null  object \n",
      " 8   violation           86408 non-null  object \n",
      " 9   search_conducted    91741 non-null  bool   \n",
      " 10  search_type         3196 non-null   object \n",
      " 11  stop_outcome        86408 non-null  object \n",
      " 12  is_arrested         86408 non-null  object \n",
      " 13  stop_duration       86408 non-null  object \n",
      " 14  drugs_related_stop  91741 non-null  bool   \n",
      "dtypes: bool(2), float64(3), object(10)\n",
      "memory usage: 9.3+ MB\n"
     ]
    }
   ],
   "source": [
    "df.info()"
   ]
  },
  {
   "cell_type": "code",
   "execution_count": 5,
   "id": "1414a3d9",
   "metadata": {
    "execution": {
     "iopub.execute_input": "2022-04-21T13:43:24.435440Z",
     "iopub.status.busy": "2022-04-21T13:43:24.434950Z",
     "iopub.status.idle": "2022-04-21T13:43:24.444300Z",
     "shell.execute_reply": "2022-04-21T13:43:24.443726Z"
    },
    "papermill": {
     "duration": 0.120317,
     "end_time": "2022-04-21T13:43:24.446626",
     "exception": false,
     "start_time": "2022-04-21T13:43:24.326309",
     "status": "completed"
    },
    "tags": []
   },
   "outputs": [],
   "source": [
    "df1=df.copy()"
   ]
  },
  {
   "cell_type": "code",
   "execution_count": 6,
   "id": "949cbd25",
   "metadata": {
    "execution": {
     "iopub.execute_input": "2022-04-21T13:43:24.660270Z",
     "iopub.status.busy": "2022-04-21T13:43:24.659827Z",
     "iopub.status.idle": "2022-04-21T13:43:24.678710Z",
     "shell.execute_reply": "2022-04-21T13:43:24.677921Z"
    },
    "papermill": {
     "duration": 0.128157,
     "end_time": "2022-04-21T13:43:24.681037",
     "exception": false,
     "start_time": "2022-04-21T13:43:24.552880",
     "status": "completed"
    },
    "tags": []
   },
   "outputs": [],
   "source": [
    "df1.drop('county_name',axis=1,inplace=True)"
   ]
  },
  {
   "cell_type": "code",
   "execution_count": 7,
   "id": "16089378",
   "metadata": {
    "execution": {
     "iopub.execute_input": "2022-04-21T13:43:24.899158Z",
     "iopub.status.busy": "2022-04-21T13:43:24.898444Z",
     "iopub.status.idle": "2022-04-21T13:43:24.942830Z",
     "shell.execute_reply": "2022-04-21T13:43:24.941654Z"
    },
    "papermill": {
     "duration": 0.156103,
     "end_time": "2022-04-21T13:43:24.945861",
     "exception": false,
     "start_time": "2022-04-21T13:43:24.789758",
     "status": "completed"
    },
    "tags": []
   },
   "outputs": [
    {
     "name": "stdout",
     "output_type": "stream",
     "text": [
      "<class 'pandas.core.frame.DataFrame'>\n",
      "RangeIndex: 91741 entries, 0 to 91740\n",
      "Data columns (total 14 columns):\n",
      " #   Column              Non-Null Count  Dtype  \n",
      "---  ------              --------------  -----  \n",
      " 0   stop_date           91741 non-null  object \n",
      " 1   stop_time           91741 non-null  object \n",
      " 2   driver_gender       86406 non-null  object \n",
      " 3   driver_age_raw      86414 non-null  float64\n",
      " 4   driver_age          86120 non-null  float64\n",
      " 5   driver_race         86408 non-null  object \n",
      " 6   violation_raw       86408 non-null  object \n",
      " 7   violation           86408 non-null  object \n",
      " 8   search_conducted    91741 non-null  bool   \n",
      " 9   search_type         3196 non-null   object \n",
      " 10  stop_outcome        86408 non-null  object \n",
      " 11  is_arrested         86408 non-null  object \n",
      " 12  stop_duration       86408 non-null  object \n",
      " 13  drugs_related_stop  91741 non-null  bool   \n",
      "dtypes: bool(2), float64(2), object(10)\n",
      "memory usage: 8.6+ MB\n"
     ]
    }
   ],
   "source": [
    "df1.info()"
   ]
  },
  {
   "cell_type": "code",
   "execution_count": 8,
   "id": "7066be95",
   "metadata": {
    "execution": {
     "iopub.execute_input": "2022-04-21T13:43:25.166101Z",
     "iopub.status.busy": "2022-04-21T13:43:25.165196Z",
     "iopub.status.idle": "2022-04-21T13:43:25.176411Z",
     "shell.execute_reply": "2022-04-21T13:43:25.175735Z"
    },
    "papermill": {
     "duration": 0.123246,
     "end_time": "2022-04-21T13:43:25.178600",
     "exception": false,
     "start_time": "2022-04-21T13:43:25.055354",
     "status": "completed"
    },
    "tags": []
   },
   "outputs": [],
   "source": [
    "df1.drop(df1.iloc[[],[0,1,3,4,5,6,8,9,10,11,12,13]],axis=1,inplace=True)"
   ]
  },
  {
   "cell_type": "code",
   "execution_count": 9,
   "id": "3dd37a51",
   "metadata": {
    "execution": {
     "iopub.execute_input": "2022-04-21T13:43:25.393605Z",
     "iopub.status.busy": "2022-04-21T13:43:25.392692Z",
     "iopub.status.idle": "2022-04-21T13:43:25.401873Z",
     "shell.execute_reply": "2022-04-21T13:43:25.400555Z"
    },
    "papermill": {
     "duration": 0.118709,
     "end_time": "2022-04-21T13:43:25.403711",
     "exception": false,
     "start_time": "2022-04-21T13:43:25.285002",
     "status": "completed"
    },
    "tags": []
   },
   "outputs": [
    {
     "data": {
      "text/html": [
       "<div>\n",
       "<style scoped>\n",
       "    .dataframe tbody tr th:only-of-type {\n",
       "        vertical-align: middle;\n",
       "    }\n",
       "\n",
       "    .dataframe tbody tr th {\n",
       "        vertical-align: top;\n",
       "    }\n",
       "\n",
       "    .dataframe thead th {\n",
       "        text-align: right;\n",
       "    }\n",
       "</style>\n",
       "<table border=\"1\" class=\"dataframe\">\n",
       "  <thead>\n",
       "    <tr style=\"text-align: right;\">\n",
       "      <th></th>\n",
       "      <th>driver_gender</th>\n",
       "      <th>violation</th>\n",
       "    </tr>\n",
       "  </thead>\n",
       "  <tbody>\n",
       "    <tr>\n",
       "      <th>0</th>\n",
       "      <td>M</td>\n",
       "      <td>Speeding</td>\n",
       "    </tr>\n",
       "    <tr>\n",
       "      <th>1</th>\n",
       "      <td>M</td>\n",
       "      <td>Speeding</td>\n",
       "    </tr>\n",
       "    <tr>\n",
       "      <th>2</th>\n",
       "      <td>M</td>\n",
       "      <td>Speeding</td>\n",
       "    </tr>\n",
       "    <tr>\n",
       "      <th>3</th>\n",
       "      <td>M</td>\n",
       "      <td>Other</td>\n",
       "    </tr>\n",
       "    <tr>\n",
       "      <th>4</th>\n",
       "      <td>F</td>\n",
       "      <td>Speeding</td>\n",
       "    </tr>\n",
       "  </tbody>\n",
       "</table>\n",
       "</div>"
      ],
      "text/plain": [
       "  driver_gender violation\n",
       "0             M  Speeding\n",
       "1             M  Speeding\n",
       "2             M  Speeding\n",
       "3             M     Other\n",
       "4             F  Speeding"
      ]
     },
     "execution_count": 9,
     "metadata": {},
     "output_type": "execute_result"
    }
   ],
   "source": [
    "df1.head()"
   ]
  },
  {
   "cell_type": "code",
   "execution_count": 10,
   "id": "532aacda",
   "metadata": {
    "execution": {
     "iopub.execute_input": "2022-04-21T13:43:25.618542Z",
     "iopub.status.busy": "2022-04-21T13:43:25.616958Z",
     "iopub.status.idle": "2022-04-21T13:43:25.627423Z",
     "shell.execute_reply": "2022-04-21T13:43:25.626967Z"
    },
    "papermill": {
     "duration": 0.11977,
     "end_time": "2022-04-21T13:43:25.629428",
     "exception": false,
     "start_time": "2022-04-21T13:43:25.509658",
     "status": "completed"
    },
    "tags": []
   },
   "outputs": [],
   "source": [
    "df2=df.copy()"
   ]
  },
  {
   "cell_type": "code",
   "execution_count": 11,
   "id": "3813bf52",
   "metadata": {
    "execution": {
     "iopub.execute_input": "2022-04-21T13:43:25.844360Z",
     "iopub.status.busy": "2022-04-21T13:43:25.844059Z",
     "iopub.status.idle": "2022-04-21T13:43:25.887645Z",
     "shell.execute_reply": "2022-04-21T13:43:25.886423Z"
    },
    "papermill": {
     "duration": 0.153501,
     "end_time": "2022-04-21T13:43:25.890264",
     "exception": false,
     "start_time": "2022-04-21T13:43:25.736763",
     "status": "completed"
    },
    "tags": []
   },
   "outputs": [
    {
     "name": "stdout",
     "output_type": "stream",
     "text": [
      "<class 'pandas.core.frame.DataFrame'>\n",
      "RangeIndex: 91741 entries, 0 to 91740\n",
      "Data columns (total 15 columns):\n",
      " #   Column              Non-Null Count  Dtype  \n",
      "---  ------              --------------  -----  \n",
      " 0   stop_date           91741 non-null  object \n",
      " 1   stop_time           91741 non-null  object \n",
      " 2   county_name         0 non-null      float64\n",
      " 3   driver_gender       86406 non-null  object \n",
      " 4   driver_age_raw      86414 non-null  float64\n",
      " 5   driver_age          86120 non-null  float64\n",
      " 6   driver_race         86408 non-null  object \n",
      " 7   violation_raw       86408 non-null  object \n",
      " 8   violation           86408 non-null  object \n",
      " 9   search_conducted    91741 non-null  bool   \n",
      " 10  search_type         3196 non-null   object \n",
      " 11  stop_outcome        86408 non-null  object \n",
      " 12  is_arrested         86408 non-null  object \n",
      " 13  stop_duration       86408 non-null  object \n",
      " 14  drugs_related_stop  91741 non-null  bool   \n",
      "dtypes: bool(2), float64(3), object(10)\n",
      "memory usage: 9.3+ MB\n"
     ]
    }
   ],
   "source": [
    "df2.info()"
   ]
  },
  {
   "cell_type": "code",
   "execution_count": 12,
   "id": "4fb1f033",
   "metadata": {
    "execution": {
     "iopub.execute_input": "2022-04-21T13:43:26.097697Z",
     "iopub.status.busy": "2022-04-21T13:43:26.096988Z",
     "iopub.status.idle": "2022-04-21T13:43:26.105246Z",
     "shell.execute_reply": "2022-04-21T13:43:26.104717Z"
    },
    "papermill": {
     "duration": 0.115078,
     "end_time": "2022-04-21T13:43:26.107054",
     "exception": false,
     "start_time": "2022-04-21T13:43:25.991976",
     "status": "completed"
    },
    "tags": []
   },
   "outputs": [],
   "source": [
    "df2.drop(df2.iloc[[],[0,1,2,4,5,6,7,8,10,11,12,13,14]],axis=1,inplace=True)"
   ]
  },
  {
   "cell_type": "code",
   "execution_count": 13,
   "id": "56ebfe56",
   "metadata": {
    "execution": {
     "iopub.execute_input": "2022-04-21T13:43:26.315952Z",
     "iopub.status.busy": "2022-04-21T13:43:26.315691Z",
     "iopub.status.idle": "2022-04-21T13:43:26.324910Z",
     "shell.execute_reply": "2022-04-21T13:43:26.324050Z"
    },
    "papermill": {
     "duration": 0.116788,
     "end_time": "2022-04-21T13:43:26.326565",
     "exception": false,
     "start_time": "2022-04-21T13:43:26.209777",
     "status": "completed"
    },
    "tags": []
   },
   "outputs": [
    {
     "data": {
      "text/plain": [
       "M    62895\n",
       "F    23511\n",
       "Name: driver_gender, dtype: int64"
      ]
     },
     "execution_count": 13,
     "metadata": {},
     "output_type": "execute_result"
    }
   ],
   "source": [
    "df1.driver_gender.value_counts()"
   ]
  },
  {
   "cell_type": "code",
   "execution_count": 14,
   "id": "e76de3f3",
   "metadata": {
    "execution": {
     "iopub.execute_input": "2022-04-21T13:43:26.545166Z",
     "iopub.status.busy": "2022-04-21T13:43:26.544755Z",
     "iopub.status.idle": "2022-04-21T13:43:26.561158Z",
     "shell.execute_reply": "2022-04-21T13:43:26.560687Z"
    },
    "papermill": {
     "duration": 0.125768,
     "end_time": "2022-04-21T13:43:26.563025",
     "exception": false,
     "start_time": "2022-04-21T13:43:26.437257",
     "status": "completed"
    },
    "tags": []
   },
   "outputs": [
    {
     "data": {
      "text/plain": [
       "M    0.727901\n",
       "F    0.272099\n",
       "Name: driver_gender, dtype: float64"
      ]
     },
     "execution_count": 14,
     "metadata": {},
     "output_type": "execute_result"
    }
   ],
   "source": [
    "df1.driver_gender.value_counts(normalize=True)"
   ]
  },
  {
   "cell_type": "code",
   "execution_count": 15,
   "id": "2e0fec89",
   "metadata": {
    "execution": {
     "iopub.execute_input": "2022-04-21T13:43:26.772032Z",
     "iopub.status.busy": "2022-04-21T13:43:26.771494Z",
     "iopub.status.idle": "2022-04-21T13:43:26.781209Z",
     "shell.execute_reply": "2022-04-21T13:43:26.780697Z"
    },
    "papermill": {
     "duration": 0.118389,
     "end_time": "2022-04-21T13:43:26.783229",
     "exception": false,
     "start_time": "2022-04-21T13:43:26.664840",
     "status": "completed"
    },
    "tags": []
   },
   "outputs": [
    {
     "data": {
      "text/plain": [
       "Speeding               48463\n",
       "Moving violation       16224\n",
       "Equipment              11020\n",
       "Other                   4317\n",
       "Registration/plates     3432\n",
       "Seat belt               2952\n",
       "Name: violation, dtype: int64"
      ]
     },
     "execution_count": 15,
     "metadata": {},
     "output_type": "execute_result"
    }
   ],
   "source": [
    "df1.violation.value_counts()"
   ]
  },
  {
   "cell_type": "code",
   "execution_count": 16,
   "id": "477f4729",
   "metadata": {
    "execution": {
     "iopub.execute_input": "2022-04-21T13:43:27.004835Z",
     "iopub.status.busy": "2022-04-21T13:43:27.003513Z",
     "iopub.status.idle": "2022-04-21T13:43:27.015142Z",
     "shell.execute_reply": "2022-04-21T13:43:27.014571Z"
    },
    "papermill": {
     "duration": 0.124259,
     "end_time": "2022-04-21T13:43:27.017023",
     "exception": false,
     "start_time": "2022-04-21T13:43:26.892764",
     "status": "completed"
    },
    "tags": []
   },
   "outputs": [
    {
     "data": {
      "text/plain": [
       "Speeding               0.560862\n",
       "Moving violation       0.187760\n",
       "Equipment              0.127534\n",
       "Other                  0.049961\n",
       "Registration/plates    0.039719\n",
       "Seat belt              0.034164\n",
       "Name: violation, dtype: float64"
      ]
     },
     "execution_count": 16,
     "metadata": {},
     "output_type": "execute_result"
    }
   ],
   "source": [
    "df1.violation.value_counts(normalize=True)"
   ]
  },
  {
   "cell_type": "code",
   "execution_count": 17,
   "id": "93cb3808",
   "metadata": {
    "execution": {
     "iopub.execute_input": "2022-04-21T13:43:27.239348Z",
     "iopub.status.busy": "2022-04-21T13:43:27.237477Z",
     "iopub.status.idle": "2022-04-21T13:43:27.268398Z",
     "shell.execute_reply": "2022-04-21T13:43:27.267516Z"
    },
    "papermill": {
     "duration": 0.144708,
     "end_time": "2022-04-21T13:43:27.271143",
     "exception": false,
     "start_time": "2022-04-21T13:43:27.126435",
     "status": "completed"
    },
    "tags": []
   },
   "outputs": [
    {
     "data": {
      "text/plain": [
       "M    32979\n",
       "F    15482\n",
       "Name: driver_gender, dtype: int64"
      ]
     },
     "execution_count": 17,
     "metadata": {},
     "output_type": "execute_result"
    }
   ],
   "source": [
    "df1[df1.violation=='Speeding'].driver_gender.value_counts()"
   ]
  },
  {
   "cell_type": "code",
   "execution_count": 18,
   "id": "ca6854d5",
   "metadata": {
    "execution": {
     "iopub.execute_input": "2022-04-21T13:43:27.494050Z",
     "iopub.status.busy": "2022-04-21T13:43:27.493601Z",
     "iopub.status.idle": "2022-04-21T13:43:27.509526Z",
     "shell.execute_reply": "2022-04-21T13:43:27.508949Z"
    },
    "papermill": {
     "duration": 0.129653,
     "end_time": "2022-04-21T13:43:27.511180",
     "exception": false,
     "start_time": "2022-04-21T13:43:27.381527",
     "status": "completed"
    },
    "tags": []
   },
   "outputs": [
    {
     "data": {
      "text/plain": [
       "M    0.680527\n",
       "F    0.319473\n",
       "Name: driver_gender, dtype: float64"
      ]
     },
     "execution_count": 18,
     "metadata": {},
     "output_type": "execute_result"
    }
   ],
   "source": [
    "df1[df1.violation=='Speeding'].driver_gender.value_counts(normalize=True)"
   ]
  },
  {
   "cell_type": "code",
   "execution_count": 19,
   "id": "fe2fa3c5",
   "metadata": {
    "execution": {
     "iopub.execute_input": "2022-04-21T13:43:27.657410Z",
     "iopub.status.busy": "2022-04-21T13:43:27.657188Z",
     "iopub.status.idle": "2022-04-21T13:43:27.673896Z",
     "shell.execute_reply": "2022-04-21T13:43:27.673224Z"
    },
    "papermill": {
     "duration": 0.092047,
     "end_time": "2022-04-21T13:43:27.675564",
     "exception": false,
     "start_time": "2022-04-21T13:43:27.583517",
     "status": "completed"
    },
    "tags": []
   },
   "outputs": [
    {
     "data": {
      "text/plain": [
       "Speeding               32979\n",
       "Moving violation       13020\n",
       "Equipment               8533\n",
       "Other                   3627\n",
       "Registration/plates     2419\n",
       "Seat belt               2317\n",
       "Name: violation, dtype: int64"
      ]
     },
     "execution_count": 19,
     "metadata": {},
     "output_type": "execute_result"
    }
   ],
   "source": [
    "df1[df1.driver_gender=='M'].violation.value_counts()"
   ]
  },
  {
   "cell_type": "code",
   "execution_count": 20,
   "id": "5082ecd9",
   "metadata": {
    "execution": {
     "iopub.execute_input": "2022-04-21T13:43:27.898954Z",
     "iopub.status.busy": "2022-04-21T13:43:27.898635Z",
     "iopub.status.idle": "2022-04-21T13:43:27.921424Z",
     "shell.execute_reply": "2022-04-21T13:43:27.920670Z"
    },
    "papermill": {
     "duration": 0.138668,
     "end_time": "2022-04-21T13:43:27.923163",
     "exception": false,
     "start_time": "2022-04-21T13:43:27.784495",
     "status": "completed"
    },
    "tags": []
   },
   "outputs": [
    {
     "data": {
      "text/plain": [
       "Speeding               0.524350\n",
       "Moving violation       0.207012\n",
       "Equipment              0.135671\n",
       "Other                  0.057668\n",
       "Registration/plates    0.038461\n",
       "Seat belt              0.036839\n",
       "Name: violation, dtype: float64"
      ]
     },
     "execution_count": 20,
     "metadata": {},
     "output_type": "execute_result"
    }
   ],
   "source": [
    "df1[df1.driver_gender=='M'].violation.value_counts(normalize=True)"
   ]
  },
  {
   "cell_type": "code",
   "execution_count": 21,
   "id": "eb1cc57f",
   "metadata": {
    "execution": {
     "iopub.execute_input": "2022-04-21T13:43:28.148575Z",
     "iopub.status.busy": "2022-04-21T13:43:28.148204Z",
     "iopub.status.idle": "2022-04-21T13:43:28.161325Z",
     "shell.execute_reply": "2022-04-21T13:43:28.160569Z"
    },
    "papermill": {
     "duration": 0.128253,
     "end_time": "2022-04-21T13:43:28.163181",
     "exception": false,
     "start_time": "2022-04-21T13:43:28.034928",
     "status": "completed"
    },
    "tags": []
   },
   "outputs": [
    {
     "data": {
      "text/plain": [
       "Speeding               15482\n",
       "Moving violation        3204\n",
       "Equipment               2487\n",
       "Registration/plates     1013\n",
       "Other                    690\n",
       "Seat belt                635\n",
       "Name: violation, dtype: int64"
      ]
     },
     "execution_count": 21,
     "metadata": {},
     "output_type": "execute_result"
    }
   ],
   "source": [
    "df1[df1.driver_gender=='F'].violation.value_counts()"
   ]
  },
  {
   "cell_type": "code",
   "execution_count": 22,
   "id": "23f38fd7",
   "metadata": {
    "execution": {
     "iopub.execute_input": "2022-04-21T13:43:28.391599Z",
     "iopub.status.busy": "2022-04-21T13:43:28.391306Z",
     "iopub.status.idle": "2022-04-21T13:43:28.417513Z",
     "shell.execute_reply": "2022-04-21T13:43:28.416753Z"
    },
    "papermill": {
     "duration": 0.143979,
     "end_time": "2022-04-21T13:43:28.419341",
     "exception": false,
     "start_time": "2022-04-21T13:43:28.275362",
     "status": "completed"
    },
    "tags": []
   },
   "outputs": [
    {
     "data": {
      "text/plain": [
       "Speeding               0.658500\n",
       "Moving violation       0.136277\n",
       "Equipment              0.105780\n",
       "Registration/plates    0.043086\n",
       "Other                  0.029348\n",
       "Seat belt              0.027009\n",
       "Name: violation, dtype: float64"
      ]
     },
     "execution_count": 22,
     "metadata": {},
     "output_type": "execute_result"
    }
   ],
   "source": [
    "df1[df1.driver_gender=='F'].violation.value_counts(normalize=True)"
   ]
  },
  {
   "cell_type": "code",
   "execution_count": 23,
   "id": "d33906b4",
   "metadata": {
    "execution": {
     "iopub.execute_input": "2022-04-21T13:43:28.644146Z",
     "iopub.status.busy": "2022-04-21T13:43:28.643904Z",
     "iopub.status.idle": "2022-04-21T13:43:28.658606Z",
     "shell.execute_reply": "2022-04-21T13:43:28.657427Z"
    },
    "papermill": {
     "duration": 0.132099,
     "end_time": "2022-04-21T13:43:28.662376",
     "exception": false,
     "start_time": "2022-04-21T13:43:28.530277",
     "status": "completed"
    },
    "tags": []
   },
   "outputs": [
    {
     "name": "stdout",
     "output_type": "stream",
     "text": [
      "<class 'pandas.core.frame.DataFrame'>\n",
      "RangeIndex: 91741 entries, 0 to 91740\n",
      "Data columns (total 2 columns):\n",
      " #   Column            Non-Null Count  Dtype \n",
      "---  ------            --------------  ----- \n",
      " 0   driver_gender     86406 non-null  object\n",
      " 1   search_conducted  91741 non-null  bool  \n",
      "dtypes: bool(1), object(1)\n",
      "memory usage: 806.4+ KB\n"
     ]
    }
   ],
   "source": [
    "df2.info()"
   ]
  },
  {
   "cell_type": "code",
   "execution_count": 24,
   "id": "1abfa9f8",
   "metadata": {
    "execution": {
     "iopub.execute_input": "2022-04-21T13:43:28.912835Z",
     "iopub.status.busy": "2022-04-21T13:43:28.912376Z",
     "iopub.status.idle": "2022-04-21T13:43:28.921180Z",
     "shell.execute_reply": "2022-04-21T13:43:28.920326Z"
    },
    "papermill": {
     "duration": 0.128243,
     "end_time": "2022-04-21T13:43:28.922987",
     "exception": false,
     "start_time": "2022-04-21T13:43:28.794744",
     "status": "completed"
    },
    "tags": []
   },
   "outputs": [
    {
     "data": {
      "text/plain": [
       "M    2725\n",
       "F     471\n",
       "Name: driver_gender, dtype: int64"
      ]
     },
     "execution_count": 24,
     "metadata": {},
     "output_type": "execute_result"
    }
   ],
   "source": [
    "df2[df2.search_conducted==True].driver_gender.value_counts()"
   ]
  },
  {
   "cell_type": "code",
   "execution_count": 25,
   "id": "b1da726c",
   "metadata": {
    "execution": {
     "iopub.execute_input": "2022-04-21T13:43:29.151773Z",
     "iopub.status.busy": "2022-04-21T13:43:29.151303Z",
     "iopub.status.idle": "2022-04-21T13:43:29.167361Z",
     "shell.execute_reply": "2022-04-21T13:43:29.166859Z"
    },
    "papermill": {
     "duration": 0.133744,
     "end_time": "2022-04-21T13:43:29.169225",
     "exception": false,
     "start_time": "2022-04-21T13:43:29.035481",
     "status": "completed"
    },
    "tags": []
   },
   "outputs": [
    {
     "data": {
      "text/plain": [
       "M    62895\n",
       "F    23511\n",
       "Name: driver_gender, dtype: int64"
      ]
     },
     "execution_count": 25,
     "metadata": {},
     "output_type": "execute_result"
    }
   ],
   "source": [
    "df2.driver_gender.value_counts()"
   ]
  },
  {
   "cell_type": "code",
   "execution_count": 26,
   "id": "8daf15f9",
   "metadata": {
    "execution": {
     "iopub.execute_input": "2022-04-21T13:43:29.401276Z",
     "iopub.status.busy": "2022-04-21T13:43:29.400772Z",
     "iopub.status.idle": "2022-04-21T13:43:29.407201Z",
     "shell.execute_reply": "2022-04-21T13:43:29.406724Z"
    },
    "papermill": {
     "duration": 0.124085,
     "end_time": "2022-04-21T13:43:29.408735",
     "exception": false,
     "start_time": "2022-04-21T13:43:29.284650",
     "status": "completed"
    },
    "tags": []
   },
   "outputs": [
    {
     "data": {
      "text/plain": [
       "False    88545\n",
       "True      3196\n",
       "Name: search_conducted, dtype: int64"
      ]
     },
     "execution_count": 26,
     "metadata": {},
     "output_type": "execute_result"
    }
   ],
   "source": [
    "df2.search_conducted.value_counts()"
   ]
  },
  {
   "cell_type": "code",
   "execution_count": 27,
   "id": "dad0b209",
   "metadata": {
    "execution": {
     "iopub.execute_input": "2022-04-21T13:43:29.637872Z",
     "iopub.status.busy": "2022-04-21T13:43:29.637368Z",
     "iopub.status.idle": "2022-04-21T13:43:29.644311Z",
     "shell.execute_reply": "2022-04-21T13:43:29.643735Z"
    },
    "papermill": {
     "duration": 0.126752,
     "end_time": "2022-04-21T13:43:29.646048",
     "exception": false,
     "start_time": "2022-04-21T13:43:29.519296",
     "status": "completed"
    },
    "tags": []
   },
   "outputs": [],
   "source": [
    "df2_1=df.copy()"
   ]
  },
  {
   "cell_type": "code",
   "execution_count": 28,
   "id": "6fa7f779",
   "metadata": {
    "execution": {
     "iopub.execute_input": "2022-04-21T13:43:29.878533Z",
     "iopub.status.busy": "2022-04-21T13:43:29.878071Z",
     "iopub.status.idle": "2022-04-21T13:43:29.980513Z",
     "shell.execute_reply": "2022-04-21T13:43:29.980016Z"
    },
    "papermill": {
     "duration": 0.222046,
     "end_time": "2022-04-21T13:43:29.982832",
     "exception": false,
     "start_time": "2022-04-21T13:43:29.760786",
     "status": "completed"
    },
    "tags": []
   },
   "outputs": [
    {
     "name": "stdout",
     "output_type": "stream",
     "text": [
      "<class 'pandas.core.frame.DataFrame'>\n",
      "RangeIndex: 91741 entries, 0 to 91740\n",
      "Data columns (total 15 columns):\n",
      " #   Column              Non-Null Count  Dtype  \n",
      "---  ------              --------------  -----  \n",
      " 0   stop_date           91741 non-null  object \n",
      " 1   stop_time           91741 non-null  object \n",
      " 2   county_name         0 non-null      float64\n",
      " 3   driver_gender       86406 non-null  object \n",
      " 4   driver_age_raw      86414 non-null  float64\n",
      " 5   driver_age          86120 non-null  float64\n",
      " 6   driver_race         86408 non-null  object \n",
      " 7   violation_raw       86408 non-null  object \n",
      " 8   violation           86408 non-null  object \n",
      " 9   search_conducted    91741 non-null  bool   \n",
      " 10  search_type         3196 non-null   object \n",
      " 11  stop_outcome        86408 non-null  object \n",
      " 12  is_arrested         86408 non-null  object \n",
      " 13  stop_duration       86408 non-null  object \n",
      " 14  drugs_related_stop  91741 non-null  bool   \n",
      "dtypes: bool(2), float64(3), object(10)\n",
      "memory usage: 9.3+ MB\n"
     ]
    }
   ],
   "source": [
    "df2_1.info()"
   ]
  },
  {
   "cell_type": "code",
   "execution_count": 29,
   "id": "475f5ecb",
   "metadata": {
    "execution": {
     "iopub.execute_input": "2022-04-21T13:43:30.217019Z",
     "iopub.status.busy": "2022-04-21T13:43:30.215577Z",
     "iopub.status.idle": "2022-04-21T13:43:30.226749Z",
     "shell.execute_reply": "2022-04-21T13:43:30.226177Z"
    },
    "papermill": {
     "duration": 0.129678,
     "end_time": "2022-04-21T13:43:30.228539",
     "exception": false,
     "start_time": "2022-04-21T13:43:30.098861",
     "status": "completed"
    },
    "tags": []
   },
   "outputs": [],
   "source": [
    "df2_1.drop(df2_1.iloc[[],[0,1,2,4,5,6,7,10,11,12,13,14]],axis=1,inplace=True)"
   ]
  },
  {
   "cell_type": "code",
   "execution_count": 30,
   "id": "c6ee2a79",
   "metadata": {
    "execution": {
     "iopub.execute_input": "2022-04-21T13:43:30.446663Z",
     "iopub.status.busy": "2022-04-21T13:43:30.445564Z",
     "iopub.status.idle": "2022-04-21T13:43:30.456054Z",
     "shell.execute_reply": "2022-04-21T13:43:30.455023Z"
    },
    "papermill": {
     "duration": 0.121293,
     "end_time": "2022-04-21T13:43:30.457740",
     "exception": false,
     "start_time": "2022-04-21T13:43:30.336447",
     "status": "completed"
    },
    "tags": []
   },
   "outputs": [
    {
     "data": {
      "text/html": [
       "<div>\n",
       "<style scoped>\n",
       "    .dataframe tbody tr th:only-of-type {\n",
       "        vertical-align: middle;\n",
       "    }\n",
       "\n",
       "    .dataframe tbody tr th {\n",
       "        vertical-align: top;\n",
       "    }\n",
       "\n",
       "    .dataframe thead th {\n",
       "        text-align: right;\n",
       "    }\n",
       "</style>\n",
       "<table border=\"1\" class=\"dataframe\">\n",
       "  <thead>\n",
       "    <tr style=\"text-align: right;\">\n",
       "      <th></th>\n",
       "      <th>driver_gender</th>\n",
       "      <th>violation</th>\n",
       "      <th>search_conducted</th>\n",
       "    </tr>\n",
       "  </thead>\n",
       "  <tbody>\n",
       "    <tr>\n",
       "      <th>0</th>\n",
       "      <td>M</td>\n",
       "      <td>Speeding</td>\n",
       "      <td>False</td>\n",
       "    </tr>\n",
       "    <tr>\n",
       "      <th>1</th>\n",
       "      <td>M</td>\n",
       "      <td>Speeding</td>\n",
       "      <td>False</td>\n",
       "    </tr>\n",
       "    <tr>\n",
       "      <th>2</th>\n",
       "      <td>M</td>\n",
       "      <td>Speeding</td>\n",
       "      <td>False</td>\n",
       "    </tr>\n",
       "    <tr>\n",
       "      <th>3</th>\n",
       "      <td>M</td>\n",
       "      <td>Other</td>\n",
       "      <td>False</td>\n",
       "    </tr>\n",
       "    <tr>\n",
       "      <th>4</th>\n",
       "      <td>F</td>\n",
       "      <td>Speeding</td>\n",
       "      <td>False</td>\n",
       "    </tr>\n",
       "  </tbody>\n",
       "</table>\n",
       "</div>"
      ],
      "text/plain": [
       "  driver_gender violation  search_conducted\n",
       "0             M  Speeding             False\n",
       "1             M  Speeding             False\n",
       "2             M  Speeding             False\n",
       "3             M     Other             False\n",
       "4             F  Speeding             False"
      ]
     },
     "execution_count": 30,
     "metadata": {},
     "output_type": "execute_result"
    }
   ],
   "source": [
    "df2_1.head()"
   ]
  },
  {
   "cell_type": "code",
   "execution_count": 31,
   "id": "2b63b68c",
   "metadata": {
    "execution": {
     "iopub.execute_input": "2022-04-21T13:43:30.689264Z",
     "iopub.status.busy": "2022-04-21T13:43:30.688856Z",
     "iopub.status.idle": "2022-04-21T13:43:30.732009Z",
     "shell.execute_reply": "2022-04-21T13:43:30.731100Z"
    },
    "papermill": {
     "duration": 0.163078,
     "end_time": "2022-04-21T13:43:30.733999",
     "exception": false,
     "start_time": "2022-04-21T13:43:30.570921",
     "status": "completed"
    },
    "tags": []
   },
   "outputs": [
    {
     "data": {
      "text/plain": [
       "search_conducted  violation            driver_gender\n",
       "False             Equipment            M                 7935\n",
       "                                       F                 2381\n",
       "                  Moving violation     M                12241\n",
       "                                       F                 3088\n",
       "                  Other                M                 3456\n",
       "                                       F                  651\n",
       "                  Registration/plates  M                 2152\n",
       "                                       F                  946\n",
       "                  Seat belt            M                 2229\n",
       "                                       F                  627\n",
       "                  Speeding             M                32157\n",
       "                                       F                15347\n",
       "True              Equipment            M                  598\n",
       "                                       F                  106\n",
       "                  Moving violation     M                  779\n",
       "                                       F                  116\n",
       "                  Other                M                  171\n",
       "                                       F                   39\n",
       "                  Registration/plates  M                  267\n",
       "                                       F                   67\n",
       "                  Seat belt            M                   88\n",
       "                                       F                    8\n",
       "                  Speeding             M                  822\n",
       "                                       F                  135\n",
       "Name: driver_gender, dtype: int64"
      ]
     },
     "execution_count": 31,
     "metadata": {},
     "output_type": "execute_result"
    }
   ],
   "source": [
    "df2_1.groupby(['search_conducted','violation']).driver_gender.value_counts()"
   ]
  },
  {
   "cell_type": "code",
   "execution_count": 32,
   "id": "c5c526c9",
   "metadata": {
    "execution": {
     "iopub.execute_input": "2022-04-21T13:43:30.980589Z",
     "iopub.status.busy": "2022-04-21T13:43:30.980327Z",
     "iopub.status.idle": "2022-04-21T13:43:30.990954Z",
     "shell.execute_reply": "2022-04-21T13:43:30.990004Z"
    },
    "papermill": {
     "duration": 0.141666,
     "end_time": "2022-04-21T13:43:30.992741",
     "exception": false,
     "start_time": "2022-04-21T13:43:30.851075",
     "status": "completed"
    },
    "tags": []
   },
   "outputs": [
    {
     "data": {
      "text/plain": [
       "Speeding               957\n",
       "Moving violation       895\n",
       "Equipment              704\n",
       "Registration/plates    334\n",
       "Other                  210\n",
       "Seat belt               96\n",
       "Name: violation, dtype: int64"
      ]
     },
     "execution_count": 32,
     "metadata": {},
     "output_type": "execute_result"
    }
   ],
   "source": [
    "df2_1[df2_1.search_conducted==True].violation.value_counts()"
   ]
  },
  {
   "cell_type": "code",
   "execution_count": 33,
   "id": "11f4f041",
   "metadata": {
    "execution": {
     "iopub.execute_input": "2022-04-21T13:43:31.228313Z",
     "iopub.status.busy": "2022-04-21T13:43:31.227441Z",
     "iopub.status.idle": "2022-04-21T13:43:31.236794Z",
     "shell.execute_reply": "2022-04-21T13:43:31.235729Z"
    },
    "papermill": {
     "duration": 0.127733,
     "end_time": "2022-04-21T13:43:31.238552",
     "exception": false,
     "start_time": "2022-04-21T13:43:31.110819",
     "status": "completed"
    },
    "tags": []
   },
   "outputs": [
    {
     "data": {
      "text/plain": [
       "Speeding               0.299437\n",
       "Moving violation       0.280038\n",
       "Equipment              0.220275\n",
       "Registration/plates    0.104506\n",
       "Other                  0.065707\n",
       "Seat belt              0.030038\n",
       "Name: violation, dtype: float64"
      ]
     },
     "execution_count": 33,
     "metadata": {},
     "output_type": "execute_result"
    }
   ],
   "source": [
    "df2_1[df2_1.search_conducted==True].violation.value_counts(normalize=True)"
   ]
  },
  {
   "cell_type": "code",
   "execution_count": 34,
   "id": "06c93acc",
   "metadata": {
    "execution": {
     "iopub.execute_input": "2022-04-21T13:43:31.477086Z",
     "iopub.status.busy": "2022-04-21T13:43:31.476816Z",
     "iopub.status.idle": "2022-04-21T13:43:31.489431Z",
     "shell.execute_reply": "2022-04-21T13:43:31.488087Z"
    },
    "papermill": {
     "duration": 0.133112,
     "end_time": "2022-04-21T13:43:31.493747",
     "exception": false,
     "start_time": "2022-04-21T13:43:31.360635",
     "status": "completed"
    },
    "tags": []
   },
   "outputs": [],
   "source": [
    "df4=df.copy()"
   ]
  },
  {
   "cell_type": "code",
   "execution_count": 35,
   "id": "45b4df2c",
   "metadata": {
    "execution": {
     "iopub.execute_input": "2022-04-21T13:43:31.759741Z",
     "iopub.status.busy": "2022-04-21T13:43:31.759396Z",
     "iopub.status.idle": "2022-04-21T13:43:31.864397Z",
     "shell.execute_reply": "2022-04-21T13:43:31.863381Z"
    },
    "papermill": {
     "duration": 0.248323,
     "end_time": "2022-04-21T13:43:31.866790",
     "exception": false,
     "start_time": "2022-04-21T13:43:31.618467",
     "status": "completed"
    },
    "tags": []
   },
   "outputs": [
    {
     "name": "stdout",
     "output_type": "stream",
     "text": [
      "<class 'pandas.core.frame.DataFrame'>\n",
      "RangeIndex: 91741 entries, 0 to 91740\n",
      "Data columns (total 15 columns):\n",
      " #   Column              Non-Null Count  Dtype  \n",
      "---  ------              --------------  -----  \n",
      " 0   stop_date           91741 non-null  object \n",
      " 1   stop_time           91741 non-null  object \n",
      " 2   county_name         0 non-null      float64\n",
      " 3   driver_gender       86406 non-null  object \n",
      " 4   driver_age_raw      86414 non-null  float64\n",
      " 5   driver_age          86120 non-null  float64\n",
      " 6   driver_race         86408 non-null  object \n",
      " 7   violation_raw       86408 non-null  object \n",
      " 8   violation           86408 non-null  object \n",
      " 9   search_conducted    91741 non-null  bool   \n",
      " 10  search_type         3196 non-null   object \n",
      " 11  stop_outcome        86408 non-null  object \n",
      " 12  is_arrested         86408 non-null  object \n",
      " 13  stop_duration       86408 non-null  object \n",
      " 14  drugs_related_stop  91741 non-null  bool   \n",
      "dtypes: bool(2), float64(3), object(10)\n",
      "memory usage: 9.3+ MB\n"
     ]
    }
   ],
   "source": [
    "df4.info()"
   ]
  },
  {
   "cell_type": "code",
   "execution_count": 36,
   "id": "5a517e83",
   "metadata": {
    "execution": {
     "iopub.execute_input": "2022-04-21T13:43:32.108487Z",
     "iopub.status.busy": "2022-04-21T13:43:32.108250Z",
     "iopub.status.idle": "2022-04-21T13:43:32.118291Z",
     "shell.execute_reply": "2022-04-21T13:43:32.117602Z"
    },
    "papermill": {
     "duration": 0.133437,
     "end_time": "2022-04-21T13:43:32.120067",
     "exception": false,
     "start_time": "2022-04-21T13:43:31.986630",
     "status": "completed"
    },
    "tags": []
   },
   "outputs": [],
   "source": [
    "df4.drop(df4.iloc[[],[0,1,2,4,5,6,7,10,11,12,13,14]],axis=1,inplace=True)"
   ]
  },
  {
   "cell_type": "code",
   "execution_count": 37,
   "id": "ef611878",
   "metadata": {
    "execution": {
     "iopub.execute_input": "2022-04-21T13:43:32.296084Z",
     "iopub.status.busy": "2022-04-21T13:43:32.295656Z",
     "iopub.status.idle": "2022-04-21T13:43:32.303860Z",
     "shell.execute_reply": "2022-04-21T13:43:32.303010Z"
    },
    "papermill": {
     "duration": 0.086736,
     "end_time": "2022-04-21T13:43:32.305210",
     "exception": false,
     "start_time": "2022-04-21T13:43:32.218474",
     "status": "completed"
    },
    "tags": []
   },
   "outputs": [
    {
     "data": {
      "text/html": [
       "<div>\n",
       "<style scoped>\n",
       "    .dataframe tbody tr th:only-of-type {\n",
       "        vertical-align: middle;\n",
       "    }\n",
       "\n",
       "    .dataframe tbody tr th {\n",
       "        vertical-align: top;\n",
       "    }\n",
       "\n",
       "    .dataframe thead th {\n",
       "        text-align: right;\n",
       "    }\n",
       "</style>\n",
       "<table border=\"1\" class=\"dataframe\">\n",
       "  <thead>\n",
       "    <tr style=\"text-align: right;\">\n",
       "      <th></th>\n",
       "      <th>driver_gender</th>\n",
       "      <th>violation</th>\n",
       "      <th>search_conducted</th>\n",
       "    </tr>\n",
       "  </thead>\n",
       "  <tbody>\n",
       "    <tr>\n",
       "      <th>0</th>\n",
       "      <td>M</td>\n",
       "      <td>Speeding</td>\n",
       "      <td>False</td>\n",
       "    </tr>\n",
       "    <tr>\n",
       "      <th>1</th>\n",
       "      <td>M</td>\n",
       "      <td>Speeding</td>\n",
       "      <td>False</td>\n",
       "    </tr>\n",
       "    <tr>\n",
       "      <th>2</th>\n",
       "      <td>M</td>\n",
       "      <td>Speeding</td>\n",
       "      <td>False</td>\n",
       "    </tr>\n",
       "    <tr>\n",
       "      <th>3</th>\n",
       "      <td>M</td>\n",
       "      <td>Other</td>\n",
       "      <td>False</td>\n",
       "    </tr>\n",
       "    <tr>\n",
       "      <th>4</th>\n",
       "      <td>F</td>\n",
       "      <td>Speeding</td>\n",
       "      <td>False</td>\n",
       "    </tr>\n",
       "  </tbody>\n",
       "</table>\n",
       "</div>"
      ],
      "text/plain": [
       "  driver_gender violation  search_conducted\n",
       "0             M  Speeding             False\n",
       "1             M  Speeding             False\n",
       "2             M  Speeding             False\n",
       "3             M     Other             False\n",
       "4             F  Speeding             False"
      ]
     },
     "execution_count": 37,
     "metadata": {},
     "output_type": "execute_result"
    }
   ],
   "source": [
    "df4.head()"
   ]
  },
  {
   "cell_type": "code",
   "execution_count": 38,
   "id": "88ca2a2e",
   "metadata": {
    "execution": {
     "iopub.execute_input": "2022-04-21T13:43:32.458720Z",
     "iopub.status.busy": "2022-04-21T13:43:32.458289Z",
     "iopub.status.idle": "2022-04-21T13:43:32.495602Z",
     "shell.execute_reply": "2022-04-21T13:43:32.495134Z"
    },
    "papermill": {
     "duration": 0.116767,
     "end_time": "2022-04-21T13:43:32.497479",
     "exception": false,
     "start_time": "2022-04-21T13:43:32.380712",
     "status": "completed"
    },
    "tags": []
   },
   "outputs": [
    {
     "data": {
      "text/plain": [
       "search_conducted  violation            driver_gender\n",
       "False             Equipment            M                 7935\n",
       "                                       F                 2381\n",
       "                  Moving violation     M                12241\n",
       "                                       F                 3088\n",
       "                  Other                M                 3456\n",
       "                                       F                  651\n",
       "                  Registration/plates  M                 2152\n",
       "                                       F                  946\n",
       "                  Seat belt            M                 2229\n",
       "                                       F                  627\n",
       "                  Speeding             M                32157\n",
       "                                       F                15347\n",
       "True              Equipment            M                  598\n",
       "                                       F                  106\n",
       "                  Moving violation     M                  779\n",
       "                                       F                  116\n",
       "                  Other                M                  171\n",
       "                                       F                   39\n",
       "                  Registration/plates  M                  267\n",
       "                                       F                   67\n",
       "                  Seat belt            M                   88\n",
       "                                       F                    8\n",
       "                  Speeding             M                  822\n",
       "                                       F                  135\n",
       "Name: driver_gender, dtype: int64"
      ]
     },
     "execution_count": 38,
     "metadata": {},
     "output_type": "execute_result"
    }
   ],
   "source": [
    "df4.groupby(['search_conducted','violation']).driver_gender.value_counts()"
   ]
  },
  {
   "cell_type": "code",
   "execution_count": 39,
   "id": "3d3c781a",
   "metadata": {
    "execution": {
     "iopub.execute_input": "2022-04-21T13:43:32.652424Z",
     "iopub.status.busy": "2022-04-21T13:43:32.651908Z",
     "iopub.status.idle": "2022-04-21T13:43:32.660456Z",
     "shell.execute_reply": "2022-04-21T13:43:32.658984Z"
    },
    "papermill": {
     "duration": 0.088724,
     "end_time": "2022-04-21T13:43:32.662748",
     "exception": false,
     "start_time": "2022-04-21T13:43:32.574024",
     "status": "completed"
    },
    "tags": []
   },
   "outputs": [],
   "source": [
    "df3=df.copy()"
   ]
  },
  {
   "cell_type": "code",
   "execution_count": 40,
   "id": "02915b02",
   "metadata": {
    "execution": {
     "iopub.execute_input": "2022-04-21T13:43:32.902479Z",
     "iopub.status.busy": "2022-04-21T13:43:32.902243Z",
     "iopub.status.idle": "2022-04-21T13:43:32.943809Z",
     "shell.execute_reply": "2022-04-21T13:43:32.943088Z"
    },
    "papermill": {
     "duration": 0.163561,
     "end_time": "2022-04-21T13:43:32.945853",
     "exception": false,
     "start_time": "2022-04-21T13:43:32.782292",
     "status": "completed"
    },
    "tags": []
   },
   "outputs": [
    {
     "name": "stdout",
     "output_type": "stream",
     "text": [
      "<class 'pandas.core.frame.DataFrame'>\n",
      "RangeIndex: 91741 entries, 0 to 91740\n",
      "Data columns (total 15 columns):\n",
      " #   Column              Non-Null Count  Dtype  \n",
      "---  ------              --------------  -----  \n",
      " 0   stop_date           91741 non-null  object \n",
      " 1   stop_time           91741 non-null  object \n",
      " 2   county_name         0 non-null      float64\n",
      " 3   driver_gender       86406 non-null  object \n",
      " 4   driver_age_raw      86414 non-null  float64\n",
      " 5   driver_age          86120 non-null  float64\n",
      " 6   driver_race         86408 non-null  object \n",
      " 7   violation_raw       86408 non-null  object \n",
      " 8   violation           86408 non-null  object \n",
      " 9   search_conducted    91741 non-null  bool   \n",
      " 10  search_type         3196 non-null   object \n",
      " 11  stop_outcome        86408 non-null  object \n",
      " 12  is_arrested         86408 non-null  object \n",
      " 13  stop_duration       86408 non-null  object \n",
      " 14  drugs_related_stop  91741 non-null  bool   \n",
      "dtypes: bool(2), float64(3), object(10)\n",
      "memory usage: 9.3+ MB\n"
     ]
    }
   ],
   "source": [
    "df3.info()"
   ]
  },
  {
   "cell_type": "code",
   "execution_count": 41,
   "id": "57f80abf",
   "metadata": {
    "execution": {
     "iopub.execute_input": "2022-04-21T13:43:33.186476Z",
     "iopub.status.busy": "2022-04-21T13:43:33.186056Z",
     "iopub.status.idle": "2022-04-21T13:43:33.196299Z",
     "shell.execute_reply": "2022-04-21T13:43:33.195171Z"
    },
    "papermill": {
     "duration": 0.133776,
     "end_time": "2022-04-21T13:43:33.198302",
     "exception": false,
     "start_time": "2022-04-21T13:43:33.064526",
     "status": "completed"
    },
    "tags": []
   },
   "outputs": [],
   "source": [
    "df3.drop(df3.iloc[[],[0,1,2,3,4,5,6,7,8,11,12,13,14]],axis=1,inplace=True)"
   ]
  },
  {
   "cell_type": "code",
   "execution_count": 42,
   "id": "e2d60400",
   "metadata": {
    "execution": {
     "iopub.execute_input": "2022-04-21T13:43:33.429283Z",
     "iopub.status.busy": "2022-04-21T13:43:33.428892Z",
     "iopub.status.idle": "2022-04-21T13:43:33.437459Z",
     "shell.execute_reply": "2022-04-21T13:43:33.436347Z"
    },
    "papermill": {
     "duration": 0.12702,
     "end_time": "2022-04-21T13:43:33.439259",
     "exception": false,
     "start_time": "2022-04-21T13:43:33.312239",
     "status": "completed"
    },
    "tags": []
   },
   "outputs": [
    {
     "data": {
      "text/html": [
       "<div>\n",
       "<style scoped>\n",
       "    .dataframe tbody tr th:only-of-type {\n",
       "        vertical-align: middle;\n",
       "    }\n",
       "\n",
       "    .dataframe tbody tr th {\n",
       "        vertical-align: top;\n",
       "    }\n",
       "\n",
       "    .dataframe thead th {\n",
       "        text-align: right;\n",
       "    }\n",
       "</style>\n",
       "<table border=\"1\" class=\"dataframe\">\n",
       "  <thead>\n",
       "    <tr style=\"text-align: right;\">\n",
       "      <th></th>\n",
       "      <th>search_conducted</th>\n",
       "      <th>search_type</th>\n",
       "    </tr>\n",
       "  </thead>\n",
       "  <tbody>\n",
       "    <tr>\n",
       "      <th>0</th>\n",
       "      <td>False</td>\n",
       "      <td>NaN</td>\n",
       "    </tr>\n",
       "    <tr>\n",
       "      <th>1</th>\n",
       "      <td>False</td>\n",
       "      <td>NaN</td>\n",
       "    </tr>\n",
       "    <tr>\n",
       "      <th>2</th>\n",
       "      <td>False</td>\n",
       "      <td>NaN</td>\n",
       "    </tr>\n",
       "    <tr>\n",
       "      <th>3</th>\n",
       "      <td>False</td>\n",
       "      <td>NaN</td>\n",
       "    </tr>\n",
       "    <tr>\n",
       "      <th>4</th>\n",
       "      <td>False</td>\n",
       "      <td>NaN</td>\n",
       "    </tr>\n",
       "  </tbody>\n",
       "</table>\n",
       "</div>"
      ],
      "text/plain": [
       "   search_conducted search_type\n",
       "0             False         NaN\n",
       "1             False         NaN\n",
       "2             False         NaN\n",
       "3             False         NaN\n",
       "4             False         NaN"
      ]
     },
     "execution_count": 42,
     "metadata": {},
     "output_type": "execute_result"
    }
   ],
   "source": [
    "df3.head()"
   ]
  },
  {
   "cell_type": "code",
   "execution_count": 43,
   "id": "8e7293ca",
   "metadata": {
    "execution": {
     "iopub.execute_input": "2022-04-21T13:43:33.668279Z",
     "iopub.status.busy": "2022-04-21T13:43:33.667873Z",
     "iopub.status.idle": "2022-04-21T13:43:33.681645Z",
     "shell.execute_reply": "2022-04-21T13:43:33.680229Z"
    },
    "papermill": {
     "duration": 0.130733,
     "end_time": "2022-04-21T13:43:33.683926",
     "exception": false,
     "start_time": "2022-04-21T13:43:33.553193",
     "status": "completed"
    },
    "tags": []
   },
   "outputs": [
    {
     "data": {
      "text/plain": [
       "Incident to Arrest                                          1219\n",
       "Probable Cause                                               891\n",
       "Inventory                                                    220\n",
       "Reasonable Suspicion                                         197\n",
       "Protective Frisk                                             161\n",
       "Incident to Arrest,Inventory                                 129\n",
       "Incident to Arrest,Probable Cause                            106\n",
       "Probable Cause,Reasonable Suspicion                           75\n",
       "Incident to Arrest,Inventory,Probable Cause                   34\n",
       "Incident to Arrest,Protective Frisk                           33\n",
       "Probable Cause,Protective Frisk                               33\n",
       "Inventory,Probable Cause                                      22\n",
       "Incident to Arrest,Reasonable Suspicion                       13\n",
       "Inventory,Protective Frisk                                    11\n",
       "Incident to Arrest,Inventory,Protective Frisk                 11\n",
       "Protective Frisk,Reasonable Suspicion                         11\n",
       "Incident to Arrest,Probable Cause,Protective Frisk            10\n",
       "Incident to Arrest,Probable Cause,Reasonable Suspicion         6\n",
       "Incident to Arrest,Inventory,Reasonable Suspicion              4\n",
       "Inventory,Reasonable Suspicion                                 4\n",
       "Inventory,Probable Cause,Protective Frisk                      2\n",
       "Inventory,Probable Cause,Reasonable Suspicion                  2\n",
       "Incident to Arrest,Protective Frisk,Reasonable Suspicion       1\n",
       "Probable Cause,Protective Frisk,Reasonable Suspicion           1\n",
       "Name: search_type, dtype: int64"
      ]
     },
     "execution_count": 43,
     "metadata": {},
     "output_type": "execute_result"
    }
   ],
   "source": [
    "df3.search_type.value_counts()"
   ]
  },
  {
   "cell_type": "code",
   "execution_count": 44,
   "id": "1f267ecf",
   "metadata": {
    "execution": {
     "iopub.execute_input": "2022-04-21T13:43:33.913527Z",
     "iopub.status.busy": "2022-04-21T13:43:33.913104Z",
     "iopub.status.idle": "2022-04-21T13:43:33.926605Z",
     "shell.execute_reply": "2022-04-21T13:43:33.926115Z"
    },
    "papermill": {
     "duration": 0.133258,
     "end_time": "2022-04-21T13:43:33.928203",
     "exception": false,
     "start_time": "2022-04-21T13:43:33.794945",
     "status": "completed"
    },
    "tags": []
   },
   "outputs": [
    {
     "data": {
      "text/plain": [
       "True    161\n",
       "Name: search_conducted, dtype: int64"
      ]
     },
     "execution_count": 44,
     "metadata": {},
     "output_type": "execute_result"
    }
   ],
   "source": [
    "df3[df3.search_type =='Protective Frisk'].search_conducted.value_counts()"
   ]
  },
  {
   "cell_type": "code",
   "execution_count": 45,
   "id": "4d6f5f54",
   "metadata": {
    "execution": {
     "iopub.execute_input": "2022-04-21T13:43:34.153768Z",
     "iopub.status.busy": "2022-04-21T13:43:34.153359Z",
     "iopub.status.idle": "2022-04-21T13:43:34.163909Z",
     "shell.execute_reply": "2022-04-21T13:43:34.163088Z"
    },
    "papermill": {
     "duration": 0.125489,
     "end_time": "2022-04-21T13:43:34.165563",
     "exception": false,
     "start_time": "2022-04-21T13:43:34.040074",
     "status": "completed"
    },
    "tags": []
   },
   "outputs": [
    {
     "data": {
      "text/html": [
       "<div>\n",
       "<style scoped>\n",
       "    .dataframe tbody tr th:only-of-type {\n",
       "        vertical-align: middle;\n",
       "    }\n",
       "\n",
       "    .dataframe tbody tr th {\n",
       "        vertical-align: top;\n",
       "    }\n",
       "\n",
       "    .dataframe thead th {\n",
       "        text-align: right;\n",
       "    }\n",
       "</style>\n",
       "<table border=\"1\" class=\"dataframe\">\n",
       "  <thead>\n",
       "    <tr style=\"text-align: right;\">\n",
       "      <th></th>\n",
       "      <th>search_conducted</th>\n",
       "      <th>search_type</th>\n",
       "    </tr>\n",
       "  </thead>\n",
       "  <tbody>\n",
       "    <tr>\n",
       "      <th>0</th>\n",
       "      <td>False</td>\n",
       "      <td>NaN</td>\n",
       "    </tr>\n",
       "    <tr>\n",
       "      <th>1</th>\n",
       "      <td>False</td>\n",
       "      <td>NaN</td>\n",
       "    </tr>\n",
       "    <tr>\n",
       "      <th>2</th>\n",
       "      <td>False</td>\n",
       "      <td>NaN</td>\n",
       "    </tr>\n",
       "    <tr>\n",
       "      <th>3</th>\n",
       "      <td>False</td>\n",
       "      <td>NaN</td>\n",
       "    </tr>\n",
       "    <tr>\n",
       "      <th>4</th>\n",
       "      <td>False</td>\n",
       "      <td>NaN</td>\n",
       "    </tr>\n",
       "    <tr>\n",
       "      <th>...</th>\n",
       "      <td>...</td>\n",
       "      <td>...</td>\n",
       "    </tr>\n",
       "    <tr>\n",
       "      <th>91736</th>\n",
       "      <td>False</td>\n",
       "      <td>NaN</td>\n",
       "    </tr>\n",
       "    <tr>\n",
       "      <th>91737</th>\n",
       "      <td>False</td>\n",
       "      <td>NaN</td>\n",
       "    </tr>\n",
       "    <tr>\n",
       "      <th>91738</th>\n",
       "      <td>False</td>\n",
       "      <td>NaN</td>\n",
       "    </tr>\n",
       "    <tr>\n",
       "      <th>91739</th>\n",
       "      <td>False</td>\n",
       "      <td>NaN</td>\n",
       "    </tr>\n",
       "    <tr>\n",
       "      <th>91740</th>\n",
       "      <td>False</td>\n",
       "      <td>NaN</td>\n",
       "    </tr>\n",
       "  </tbody>\n",
       "</table>\n",
       "<p>91741 rows × 2 columns</p>\n",
       "</div>"
      ],
      "text/plain": [
       "       search_conducted search_type\n",
       "0                 False         NaN\n",
       "1                 False         NaN\n",
       "2                 False         NaN\n",
       "3                 False         NaN\n",
       "4                 False         NaN\n",
       "...                 ...         ...\n",
       "91736             False         NaN\n",
       "91737             False         NaN\n",
       "91738             False         NaN\n",
       "91739             False         NaN\n",
       "91740             False         NaN\n",
       "\n",
       "[91741 rows x 2 columns]"
      ]
     },
     "execution_count": 45,
     "metadata": {},
     "output_type": "execute_result"
    }
   ],
   "source": [
    "df3"
   ]
  },
  {
   "cell_type": "code",
   "execution_count": 46,
   "id": "01a82775",
   "metadata": {
    "execution": {
     "iopub.execute_input": "2022-04-21T13:43:34.390609Z",
     "iopub.status.busy": "2022-04-21T13:43:34.390216Z",
     "iopub.status.idle": "2022-04-21T13:43:34.396942Z",
     "shell.execute_reply": "2022-04-21T13:43:34.396277Z"
    },
    "papermill": {
     "duration": 0.121875,
     "end_time": "2022-04-21T13:43:34.398784",
     "exception": false,
     "start_time": "2022-04-21T13:43:34.276909",
     "status": "completed"
    },
    "tags": []
   },
   "outputs": [],
   "source": [
    "df5=df.copy()"
   ]
  },
  {
   "cell_type": "code",
   "execution_count": 47,
   "id": "7e536258",
   "metadata": {
    "execution": {
     "iopub.execute_input": "2022-04-21T13:43:34.633263Z",
     "iopub.status.busy": "2022-04-21T13:43:34.632893Z",
     "iopub.status.idle": "2022-04-21T13:43:34.674731Z",
     "shell.execute_reply": "2022-04-21T13:43:34.674133Z"
    },
    "papermill": {
     "duration": 0.163533,
     "end_time": "2022-04-21T13:43:34.676773",
     "exception": false,
     "start_time": "2022-04-21T13:43:34.513240",
     "status": "completed"
    },
    "tags": []
   },
   "outputs": [
    {
     "name": "stdout",
     "output_type": "stream",
     "text": [
      "<class 'pandas.core.frame.DataFrame'>\n",
      "RangeIndex: 91741 entries, 0 to 91740\n",
      "Data columns (total 15 columns):\n",
      " #   Column              Non-Null Count  Dtype  \n",
      "---  ------              --------------  -----  \n",
      " 0   stop_date           91741 non-null  object \n",
      " 1   stop_time           91741 non-null  object \n",
      " 2   county_name         0 non-null      float64\n",
      " 3   driver_gender       86406 non-null  object \n",
      " 4   driver_age_raw      86414 non-null  float64\n",
      " 5   driver_age          86120 non-null  float64\n",
      " 6   driver_race         86408 non-null  object \n",
      " 7   violation_raw       86408 non-null  object \n",
      " 8   violation           86408 non-null  object \n",
      " 9   search_conducted    91741 non-null  bool   \n",
      " 10  search_type         3196 non-null   object \n",
      " 11  stop_outcome        86408 non-null  object \n",
      " 12  is_arrested         86408 non-null  object \n",
      " 13  stop_duration       86408 non-null  object \n",
      " 14  drugs_related_stop  91741 non-null  bool   \n",
      "dtypes: bool(2), float64(3), object(10)\n",
      "memory usage: 9.3+ MB\n"
     ]
    }
   ],
   "source": [
    "df5.info()"
   ]
  },
  {
   "cell_type": "code",
   "execution_count": 48,
   "id": "14afbfb4",
   "metadata": {
    "execution": {
     "iopub.execute_input": "2022-04-21T13:43:34.837279Z",
     "iopub.status.busy": "2022-04-21T13:43:34.837067Z",
     "iopub.status.idle": "2022-04-21T13:43:34.844538Z",
     "shell.execute_reply": "2022-04-21T13:43:34.843712Z"
    },
    "papermill": {
     "duration": 0.089942,
     "end_time": "2022-04-21T13:43:34.846349",
     "exception": false,
     "start_time": "2022-04-21T13:43:34.756407",
     "status": "completed"
    },
    "tags": []
   },
   "outputs": [],
   "source": [
    "df6=df.search_type.dropna()"
   ]
  },
  {
   "cell_type": "code",
   "execution_count": 49,
   "id": "afddfc90",
   "metadata": {
    "execution": {
     "iopub.execute_input": "2022-04-21T13:43:35.088418Z",
     "iopub.status.busy": "2022-04-21T13:43:35.088175Z",
     "iopub.status.idle": "2022-04-21T13:43:35.095317Z",
     "shell.execute_reply": "2022-04-21T13:43:35.094455Z"
    },
    "papermill": {
     "duration": 0.128806,
     "end_time": "2022-04-21T13:43:35.097037",
     "exception": false,
     "start_time": "2022-04-21T13:43:34.968231",
     "status": "completed"
    },
    "tags": []
   },
   "outputs": [
    {
     "data": {
      "text/plain": [
       "24       Incident to Arrest,Protective Frisk\n",
       "40                            Probable Cause\n",
       "41                            Probable Cause\n",
       "80                        Incident to Arrest\n",
       "106                           Probable Cause\n",
       "                        ...                 \n",
       "91494                     Incident to Arrest\n",
       "91548                     Incident to Arrest\n",
       "91672                     Incident to Arrest\n",
       "91700    Probable Cause,Reasonable Suspicion\n",
       "91708                     Incident to Arrest\n",
       "Name: search_type, Length: 3196, dtype: object"
      ]
     },
     "execution_count": 49,
     "metadata": {},
     "output_type": "execute_result"
    }
   ],
   "source": [
    "df6"
   ]
  },
  {
   "cell_type": "code",
   "execution_count": 50,
   "id": "fb9700ef",
   "metadata": {
    "execution": {
     "iopub.execute_input": "2022-04-21T13:43:35.294420Z",
     "iopub.status.busy": "2022-04-21T13:43:35.293958Z",
     "iopub.status.idle": "2022-04-21T13:43:35.296951Z",
     "shell.execute_reply": "2022-04-21T13:43:35.296512Z"
    },
    "papermill": {
     "duration": 0.085789,
     "end_time": "2022-04-21T13:43:35.298455",
     "exception": false,
     "start_time": "2022-04-21T13:43:35.212666",
     "status": "completed"
    },
    "tags": []
   },
   "outputs": [],
   "source": [
    "x = df6.tolist()"
   ]
  },
  {
   "cell_type": "code",
   "execution_count": 51,
   "id": "e0309711",
   "metadata": {
    "execution": {
     "iopub.execute_input": "2022-04-21T13:43:35.539091Z",
     "iopub.status.busy": "2022-04-21T13:43:35.538847Z",
     "iopub.status.idle": "2022-04-21T13:43:35.544994Z",
     "shell.execute_reply": "2022-04-21T13:43:35.543362Z"
    },
    "papermill": {
     "duration": 0.129951,
     "end_time": "2022-04-21T13:43:35.547339",
     "exception": false,
     "start_time": "2022-04-21T13:43:35.417388",
     "status": "completed"
    },
    "tags": []
   },
   "outputs": [],
   "source": [
    "a=[]\n",
    "c = 0\n",
    "for i in x:\n",
    "    b = i.split(',')\n",
    "    if \"Protective Frisk\" in b:\n",
    "        a.append(b)\n",
    "        c = c+1"
   ]
  },
  {
   "cell_type": "code",
   "execution_count": 52,
   "id": "f25dd88a",
   "metadata": {
    "execution": {
     "iopub.execute_input": "2022-04-21T13:43:35.791011Z",
     "iopub.status.busy": "2022-04-21T13:43:35.790743Z",
     "iopub.status.idle": "2022-04-21T13:43:35.795490Z",
     "shell.execute_reply": "2022-04-21T13:43:35.794728Z"
    },
    "papermill": {
     "duration": 0.129232,
     "end_time": "2022-04-21T13:43:35.797199",
     "exception": false,
     "start_time": "2022-04-21T13:43:35.667967",
     "status": "completed"
    },
    "tags": []
   },
   "outputs": [
    {
     "data": {
      "text/plain": [
       "274"
      ]
     },
     "execution_count": 52,
     "metadata": {},
     "output_type": "execute_result"
    }
   ],
   "source": [
    "c"
   ]
  },
  {
   "cell_type": "code",
   "execution_count": 53,
   "id": "7115f5e4",
   "metadata": {
    "execution": {
     "iopub.execute_input": "2022-04-21T13:43:36.041228Z",
     "iopub.status.busy": "2022-04-21T13:43:36.040771Z",
     "iopub.status.idle": "2022-04-21T13:43:36.047568Z",
     "shell.execute_reply": "2022-04-21T13:43:36.046799Z"
    },
    "papermill": {
     "duration": 0.130552,
     "end_time": "2022-04-21T13:43:36.049432",
     "exception": false,
     "start_time": "2022-04-21T13:43:35.918880",
     "status": "completed"
    },
    "tags": []
   },
   "outputs": [
    {
     "data": {
      "text/plain": [
       "0        NaN\n",
       "1        NaN\n",
       "2        NaN\n",
       "3        NaN\n",
       "4        NaN\n",
       "        ... \n",
       "91736    NaN\n",
       "91737    NaN\n",
       "91738    NaN\n",
       "91739    NaN\n",
       "91740    NaN\n",
       "Name: search_type, Length: 91741, dtype: object"
      ]
     },
     "execution_count": 53,
     "metadata": {},
     "output_type": "execute_result"
    }
   ],
   "source": [
    "df5.search_type"
   ]
  },
  {
   "cell_type": "code",
   "execution_count": 54,
   "id": "5412e81d",
   "metadata": {
    "execution": {
     "iopub.execute_input": "2022-04-21T13:43:36.295822Z",
     "iopub.status.busy": "2022-04-21T13:43:36.295545Z",
     "iopub.status.idle": "2022-04-21T13:43:36.300368Z",
     "shell.execute_reply": "2022-04-21T13:43:36.299845Z"
    },
    "papermill": {
     "duration": 0.130851,
     "end_time": "2022-04-21T13:43:36.302029",
     "exception": false,
     "start_time": "2022-04-21T13:43:36.171178",
     "status": "completed"
    },
    "tags": []
   },
   "outputs": [],
   "source": [
    "df7=df5.search_type.tolist()"
   ]
  },
  {
   "cell_type": "code",
   "execution_count": 55,
   "id": "dbedb7ff",
   "metadata": {
    "execution": {
     "iopub.execute_input": "2022-04-21T13:43:36.549275Z",
     "iopub.status.busy": "2022-04-21T13:43:36.548997Z",
     "iopub.status.idle": "2022-04-21T13:43:36.647445Z",
     "shell.execute_reply": "2022-04-21T13:43:36.646874Z"
    },
    "papermill": {
     "duration": 0.226787,
     "end_time": "2022-04-21T13:43:36.649765",
     "exception": false,
     "start_time": "2022-04-21T13:43:36.422978",
     "status": "completed"
    },
    "tags": []
   },
   "outputs": [],
   "source": [
    "z = []\n",
    "\n",
    "for i in df7:\n",
    "    i = str(i)\n",
    "    b = i.split(',')\n",
    "    for j in b:\n",
    "        if j not in z:\n",
    "            z.append(j)"
   ]
  },
  {
   "cell_type": "code",
   "execution_count": 56,
   "id": "37f20636",
   "metadata": {
    "execution": {
     "iopub.execute_input": "2022-04-21T13:43:36.899236Z",
     "iopub.status.busy": "2022-04-21T13:43:36.898787Z",
     "iopub.status.idle": "2022-04-21T13:43:36.903163Z",
     "shell.execute_reply": "2022-04-21T13:43:36.902662Z"
    },
    "papermill": {
     "duration": 0.13086,
     "end_time": "2022-04-21T13:43:36.904643",
     "exception": false,
     "start_time": "2022-04-21T13:43:36.773783",
     "status": "completed"
    },
    "tags": []
   },
   "outputs": [
    {
     "data": {
      "text/plain": [
       "['nan',\n",
       " 'Incident to Arrest',\n",
       " 'Protective Frisk',\n",
       " 'Probable Cause',\n",
       " 'Reasonable Suspicion',\n",
       " 'Inventory']"
      ]
     },
     "execution_count": 56,
     "metadata": {},
     "output_type": "execute_result"
    }
   ],
   "source": [
    "z"
   ]
  },
  {
   "cell_type": "code",
   "execution_count": 57,
   "id": "f8e1937e",
   "metadata": {
    "execution": {
     "iopub.execute_input": "2022-04-21T13:43:37.142603Z",
     "iopub.status.busy": "2022-04-21T13:43:37.142252Z",
     "iopub.status.idle": "2022-04-21T13:43:37.425460Z",
     "shell.execute_reply": "2022-04-21T13:43:37.424117Z"
    },
    "papermill": {
     "duration": 0.407604,
     "end_time": "2022-04-21T13:43:37.428183",
     "exception": false,
     "start_time": "2022-04-21T13:43:37.020579",
     "status": "completed"
    },
    "tags": []
   },
   "outputs": [],
   "source": [
    "c = {'Incident to Arrest':[],\n",
    " 'Protective Frisk':[],\n",
    " 'Probable Cause':[],\n",
    " 'Reasonable Suspicion':[],\n",
    " 'Inventory':[]}\n",
    "for i in c:\n",
    "    for j in df7:\n",
    "        j=str(j)\n",
    "        j = j.split(',')\n",
    "        if i in j:\n",
    "            c[i].append(1)\n",
    "        else:\n",
    "            c[i].append(0)\n",
    "#print(c)"
   ]
  },
  {
   "cell_type": "code",
   "execution_count": 58,
   "id": "bb3ccfbc",
   "metadata": {
    "execution": {
     "iopub.execute_input": "2022-04-21T13:43:37.677577Z",
     "iopub.status.busy": "2022-04-21T13:43:37.677084Z",
     "iopub.status.idle": "2022-04-21T13:43:37.776511Z",
     "shell.execute_reply": "2022-04-21T13:43:37.775590Z"
    },
    "papermill": {
     "duration": 0.225972,
     "end_time": "2022-04-21T13:43:37.778898",
     "exception": false,
     "start_time": "2022-04-21T13:43:37.552926",
     "status": "completed"
    },
    "tags": []
   },
   "outputs": [],
   "source": [
    "df8 = pd.DataFrame(c)\n",
    "df8.rename(columns={\"Incident to Arrest\": \"Incident_to_Arrest\", \"Protective Frisk\": \"Protective_Frisk\", \"Probable Cause\": \"Probable_Cause\", \"Reasonable Suspicion\": \"Reasonable_Suspicion\"},inplace=True)"
   ]
  },
  {
   "cell_type": "code",
   "execution_count": 59,
   "id": "128befe0",
   "metadata": {
    "execution": {
     "iopub.execute_input": "2022-04-21T13:43:38.027610Z",
     "iopub.status.busy": "2022-04-21T13:43:38.027138Z",
     "iopub.status.idle": "2022-04-21T13:43:38.034148Z",
     "shell.execute_reply": "2022-04-21T13:43:38.033634Z"
    },
    "papermill": {
     "duration": 0.132316,
     "end_time": "2022-04-21T13:43:38.035885",
     "exception": false,
     "start_time": "2022-04-21T13:43:37.903569",
     "status": "completed"
    },
    "tags": []
   },
   "outputs": [
    {
     "data": {
      "text/plain": [
       "Incident_to_Arrest      1566\n",
       "Protective_Frisk         274\n",
       "Probable_Cause          1182\n",
       "Reasonable_Suspicion     314\n",
       "Inventory                439\n",
       "dtype: int64"
      ]
     },
     "execution_count": 59,
     "metadata": {},
     "output_type": "execute_result"
    }
   ],
   "source": [
    "df8.sum()"
   ]
  },
  {
   "cell_type": "code",
   "execution_count": 60,
   "id": "0000b61d",
   "metadata": {
    "execution": {
     "iopub.execute_input": "2022-04-21T13:43:38.286774Z",
     "iopub.status.busy": "2022-04-21T13:43:38.286312Z",
     "iopub.status.idle": "2022-04-21T13:43:38.650666Z",
     "shell.execute_reply": "2022-04-21T13:43:38.649624Z"
    },
    "papermill": {
     "duration": 0.493356,
     "end_time": "2022-04-21T13:43:38.652817",
     "exception": false,
     "start_time": "2022-04-21T13:43:38.159461",
     "status": "completed"
    },
    "tags": []
   },
   "outputs": [
    {
     "data": {
      "text/plain": [
       "<AxesSubplot:ylabel='None'>"
      ]
     },
     "execution_count": 60,
     "metadata": {},
     "output_type": "execute_result"
    },
    {
     "data": {
      "image/png": "[encoded data removed]",
      "text/plain": [
       "<Figure size 432x288 with 1 Axes>"
      ]
     },
     "metadata": {},
     "output_type": "display_data"
    }
   ],
   "source": [
    "df8.sum().plot(kind = \"pie\")"
   ]
  },
  {
   "cell_type": "code",
   "execution_count": 61,
   "id": "7a6ac147",
   "metadata": {
    "execution": {
     "iopub.execute_input": "2022-04-21T13:43:38.915986Z",
     "iopub.status.busy": "2022-04-21T13:43:38.915738Z",
     "iopub.status.idle": "2022-04-21T13:43:38.925207Z",
     "shell.execute_reply": "2022-04-21T13:43:38.924693Z"
    },
    "papermill": {
     "duration": 0.138595,
     "end_time": "2022-04-21T13:43:38.927725",
     "exception": false,
     "start_time": "2022-04-21T13:43:38.789130",
     "status": "completed"
    },
    "tags": []
   },
   "outputs": [
    {
     "name": "stdout",
     "output_type": "stream",
     "text": [
      "<class 'pandas.core.frame.DataFrame'>\n",
      "RangeIndex: 91741 entries, 0 to 91740\n",
      "Data columns (total 5 columns):\n",
      " #   Column                Non-Null Count  Dtype\n",
      "---  ------                --------------  -----\n",
      " 0   Incident_to_Arrest    91741 non-null  int64\n",
      " 1   Protective_Frisk      91741 non-null  int64\n",
      " 2   Probable_Cause        91741 non-null  int64\n",
      " 3   Reasonable_Suspicion  91741 non-null  int64\n",
      " 4   Inventory             91741 non-null  int64\n",
      "dtypes: int64(5)\n",
      "memory usage: 3.5 MB\n"
     ]
    }
   ],
   "source": [
    "df8.info()"
   ]
  },
  {
   "cell_type": "code",
   "execution_count": 62,
   "id": "d5979b41",
   "metadata": {
    "execution": {
     "iopub.execute_input": "2022-04-21T13:43:39.181490Z",
     "iopub.status.busy": "2022-04-21T13:43:39.181052Z",
     "iopub.status.idle": "2022-04-21T13:43:39.199843Z",
     "shell.execute_reply": "2022-04-21T13:43:39.198620Z"
    },
    "papermill": {
     "duration": 0.147909,
     "end_time": "2022-04-21T13:43:39.202347",
     "exception": false,
     "start_time": "2022-04-21T13:43:39.054438",
     "status": "completed"
    },
    "tags": []
   },
   "outputs": [],
   "source": [
    "df_created = pd.concat([df5,df8],axis=1)"
   ]
  },
  {
   "cell_type": "code",
   "execution_count": 63,
   "id": "d7787667",
   "metadata": {
    "execution": {
     "iopub.execute_input": "2022-04-21T13:43:39.458783Z",
     "iopub.status.busy": "2022-04-21T13:43:39.458357Z",
     "iopub.status.idle": "2022-04-21T13:43:39.489465Z",
     "shell.execute_reply": "2022-04-21T13:43:39.488092Z"
    },
    "papermill": {
     "duration": 0.162675,
     "end_time": "2022-04-21T13:43:39.491577",
     "exception": false,
     "start_time": "2022-04-21T13:43:39.328902",
     "status": "completed"
    },
    "tags": []
   },
   "outputs": [],
   "source": [
    "df_cr_=df_created.copy()"
   ]
  },
  {
   "cell_type": "code",
   "execution_count": 64,
   "id": "3d0e0649",
   "metadata": {
    "execution": {
     "iopub.execute_input": "2022-04-21T13:43:39.746788Z",
     "iopub.status.busy": "2022-04-21T13:43:39.746501Z",
     "iopub.status.idle": "2022-04-21T13:43:39.849056Z",
     "shell.execute_reply": "2022-04-21T13:43:39.848023Z"
    },
    "papermill": {
     "duration": 0.233535,
     "end_time": "2022-04-21T13:43:39.851742",
     "exception": false,
     "start_time": "2022-04-21T13:43:39.618207",
     "status": "completed"
    },
    "tags": []
   },
   "outputs": [
    {
     "name": "stdout",
     "output_type": "stream",
     "text": [
      "<class 'pandas.core.frame.DataFrame'>\n",
      "RangeIndex: 91741 entries, 0 to 91740\n",
      "Data columns (total 20 columns):\n",
      " #   Column                Non-Null Count  Dtype  \n",
      "---  ------                --------------  -----  \n",
      " 0   stop_date             91741 non-null  object \n",
      " 1   stop_time             91741 non-null  object \n",
      " 2   county_name           0 non-null      float64\n",
      " 3   driver_gender         86406 non-null  object \n",
      " 4   driver_age_raw        86414 non-null  float64\n",
      " 5   driver_age            86120 non-null  float64\n",
      " 6   driver_race           86408 non-null  object \n",
      " 7   violation_raw         86408 non-null  object \n",
      " 8   violation             86408 non-null  object \n",
      " 9   search_conducted      91741 non-null  bool   \n",
      " 10  search_type           3196 non-null   object \n",
      " 11  stop_outcome          86408 non-null  object \n",
      " 12  is_arrested           86408 non-null  object \n",
      " 13  stop_duration         86408 non-null  object \n",
      " 14  drugs_related_stop    91741 non-null  bool   \n",
      " 15  Incident_to_Arrest    91741 non-null  int64  \n",
      " 16  Protective_Frisk      91741 non-null  int64  \n",
      " 17  Probable_Cause        91741 non-null  int64  \n",
      " 18  Reasonable_Suspicion  91741 non-null  int64  \n",
      " 19  Inventory             91741 non-null  int64  \n",
      "dtypes: bool(2), float64(3), int64(5), object(10)\n",
      "memory usage: 12.8+ MB\n"
     ]
    }
   ],
   "source": [
    "df_cr_.info()"
   ]
  },
  {
   "cell_type": "code",
   "execution_count": 65,
   "id": "a0dd3a4a",
   "metadata": {
    "execution": {
     "iopub.execute_input": "2022-04-21T13:43:40.020400Z",
     "iopub.status.busy": "2022-04-21T13:43:40.019615Z",
     "iopub.status.idle": "2022-04-21T13:43:40.030656Z",
     "shell.execute_reply": "2022-04-21T13:43:40.029851Z"
    },
    "papermill": {
     "duration": 0.09745,
     "end_time": "2022-04-21T13:43:40.032597",
     "exception": false,
     "start_time": "2022-04-21T13:43:39.935147",
     "status": "completed"
    },
    "tags": []
   },
   "outputs": [],
   "source": [
    "df_cr_.drop(df_cr_.iloc[[],[0,1,2,3,4,5,6,7,8,10,11,12,13,14,15,17,18,19]],axis=1,inplace=True)"
   ]
  },
  {
   "cell_type": "code",
   "execution_count": 66,
   "id": "3146c67d",
   "metadata": {
    "execution": {
     "iopub.execute_input": "2022-04-21T13:43:40.200296Z",
     "iopub.status.busy": "2022-04-21T13:43:40.199824Z",
     "iopub.status.idle": "2022-04-21T13:43:40.208435Z",
     "shell.execute_reply": "2022-04-21T13:43:40.207746Z"
    },
    "papermill": {
     "duration": 0.094567,
     "end_time": "2022-04-21T13:43:40.210162",
     "exception": false,
     "start_time": "2022-04-21T13:43:40.115595",
     "status": "completed"
    },
    "tags": []
   },
   "outputs": [
    {
     "data": {
      "text/html": [
       "<div>\n",
       "<style scoped>\n",
       "    .dataframe tbody tr th:only-of-type {\n",
       "        vertical-align: middle;\n",
       "    }\n",
       "\n",
       "    .dataframe tbody tr th {\n",
       "        vertical-align: top;\n",
       "    }\n",
       "\n",
       "    .dataframe thead th {\n",
       "        text-align: right;\n",
       "    }\n",
       "</style>\n",
       "<table border=\"1\" class=\"dataframe\">\n",
       "  <thead>\n",
       "    <tr style=\"text-align: right;\">\n",
       "      <th></th>\n",
       "      <th>search_conducted</th>\n",
       "      <th>Protective_Frisk</th>\n",
       "    </tr>\n",
       "  </thead>\n",
       "  <tbody>\n",
       "    <tr>\n",
       "      <th>0</th>\n",
       "      <td>False</td>\n",
       "      <td>0</td>\n",
       "    </tr>\n",
       "    <tr>\n",
       "      <th>1</th>\n",
       "      <td>False</td>\n",
       "      <td>0</td>\n",
       "    </tr>\n",
       "    <tr>\n",
       "      <th>2</th>\n",
       "      <td>False</td>\n",
       "      <td>0</td>\n",
       "    </tr>\n",
       "    <tr>\n",
       "      <th>3</th>\n",
       "      <td>False</td>\n",
       "      <td>0</td>\n",
       "    </tr>\n",
       "    <tr>\n",
       "      <th>4</th>\n",
       "      <td>False</td>\n",
       "      <td>0</td>\n",
       "    </tr>\n",
       "  </tbody>\n",
       "</table>\n",
       "</div>"
      ],
      "text/plain": [
       "   search_conducted  Protective_Frisk\n",
       "0             False                 0\n",
       "1             False                 0\n",
       "2             False                 0\n",
       "3             False                 0\n",
       "4             False                 0"
      ]
     },
     "execution_count": 66,
     "metadata": {},
     "output_type": "execute_result"
    }
   ],
   "source": [
    "df_cr_.head()"
   ]
  },
  {
   "cell_type": "code",
   "execution_count": 67,
   "id": "8d0c5f78",
   "metadata": {
    "execution": {
     "iopub.execute_input": "2022-04-21T13:43:40.380006Z",
     "iopub.status.busy": "2022-04-21T13:43:40.379540Z",
     "iopub.status.idle": "2022-04-21T13:43:40.387191Z",
     "shell.execute_reply": "2022-04-21T13:43:40.386479Z"
    },
    "papermill": {
     "duration": 0.095398,
     "end_time": "2022-04-21T13:43:40.388810",
     "exception": false,
     "start_time": "2022-04-21T13:43:40.293412",
     "status": "completed"
    },
    "tags": []
   },
   "outputs": [
    {
     "data": {
      "text/plain": [
       "False    88545\n",
       "True      3196\n",
       "Name: search_conducted, dtype: int64"
      ]
     },
     "execution_count": 67,
     "metadata": {},
     "output_type": "execute_result"
    }
   ],
   "source": [
    "df_cr_.search_conducted.value_counts()"
   ]
  },
  {
   "cell_type": "code",
   "execution_count": 68,
   "id": "3620169e",
   "metadata": {
    "execution": {
     "iopub.execute_input": "2022-04-21T13:43:40.554402Z",
     "iopub.status.busy": "2022-04-21T13:43:40.553925Z",
     "iopub.status.idle": "2022-04-21T13:43:40.564340Z",
     "shell.execute_reply": "2022-04-21T13:43:40.563627Z"
    },
    "papermill": {
     "duration": 0.094953,
     "end_time": "2022-04-21T13:43:40.566044",
     "exception": false,
     "start_time": "2022-04-21T13:43:40.471091",
     "status": "completed"
    },
    "tags": []
   },
   "outputs": [
    {
     "name": "stdout",
     "output_type": "stream",
     "text": [
      "<class 'pandas.core.frame.DataFrame'>\n",
      "RangeIndex: 91741 entries, 0 to 91740\n",
      "Data columns (total 2 columns):\n",
      " #   Column            Non-Null Count  Dtype\n",
      "---  ------            --------------  -----\n",
      " 0   search_conducted  91741 non-null  bool \n",
      " 1   Protective_Frisk  91741 non-null  int64\n",
      "dtypes: bool(1), int64(1)\n",
      "memory usage: 806.4 KB\n"
     ]
    }
   ],
   "source": [
    "df_cr_.info()"
   ]
  },
  {
   "cell_type": "code",
   "execution_count": 69,
   "id": "36e8ad67",
   "metadata": {
    "execution": {
     "iopub.execute_input": "2022-04-21T13:43:40.730429Z",
     "iopub.status.busy": "2022-04-21T13:43:40.730204Z",
     "iopub.status.idle": "2022-04-21T13:43:40.736886Z",
     "shell.execute_reply": "2022-04-21T13:43:40.736187Z"
    },
    "papermill": {
     "duration": 0.091083,
     "end_time": "2022-04-21T13:43:40.738808",
     "exception": false,
     "start_time": "2022-04-21T13:43:40.647725",
     "status": "completed"
    },
    "tags": []
   },
   "outputs": [
    {
     "data": {
      "text/plain": [
       "0    91467\n",
       "1      274\n",
       "Name: Protective_Frisk, dtype: int64"
      ]
     },
     "execution_count": 69,
     "metadata": {},
     "output_type": "execute_result"
    }
   ],
   "source": [
    "df_cr_.Protective_Frisk.value_counts()"
   ]
  },
  {
   "cell_type": "code",
   "execution_count": 70,
   "id": "afd084e6",
   "metadata": {
    "execution": {
     "iopub.execute_input": "2022-04-21T13:43:40.997434Z",
     "iopub.status.busy": "2022-04-21T13:43:40.997120Z",
     "iopub.status.idle": "2022-04-21T13:43:41.005369Z",
     "shell.execute_reply": "2022-04-21T13:43:41.004130Z"
    },
    "papermill": {
     "duration": 0.140136,
     "end_time": "2022-04-21T13:43:41.007988",
     "exception": false,
     "start_time": "2022-04-21T13:43:40.867852",
     "status": "completed"
    },
    "tags": []
   },
   "outputs": [
    {
     "data": {
      "text/plain": [
       "0    2922\n",
       "1     274\n",
       "Name: Protective_Frisk, dtype: int64"
      ]
     },
     "execution_count": 70,
     "metadata": {},
     "output_type": "execute_result"
    }
   ],
   "source": [
    "df_cr_[df_cr_.search_conducted==True].Protective_Frisk.value_counts()"
   ]
  },
  {
   "cell_type": "code",
   "execution_count": 71,
   "id": "f5af696c",
   "metadata": {
    "execution": {
     "iopub.execute_input": "2022-04-21T13:43:41.269343Z",
     "iopub.status.busy": "2022-04-21T13:43:41.268198Z",
     "iopub.status.idle": "2022-04-21T13:43:41.278287Z",
     "shell.execute_reply": "2022-04-21T13:43:41.277704Z"
    },
    "papermill": {
     "duration": 0.142983,
     "end_time": "2022-04-21T13:43:41.280269",
     "exception": false,
     "start_time": "2022-04-21T13:43:41.137286",
     "status": "completed"
    },
    "tags": []
   },
   "outputs": [
    {
     "data": {
      "text/plain": [
       "True    274\n",
       "Name: search_conducted, dtype: int64"
      ]
     },
     "execution_count": 71,
     "metadata": {},
     "output_type": "execute_result"
    }
   ],
   "source": [
    "df_cr_[df_cr_.Protective_Frisk==1].search_conducted.value_counts()"
   ]
  },
  {
   "cell_type": "code",
   "execution_count": 72,
   "id": "0ce78528",
   "metadata": {
    "execution": {
     "iopub.execute_input": "2022-04-21T13:43:41.474664Z",
     "iopub.status.busy": "2022-04-21T13:43:41.474039Z",
     "iopub.status.idle": "2022-04-21T13:43:41.481457Z",
     "shell.execute_reply": "2022-04-21T13:43:41.480749Z"
    },
    "papermill": {
     "duration": 0.119416,
     "end_time": "2022-04-21T13:43:41.483872",
     "exception": false,
     "start_time": "2022-04-21T13:43:41.364456",
     "status": "completed"
    },
    "tags": []
   },
   "outputs": [],
   "source": [
    "df_yr = df.copy()"
   ]
  },
  {
   "cell_type": "code",
   "execution_count": 73,
   "id": "4fb56849",
   "metadata": {
    "execution": {
     "iopub.execute_input": "2022-04-21T13:43:41.742843Z",
     "iopub.status.busy": "2022-04-21T13:43:41.742551Z",
     "iopub.status.idle": "2022-04-21T13:43:41.845743Z",
     "shell.execute_reply": "2022-04-21T13:43:41.843886Z"
    },
    "papermill": {
     "duration": 0.235774,
     "end_time": "2022-04-21T13:43:41.848073",
     "exception": false,
     "start_time": "2022-04-21T13:43:41.612299",
     "status": "completed"
    },
    "tags": []
   },
   "outputs": [
    {
     "name": "stdout",
     "output_type": "stream",
     "text": [
      "<class 'pandas.core.frame.DataFrame'>\n",
      "RangeIndex: 91741 entries, 0 to 91740\n",
      "Data columns (total 15 columns):\n",
      " #   Column              Non-Null Count  Dtype  \n",
      "---  ------              --------------  -----  \n",
      " 0   stop_date           91741 non-null  object \n",
      " 1   stop_time           91741 non-null  object \n",
      " 2   county_name         0 non-null      float64\n",
      " 3   driver_gender       86406 non-null  object \n",
      " 4   driver_age_raw      86414 non-null  float64\n",
      " 5   driver_age          86120 non-null  float64\n",
      " 6   driver_race         86408 non-null  object \n",
      " 7   violation_raw       86408 non-null  object \n",
      " 8   violation           86408 non-null  object \n",
      " 9   search_conducted    91741 non-null  bool   \n",
      " 10  search_type         3196 non-null   object \n",
      " 11  stop_outcome        86408 non-null  object \n",
      " 12  is_arrested         86408 non-null  object \n",
      " 13  stop_duration       86408 non-null  object \n",
      " 14  drugs_related_stop  91741 non-null  bool   \n",
      "dtypes: bool(2), float64(3), object(10)\n",
      "memory usage: 9.3+ MB\n"
     ]
    }
   ],
   "source": [
    "df_yr.info()"
   ]
  },
  {
   "cell_type": "code",
   "execution_count": 74,
   "id": "6761b04e",
   "metadata": {
    "execution": {
     "iopub.execute_input": "2022-04-21T13:43:42.017117Z",
     "iopub.status.busy": "2022-04-21T13:43:42.016866Z",
     "iopub.status.idle": "2022-04-21T13:43:42.036891Z",
     "shell.execute_reply": "2022-04-21T13:43:42.035837Z"
    },
    "papermill": {
     "duration": 0.106638,
     "end_time": "2022-04-21T13:43:42.038719",
     "exception": false,
     "start_time": "2022-04-21T13:43:41.932081",
     "status": "completed"
    },
    "tags": []
   },
   "outputs": [
    {
     "data": {
      "text/plain": [
       "2012-01-11    69\n",
       "2012-02-28    65\n",
       "2007-05-16    62\n",
       "2012-01-02    61\n",
       "2007-01-10    60\n",
       "              ..\n",
       "2015-01-27     1\n",
       "2005-12-25     1\n",
       "2005-01-18     1\n",
       "2010-12-25     1\n",
       "2005-01-02     1\n",
       "Name: stop_date, Length: 3768, dtype: int64"
      ]
     },
     "execution_count": 74,
     "metadata": {},
     "output_type": "execute_result"
    }
   ],
   "source": [
    "df_yr.stop_date.value_counts()"
   ]
  },
  {
   "cell_type": "code",
   "execution_count": 75,
   "id": "dd8a5815",
   "metadata": {
    "execution": {
     "iopub.execute_input": "2022-04-21T13:43:42.300034Z",
     "iopub.status.busy": "2022-04-21T13:43:42.299783Z",
     "iopub.status.idle": "2022-04-21T13:43:42.316114Z",
     "shell.execute_reply": "2022-04-21T13:43:42.315098Z"
    },
    "papermill": {
     "duration": 0.149013,
     "end_time": "2022-04-21T13:43:42.318012",
     "exception": false,
     "start_time": "2022-04-21T13:43:42.168999",
     "status": "completed"
    },
    "tags": []
   },
   "outputs": [
    {
     "data": {
      "text/html": [
       "<div>\n",
       "<style scoped>\n",
       "    .dataframe tbody tr th:only-of-type {\n",
       "        vertical-align: middle;\n",
       "    }\n",
       "\n",
       "    .dataframe tbody tr th {\n",
       "        vertical-align: top;\n",
       "    }\n",
       "\n",
       "    .dataframe thead th {\n",
       "        text-align: right;\n",
       "    }\n",
       "</style>\n",
       "<table border=\"1\" class=\"dataframe\">\n",
       "  <thead>\n",
       "    <tr style=\"text-align: right;\">\n",
       "      <th></th>\n",
       "      <th>stop_date</th>\n",
       "      <th>stop_time</th>\n",
       "      <th>county_name</th>\n",
       "      <th>driver_gender</th>\n",
       "      <th>driver_age_raw</th>\n",
       "      <th>driver_age</th>\n",
       "      <th>driver_race</th>\n",
       "      <th>violation_raw</th>\n",
       "      <th>violation</th>\n",
       "      <th>search_conducted</th>\n",
       "      <th>search_type</th>\n",
       "      <th>stop_outcome</th>\n",
       "      <th>is_arrested</th>\n",
       "      <th>stop_duration</th>\n",
       "      <th>drugs_related_stop</th>\n",
       "    </tr>\n",
       "  </thead>\n",
       "  <tbody>\n",
       "    <tr>\n",
       "      <th>0</th>\n",
       "      <td>2005-01-02</td>\n",
       "      <td>01:55</td>\n",
       "      <td>NaN</td>\n",
       "      <td>M</td>\n",
       "      <td>1985.0</td>\n",
       "      <td>20.0</td>\n",
       "      <td>White</td>\n",
       "      <td>Speeding</td>\n",
       "      <td>Speeding</td>\n",
       "      <td>False</td>\n",
       "      <td>NaN</td>\n",
       "      <td>Citation</td>\n",
       "      <td>False</td>\n",
       "      <td>0-15 Min</td>\n",
       "      <td>False</td>\n",
       "    </tr>\n",
       "    <tr>\n",
       "      <th>1</th>\n",
       "      <td>2005-01-18</td>\n",
       "      <td>08:15</td>\n",
       "      <td>NaN</td>\n",
       "      <td>M</td>\n",
       "      <td>1965.0</td>\n",
       "      <td>40.0</td>\n",
       "      <td>White</td>\n",
       "      <td>Speeding</td>\n",
       "      <td>Speeding</td>\n",
       "      <td>False</td>\n",
       "      <td>NaN</td>\n",
       "      <td>Citation</td>\n",
       "      <td>False</td>\n",
       "      <td>0-15 Min</td>\n",
       "      <td>False</td>\n",
       "    </tr>\n",
       "    <tr>\n",
       "      <th>2</th>\n",
       "      <td>2005-01-23</td>\n",
       "      <td>23:15</td>\n",
       "      <td>NaN</td>\n",
       "      <td>M</td>\n",
       "      <td>1972.0</td>\n",
       "      <td>33.0</td>\n",
       "      <td>White</td>\n",
       "      <td>Speeding</td>\n",
       "      <td>Speeding</td>\n",
       "      <td>False</td>\n",
       "      <td>NaN</td>\n",
       "      <td>Citation</td>\n",
       "      <td>False</td>\n",
       "      <td>0-15 Min</td>\n",
       "      <td>False</td>\n",
       "    </tr>\n",
       "    <tr>\n",
       "      <th>3</th>\n",
       "      <td>2005-02-20</td>\n",
       "      <td>17:15</td>\n",
       "      <td>NaN</td>\n",
       "      <td>M</td>\n",
       "      <td>1986.0</td>\n",
       "      <td>19.0</td>\n",
       "      <td>White</td>\n",
       "      <td>Call for Service</td>\n",
       "      <td>Other</td>\n",
       "      <td>False</td>\n",
       "      <td>NaN</td>\n",
       "      <td>Arrest Driver</td>\n",
       "      <td>True</td>\n",
       "      <td>16-30 Min</td>\n",
       "      <td>False</td>\n",
       "    </tr>\n",
       "    <tr>\n",
       "      <th>4</th>\n",
       "      <td>2005-03-14</td>\n",
       "      <td>10:00</td>\n",
       "      <td>NaN</td>\n",
       "      <td>F</td>\n",
       "      <td>1984.0</td>\n",
       "      <td>21.0</td>\n",
       "      <td>White</td>\n",
       "      <td>Speeding</td>\n",
       "      <td>Speeding</td>\n",
       "      <td>False</td>\n",
       "      <td>NaN</td>\n",
       "      <td>Citation</td>\n",
       "      <td>False</td>\n",
       "      <td>0-15 Min</td>\n",
       "      <td>False</td>\n",
       "    </tr>\n",
       "  </tbody>\n",
       "</table>\n",
       "</div>"
      ],
      "text/plain": [
       "    stop_date stop_time  county_name driver_gender  driver_age_raw  \\\n",
       "0  2005-01-02     01:55          NaN             M          1985.0   \n",
       "1  2005-01-18     08:15          NaN             M          1965.0   \n",
       "2  2005-01-23     23:15          NaN             M          1972.0   \n",
       "3  2005-02-20     17:15          NaN             M          1986.0   \n",
       "4  2005-03-14     10:00          NaN             F          1984.0   \n",
       "\n",
       "   driver_age driver_race     violation_raw violation  search_conducted  \\\n",
       "0        20.0       White          Speeding  Speeding             False   \n",
       "1        40.0       White          Speeding  Speeding             False   \n",
       "2        33.0       White          Speeding  Speeding             False   \n",
       "3        19.0       White  Call for Service     Other             False   \n",
       "4        21.0       White          Speeding  Speeding             False   \n",
       "\n",
       "  search_type   stop_outcome is_arrested stop_duration  drugs_related_stop  \n",
       "0         NaN       Citation       False      0-15 Min               False  \n",
       "1         NaN       Citation       False      0-15 Min               False  \n",
       "2         NaN       Citation       False      0-15 Min               False  \n",
       "3         NaN  Arrest Driver        True     16-30 Min               False  \n",
       "4         NaN       Citation       False      0-15 Min               False  "
      ]
     },
     "execution_count": 75,
     "metadata": {},
     "output_type": "execute_result"
    }
   ],
   "source": [
    "df_yr.head()"
   ]
  },
  {
   "cell_type": "code",
   "execution_count": 76,
   "id": "c00dc16b",
   "metadata": {
    "execution": {
     "iopub.execute_input": "2022-04-21T13:43:42.579815Z",
     "iopub.status.busy": "2022-04-21T13:43:42.579541Z",
     "iopub.status.idle": "2022-04-21T13:43:42.606941Z",
     "shell.execute_reply": "2022-04-21T13:43:42.606225Z"
    },
    "papermill": {
     "duration": 0.160919,
     "end_time": "2022-04-21T13:43:42.609077",
     "exception": false,
     "start_time": "2022-04-21T13:43:42.448158",
     "status": "completed"
    },
    "tags": []
   },
   "outputs": [],
   "source": [
    "df_yr['stop_date']=pd.to_datetime(df_yr.stop_date)"
   ]
  },
  {
   "cell_type": "code",
   "execution_count": 77,
   "id": "2c8100ad",
   "metadata": {
    "execution": {
     "iopub.execute_input": "2022-04-21T13:43:42.890303Z",
     "iopub.status.busy": "2022-04-21T13:43:42.890054Z",
     "iopub.status.idle": "2022-04-21T13:43:42.983367Z",
     "shell.execute_reply": "2022-04-21T13:43:42.981727Z"
    },
    "papermill": {
     "duration": 0.232764,
     "end_time": "2022-04-21T13:43:42.985332",
     "exception": false,
     "start_time": "2022-04-21T13:43:42.752568",
     "status": "completed"
    },
    "tags": []
   },
   "outputs": [
    {
     "name": "stdout",
     "output_type": "stream",
     "text": [
      "<class 'pandas.core.frame.DataFrame'>\n",
      "RangeIndex: 91741 entries, 0 to 91740\n",
      "Data columns (total 15 columns):\n",
      " #   Column              Non-Null Count  Dtype         \n",
      "---  ------              --------------  -----         \n",
      " 0   stop_date           91741 non-null  datetime64[ns]\n",
      " 1   stop_time           91741 non-null  object        \n",
      " 2   county_name         0 non-null      float64       \n",
      " 3   driver_gender       86406 non-null  object        \n",
      " 4   driver_age_raw      86414 non-null  float64       \n",
      " 5   driver_age          86120 non-null  float64       \n",
      " 6   driver_race         86408 non-null  object        \n",
      " 7   violation_raw       86408 non-null  object        \n",
      " 8   violation           86408 non-null  object        \n",
      " 9   search_conducted    91741 non-null  bool          \n",
      " 10  search_type         3196 non-null   object        \n",
      " 11  stop_outcome        86408 non-null  object        \n",
      " 12  is_arrested         86408 non-null  object        \n",
      " 13  stop_duration       86408 non-null  object        \n",
      " 14  drugs_related_stop  91741 non-null  bool          \n",
      "dtypes: bool(2), datetime64[ns](1), float64(3), object(9)\n",
      "memory usage: 9.3+ MB\n"
     ]
    }
   ],
   "source": [
    "df_yr.info()"
   ]
  },
  {
   "cell_type": "code",
   "execution_count": 78,
   "id": "3a4d459e",
   "metadata": {
    "execution": {
     "iopub.execute_input": "2022-04-21T13:43:43.252613Z",
     "iopub.status.busy": "2022-04-21T13:43:43.252366Z",
     "iopub.status.idle": "2022-04-21T13:43:43.261268Z",
     "shell.execute_reply": "2022-04-21T13:43:43.259964Z"
    },
    "papermill": {
     "duration": 0.146015,
     "end_time": "2022-04-21T13:43:43.263792",
     "exception": false,
     "start_time": "2022-04-21T13:43:43.117777",
     "status": "completed"
    },
    "tags": []
   },
   "outputs": [
    {
     "data": {
      "text/plain": [
       "'Sunday'"
      ]
     },
     "execution_count": 78,
     "metadata": {},
     "output_type": "execute_result"
    }
   ],
   "source": [
    "df_yr.loc[0,'stop_date'].day_name()"
   ]
  },
  {
   "cell_type": "code",
   "execution_count": 79,
   "id": "ad9f4d12",
   "metadata": {
    "execution": {
     "iopub.execute_input": "2022-04-21T13:43:43.534256Z",
     "iopub.status.busy": "2022-04-21T13:43:43.532624Z",
     "iopub.status.idle": "2022-04-21T13:43:43.540902Z",
     "shell.execute_reply": "2022-04-21T13:43:43.539774Z"
    },
    "papermill": {
     "duration": 0.143858,
     "end_time": "2022-04-21T13:43:43.543437",
     "exception": false,
     "start_time": "2022-04-21T13:43:43.399579",
     "status": "completed"
    },
    "tags": []
   },
   "outputs": [
    {
     "data": {
      "text/plain": [
       "Timestamp('2005-01-02 00:00:00')"
      ]
     },
     "execution_count": 79,
     "metadata": {},
     "output_type": "execute_result"
    }
   ],
   "source": [
    "df_yr['stop_date'].min()"
   ]
  },
  {
   "cell_type": "code",
   "execution_count": 80,
   "id": "27fc141d",
   "metadata": {
    "execution": {
     "iopub.execute_input": "2022-04-21T13:43:43.813630Z",
     "iopub.status.busy": "2022-04-21T13:43:43.813331Z",
     "iopub.status.idle": "2022-04-21T13:43:43.821532Z",
     "shell.execute_reply": "2022-04-21T13:43:43.819779Z"
    },
    "papermill": {
     "duration": 0.146306,
     "end_time": "2022-04-21T13:43:43.824218",
     "exception": false,
     "start_time": "2022-04-21T13:43:43.677912",
     "status": "completed"
    },
    "tags": []
   },
   "outputs": [
    {
     "data": {
      "text/plain": [
       "Timestamp('2015-12-31 00:00:00')"
      ]
     },
     "execution_count": 80,
     "metadata": {},
     "output_type": "execute_result"
    }
   ],
   "source": [
    "df_yr['stop_date'].max()"
   ]
  },
  {
   "cell_type": "code",
   "execution_count": 81,
   "id": "5ea10658",
   "metadata": {
    "execution": {
     "iopub.execute_input": "2022-04-21T13:43:44.091750Z",
     "iopub.status.busy": "2022-04-21T13:43:44.091473Z",
     "iopub.status.idle": "2022-04-21T13:43:44.098281Z",
     "shell.execute_reply": "2022-04-21T13:43:44.097596Z"
    },
    "papermill": {
     "duration": 0.142822,
     "end_time": "2022-04-21T13:43:44.100709",
     "exception": false,
     "start_time": "2022-04-21T13:43:43.957887",
     "status": "completed"
    },
    "tags": []
   },
   "outputs": [
    {
     "data": {
      "text/plain": [
       "Timedelta('4015 days 00:00:00')"
      ]
     },
     "execution_count": 81,
     "metadata": {},
     "output_type": "execute_result"
    }
   ],
   "source": [
    "df_yr['stop_date'].max() - df_yr['stop_date'].min()"
   ]
  },
  {
   "cell_type": "code",
   "execution_count": 82,
   "id": "45ee9542",
   "metadata": {
    "execution": {
     "iopub.execute_input": "2022-04-21T13:43:44.368461Z",
     "iopub.status.busy": "2022-04-21T13:43:44.368220Z",
     "iopub.status.idle": "2022-04-21T13:43:44.378055Z",
     "shell.execute_reply": "2022-04-21T13:43:44.377023Z"
    },
    "papermill": {
     "duration": 0.145553,
     "end_time": "2022-04-21T13:43:44.379948",
     "exception": false,
     "start_time": "2022-04-21T13:43:44.234395",
     "status": "completed"
    },
    "tags": []
   },
   "outputs": [
    {
     "data": {
      "text/plain": [
       "2012-01-11    69\n",
       "2012-02-28    65\n",
       "2007-05-16    62\n",
       "2012-01-02    61\n",
       "2007-01-10    60\n",
       "              ..\n",
       "2015-01-27     1\n",
       "2005-12-25     1\n",
       "2005-01-18     1\n",
       "2010-12-25     1\n",
       "2005-01-02     1\n",
       "Name: stop_date, Length: 3768, dtype: int64"
      ]
     },
     "execution_count": 82,
     "metadata": {},
     "output_type": "execute_result"
    }
   ],
   "source": [
    "df_yr['stop_date'].value_counts()"
   ]
  },
  {
   "cell_type": "code",
   "execution_count": 83,
   "id": "cde17932",
   "metadata": {
    "execution": {
     "iopub.execute_input": "2022-04-21T13:43:44.651022Z",
     "iopub.status.busy": "2022-04-21T13:43:44.650779Z",
     "iopub.status.idle": "2022-04-21T13:43:44.660045Z",
     "shell.execute_reply": "2022-04-21T13:43:44.659306Z"
    },
    "papermill": {
     "duration": 0.146942,
     "end_time": "2022-04-21T13:43:44.661904",
     "exception": false,
     "start_time": "2022-04-21T13:43:44.514962",
     "status": "completed"
    },
    "tags": []
   },
   "outputs": [
    {
     "data": {
      "text/plain": [
       "2012-01-11    69\n",
       "2012-02-28    65\n",
       "2007-05-16    62\n",
       "2012-01-02    61\n",
       "2007-01-10    60\n",
       "              ..\n",
       "2015-01-27     1\n",
       "2005-12-25     1\n",
       "2005-01-18     1\n",
       "2010-12-25     1\n",
       "2005-01-02     1\n",
       "Name: stop_date, Length: 3768, dtype: int64"
      ]
     },
     "execution_count": 83,
     "metadata": {},
     "output_type": "execute_result"
    }
   ],
   "source": [
    "df_yr['stop_date'].value_counts()"
   ]
  },
  {
   "cell_type": "code",
   "execution_count": 84,
   "id": "bb9ddc99",
   "metadata": {
    "execution": {
     "iopub.execute_input": "2022-04-21T13:43:44.911999Z",
     "iopub.status.busy": "2022-04-21T13:43:44.911694Z",
     "iopub.status.idle": "2022-04-21T13:43:44.932579Z",
     "shell.execute_reply": "2022-04-21T13:43:44.932043Z"
    },
    "papermill": {
     "duration": 0.136192,
     "end_time": "2022-04-21T13:43:44.934434",
     "exception": false,
     "start_time": "2022-04-21T13:43:44.798242",
     "status": "completed"
    },
    "tags": []
   },
   "outputs": [],
   "source": [
    "df_yr['year']= pd.to_datetime(df_yr.stop_date,format=\"%Y\")"
   ]
  },
  {
   "cell_type": "code",
   "execution_count": 85,
   "id": "56d398d5",
   "metadata": {
    "execution": {
     "iopub.execute_input": "2022-04-21T13:43:45.111754Z",
     "iopub.status.busy": "2022-04-21T13:43:45.111290Z",
     "iopub.status.idle": "2022-04-21T13:43:45.424209Z",
     "shell.execute_reply": "2022-04-21T13:43:45.423088Z"
    },
    "papermill": {
     "duration": 0.405409,
     "end_time": "2022-04-21T13:43:45.426640",
     "exception": false,
     "start_time": "2022-04-21T13:43:45.021231",
     "status": "completed"
    },
    "tags": []
   },
   "outputs": [],
   "source": [
    "dfy = df_yr['year'].tolist()"
   ]
  },
  {
   "cell_type": "code",
   "execution_count": 86,
   "id": "cf109bc5",
   "metadata": {
    "execution": {
     "iopub.execute_input": "2022-04-21T13:43:45.700647Z",
     "iopub.status.busy": "2022-04-21T13:43:45.699382Z",
     "iopub.status.idle": "2022-04-21T13:43:46.018736Z",
     "shell.execute_reply": "2022-04-21T13:43:46.017933Z"
    },
    "papermill": {
     "duration": 0.458363,
     "end_time": "2022-04-21T13:43:46.020695",
     "exception": false,
     "start_time": "2022-04-21T13:43:45.562332",
     "status": "completed"
    },
    "tags": []
   },
   "outputs": [],
   "source": [
    "y = []\n",
    "\n",
    "for i in dfy:\n",
    "    i = str(i)\n",
    "    w = i.split('-')\n",
    "    if i.isnumeric() == True and len(i) == 4:\n",
    "        for j in w:\n",
    "            if j not in y:\n",
    "                y.append(j)"
   ]
  },
  {
   "cell_type": "code",
   "execution_count": 87,
   "id": "4f05120b",
   "metadata": {
    "execution": {
     "iopub.execute_input": "2022-04-21T13:43:46.198768Z",
     "iopub.status.busy": "2022-04-21T13:43:46.198128Z",
     "iopub.status.idle": "2022-04-21T13:43:46.203161Z",
     "shell.execute_reply": "2022-04-21T13:43:46.202644Z"
    },
    "papermill": {
     "duration": 0.095133,
     "end_time": "2022-04-21T13:43:46.204637",
     "exception": false,
     "start_time": "2022-04-21T13:43:46.109504",
     "status": "completed"
    },
    "tags": []
   },
   "outputs": [
    {
     "data": {
      "text/plain": [
       "[]"
      ]
     },
     "execution_count": 87,
     "metadata": {},
     "output_type": "execute_result"
    }
   ],
   "source": [
    "y"
   ]
  }
 ],
 "metadata": {
  "kernelspec": {
   "display_name": "Python 3",
   "language": "python",
   "name": "python3"
  },
  "language_info": {
   "codemirror_mode": {
    "name": "ipython",
    "version": 3
   },
   "file_extension": ".py",
   "mimetype": "text/x-python",
   "name": "python",
   "nbconvert_exporter": "python",
   "pygments_lexer": "ipython3",
   "version": "3.7.12"
  },
  "papermill": {
   "default_parameters": {},
   "duration": 35.27286,
   "end_time": "2022-04-21T13:43:47.113706",
   "environment_variables": {},
   "exception": null,
   "input_path": "__notebook__.ipynb",
   "output_path": "__notebook__.ipynb",
   "parameters": {},
   "start_time": "2022-04-21T13:43:11.840846",
   "version": "2.3.4"
  }
 },
 "nbformat": 4,
 "nbformat_minor": 5
}
